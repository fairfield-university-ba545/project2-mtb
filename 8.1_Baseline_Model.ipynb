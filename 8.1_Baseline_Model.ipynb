{
 "cells": [
  {
   "cell_type": "markdown",
   "metadata": {},
   "source": [
    "# Baseline Model #"
   ]
  },
  {
   "cell_type": "markdown",
   "metadata": {},
   "source": [
    "Predicting if a web user is going to make an online purchase (Revenue > 0) with random guessing we would be correct in 15.47% of the instances using our dataset, due to an imbalanced dataset.\n",
    "<br> Our binary target variable 'Revenue' has 84.53% of the web users that did not make a purchase in a online session (class 0).\n",
    "* Revenue, class 0: 84.53%\n",
    "* Revenue, class 1: 15.47%"
   ]
  }
 ],
 "metadata": {
  "kernelspec": {
   "display_name": "Python 3",
   "language": "python",
   "name": "python3"
  },
  "language_info": {
   "codemirror_mode": {
    "name": "ipython",
    "version": 3
   },
   "file_extension": ".py",
   "mimetype": "text/x-python",
   "name": "python",
   "nbconvert_exporter": "python",
   "pygments_lexer": "ipython3",
   "version": "3.6.7"
  }
 },
 "nbformat": 4,
 "nbformat_minor": 4
}
