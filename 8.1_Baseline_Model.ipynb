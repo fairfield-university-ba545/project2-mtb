{
 "cells": [
  {
   "cell_type": "markdown",
   "metadata": {},
   "source": [
    "# Baseline Model #"
   ]
  },
  {
   "cell_type": "markdown",
   "metadata": {},
   "source": [
    "Predicting if a web user is going to make an online purchase (Revenue > 0) with random guessing we would be correct in 15.47% of the instances using our dataset, due to an imbalanced dataset.\n",
    "<br> Our binary target variable 'Revenue' has 84.53% of the web users that did not make a purchase in a online session (class 0).\n",
    "* Revenue, class 0: 84.53%\n",
    "* Revenue, class 1: 15.47%"
   ]
  },
  {
   "cell_type": "markdown",
   "metadata": {},
   "source": [
    "<b> Assumption: </b>\n",
    "<br> all web users make a purchase after an online session (Revenue > 0)"
   ]
  },
  {
   "cell_type": "markdown",
   "metadata": {},
   "source": [
    "Left align all markdown tables"
   ]
  },
  {
   "cell_type": "code",
   "execution_count": 5,
   "metadata": {},
   "outputs": [
    {
     "data": {
      "text/html": [
       "<style>\n",
       "    table {\n",
       "        display: inline-block\n",
       "    }\n",
       "</style>\n"
      ],
      "text/plain": [
       "<IPython.core.display.HTML object>"
      ]
     },
     "metadata": {},
     "output_type": "display_data"
    }
   ],
   "source": [
    "%%html\n",
    "<style>\n",
    "    table {\n",
    "        display: inline-block\n",
    "    }\n",
    "</style>"
   ]
  },
  {
   "cell_type": "markdown",
   "metadata": {},
   "source": [
    "| _        | Actual Positive | Actual Negative |\n",
    "|----------|----------|----------|\n",
    "| Predicted Positive | 1908     | 10422    |\n",
    "| Predicted Negative | 0        | 0        |"
   ]
  },
  {
   "cell_type": "markdown",
   "metadata": {},
   "source": [
    "| Metrics    | Value       |\n",
    "|------------|-------------|\n",
    "| Precision: | 0.154744526 |\n",
    "| Recall:    | 1           |\n",
    "| f1-score   | 0.268015171 |"
   ]
  },
  {
   "cell_type": "markdown",
   "metadata": {},
   "source": [
    "<b> Assumption: </b>\n",
    "<br> no web users make a purchase after an online session (Revenue > 0)"
   ]
  },
  {
   "cell_type": "markdown",
   "metadata": {},
   "source": [
    "| _        | Actual Positive | Actual Negative |\n",
    "|----------|----------|----------|\n",
    "| Predicted Positive | 10422    |  1908    |\n",
    "| Predicted Negative | 0        | 0        |"
   ]
  },
  {
   "cell_type": "markdown",
   "metadata": {},
   "source": [
    "| Metrics    | Value       |\n",
    "|------------|-------------|\n",
    "| Precision: | 0.845255474 |\n",
    "| Recall:    | 1           |\n",
    "| f1 score   | 0.916139241 |"
   ]
  },
  {
   "cell_type": "markdown",
   "metadata": {},
   "source": [
    "<b> average f1 score: </b>               0.592077206\n",
    "<br> <b> average weighted f1 score: </b> 0.407922794"
   ]
  }
 ],
 "metadata": {
  "kernelspec": {
   "display_name": "Python 3",
   "language": "python",
   "name": "python3"
  },
  "language_info": {
   "codemirror_mode": {
    "name": "ipython",
    "version": 3
   },
   "file_extension": ".py",
   "mimetype": "text/x-python",
   "name": "python",
   "nbconvert_exporter": "python",
   "pygments_lexer": "ipython3",
   "version": "3.6.7"
  }
 },
 "nbformat": 4,
 "nbformat_minor": 4
}
