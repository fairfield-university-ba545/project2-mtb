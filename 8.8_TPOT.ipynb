{
 "cells": [
  {
   "cell_type": "markdown",
   "metadata": {},
   "source": [
    "# TPOT\n",
    "#### Automated Machine Learning\n",
    "___"
   ]
  },
  {
   "cell_type": "markdown",
   "metadata": {},
   "source": [
    "<b> Import modules"
   ]
  },
  {
   "cell_type": "code",
   "execution_count": 97,
   "metadata": {},
   "outputs": [],
   "source": [
    "import pandas as pd\n",
    "import numpy as np\n",
    "import time"
   ]
  },
  {
   "cell_type": "code",
   "execution_count": 98,
   "metadata": {},
   "outputs": [],
   "source": [
    "##################### MODULES TPOT ###################################\n",
    "### source: http://epistasislab.github.io/tpot/installing/\n",
    "### already installed in our environment by Prof. Tao in JupyterLab\n",
    "# !pip install deap update_checker tqdm stopit --user\n",
    "### for binary classification problem use TPOTClassifier\n",
    "### already installed in our environment by Prof. Tao in JupyterLab\n",
    "#!pip install tpot --user"
   ]
  },
  {
   "cell_type": "markdown",
   "metadata": {},
   "source": [
    "<b> Import Dataset"
   ]
  },
  {
   "cell_type": "code",
   "execution_count": 99,
   "metadata": {},
   "outputs": [],
   "source": [
    "# import file with data cleaned (one-hot encoded categorical features and feature-engineerd features)\n",
    "df = pd.read_csv(\"df_calculation.csv\")"
   ]
  },
  {
   "cell_type": "markdown",
   "metadata": {},
   "source": [
    "<b> Optional shuffle the data"
   ]
  },
  {
   "cell_type": "code",
   "execution_count": 100,
   "metadata": {},
   "outputs": [
    {
     "data": {
      "text/html": [
       "<div>\n",
       "<style scoped>\n",
       "    .dataframe tbody tr th:only-of-type {\n",
       "        vertical-align: middle;\n",
       "    }\n",
       "\n",
       "    .dataframe tbody tr th {\n",
       "        vertical-align: top;\n",
       "    }\n",
       "\n",
       "    .dataframe thead th {\n",
       "        text-align: right;\n",
       "    }\n",
       "</style>\n",
       "<table border=\"1\" class=\"dataframe\">\n",
       "  <thead>\n",
       "    <tr style=\"text-align: right;\">\n",
       "      <th></th>\n",
       "      <th>Administrative</th>\n",
       "      <th>Administrative_Duration</th>\n",
       "      <th>Informational</th>\n",
       "      <th>Informational_Duration</th>\n",
       "      <th>ProductRelated</th>\n",
       "      <th>ProductRelated_Duration</th>\n",
       "      <th>BounceRates</th>\n",
       "      <th>ExitRates</th>\n",
       "      <th>PageValues</th>\n",
       "      <th>Weekend</th>\n",
       "      <th>...</th>\n",
       "      <th>VisitorType_New_Visitor</th>\n",
       "      <th>VisitorType_Other</th>\n",
       "      <th>VisitorType_Returning_Visitor</th>\n",
       "      <th>avg_exit_bounce_rates</th>\n",
       "      <th>add_exit_bounce_rates</th>\n",
       "      <th>div_exit_bounce_rates</th>\n",
       "      <th>perc_exit_bounce_rates</th>\n",
       "      <th>Administrative_Duration_pp</th>\n",
       "      <th>Informational_Duration_pp</th>\n",
       "      <th>ProductRelated_Duration_pp</th>\n",
       "    </tr>\n",
       "  </thead>\n",
       "  <tbody>\n",
       "    <tr>\n",
       "      <th>0</th>\n",
       "      <td>1</td>\n",
       "      <td>7.000000</td>\n",
       "      <td>0</td>\n",
       "      <td>0.0</td>\n",
       "      <td>20</td>\n",
       "      <td>887.583333</td>\n",
       "      <td>0.000000</td>\n",
       "      <td>0.016140</td>\n",
       "      <td>34.253368</td>\n",
       "      <td>0</td>\n",
       "      <td>...</td>\n",
       "      <td>0</td>\n",
       "      <td>0</td>\n",
       "      <td>1</td>\n",
       "      <td>0.008070</td>\n",
       "      <td>0.016140</td>\n",
       "      <td>0.00000</td>\n",
       "      <td>-1.00000</td>\n",
       "      <td>7.000000</td>\n",
       "      <td>0.000000</td>\n",
       "      <td>44.379167</td>\n",
       "    </tr>\n",
       "    <tr>\n",
       "      <th>1</th>\n",
       "      <td>0</td>\n",
       "      <td>0.000000</td>\n",
       "      <td>0</td>\n",
       "      <td>0.0</td>\n",
       "      <td>1</td>\n",
       "      <td>0.000000</td>\n",
       "      <td>0.200000</td>\n",
       "      <td>0.200000</td>\n",
       "      <td>0.000000</td>\n",
       "      <td>0</td>\n",
       "      <td>...</td>\n",
       "      <td>0</td>\n",
       "      <td>1</td>\n",
       "      <td>0</td>\n",
       "      <td>0.200000</td>\n",
       "      <td>0.400000</td>\n",
       "      <td>1.00000</td>\n",
       "      <td>0.00000</td>\n",
       "      <td>0.000000</td>\n",
       "      <td>0.000000</td>\n",
       "      <td>0.000000</td>\n",
       "    </tr>\n",
       "    <tr>\n",
       "      <th>2</th>\n",
       "      <td>0</td>\n",
       "      <td>0.000000</td>\n",
       "      <td>0</td>\n",
       "      <td>0.0</td>\n",
       "      <td>12</td>\n",
       "      <td>312.033333</td>\n",
       "      <td>0.000000</td>\n",
       "      <td>0.009091</td>\n",
       "      <td>17.808000</td>\n",
       "      <td>0</td>\n",
       "      <td>...</td>\n",
       "      <td>0</td>\n",
       "      <td>0</td>\n",
       "      <td>1</td>\n",
       "      <td>0.004545</td>\n",
       "      <td>0.009091</td>\n",
       "      <td>0.00000</td>\n",
       "      <td>-1.00000</td>\n",
       "      <td>0.000000</td>\n",
       "      <td>0.000000</td>\n",
       "      <td>26.002778</td>\n",
       "    </tr>\n",
       "    <tr>\n",
       "      <th>3</th>\n",
       "      <td>0</td>\n",
       "      <td>0.000000</td>\n",
       "      <td>0</td>\n",
       "      <td>0.0</td>\n",
       "      <td>3</td>\n",
       "      <td>0.000000</td>\n",
       "      <td>0.200000</td>\n",
       "      <td>0.200000</td>\n",
       "      <td>0.000000</td>\n",
       "      <td>0</td>\n",
       "      <td>...</td>\n",
       "      <td>0</td>\n",
       "      <td>0</td>\n",
       "      <td>1</td>\n",
       "      <td>0.200000</td>\n",
       "      <td>0.400000</td>\n",
       "      <td>1.00000</td>\n",
       "      <td>0.00000</td>\n",
       "      <td>0.000000</td>\n",
       "      <td>0.000000</td>\n",
       "      <td>0.000000</td>\n",
       "    </tr>\n",
       "    <tr>\n",
       "      <th>4</th>\n",
       "      <td>12</td>\n",
       "      <td>432.583333</td>\n",
       "      <td>3</td>\n",
       "      <td>112.0</td>\n",
       "      <td>42</td>\n",
       "      <td>2132.683333</td>\n",
       "      <td>0.021289</td>\n",
       "      <td>0.041499</td>\n",
       "      <td>0.000000</td>\n",
       "      <td>0</td>\n",
       "      <td>...</td>\n",
       "      <td>0</td>\n",
       "      <td>0</td>\n",
       "      <td>1</td>\n",
       "      <td>0.031394</td>\n",
       "      <td>0.062787</td>\n",
       "      <td>0.51299</td>\n",
       "      <td>-0.48701</td>\n",
       "      <td>36.048611</td>\n",
       "      <td>37.333333</td>\n",
       "      <td>50.778175</td>\n",
       "    </tr>\n",
       "  </tbody>\n",
       "</table>\n",
       "<p>5 rows × 87 columns</p>\n",
       "</div>"
      ],
      "text/plain": [
       "   Administrative  Administrative_Duration  Informational  \\\n",
       "0               1                 7.000000              0   \n",
       "1               0                 0.000000              0   \n",
       "2               0                 0.000000              0   \n",
       "3               0                 0.000000              0   \n",
       "4              12               432.583333              3   \n",
       "\n",
       "   Informational_Duration  ProductRelated  ProductRelated_Duration  \\\n",
       "0                     0.0              20               887.583333   \n",
       "1                     0.0               1                 0.000000   \n",
       "2                     0.0              12               312.033333   \n",
       "3                     0.0               3                 0.000000   \n",
       "4                   112.0              42              2132.683333   \n",
       "\n",
       "   BounceRates  ExitRates  PageValues  Weekend  ...  VisitorType_New_Visitor  \\\n",
       "0     0.000000   0.016140   34.253368        0  ...                        0   \n",
       "1     0.200000   0.200000    0.000000        0  ...                        0   \n",
       "2     0.000000   0.009091   17.808000        0  ...                        0   \n",
       "3     0.200000   0.200000    0.000000        0  ...                        0   \n",
       "4     0.021289   0.041499    0.000000        0  ...                        0   \n",
       "\n",
       "   VisitorType_Other  VisitorType_Returning_Visitor  avg_exit_bounce_rates  \\\n",
       "0                  0                              1               0.008070   \n",
       "1                  1                              0               0.200000   \n",
       "2                  0                              1               0.004545   \n",
       "3                  0                              1               0.200000   \n",
       "4                  0                              1               0.031394   \n",
       "\n",
       "   add_exit_bounce_rates  div_exit_bounce_rates  perc_exit_bounce_rates  \\\n",
       "0               0.016140                0.00000                -1.00000   \n",
       "1               0.400000                1.00000                 0.00000   \n",
       "2               0.009091                0.00000                -1.00000   \n",
       "3               0.400000                1.00000                 0.00000   \n",
       "4               0.062787                0.51299                -0.48701   \n",
       "\n",
       "   Administrative_Duration_pp  Informational_Duration_pp  \\\n",
       "0                    7.000000                   0.000000   \n",
       "1                    0.000000                   0.000000   \n",
       "2                    0.000000                   0.000000   \n",
       "3                    0.000000                   0.000000   \n",
       "4                   36.048611                  37.333333   \n",
       "\n",
       "   ProductRelated_Duration_pp  \n",
       "0                   44.379167  \n",
       "1                    0.000000  \n",
       "2                   26.002778  \n",
       "3                    0.000000  \n",
       "4                   50.778175  \n",
       "\n",
       "[5 rows x 87 columns]"
      ]
     },
     "execution_count": 100,
     "metadata": {},
     "output_type": "execute_result"
    }
   ],
   "source": [
    "# It's generally a good idea to randomly shuffle the data before starting to avoid any type of ordering in the data.\n",
    "# shuffle the dataset\n",
    "df_shuffle = df.iloc[np.random.permutation(len(df))]\n",
    "# reset the index numbers of the dataframe\n",
    "df_shuffled = df_shuffle.reset_index(drop=True)\n",
    "# show first 5 rows of the dataframe\n",
    "df_shuffled.head()"
   ]
  },
  {
   "cell_type": "code",
   "execution_count": 101,
   "metadata": {},
   "outputs": [
    {
     "data": {
      "text/plain": [
       "False    87\n",
       "dtype: int64"
      ]
     },
     "execution_count": 101,
     "metadata": {},
     "output_type": "execute_result"
    }
   ],
   "source": [
    "# check missing values\n",
    "(pd.isnull(df_shuffled).any()).value_counts()\n",
    "# note: no missing values"
   ]
  },
  {
   "cell_type": "markdown",
   "metadata": {},
   "source": [
    "<b> Train Test Split Indices"
   ]
  },
  {
   "cell_type": "code",
   "execution_count": 102,
   "metadata": {},
   "outputs": [],
   "source": [
    "# cross_validation train_test_split\n",
    "from sklearn.model_selection import train_test_split\n",
    "\n",
    "# define your target variable: Y\n",
    "# The first and most important step in using TPOT on any data set is to rename the target class/response variable to class.\n",
    "# source: https://github.com/EpistasisLab/tpot/blob/master/tutorials/Titanic_Kaggle.ipynb\n",
    "df_shuffled.rename(columns={'Revenue': 'class'}, inplace=True)\n",
    "df_class = df_shuffled['class'].values\n",
    "\n",
    "# split the data into training and testing (75% training, 25% testing, random state = fixed)\n",
    "training_indices, testing_indices = train_test_split(df_shuffled.index, stratify = df_class, train_size=0.75, test_size=0.25, random_state = 2019)"
   ]
  },
  {
   "cell_type": "markdown",
   "metadata": {},
   "source": [
    "<b> Check Size of Train Test Split"
   ]
  },
  {
   "cell_type": "code",
   "execution_count": 103,
   "metadata": {},
   "outputs": [
    {
     "data": {
      "text/plain": [
       "(9247, 3083)"
      ]
     },
     "execution_count": 103,
     "metadata": {},
     "output_type": "execute_result"
    }
   ],
   "source": [
    "# check the size of the training set and validation set\n",
    "training_indices.size, testing_indices.size"
   ]
  },
  {
   "cell_type": "markdown",
   "metadata": {},
   "source": [
    "<b> Run TPOT - Automated Machine Learning Model"
   ]
  },
  {
   "cell_type": "code",
   "execution_count": 105,
   "metadata": {},
   "outputs": [
    {
     "data": {
      "application/vnd.jupyter.widget-view+json": {
       "model_id": "b2d5049eced64a46bc04ed555414f0b6",
       "version_major": 2,
       "version_minor": 0
      },
      "text/plain": [
       "HBox(children=(FloatProgress(value=0.0, description='Optimization Progress', style=ProgressStyle(description_w…"
      ]
     },
     "metadata": {},
     "output_type": "display_data"
    },
    {
     "name": "stdout",
     "output_type": "stream",
     "text": [
      "Generation 1 - Current best internal CV score: 0.8996889364724592\n",
      "\n",
      "Best pipeline: XGBClassifier(input_matrix, learning_rate=0.01, max_depth=8, min_child_weight=18, n_estimators=100, nthread=1, subsample=0.9500000000000001)\n",
      "--- Execution time: ---\n",
      "--- 1666844.584ms. --- \n",
      "--- 1666.8445839881897 seconds ---\n",
      "--- 27.780743066469828 minutes ---\n"
     ]
    }
   ],
   "source": [
    "from tpot import TPOTClassifier\n",
    "\n",
    "# set the start time\n",
    "start = time.time()\n",
    "\n",
    "# define the model\n",
    "\n",
    "tpot = TPOTClassifier(generations=300, # Number of iterations to run the pipeline optimization process. It must be a positive number or None. If None, the parameter max_time_mins must be defined as the runtime limit. Generally, TPOT will work better when you give it more generations (and therefore time) to optimize the pipeline.\n",
    "                      population_size=100,\n",
    "                      offspring_size=100,\n",
    "                      verbosity=2, # verbosity - How much information TPOT communicates while it is running. \n",
    "                      n_jobs=-1, # Number of CPUs for evaluating pipelines in parallel during the TPOT optimization process. Assigning this to -1 will use as many cores as available on the computer. For n_jobs below -1, (n_cpus + 1 + n_jobs) are used. Thus for n_jobs = -2, all CPUs but one are used.\n",
    "                      scoring='f1_weighted', # Function used to evaluate the quality of a given pipeline for the problem. By default, accuracy is used for classification and mean squared error (MSE) is used for regression. \n",
    "                      max_time_mins = 60, \n",
    "                      max_eval_time_mins= 10,\n",
    "                      cv=10)\n",
    "\n",
    "# train the model\n",
    "tpot.fit(df_shuffled.drop('class',axis=1).loc[training_indices].values, # X_train\n",
    "         df_shuffled.loc[training_indices, 'class'].values) # y_train\n",
    "\n",
    "# get the time it takes for the gridsearch to run\n",
    "# source: https://blog.softhints.com/python-test-performance-and-measure-time-elapsed-in-seconds/\n",
    "# set the end time\n",
    "end = time.time()\n",
    "\n",
    "# get the elapsed execution time\n",
    "execution_time = end - start\n",
    "print(\"--- Execution time: ---\")\n",
    "print ('--- %0.3fms. --- ' % ( execution_time*1000.))\n",
    "print(\"--- %s seconds ---\" % (execution_time))\n",
    "print(\"--- %s minutes ---\" % (execution_time/60))"
   ]
  },
  {
   "cell_type": "code",
   "execution_count": 85,
   "metadata": {},
   "outputs": [],
   "source": [
    "# note: for different scoring functions, see:\n",
    "# source: https://epistasislab.github.io/tpot/using/#scoring-functions"
   ]
  },
  {
   "cell_type": "code",
   "execution_count": 106,
   "metadata": {},
   "outputs": [
    {
     "data": {
      "text/plain": [
       "0.8987252354361767"
      ]
     },
     "execution_count": 106,
     "metadata": {},
     "output_type": "execute_result"
    }
   ],
   "source": [
    "# weighted f1 score which was the scoring method for tpot\n",
    "tpot.score(df_shuffled.drop('class',axis=1).loc[testing_indices].values, #X_test\n",
    "           df_shuffled.loc[testing_indices, 'class'].values) # y_test"
   ]
  },
  {
   "cell_type": "code",
   "execution_count": 107,
   "metadata": {},
   "outputs": [
    {
     "name": "stdout",
     "output_type": "stream",
     "text": [
      "\n",
      "AUC score: 0.9285\n"
     ]
    }
   ],
   "source": [
    "# source: https://iq.opengenus.org/tpot-python/\n",
    "from sklearn.metrics import roc_auc_score\n",
    "# calculate AUC score\n",
    "tpot_auc_score = roc_auc_score(df_shuffled.loc[testing_indices, 'class'].values, tpot.predict_proba(df_shuffled.drop('class',axis=1).loc[testing_indices].values)[:, 1])\n",
    "print(f'\\nAUC score: {tpot_auc_score:.4f}')"
   ]
  },
  {
   "cell_type": "markdown",
   "metadata": {},
   "source": [
    "### Testrun 1\n",
    "___\n",
    "HBox(children=(FloatProgress(value=0.0, description='Optimization Progress', max=600.0, style=ProgressStyle(de…\n",
    "\n",
    "Best pipeline: RandomForestClassifier(input_matrix, bootstrap=True, criterion=entropy, max_features=0.7500000000000001, min_samples_leaf=15, min_samples_split=18, n_estimators=100)\n",
    "<br> --- Execution time: ---\n",
    "<br> --- 707084.034ms. --- \n",
    "<br> --- 707.0840344429016 seconds ---\n",
    "<br> --- 11.784733907381694 minutes ---\n",
    "<br> tpot.score = 0.9072333857032616\n",
    "___\n",
    "### Testrun 2\n",
    "Best pipeline: ExtraTreesClassifier(input_matrix, bootstrap=True, criterion=entropy, max_features=0.9500000000000001, min_samples_leaf=6, min_samples_split=15, n_estimators=100)\n",
    "<br> --- Execution time: ---\n",
    "<br> --- 424634.354ms. --- \n",
    "<br> --- 424.63435411453247 seconds ---\n",
    "<br> --- 7.0772392352422075 minutes ---\n",
    "<br> tpot.score = 0.9000766387617157\n",
    "___\n",
    "### Testrun 3\n",
    "HBox(children=(FloatProgress(value=0.0, description='Optimization Progress', style=ProgressStyle(description_w…\n",
    "\n",
    "Best pipeline: RandomForestClassifier(input_matrix, bootstrap=True, criterion=entropy, max_features=0.2, min_samples_leaf=8, min_samples_split=14, n_estimators=100)\n",
    "<br> --- Execution time: ---\n",
    "<br> --- 798850.751ms. --- \n",
    "<br> --- 798.8507509231567 seconds ---\n",
    "<br> --- 13.314179182052612 minutes ---\n",
    "<br> tpot.score = 0.9016232777560529\n",
    "___\n",
    "### Testrun 4\n",
    "HBox(children=(FloatProgress(value=0.0, description='Optimization Progress', max=50.0, style=ProgressStyle(des…\n",
    "\n",
    "Generation 1 - Current best internal CV score: 0.9028496916056253\n",
    "Generation 2 - Current best internal CV score: 0.9028496916056253\n",
    "\n",
    "Best pipeline: RandomForestClassifier(input_matrix, bootstrap=True, criterion=gini, max_features=0.6500000000000001, min_samples_leaf=9, min_samples_split=13, n_estimators=100)\n",
    "--- Execution time: ---\n",
    "<br> --- 1343828.360ms. --- \n",
    "<br> --- 1343.8283603191376 seconds ---\n",
    "<br> --- 22.39713933865229 minutes ---\n",
    "<br> tpot.score = 0.8989145659134411\n",
    "<br> AUC score: 0.9283\n",
    "___\n",
    "### Testrun 5\n",
    "HBox(children=(FloatProgress(value=0.0, description='Optimization Progress', style=ProgressStyle(description_w…\n",
    "\n",
    "Best pipeline: XGBClassifier(MinMaxScaler(input_matrix), learning_rate=0.01, max_depth=10, min_child_weight=16, n_estimators=100, nthread=1, subsample=0.6500000000000001)\n",
    "<br>--- Execution time: ---\n",
    "<br> --- 1568095.310ms. --- \n",
    "<br> --- 1568.0953097343445 seconds ---\n",
    "<br> --- 26.134921828905743 minutes --\n",
    "<br> tpot.score = 0.9062844719301901\n",
    "<br> AUC score: 0.9337"
   ]
  },
  {
   "cell_type": "code",
   "execution_count": null,
   "metadata": {},
   "outputs": [],
   "source": [
    "# Export the optimized pipeline as Python code.\n",
    "tpot.export('tpot_project2_pipeline.py')"
   ]
  },
  {
   "cell_type": "markdown",
   "metadata": {},
   "source": [
    "## Apply TPOT model 1: \n",
    "> Random Forest, with hyperparameters suggested by TPOT:"
   ]
  },
  {
   "cell_type": "code",
   "execution_count": 41,
   "metadata": {},
   "outputs": [],
   "source": [
    "import pandas as pd\n",
    "import numpy as np"
   ]
  },
  {
   "cell_type": "code",
   "execution_count": 42,
   "metadata": {},
   "outputs": [],
   "source": [
    "df = pd.read_csv(\"df_calculation.csv\")"
   ]
  },
  {
   "cell_type": "code",
   "execution_count": 43,
   "metadata": {},
   "outputs": [],
   "source": [
    "# Define Features and Target variables\n",
    "X = df.drop('Revenue',axis=1) # Features is all columns in the dataframe except the last column\n",
    "Y = df['Revenue'] # Target is the last column in the dataframe: 'Revenue'"
   ]
  },
  {
   "cell_type": "code",
   "execution_count": 44,
   "metadata": {},
   "outputs": [],
   "source": [
    "# Split dataset into training set and test set\n",
    "from sklearn.model_selection import train_test_split\n",
    "X_train, X_test, y_train, y_test = train_test_split(X, Y, test_size=0.3, random_state=2019) # 70% training and 30% test"
   ]
  },
  {
   "cell_type": "code",
   "execution_count": 45,
   "metadata": {},
   "outputs": [
    {
     "name": "stdout",
     "output_type": "stream",
     "text": [
      "              precision    recall  f1-score   support\n",
      "\n",
      "           0       0.93      0.95      0.94      3131\n",
      "           1       0.69      0.58      0.63       568\n",
      "\n",
      "    accuracy                           0.89      3699\n",
      "   macro avg       0.81      0.77      0.78      3699\n",
      "weighted avg       0.89      0.89      0.89      3699\n",
      "\n"
     ]
    }
   ],
   "source": [
    "#Import Random Forest Model\n",
    "from sklearn.ensemble import RandomForestClassifier\n",
    "\n",
    "#Create a Random Forest Classifier\n",
    "clf = RandomForestClassifier(random_state=2019, bootstrap=True, criterion='entropy', max_features=0.7500000000000001, min_samples_leaf=15, min_samples_split=18, n_estimators=100)\n",
    "\n",
    "#Train the model using the training sets y_pred=clf.predict(X_test)\n",
    "clf.fit(X_train,y_train)\n",
    "\n",
    "y_pred = clf.predict(X_test)\n",
    "\n",
    "#check the predictive performance using the actual and predicted values\n",
    "from sklearn.metrics import classification_report, confusion_matrix\n",
    "print(classification_report(y_test, y_pred))"
   ]
  },
  {
   "cell_type": "markdown",
   "metadata": {},
   "source": [
    "<b> ROC Curve with AUC score"
   ]
  },
  {
   "cell_type": "code",
   "execution_count": 46,
   "metadata": {},
   "outputs": [],
   "source": [
    "# define a function to plot the roc_curve and AUC score using variables: X_test and y_test\n",
    "def roc_curve(X_test=X_test, y_test=y_test, model=clf):\n",
    "    # set the style of the graph\n",
    "    plt.style.use('Solarize_Light2')\n",
    "\n",
    "    # predict_proba gives you the probabilities for the target (0 and 1 in your case) in array form in dimension (N,2). \n",
    "    # The first index refers to the probability that the data belong to class 0, and the second refers to the probability that the data belong to class 1. \n",
    "    # we define a variable with an array of the probabilities that each observation belongs to class 1 (with [:,1], where model.predict_proba(X_test)[:,0] refers to the array it belongs to class 0)\n",
    "    y_pred_proba = model.predict_proba(X_test)[:,1]\n",
    "\n",
    "    # define false positive rate (fpr) and the true positive rate (tpr)\n",
    "    fpr, tpr, _ = metrics.roc_curve(y_test,  y_pred_proba)\n",
    "\n",
    "    # Compute Area Under the Receiver Operating Characteristic Curve (ROC AUC) from prediction scores.\n",
    "    # source: https://scikit-learn.org/stable/modules/generated/sklearn.metrics.roc_auc_score.html\n",
    "    auc = metrics.roc_auc_score(y_test, y_pred_proba)\n",
    "\n",
    "    # plot on the X-axis: the false positive rate\n",
    "    # plot on the Y-axis: the true positive rate\n",
    "    # with the legend having the auc score\n",
    "    plt.plot(fpr,tpr,label='AUC = %0.2f' % auc)\n",
    "    # positioning of the legend\n",
    "    plt.legend(loc=4)\n",
    "    # define the title of the plot\n",
    "    plt.title('Receiver Operating Characteristic (ROC)')\n",
    "    # define the y axis label\n",
    "    plt.ylabel('True Positive Rate')\n",
    "    # define the x axis label\n",
    "    plt.xlabel('False Positive Rate')\n",
    "    # plot a straight dashed line in the color red\n",
    "    plt.plot([0, 1], [0, 1],'r--')\n",
    "    # show the plot\n",
    "    plt.show()\n",
    "    # print out full AUC score\n",
    "    print('AUC score:', auc)"
   ]
  },
  {
   "cell_type": "code",
   "execution_count": 47,
   "metadata": {},
   "outputs": [
    {
     "data": {
      "image/png": "[encoded data removed]",
      "text/plain": [
       "<Figure size 432x288 with 1 Axes>"
      ]
     },
     "metadata": {},
     "output_type": "display_data"
    },
    {
     "name": "stdout",
     "output_type": "stream",
     "text": [
      "AUC score: 0.9210001304537542\n"
     ]
    }
   ],
   "source": [
    "# apply function to plot the ROC Curve\n",
    "import matplotlib.pyplot as plt\n",
    "from sklearn import metrics\n",
    "roc_curve(X_test=X_test, y_test=y_test, model=clf)"
   ]
  },
  {
   "cell_type": "markdown",
   "metadata": {},
   "source": [
    "<b> Cross Validation"
   ]
  },
  {
   "cell_type": "code",
   "execution_count": 50,
   "metadata": {},
   "outputs": [
    {
     "name": "stdout",
     "output_type": "stream",
     "text": [
      "--------------------------------------------------------------------------\n",
      "All the weighted f1 results:\n",
      "--------------------------------------------------------------------------\n",
      "[0.89031778 0.88178429 0.89700872 0.91402871 0.8994874  0.90771371\n",
      " 0.90742825 0.88936719 0.90701731 0.91392148] \n",
      "\n",
      "--------------------------------------------------------------------------\n",
      "Average of all the weighted f1 results:\n",
      "--------------------------------------------------------------------------\n",
      "0.9008 \n",
      "\n",
      "--------------------------------------------------------------------------\n",
      "All the AUC scores:\n",
      "--------------------------------------------------------------------------\n",
      "[0.9172111  0.92191798 0.92518393 0.94666412 0.92355388 0.93649164\n",
      " 0.94672694 0.92693049 0.93898523 0.94748639] \n",
      "\n",
      "--------------------------------------------------------------------------\n",
      "Average of all the AUC scores:\n",
      "--------------------------------------------------------------------------\n",
      "0.9331 \n",
      "\n"
     ]
    }
   ],
   "source": [
    "# Build the k-fold cross-validator\n",
    "from sklearn.model_selection import KFold\n",
    "from sklearn.model_selection import cross_val_score\n",
    "k_fold_split = 10\n",
    "kfold = KFold(n_splits=k_fold_split, random_state=2019, shuffle=True)\n",
    "result = cross_val_score(clf, X, Y, cv=kfold, scoring='accuracy')\n",
    "\n",
    "result_f1_weighted = cross_val_score(clf, X, Y, cv=kfold, scoring='f1_weighted')\n",
    "result_auc_weighted = cross_val_score(clf, X, Y, cv=kfold, scoring='roc_auc')\n",
    "\n",
    "print('--------------------------------------------------------------------------')\n",
    "print('All the weighted f1 results:')\n",
    "print('--------------------------------------------------------------------------')\n",
    "print(result_f1_weighted, '\\n')\n",
    "\n",
    "print('--------------------------------------------------------------------------')\n",
    "print('Average of all the weighted f1 results:')\n",
    "print('--------------------------------------------------------------------------')\n",
    "print(round(result_f1_weighted.mean(), 4), '\\n')\n",
    "\n",
    "print('--------------------------------------------------------------------------')\n",
    "print('All the AUC scores:')\n",
    "print('--------------------------------------------------------------------------')\n",
    "print(result_auc_weighted, '\\n')\n",
    "\n",
    "print('--------------------------------------------------------------------------')\n",
    "print('Average of all the AUC scores:')\n",
    "print('--------------------------------------------------------------------------')\n",
    "print(round(result_auc_weighted.mean(), 4), '\\n')"
   ]
  },
  {
   "cell_type": "markdown",
   "metadata": {},
   "source": [
    "### Feature Importance"
   ]
  },
  {
   "cell_type": "code",
   "execution_count": 86,
   "metadata": {},
   "outputs": [
    {
     "data": {
      "text/plain": [
       "PageValues                    0.568420\n",
       "Month_Nov                     0.055507\n",
       "ExitRates                     0.047511\n",
       "ProductRelated_Duration       0.039807\n",
       "ProductRelated                0.038503\n",
       "BounceRates                   0.025821\n",
       "ProductRelated_Duration_pp    0.025469\n",
       "Administrative_Duration       0.024595\n",
       "Administrative_Duration_pp    0.024033\n",
       "add_exit_bounce_rates         0.022784\n",
       "Month_May                     0.016740\n",
       "Administrative                0.015819\n",
       "avg_exit_bounce_rates         0.014408\n",
       "Month_Mar                     0.012008\n",
       "div_exit_bounce_rates         0.011246\n",
       "dtype: float64"
      ]
     },
     "execution_count": 86,
     "metadata": {},
     "output_type": "execute_result"
    }
   ],
   "source": [
    "feature_imp = pd.Series(clf.feature_importances_, index=list(X.columns)).sort_values(ascending=False)\n",
    "# show top 15 features\n",
    "feature_imp.head(15)"
   ]
  },
  {
   "cell_type": "markdown",
   "metadata": {},
   "source": [
    "<b> Visualizing Important Features"
   ]
  },
  {
   "cell_type": "code",
   "execution_count": 87,
   "metadata": {},
   "outputs": [
    {
     "data": {
      "image/png": "[encoded data removed]",
      "text/plain": [
       "<Figure size 432x288 with 1 Axes>"
      ]
     },
     "metadata": {},
     "output_type": "display_data"
    }
   ],
   "source": [
    "%matplotlib inline\n",
    "import seaborn as sns\n",
    "plt.style.use('ggplot')\n",
    "\n",
    "# Creating a bar plot\n",
    "# for top 15 features\n",
    "sns.barplot(x=feature_imp.head(15), y=feature_imp.head(15).index)\n",
    "\n",
    "# Add labels to your graph\n",
    "plt.xlabel('Feature Importance Score')\n",
    "plt.ylabel('Features')\n",
    "plt.title(\"Visualizing Important Features\")\n",
    "plt.show()"
   ]
  },
  {
   "cell_type": "markdown",
   "metadata": {},
   "source": [
    "## Apply TPOT model 2: \n",
    "> XGBoost, with hyperparameters suggested by TPOT:"
   ]
  },
  {
   "cell_type": "code",
   "execution_count": 68,
   "metadata": {},
   "outputs": [],
   "source": [
    "df = pd.read_csv(\"df_calculation.csv\")"
   ]
  },
  {
   "cell_type": "code",
   "execution_count": 69,
   "metadata": {},
   "outputs": [],
   "source": [
    "# Define Features and Target variables\n",
    "X = df.drop('Revenue',axis=1) # Features is all columns in the dataframe except the last column\n",
    "Y = df['Revenue'] # Target is the last column in the dataframe: 'Revenue'"
   ]
  },
  {
   "cell_type": "code",
   "execution_count": 70,
   "metadata": {},
   "outputs": [],
   "source": [
    "# Split dataset into training set and test set\n",
    "from sklearn.model_selection import train_test_split\n",
    "X_train, X_test, y_train, y_test = train_test_split(X, Y, test_size=0.3, random_state=2019) # 70% training and 30% test"
   ]
  },
  {
   "cell_type": "code",
   "execution_count": 71,
   "metadata": {},
   "outputs": [],
   "source": [
    "from sklearn.preprocessing import MinMaxScaler\n",
    "scaler = MinMaxScaler()\n",
    "X_train = scaler.fit_transform(X_train)\n",
    "X_test = scaler.transform (X_test)"
   ]
  },
  {
   "cell_type": "code",
   "execution_count": 72,
   "metadata": {},
   "outputs": [
    {
     "name": "stdout",
     "output_type": "stream",
     "text": [
      "              precision    recall  f1-score   support\n",
      "\n",
      "           0       0.93      0.95      0.94      3131\n",
      "           1       0.68      0.62      0.65       568\n",
      "\n",
      "    accuracy                           0.90      3699\n",
      "   macro avg       0.80      0.78      0.79      3699\n",
      "weighted avg       0.89      0.90      0.89      3699\n",
      "\n"
     ]
    }
   ],
   "source": [
    "# Train the XGboost Model for Classification\n",
    "import xgboost as xgb\n",
    "xgb0 = xgb.XGBClassifier(learning_rate=0.01, max_depth=10, min_child_weight=16, n_estimators=100, nthread=1, subsample=0.6500000000000001)\n",
    "# MinMaxScaler(input_matrix), learning_rate=0.01, max_depth=10, min_child_weight=16, n_estimators=100, nthread=1, subsample=0.6500000000000001\n",
    "\n",
    "# Train the model using the training sets\n",
    "xgb0.fit(X_train, y_train)\n",
    "\n",
    "# given a trained model, predict the label of a new set of data.\n",
    "y_pred = xgb0.predict(X_test)\n",
    "\n",
    "# print classification report \n",
    "print(classification_report(y_test, y_pred))"
   ]
  },
  {
   "cell_type": "markdown",
   "metadata": {},
   "source": [
    "<b> ROC Curve with AUC score - Basic model </b> (before oversampling)"
   ]
  },
  {
   "cell_type": "code",
   "execution_count": 73,
   "metadata": {},
   "outputs": [],
   "source": [
    "# define a function to plot the roc_curve and AUC score using variables: X_test and y_test\n",
    "def roc_curve(X_test=X_test, y_test=y_test, model=xgb0):\n",
    "    # set the style of the graph\n",
    "    plt.style.use('Solarize_Light2')\n",
    "\n",
    "    # predict_proba gives you the probabilities for the target (0 and 1 in your case) in array form in dimension (N,2). \n",
    "    # The first index refers to the probability that the data belong to class 0, and the second refers to the probability that the data belong to class 1. \n",
    "    # we define a variable with an array of the probabilities that each observation belongs to class 1 (with [:,1], where model.predict_proba(X_test)[:,0] refers to the array it belongs to class 0)\n",
    "    y_pred_proba = model.predict_proba(X_test)[:,1]\n",
    "\n",
    "    # define false positive rate (fpr) and the true positive rate (tpr)\n",
    "    fpr, tpr, _ = metrics.roc_curve(y_test,  y_pred_proba)\n",
    "\n",
    "    # Compute Area Under the Receiver Operating Characteristic Curve (ROC AUC) from prediction scores.\n",
    "    # source: https://scikit-learn.org/stable/modules/generated/sklearn.metrics.roc_auc_score.html\n",
    "    auc = metrics.roc_auc_score(y_test, y_pred_proba)\n",
    "\n",
    "    # plot on the X-axis: the false positive rate\n",
    "    # plot on the Y-axis: the true positive rate\n",
    "    # with the legend having the auc score\n",
    "    plt.plot(fpr,tpr,label='AUC = %0.2f' % auc)\n",
    "    # positioning of the legend\n",
    "    plt.legend(loc=4)\n",
    "    # define the title of the plot\n",
    "    plt.title('Receiver Operating Characteristic (ROC)')\n",
    "    # define the y axis label\n",
    "    plt.ylabel('True Positive Rate')\n",
    "    # define the x axis label\n",
    "    plt.xlabel('False Positive Rate')\n",
    "    # plot a straight dashed line in the color red\n",
    "    plt.plot([0, 1], [0, 1],'r--')\n",
    "    # show the plot\n",
    "    plt.show()\n",
    "    # print out full AUC score\n",
    "    print('AUC score:', auc)"
   ]
  },
  {
   "cell_type": "code",
   "execution_count": 74,
   "metadata": {},
   "outputs": [
    {
     "data": {
      "image/png": "[encoded data removed]",
      "text/plain": [
       "<Figure size 432x288 with 1 Axes>"
      ]
     },
     "metadata": {},
     "output_type": "display_data"
    },
    {
     "name": "stdout",
     "output_type": "stream",
     "text": [
      "AUC score: 0.9199983918200997\n"
     ]
    }
   ],
   "source": [
    "# apply function to plot the ROC Curve\n",
    "roc_curve(X_test=X_test, y_test=y_test, model=xgb0)"
   ]
  },
  {
   "cell_type": "markdown",
   "metadata": {},
   "source": [
    "### Cross Validation"
   ]
  },
  {
   "cell_type": "code",
   "execution_count": 75,
   "metadata": {},
   "outputs": [
    {
     "name": "stdout",
     "output_type": "stream",
     "text": [
      "--------------------------------------------------------------------------\n",
      "All the weighted f1 results:\n",
      "--------------------------------------------------------------------------\n",
      "[0.8937498  0.88450171 0.89532034 0.9139609  0.89571302 0.90674302\n",
      " 0.90747665 0.89731823 0.90701731 0.91027132] \n",
      "\n",
      "--------------------------------------------------------------------------\n",
      "Average of all the weighted f1 results:\n",
      "--------------------------------------------------------------------------\n",
      "0.9012 \n",
      "\n",
      "--------------------------------------------------------------------------\n",
      "All the AUC score results:\n",
      "--------------------------------------------------------------------------\n",
      "[0.92112104 0.91923395 0.926394   0.94250562 0.92379962 0.93719053\n",
      " 0.94712218 0.92450719 0.93199694 0.94581782] \n",
      "\n",
      "--------------------------------------------------------------------------\n",
      "Average of all the AUC score results:\n",
      "--------------------------------------------------------------------------\n",
      "avg AUC score 0.9319688893716298\n"
     ]
    }
   ],
   "source": [
    "# define evaluation procedure\n",
    "k_fold_split = 10\n",
    "cv = KFold(n_splits=k_fold_split, random_state=2019, shuffle=True)\n",
    "# evaluate model\n",
    "result = cross_val_score(xgb0, X, Y, cv=cv, scoring='accuracy')\n",
    "result_f1_weighted = cross_val_score(xgb0, X, Y, cv=cv, scoring='f1_weighted')\n",
    "result_auc = cross_val_score(xgb0, X, Y, cv=cv, scoring='roc_auc')\n",
    "\n",
    "print('--------------------------------------------------------------------------')\n",
    "print('All the weighted f1 results:')\n",
    "print('--------------------------------------------------------------------------')\n",
    "print(result_f1_weighted, '\\n')\n",
    "\n",
    "print('--------------------------------------------------------------------------')\n",
    "print('Average of all the weighted f1 results:')\n",
    "print('--------------------------------------------------------------------------')\n",
    "print(round(result_f1_weighted.mean(), 4), '\\n')\n",
    "\n",
    "print('--------------------------------------------------------------------------')\n",
    "print('All the AUC score results:')\n",
    "print('--------------------------------------------------------------------------')\n",
    "print(result_auc, '\\n')\n",
    "\n",
    "print('--------------------------------------------------------------------------')\n",
    "print('Average of all the AUC score results:')\n",
    "print('--------------------------------------------------------------------------')\n",
    "print('avg AUC score', result_auc.mean())"
   ]
  },
  {
   "cell_type": "markdown",
   "metadata": {},
   "source": [
    "___\n",
    "<b> Takeaways: </b>\n",
    "<br> TPOT can be used as a suggestion to what model(s) can be employed and what optimal hyper-parameters to select, based on optimalizing the metric: <b> _'weighted f1 score'_ </b>, in this case. \n",
    "<br> After multiple runs, the most frequent and highest scores were achieved with the following models:\n",
    "* <b> Random Forest Classifier </b>\n",
    " * hyper-parameters:  (bootstrap=True, criterion='entropy', max_features=0.7500000000000001, min_samples_leaf=15, min_samples_split=18, n_estimators=100)\n",
    " *  with average weighted f1-score of: 0.9008, and average AUC score of: 0.9331 (using Cross Validation with Kfold (10))\n",
    "* <b> XGBoost Classifier </b>\n",
    " * hyper-parameters: (learning_rate=0.01, max_depth=10, min_child_weight=16, n_estimators=100, nthread=1, subsample=0.6500000000000001)\n",
    " *  with average weighted f1-score of: 0.9012 , and average AUC score of  0.9320 (using Cross Validation with Kfold (10))\n",
    "___"
   ]
  }
 ],
 "metadata": {
  "kernelspec": {
   "display_name": "Python 3",
   "language": "python",
   "name": "python3"
  },
  "language_info": {
   "codemirror_mode": {
    "name": "ipython",
    "version": 3
   },
   "file_extension": ".py",
   "mimetype": "text/x-python",
   "name": "python",
   "nbconvert_exporter": "python",
   "pygments_lexer": "ipython3",
   "version": "3.6.7"
  }
 },
 "nbformat": 4,
 "nbformat_minor": 4
}
