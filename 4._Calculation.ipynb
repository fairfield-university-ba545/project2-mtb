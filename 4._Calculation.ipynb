{
 "cells": [
  {
   "cell_type": "markdown",
   "metadata": {},
   "source": [
    "# <b> Calculation </b>\n",
    "___"
   ]
  },
  {
   "cell_type": "markdown",
   "metadata": {},
   "source": [
    "<b> import modules </b>"
   ]
  },
  {
   "cell_type": "code",
   "execution_count": 14,
   "metadata": {},
   "outputs": [],
   "source": [
    "import pandas as pd\n",
    "import numpy as np"
   ]
  },
  {
   "cell_type": "markdown",
   "metadata": {},
   "source": [
    "<b> read recoded csv file to a pandas dataframe </b>"
   ]
  },
  {
   "cell_type": "code",
   "execution_count": 15,
   "metadata": {},
   "outputs": [],
   "source": [
    "df = pd.read_csv(\"df_recoded.csv\")"
   ]
  },
  {
   "cell_type": "markdown",
   "metadata": {},
   "source": [
    "## Feature Engineering\n",
    "___"
   ]
  },
  {
   "cell_type": "markdown",
   "metadata": {},
   "source": [
    "### Deal with Highly Correlated Features\n",
    "_Note_: the <b> _first option_ </b> is to only select one of the highly pairwise-correlated features.\n",
    "<br> the <b> _second option_ </b> is to combine them into a single feature and see in feature selection which one is the best predictor -> either one of the highly correlated features or the combined feature."
   ]
  },
  {
   "cell_type": "markdown",
   "metadata": {},
   "source": [
    "### 1. Dealing with Continuous Features"
   ]
  },
  {
   "cell_type": "markdown",
   "metadata": {},
   "source": [
    "_left align all markdown tables_"
   ]
  },
  {
   "cell_type": "code",
   "execution_count": 16,
   "metadata": {},
   "outputs": [
    {
     "data": {
      "text/html": [
       "<style>\n",
       "    table {\n",
       "        display: inline-block\n",
       "    }\n",
       "</style>\n"
      ],
      "text/plain": [
       "<IPython.core.display.HTML object>"
      ]
     },
     "metadata": {},
     "output_type": "display_data"
    }
   ],
   "source": [
    "%%html\n",
    "<style>\n",
    "    table {\n",
    "        display: inline-block\n",
    "    }\n",
    "</style>"
   ]
  },
  {
   "cell_type": "markdown",
   "metadata": {},
   "source": [
    "\n",
    "#### <b> Table 1: </b> Absolute Pairwise correlations (>|0.5|)\n",
    "##### (Of Original Dataset)\n",
    "\n",
    "| Feature 1      | Feature 2                | Correlation |\n",
    "|----------------|--------------------------|-------------|\n",
    "| BounceRates    | ExitRates                | 0\\.913004   |\n",
    "| ProductRelated | ProductRelated\\_Duration | 0\\.860927   |\n",
    "| Informational  | Informational\\_Duration  | 0\\.618955   |\n",
    "| Administrative | Administrative\\_Duration | 0\\.601583   |"
   ]
  },
  {
   "cell_type": "markdown",
   "metadata": {},
   "source": [
    "<b> 1.1 Combine BounceRates & ExitRates \n",
    "> We combine them in the following ways:\n",
    "    - Taking the average (x1+x2)/2\n",
    "    - Adding both values (x1+x2)\n",
    "    - Dividing both values (x1/x2)\n",
    "    - Percentage Change ((x1-x2)/x2)"
   ]
  },
  {
   "cell_type": "markdown",
   "metadata": {},
   "source": [
    "Average"
   ]
  },
  {
   "cell_type": "code",
   "execution_count": 17,
   "metadata": {},
   "outputs": [],
   "source": [
    "# combine BounceRates and ExitRates by taking the average row-wise\n",
    "df['avg_exit_bounce_rates'] = df[['BounceRates', 'ExitRates']].mean(axis=1)\n",
    "\n",
    "# test if it worked\n",
    "# df[['ExitRates','BounceRates', 'avg_exit_bounce_rates']].head()"
   ]
  },
  {
   "cell_type": "markdown",
   "metadata": {},
   "source": [
    "Addition"
   ]
  },
  {
   "cell_type": "code",
   "execution_count": 18,
   "metadata": {},
   "outputs": [],
   "source": [
    "# combine BounceRates and ExitRates by addition row-wise\n",
    "df['add_exit_bounce_rates'] = df['BounceRates']+df['ExitRates']\n",
    "\n",
    "# test if it worked\n",
    "#df[['ExitRates','BounceRates', 'add_exit_bounce_rates']].head()"
   ]
  },
  {
   "cell_type": "markdown",
   "metadata": {},
   "source": [
    "Division"
   ]
  },
  {
   "cell_type": "code",
   "execution_count": 19,
   "metadata": {},
   "outputs": [],
   "source": [
    "# combine BounceRates and ExitRates by division row-wise\n",
    "df['div_exit_bounce_rates'] = df['BounceRates']/df['ExitRates']\n",
    "\n",
    "# test if it worked\n",
    "#df[['ExitRates','BounceRates', 'div_exit_bounce_rates']].head()\n",
    "#df[['ExitRates','BounceRates', 'div_exit_bounce_rates']].describe()\n",
    "#df[['ExitRates','BounceRates', 'div_exit_bounce_rates']].isna().sum()"
   ]
  },
  {
   "cell_type": "markdown",
   "metadata": {},
   "source": [
    "Percentage Change"
   ]
  },
  {
   "cell_type": "code",
   "execution_count": 20,
   "metadata": {},
   "outputs": [],
   "source": [
    "# combine BounceRates and ExitRates by Percentage Change row-wise\n",
    "df['perc_exit_bounce_rates'] = ((df['BounceRates']-df['ExitRates'])/df['ExitRates'])\n",
    "\n",
    "# test if it worked\n",
    "#df[['ExitRates','BounceRates', 'perc_exit_bounce_rates']].head()\n",
    "#df[['ExitRates','BounceRates', 'perc_exit_bounce_rates']].describe()\n",
    "#df[['ExitRates','BounceRates', 'perc_exit_bounce_rates']].isna().sum()"
   ]
  },
  {
   "cell_type": "markdown",
   "metadata": {},
   "source": [
    "<b> 1.2 Combine Administrative & Administrative_Duration </b>\n",
    "<br> We combine them by taking the Administrative Duration per Page"
   ]
  },
  {
   "cell_type": "code",
   "execution_count": 21,
   "metadata": {},
   "outputs": [],
   "source": [
    "df['Administrative_Duration_pp'] = df['Administrative_Duration']/df['Administrative']\n",
    "\n",
    "# test if it worked\n",
    "#df[['Administrative_Duration', 'Administrative', 'Administrative_Duration_pp']]\n",
    "# Note: results in NaN, should be replaced by zero -> will be imputed\n",
    "\n",
    "# only show df where there is a Administrative Duration larger than zero\n",
    "#df[df['Administrative_Duration'] > 0][['Administrative_Duration', 'Administrative', 'Administrative_Duration_pp']].head(5)\n",
    "# conclusion: it now correctly has a column with the Administrative Duration per page"
   ]
  },
  {
   "cell_type": "markdown",
   "metadata": {},
   "source": [
    "<b> 1.3 Combine Informational & Informational_Duration </b>\n",
    "<br> We combine them by taking the Information Duration per Page"
   ]
  },
  {
   "cell_type": "code",
   "execution_count": 22,
   "metadata": {},
   "outputs": [],
   "source": [
    "df['Informational_Duration_pp'] = df['Informational_Duration']/df['Informational']\n",
    "\n",
    "# test if it worked\n",
    "#df[['Informational_Duration', 'Informational', 'Informational_Duration_pp']].head()\n",
    "# Note: results in NaN, should be replaced by zero -> will be imputed\n",
    "\n",
    "# only show df where there is a informational duration larger than zero\n",
    "#df[df['Informational_Duration'] > 0][['Informational_Duration', 'Informational', 'Informational_Duration_pp']].head(5)\n",
    "# conclusion: it now correctly has a column with the Informational Duration per page"
   ]
  },
  {
   "cell_type": "markdown",
   "metadata": {},
   "source": [
    " <b> 1.4 Combine ProductRelated & ProductRelated_Duration </b>\n",
    "<br> We combine them by taking the Product-Related Duration per Page"
   ]
  },
  {
   "cell_type": "code",
   "execution_count": 23,
   "metadata": {},
   "outputs": [],
   "source": [
    "df['ProductRelated_Duration_pp'] = df['ProductRelated_Duration']/df['ProductRelated']\n",
    "\n",
    "# test if it worked\n",
    "#df[['ProductRelated_Duration', 'ProductRelated', 'ProductRelated_Duration_pp']].head()\n",
    "# show number of NaN's -> 38\n",
    "# df[['ProductRelated_Duration', 'ProductRelated', 'ProductRelated_Duration_pp']].isna().sum()\n",
    "\n",
    "# Note: results in NaN, should be replaced by zero -> will be imputed\n",
    "# conclusion: it now correctly has a column with the ProductRelated Duration per page"
   ]
  },
  {
   "cell_type": "markdown",
   "metadata": {},
   "source": [
    "# Imputation\n",
    "___\n",
    "<b> Check for NaN's in calculated features </b>"
   ]
  },
  {
   "cell_type": "code",
   "execution_count": 24,
   "metadata": {},
   "outputs": [
    {
     "data": {
      "text/html": [
       "<div>\n",
       "<style scoped>\n",
       "    .dataframe tbody tr th:only-of-type {\n",
       "        vertical-align: middle;\n",
       "    }\n",
       "\n",
       "    .dataframe tbody tr th {\n",
       "        vertical-align: top;\n",
       "    }\n",
       "\n",
       "    .dataframe thead th {\n",
       "        text-align: right;\n",
       "    }\n",
       "</style>\n",
       "<table border=\"1\" class=\"dataframe\">\n",
       "  <thead>\n",
       "    <tr style=\"text-align: right;\">\n",
       "      <th></th>\n",
       "      <th># NaNs</th>\n",
       "      <th>% NaNs</th>\n",
       "    </tr>\n",
       "  </thead>\n",
       "  <tbody>\n",
       "    <tr>\n",
       "      <th>avg_exit_bounce_rates</th>\n",
       "      <td>0</td>\n",
       "      <td>0.00</td>\n",
       "    </tr>\n",
       "    <tr>\n",
       "      <th>add_exit_bounce_rates</th>\n",
       "      <td>0</td>\n",
       "      <td>0.00</td>\n",
       "    </tr>\n",
       "    <tr>\n",
       "      <th>div_exit_bounce_rates</th>\n",
       "      <td>76</td>\n",
       "      <td>0.62</td>\n",
       "    </tr>\n",
       "    <tr>\n",
       "      <th>perc_exit_bounce_rates</th>\n",
       "      <td>76</td>\n",
       "      <td>0.62</td>\n",
       "    </tr>\n",
       "    <tr>\n",
       "      <th>Administrative_Duration_pp</th>\n",
       "      <td>5768</td>\n",
       "      <td>46.78</td>\n",
       "    </tr>\n",
       "    <tr>\n",
       "      <th>Informational_Duration_pp</th>\n",
       "      <td>9699</td>\n",
       "      <td>78.66</td>\n",
       "    </tr>\n",
       "    <tr>\n",
       "      <th>ProductRelated_Duration_pp</th>\n",
       "      <td>38</td>\n",
       "      <td>0.31</td>\n",
       "    </tr>\n",
       "  </tbody>\n",
       "</table>\n",
       "</div>"
      ],
      "text/plain": [
       "                            # NaNs  % NaNs\n",
       "avg_exit_bounce_rates            0    0.00\n",
       "add_exit_bounce_rates            0    0.00\n",
       "div_exit_bounce_rates           76    0.62\n",
       "perc_exit_bounce_rates          76    0.62\n",
       "Administrative_Duration_pp    5768   46.78\n",
       "Informational_Duration_pp     9699   78.66\n",
       "ProductRelated_Duration_pp      38    0.31"
      ]
     },
     "execution_count": 24,
     "metadata": {},
     "output_type": "execute_result"
    }
   ],
   "source": [
    "# create a function to create a dataframe with # NaN's and % NaN's\n",
    "def function_nans(df):\n",
    "    # Count NaN's\n",
    "    list_nan = df.isna().sum()\n",
    "\n",
    "    # Percentage of missing values for each column (To see the amount of usable data for each column and infer the effect replacing NaN's will have by some metric in part 2)\n",
    "    list_nan_pct = df.isna().mean().round(4) * 100\n",
    "\n",
    "    # create a dataframe showing the missing and percentage that is missing\n",
    "    df_combined = pd.concat([list_nan.rename('# NaNs'), list_nan_pct.rename('% NaNs')], axis=1)\n",
    "    \n",
    "    return(df_combined)\n",
    "\n",
    "# list of added features\n",
    "features_added = ['avg_exit_bounce_rates', 'add_exit_bounce_rates', 'div_exit_bounce_rates', 'perc_exit_bounce_rates','Administrative_Duration_pp', 'Informational_Duration_pp', 'ProductRelated_Duration_pp']\n",
    "\n",
    "# show a dataframe for number of NaN's and the % of NaN's for each added feature\n",
    "function_nans(df=df[features_added])"
   ]
  },
  {
   "cell_type": "markdown",
   "metadata": {},
   "source": [
    "<b> Replace NaN's by zero </b>"
   ]
  },
  {
   "cell_type": "code",
   "execution_count": 25,
   "metadata": {},
   "outputs": [
    {
     "data": {
      "text/html": [
       "<div>\n",
       "<style scoped>\n",
       "    .dataframe tbody tr th:only-of-type {\n",
       "        vertical-align: middle;\n",
       "    }\n",
       "\n",
       "    .dataframe tbody tr th {\n",
       "        vertical-align: top;\n",
       "    }\n",
       "\n",
       "    .dataframe thead th {\n",
       "        text-align: right;\n",
       "    }\n",
       "</style>\n",
       "<table border=\"1\" class=\"dataframe\">\n",
       "  <thead>\n",
       "    <tr style=\"text-align: right;\">\n",
       "      <th></th>\n",
       "      <th># NaNs</th>\n",
       "      <th>% NaNs</th>\n",
       "    </tr>\n",
       "  </thead>\n",
       "  <tbody>\n",
       "    <tr>\n",
       "      <th>avg_exit_bounce_rates</th>\n",
       "      <td>0</td>\n",
       "      <td>0.0</td>\n",
       "    </tr>\n",
       "    <tr>\n",
       "      <th>add_exit_bounce_rates</th>\n",
       "      <td>0</td>\n",
       "      <td>0.0</td>\n",
       "    </tr>\n",
       "    <tr>\n",
       "      <th>div_exit_bounce_rates</th>\n",
       "      <td>0</td>\n",
       "      <td>0.0</td>\n",
       "    </tr>\n",
       "    <tr>\n",
       "      <th>perc_exit_bounce_rates</th>\n",
       "      <td>0</td>\n",
       "      <td>0.0</td>\n",
       "    </tr>\n",
       "    <tr>\n",
       "      <th>Administrative_Duration_pp</th>\n",
       "      <td>0</td>\n",
       "      <td>0.0</td>\n",
       "    </tr>\n",
       "    <tr>\n",
       "      <th>Informational_Duration_pp</th>\n",
       "      <td>0</td>\n",
       "      <td>0.0</td>\n",
       "    </tr>\n",
       "    <tr>\n",
       "      <th>ProductRelated_Duration_pp</th>\n",
       "      <td>0</td>\n",
       "      <td>0.0</td>\n",
       "    </tr>\n",
       "  </tbody>\n",
       "</table>\n",
       "</div>"
      ],
      "text/plain": [
       "                            # NaNs  % NaNs\n",
       "avg_exit_bounce_rates            0     0.0\n",
       "add_exit_bounce_rates            0     0.0\n",
       "div_exit_bounce_rates            0     0.0\n",
       "perc_exit_bounce_rates           0     0.0\n",
       "Administrative_Duration_pp       0     0.0\n",
       "Informational_Duration_pp        0     0.0\n",
       "ProductRelated_Duration_pp       0     0.0"
      ]
     },
     "execution_count": 25,
     "metadata": {},
     "output_type": "execute_result"
    }
   ],
   "source": [
    "# create a function to replace NaN's by zero for a given dataframe with a given list of columnnames\n",
    "def replace_nan_by_zero(df, column_list): \n",
    "    # replace nans by zeros\n",
    "    df[column_list] = df[column_list].replace(np.NaN, 0)\n",
    "\n",
    "    \n",
    "# apply function to added features which have NaN's \n",
    "replace_nan_by_zero(df=df, column_list=['div_exit_bounce_rates', 'perc_exit_bounce_rates', 'Administrative_Duration_pp', 'Informational_Duration_pp', 'ProductRelated_Duration_pp'])\n",
    "\n",
    "# test if replacement worked\n",
    "function_nans(df=df[features_added])"
   ]
  },
  {
   "cell_type": "markdown",
   "metadata": {},
   "source": [
    "### __Save Calculated Features Dataset to a CSV File__ #"
   ]
  },
  {
   "cell_type": "code",
   "execution_count": 26,
   "metadata": {},
   "outputs": [],
   "source": [
    "# save a copy of the dataframe under 'df_calculation'\n",
    "# define name of the csv file\n",
    "df_calculation = df\n",
    "\n",
    "file_name = 'df_calculation.csv'\n",
    "\n",
    "# export pandas dataframe to csv\n",
    "df_calculation.to_csv('../project2-mtb/' + file_name, index=False)"
   ]
  },
  {
   "cell_type": "code",
   "execution_count": null,
   "metadata": {},
   "outputs": [],
   "source": []
  }
 ],
 "metadata": {
  "kernelspec": {
   "display_name": "Python 3",
   "language": "python",
   "name": "python3"
  },
  "language_info": {
   "codemirror_mode": {
    "name": "ipython",
    "version": 3
   },
   "file_extension": ".py",
   "mimetype": "text/x-python",
   "name": "python",
   "nbconvert_exporter": "python",
   "pygments_lexer": "ipython3",
   "version": "3.6.7"
  }
 },
 "nbformat": 4,
 "nbformat_minor": 4
}
