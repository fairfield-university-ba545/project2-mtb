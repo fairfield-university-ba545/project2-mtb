{
 "cells": [
  {
   "cell_type": "markdown",
   "metadata": {},
   "source": [
    "# <b> XGBoost</b>\n",
    "___"
   ]
  },
  {
   "cell_type": "markdown",
   "metadata": {},
   "source": [
    "<b> Table of Content: </b>\n",
    "<br> <b> [Pipeline_1](#7000) </b>\n",
    "<br> [1.0 Basic Model: XGBoost](#700100)\n",
    "<br> [1.1 Balancing the dataset](#700110)\n",
    "<br> [1.2 Model Tuning](#700112)\n",
    "<br> [1.3 Cross Validation](#700120)\n",
    "<br> [1.4 Feature Importance](#700130)\n",
    "<br>  <b>  [Pipeline 2](#7010) </b>\n",
    "<br> [2.0 Basic Model: XGBoost](#700200)\n",
    "<br> [2.1 Balancing the dataset](#700210)\n",
    "<br> [2.2 Model Tuning](#700220)\n",
    "<br> [2.3 Cross Validation](#700230)\n",
    "<br> [2.4 Feature Importance](#700240)\n",
    "<br>  <b>[Pipeline 3](#7020) </b>\n",
    "<br> [3.0 Basic Model: XGBoost](#700300)\n",
    "<br> [3.1 Balancing the dataset](#700310)\n",
    "<br> [3.2 Model Tuning](#700320)\n",
    "<br> [3.3 Cross Validation](#700330)\n",
    "<br> [3.4 Feature Importance](#700340)\n",
    "<br> <b> [Results](#71000) </b>\n",
    "___"
   ]
  },
  {
   "cell_type": "markdown",
   "metadata": {},
   "source": [
    "<b> Loading Required Modules"
   ]
  },
  {
   "cell_type": "code",
   "execution_count": 1,
   "metadata": {},
   "outputs": [],
   "source": [
    "# import modules\n",
    "import xgboost as xgb\n",
    "from sklearn.metrics import mean_squared_error\n",
    "import graphviz"
   ]
  },
  {
   "cell_type": "code",
   "execution_count": 2,
   "metadata": {},
   "outputs": [
    {
     "name": "stderr",
     "output_type": "stream",
     "text": [
      "/opt/tljh/user/lib/python3.6/site-packages/sklearn/utils/deprecation.py:144: FutureWarning: The sklearn.neighbors.base module is  deprecated in version 0.22 and will be removed in version 0.24. The corresponding classes / functions should instead be imported from sklearn.neighbors. Anything that cannot be imported from sklearn.neighbors is now part of the private API.\n",
      "  warnings.warn(message, FutureWarning)\n",
      "/opt/tljh/user/lib/python3.6/site-packages/sklearn/utils/deprecation.py:144: FutureWarning: The sklearn.ensemble.bagging module is  deprecated in version 0.22 and will be removed in version 0.24. The corresponding classes / functions should instead be imported from sklearn.ensemble. Anything that cannot be imported from sklearn.ensemble is now part of the private API.\n",
      "  warnings.warn(message, FutureWarning)\n",
      "/opt/tljh/user/lib/python3.6/site-packages/sklearn/utils/deprecation.py:144: FutureWarning: The sklearn.ensemble.base module is  deprecated in version 0.22 and will be removed in version 0.24. The corresponding classes / functions should instead be imported from sklearn.ensemble. Anything that cannot be imported from sklearn.ensemble is now part of the private API.\n",
      "  warnings.warn(message, FutureWarning)\n",
      "/opt/tljh/user/lib/python3.6/site-packages/sklearn/utils/deprecation.py:144: FutureWarning: The sklearn.ensemble.forest module is  deprecated in version 0.22 and will be removed in version 0.24. The corresponding classes / functions should instead be imported from sklearn.ensemble. Anything that cannot be imported from sklearn.ensemble is now part of the private API.\n",
      "  warnings.warn(message, FutureWarning)\n",
      "/opt/tljh/user/lib/python3.6/site-packages/sklearn/utils/deprecation.py:144: FutureWarning: The sklearn.utils.testing module is  deprecated in version 0.22 and will be removed in version 0.24. The corresponding classes / functions should instead be imported from sklearn.utils. Anything that cannot be imported from sklearn.utils is now part of the private API.\n",
      "  warnings.warn(message, FutureWarning)\n",
      "/opt/tljh/user/lib/python3.6/site-packages/sklearn/utils/deprecation.py:144: FutureWarning: The sklearn.metrics.classification module is  deprecated in version 0.22 and will be removed in version 0.24. The corresponding classes / functions should instead be imported from sklearn.metrics. Anything that cannot be imported from sklearn.metrics is now part of the private API.\n",
      "  warnings.warn(message, FutureWarning)\n"
     ]
    }
   ],
   "source": [
    "# import modules\n",
    "import pandas as pd\n",
    "import numpy as np\n",
    "from sklearn import preprocessing\n",
    "from sklearn.model_selection import train_test_split\n",
    "from sklearn.naive_bayes import GaussianNB\n",
    "from sklearn import metrics\n",
    "\n",
    "from sklearn.datasets import make_classification\n",
    "from sklearn.preprocessing import StandardScaler \n",
    "from sklearn.metrics import confusion_matrix, classification_report \n",
    "from imblearn.over_sampling import SMOTE\n",
    "from imblearn.under_sampling import NearMiss \n",
    "\n",
    "# Cross Validation packages\n",
    "from sklearn.model_selection import KFold\n",
    "from sklearn.model_selection import cross_val_score\n",
    "\n",
    "# ROC Curve and AUC\n",
    "from sklearn.metrics import roc_auc_score\n",
    "\n",
    "# import module for gridsearch (to find optimal hyper-parameters)\n",
    "from sklearn.model_selection import GridSearchCV\n",
    "\n",
    "# for plotting\n",
    "import matplotlib.pyplot as plt\n",
    "from sklearn.svm import SVC\n",
    "\n",
    "import time"
   ]
  },
  {
   "cell_type": "code",
   "execution_count": 3,
   "metadata": {},
   "outputs": [
    {
     "name": "stdout",
     "output_type": "stream",
     "text": [
      "Automatically created module for IPython interactive environment\n"
     ]
    }
   ],
   "source": [
    "# packages for Receiver Operating Characteristic (ROC) with cross validation\n",
    "# source: https://scikit-learn.org/0.18/auto_examples/model_selection/plot_roc_crossval.html\n",
    "print(__doc__)\n",
    "\n",
    "import numpy as np\n",
    "from scipy import interp\n",
    "from itertools import cycle\n",
    "\n",
    "from sklearn import svm, datasets\n",
    "from sklearn.metrics import roc_curve, auc\n",
    "from sklearn.model_selection import StratifiedKFold\n",
    "from sklearn.metrics import plot_roc_curve"
   ]
  },
  {
   "cell_type": "markdown",
   "metadata": {},
   "source": [
    "<a id = \"7000\"> <h2> Pipeline 1 </h2> </a>\n",
    "___"
   ]
  },
  {
   "cell_type": "markdown",
   "metadata": {},
   "source": [
    "<b> read csv file to a pandas dataframe"
   ]
  },
  {
   "cell_type": "code",
   "execution_count": 4,
   "metadata": {},
   "outputs": [],
   "source": [
    "df_pipeline1 = pd.read_csv(\"pipeline_1.csv\")"
   ]
  },
  {
   "cell_type": "markdown",
   "metadata": {},
   "source": [
    "<b> show all columns in dataset"
   ]
  },
  {
   "cell_type": "code",
   "execution_count": 5,
   "metadata": {},
   "outputs": [
    {
     "name": "stdout",
     "output_type": "stream",
     "text": [
      "There are 22 features, and the target `Revenue` for pipeline 1:\n"
     ]
    },
    {
     "data": {
      "text/plain": [
       "['Q4',\n",
       " 'VisitorType_New_Visitor',\n",
       " 'Q3',\n",
       " 'TrafficType_2',\n",
       " 'TrafficType_8',\n",
       " 'TrafficType_3',\n",
       " 'PageValues_iqr_yj_zscore',\n",
       " 'Q1',\n",
       " 'TrafficType_13',\n",
       " 'ExitRates_iqr_yj_zscore',\n",
       " 'OperatingSystems_3',\n",
       " 'Administrative_Duration_iqr_yj_zscore',\n",
       " 'TrafficType_1',\n",
       " 'SpecialDay_0.8',\n",
       " 'Month_Feb',\n",
       " 'Browser_6',\n",
       " 'SpecialDay_0.4',\n",
       " 'TrafficType_20',\n",
       " 'Informational_Duration_pp_iqr_yj_zscore',\n",
       " 'Browser_12',\n",
       " 'OperatingSystems_7',\n",
       " 'TrafficType_16',\n",
       " 'Revenue']"
      ]
     },
     "execution_count": 5,
     "metadata": {},
     "output_type": "execute_result"
    }
   ],
   "source": [
    "print('There are', len(df_pipeline1.columns)-1, 'features, and the target `Revenue` for pipeline 1:')\n",
    "list(df_pipeline1.columns)"
   ]
  },
  {
   "cell_type": "code",
   "execution_count": 6,
   "metadata": {},
   "outputs": [
    {
     "name": "stdout",
     "output_type": "stream",
     "text": [
      "Number of rows in the dataset: 12330\n",
      "Number of columns in the dataset: 23\n"
     ]
    }
   ],
   "source": [
    "print('Number of rows in the dataset:', df_pipeline1.shape[0])\n",
    "print('Number of columns in the dataset:', df_pipeline1.shape[1])"
   ]
  },
  {
   "cell_type": "markdown",
   "metadata": {},
   "source": [
    "<a id = \"700100\"> <h2> 1.0 Basic Model XGBoost </h2> </a>"
   ]
  },
  {
   "cell_type": "markdown",
   "metadata": {},
   "source": [
    "<b> Define Features and Target variables"
   ]
  },
  {
   "cell_type": "code",
   "execution_count": 7,
   "metadata": {},
   "outputs": [],
   "source": [
    "X = df_pipeline1.iloc[:, :-1] # Features is all columns in the dataframe except the last column\n",
    "Y = df_pipeline1.iloc[:, -1] # Target is the last column in the dataframe: 'Revenue'"
   ]
  },
  {
   "cell_type": "code",
   "execution_count": 8,
   "metadata": {},
   "outputs": [],
   "source": [
    "# Split dataset into training set and test set \n",
    "# 70% training and 30% test\n",
    "X_train, X_test, y_train, y_test = train_test_split(X, Y, test_size=0.3,random_state=2019)"
   ]
  },
  {
   "cell_type": "code",
   "execution_count": 9,
   "metadata": {},
   "outputs": [
    {
     "name": "stdout",
     "output_type": "stream",
     "text": [
      "              precision    recall  f1-score   support\n",
      "\n",
      "           0       0.92      0.95      0.94      3131\n",
      "           1       0.68      0.55      0.61       568\n",
      "\n",
      "    accuracy                           0.89      3699\n",
      "   macro avg       0.80      0.75      0.77      3699\n",
      "weighted avg       0.88      0.89      0.89      3699\n",
      "\n"
     ]
    }
   ],
   "source": [
    "# Train the XGboost Model for Classification\n",
    "xgb0 = xgb.XGBClassifier(learning_rate = 0.05, n_estimators=300, max_depth=5)\n",
    "\n",
    "# Train the model using the training sets\n",
    "xgb0.fit(X_train, y_train)\n",
    "\n",
    "# given a trained model, predict the label of a new set of data.\n",
    "y_pred = xgb0.predict(X_test)\n",
    "\n",
    "# print classification report \n",
    "print(classification_report(y_test, y_pred))"
   ]
  },
  {
   "cell_type": "markdown",
   "metadata": {},
   "source": [
    "<b> ROC Curve with AUC score - Basic model </b> (before oversampling)"
   ]
  },
  {
   "cell_type": "code",
   "execution_count": 10,
   "metadata": {},
   "outputs": [],
   "source": [
    "# define a function to plot the roc_curve and AUC score using variables: X_test and y_test\n",
    "def roc_curve(X_test=X_test, y_test=y_test, model=xgb0):\n",
    "    # set the style of the graph\n",
    "    plt.style.use('Solarize_Light2')\n",
    "\n",
    "    # predict_proba gives you the probabilities for the target (0 and 1 in your case) in array form in dimension (N,2). \n",
    "    # The first index refers to the probability that the data belong to class 0, and the second refers to the probability that the data belong to class 1. \n",
    "    # we define a variable with an array of the probabilities that each observation belongs to class 1 (with [:,1], where model.predict_proba(X_test)[:,0] refers to the array it belongs to class 0)\n",
    "    y_pred_proba = model.predict_proba(X_test)[:,1]\n",
    "\n",
    "    # define false positive rate (fpr) and the true positive rate (tpr)\n",
    "    fpr, tpr, _ = metrics.roc_curve(y_test,  y_pred_proba)\n",
    "\n",
    "    # Compute Area Under the Receiver Operating Characteristic Curve (ROC AUC) from prediction scores.\n",
    "    # source: https://scikit-learn.org/stable/modules/generated/sklearn.metrics.roc_auc_score.html\n",
    "    auc = metrics.roc_auc_score(y_test, y_pred_proba)\n",
    "\n",
    "    # plot on the X-axis: the false positive rate\n",
    "    # plot on the Y-axis: the true positive rate\n",
    "    # with the legend having the auc score\n",
    "    plt.plot(fpr,tpr,label='AUC = %0.2f' % auc)\n",
    "    # positioning of the legend\n",
    "    plt.legend(loc=4)\n",
    "    # define the title of the plot\n",
    "    plt.title('Receiver Operating Characteristic (ROC)')\n",
    "    # define the y axis label\n",
    "    plt.ylabel('True Positive Rate')\n",
    "    # define the x axis label\n",
    "    plt.xlabel('False Positive Rate')\n",
    "    # plot a straight dashed line in the color red\n",
    "    plt.plot([0, 1], [0, 1],'r--')\n",
    "    # show the plot\n",
    "    plt.show()\n",
    "    # print out full AUC score\n",
    "    print('AUC score:', auc)"
   ]
  },
  {
   "cell_type": "code",
   "execution_count": 11,
   "metadata": {},
   "outputs": [
    {
     "data": {
      "image/png": "[encoded data removed]",
      "text/plain": [
       "<Figure size 432x288 with 1 Axes>"
      ]
     },
     "metadata": {},
     "output_type": "display_data"
    },
    {
     "name": "stdout",
     "output_type": "stream",
     "text": [
      "AUC score: 0.912996905097143\n"
     ]
    }
   ],
   "source": [
    "# apply function to plot the ROC Curve\n",
    "roc_curve(X_test=X_test, y_test=y_test, model=xgb0)"
   ]
  },
  {
   "cell_type": "markdown",
   "metadata": {},
   "source": [
    "<a id = \"700110\"> <h2> 1.1 Balancing the dataset </h2> </a>\n",
    "We balance the dataset, because the classes within our target variable 'Revenue' are imbalanced:\n",
    "* class 0: 84.53%\n",
    "* class 1: 15.47%"
   ]
  },
  {
   "cell_type": "markdown",
   "metadata": {},
   "source": [
    "The XGBClassifier has a hyper-parameter: \"scale_pos_weight\" (Balancing of positive and negative weights) to weight the positive minority class (class 1) to the negative majority class (class 0)\n",
    "<br> In our dataset the ratio is 1 (class 1) to every 5.46 in the majority class (class 0) \n",
    "<br> So we can set our \"scale_pos_weight\" to a float of 5.462264150943396. The calculation can be seen below."
   ]
  },
  {
   "cell_type": "code",
   "execution_count": 12,
   "metadata": {},
   "outputs": [
    {
     "data": {
      "text/plain": [
       "5.462264150943396"
      ]
     },
     "execution_count": 12,
     "metadata": {},
     "output_type": "execute_result"
    }
   ],
   "source": [
    "# scale_pos_weight = count(negative examples)/count(Positive examples)\n",
    "# in percentages you would get the same number: 84.53/15.47\n",
    "scale_pos_weight = Y[Y==0].count()/Y[Y==1].count()\n",
    "scale_pos_weight"
   ]
  },
  {
   "cell_type": "markdown",
   "metadata": {},
   "source": [
    "We set our \"scale_pos_weight\" and evaluate with the weighted f1-score."
   ]
  },
  {
   "cell_type": "code",
   "execution_count": 13,
   "metadata": {},
   "outputs": [
    {
     "name": "stdout",
     "output_type": "stream",
     "text": [
      "              precision    recall  f1-score   support\n",
      "\n",
      "           0       0.92      0.95      0.94      3131\n",
      "           1       0.68      0.55      0.61       568\n",
      "\n",
      "    accuracy                           0.89      3699\n",
      "   macro avg       0.80      0.75      0.77      3699\n",
      "weighted avg       0.88      0.89      0.89      3699\n",
      "\n"
     ]
    }
   ],
   "source": [
    "# Train the XGboost Model for Classification\n",
    "xgb1 = xgb.XGBClassifier(scale_pos_weight=scale_pos_weight, learning_rate = 0.05, n_estimators=300, max_depth=5)\n",
    "\n",
    "# Train the model using the training sets\n",
    "xgb1.fit(X_train, y_train)\n",
    "\n",
    "# given a trained model, predict the label of a new set of data.\n",
    "y_pred = xgb0.predict(X_test)\n",
    "\n",
    "# print classification report \n",
    "print(classification_report(y_test, y_pred))"
   ]
  },
  {
   "cell_type": "markdown",
   "metadata": {},
   "source": [
    "_Note:_ The weighted f1 score did not change after applying the scale_pos_weight and is still 0.89."
   ]
  },
  {
   "cell_type": "markdown",
   "metadata": {},
   "source": [
    "<b> Cross Validation on X and Y"
   ]
  },
  {
   "cell_type": "code",
   "execution_count": 14,
   "metadata": {},
   "outputs": [
    {
     "name": "stdout",
     "output_type": "stream",
     "text": [
      "--------------------------------------------------------------------------\n",
      "All the weighted f1 results:\n",
      "--------------------------------------------------------------------------\n",
      "[0.86436599 0.87772582 0.88120137 0.88303299 0.88347279 0.88861316\n",
      " 0.88795683 0.86623206 0.88427534 0.88352989] \n",
      "\n",
      "--------------------------------------------------------------------------\n",
      "Average of all the weighted f1 results:\n",
      "--------------------------------------------------------------------------\n",
      "0.8800406254511405 \n",
      "\n",
      "--------------------------------------------------------------------------\n",
      "All the AUC score results:\n",
      "--------------------------------------------------------------------------\n",
      "[0.90680997 0.91279742 0.91765247 0.92543402 0.91993519 0.92986125\n",
      " 0.93612223 0.91191641 0.91622697 0.92731848] \n",
      "\n",
      "--------------------------------------------------------------------------\n",
      "Average of all the AUC score results:\n",
      "--------------------------------------------------------------------------\n",
      "avg AUC score 0.9204074402708841\n"
     ]
    }
   ],
   "source": [
    "# define evaluation procedure\n",
    "k_fold_split = 10\n",
    "cv = KFold(n_splits=k_fold_split, random_state=2019, shuffle=True)\n",
    "# evaluate model\n",
    "result = cross_val_score(xgb1, X, Y, cv=cv, scoring='accuracy')\n",
    "result_f1_weighted = cross_val_score(xgb1, X, Y, cv=cv, scoring='f1_weighted')\n",
    "result_auc = cross_val_score(xgb1, X, Y, cv=cv, scoring='roc_auc')\n",
    "\n",
    "print('--------------------------------------------------------------------------')\n",
    "print('All the weighted f1 results:')\n",
    "print('--------------------------------------------------------------------------')\n",
    "print(result_f1_weighted, '\\n')\n",
    "\n",
    "print('--------------------------------------------------------------------------')\n",
    "print('Average of all the weighted f1 results:')\n",
    "print('--------------------------------------------------------------------------')\n",
    "print(result_f1_weighted.mean(), '\\n')\n",
    "\n",
    "print('--------------------------------------------------------------------------')\n",
    "print('All the AUC score results:')\n",
    "print('--------------------------------------------------------------------------')\n",
    "print(result_auc, '\\n')\n",
    "\n",
    "print('--------------------------------------------------------------------------')\n",
    "print('Average of all the AUC score results:')\n",
    "print('--------------------------------------------------------------------------')\n",
    "print('avg AUC score', result_auc.mean())"
   ]
  },
  {
   "cell_type": "markdown",
   "metadata": {},
   "source": [
    "<a id = \"700112\"> <h2> 1.2 Model Tuning </h2> </a>"
   ]
  },
  {
   "cell_type": "code",
   "execution_count": 15,
   "metadata": {},
   "outputs": [],
   "source": [
    "# define grid\n",
    "# source: https://www.kaggle.com/tilii7/hyperparameter-grid-search-with-xgboost\n",
    "param_grid = {\n",
    "        'min_child_weight': [1, 5, 10],\n",
    "        'gamma': [0.5, 1, 1.5, 2, 5],\n",
    "        'subsample': [0.6, 0.8, 1.0],\n",
    "        'colsample_bytree': [0.6, 0.8, 1.0],\n",
    "        'max_depth': [3, 4, 5]\n",
    "        }"
   ]
  },
  {
   "cell_type": "code",
   "execution_count": 16,
   "metadata": {},
   "outputs": [
    {
     "name": "stdout",
     "output_type": "stream",
     "text": [
      "Best: 0.926779 using {'colsample_bytree': 1.0, 'gamma': 5, 'max_depth': 4, 'min_child_weight': 1, 'subsample': 1.0}\n",
      "--- Execution time: ---\n",
      "--- 3007898.688ms. --- \n",
      "--- 3007.8986876010895 seconds ---\n",
      "--- 50.13164479335149 minutes ---\n"
     ]
    }
   ],
   "source": [
    "# set the start time\n",
    "start = time.time()\n",
    "\n",
    "# define evaluation procedure\n",
    "# define cross validation method as KFold\n",
    "k_fold_split = 10\n",
    "cv = KFold(n_splits=k_fold_split, random_state=2019, shuffle=True)\n",
    "\n",
    "# Create a grid search object\n",
    "grid = GridSearchCV(estimator=xgb1, param_grid=param_grid, n_jobs=-1, cv=cv, scoring='roc_auc')\n",
    "\n",
    "# Fit the grid search (Fitting your model to the training data)\n",
    "grid_result = grid.fit(X_train, y_train)\n",
    "\n",
    "# Summarize results\n",
    "print(\"Best: %f using %s\" % (grid_result.best_score_, grid_result.best_params_))\n",
    "\n",
    "# get the time it takes for the gridsearch to run\n",
    "# source: https://blog.softhints.com/python-test-performance-and-measure-time-elapsed-in-seconds/\n",
    "# set the end time\n",
    "end = time.time()\n",
    "\n",
    "# get the elapsed execution time\n",
    "execution_time = end - start\n",
    "print(\"--- Execution time: ---\")\n",
    "print ('--- %0.3fms. --- ' % ( execution_time*1000.))\n",
    "print(\"--- %s seconds ---\" % (execution_time))\n",
    "print(\"--- %s minutes ---\" % (execution_time/60))"
   ]
  },
  {
   "cell_type": "markdown",
   "metadata": {},
   "source": [
    "Best: 0.926779 using {'colsample_bytree': 1.0, 'gamma': 5, 'max_depth': 4, 'min_child_weight': 1, 'subsample': 1.0}\n",
    "<br> --- Execution time: ---\n",
    "<br> --- 2720346.076ms. --- \n",
    "<br> --- 2720.346075773239 seconds ---\n",
    "<br> --- 45.33910126288732 minutes ---"
   ]
  },
  {
   "cell_type": "markdown",
   "metadata": {},
   "source": [
    "Apply optimal hyperparameters and train the model and test it again."
   ]
  },
  {
   "cell_type": "code",
   "execution_count": 17,
   "metadata": {},
   "outputs": [
    {
     "name": "stdout",
     "output_type": "stream",
     "text": [
      "              precision    recall  f1-score   support\n",
      "\n",
      "           0       0.92      0.95      0.94      3131\n",
      "           1       0.68      0.55      0.61       568\n",
      "\n",
      "    accuracy                           0.89      3699\n",
      "   macro avg       0.80      0.75      0.77      3699\n",
      "weighted avg       0.88      0.89      0.89      3699\n",
      "\n"
     ]
    }
   ],
   "source": [
    "# Train the XGboost Model for Classification\n",
    "xgb2 = xgb.XGBClassifier(scale_pos_weight=scale_pos_weight, \n",
    "                         learning_rate = 0.05, \n",
    "                         n_estimators=300, \n",
    "                         min_child_weight = 1,\n",
    "                         gamma = 5,\n",
    "                         subsample = 1,\n",
    "                         colsample_bytree = 1,\n",
    "                         max_depth= 4)\n",
    "\n",
    "# Train the model using the training sets\n",
    "xgb2.fit(X_train, y_train)\n",
    "\n",
    "# given a trained model, predict the label of a new set of data.\n",
    "y_pred = xgb0.predict(X_test)\n",
    "\n",
    "# print classification report \n",
    "print(classification_report(y_test, y_pred))"
   ]
  },
  {
   "cell_type": "code",
   "execution_count": 18,
   "metadata": {},
   "outputs": [
    {
     "data": {
      "image/png": "[encoded data removed]",
      "text/plain": [
       "<Figure size 432x288 with 1 Axes>"
      ]
     },
     "metadata": {},
     "output_type": "display_data"
    },
    {
     "name": "stdout",
     "output_type": "stream",
     "text": [
      "AUC score: 0.9135822600887984\n"
     ]
    }
   ],
   "source": [
    "# apply function to plot the ROC Curve\n",
    "roc_curve(X_test=X_test, y_test=y_test, model=xgb2)"
   ]
  },
  {
   "cell_type": "markdown",
   "metadata": {},
   "source": [
    "<a id = \"700120\"> <h2> 1.3 Cross Validation </h2> </a>"
   ]
  },
  {
   "cell_type": "code",
   "execution_count": 19,
   "metadata": {},
   "outputs": [
    {
     "name": "stdout",
     "output_type": "stream",
     "text": [
      "--------------------------------------------------------------------------\n",
      "All the weighted f1 results:\n",
      "--------------------------------------------------------------------------\n",
      "[0.86467997 0.88090757 0.88221223 0.88069853 0.8858516  0.8863854\n",
      " 0.89028023 0.86840567 0.87598576 0.8864023 ] \n",
      "\n",
      "--------------------------------------------------------------------------\n",
      "Average of all the weighted f1 results:\n",
      "--------------------------------------------------------------------------\n",
      "0.8802 \n",
      "\n",
      "--------------------------------------------------------------------------\n",
      "All the AUC score results:\n",
      "--------------------------------------------------------------------------\n",
      "[0.90930719 0.91555045 0.92187803 0.93164666 0.92176884 0.93324737\n",
      " 0.93881725 0.91301319 0.9191369  0.93429295] \n",
      "\n",
      "--------------------------------------------------------------------------\n",
      "Average of all the AUC score results:\n",
      "--------------------------------------------------------------------------\n",
      "avg AUC score 0.9238658822101753\n"
     ]
    }
   ],
   "source": [
    "# define evaluation procedure\n",
    "k_fold_split = 10\n",
    "cv = KFold(n_splits=k_fold_split, random_state=2019, shuffle=True)\n",
    "# evaluate model\n",
    "result = cross_val_score(xgb2, X, Y, cv=cv, scoring='accuracy')\n",
    "result_f1_weighted = cross_val_score(xgb2, X, Y, cv=cv, scoring='f1_weighted')\n",
    "result_auc = cross_val_score(xgb2, X, Y, cv=cv, scoring='roc_auc')\n",
    "\n",
    "print('--------------------------------------------------------------------------')\n",
    "print('All the weighted f1 results:')\n",
    "print('--------------------------------------------------------------------------')\n",
    "print(result_f1_weighted, '\\n')\n",
    "\n",
    "print('--------------------------------------------------------------------------')\n",
    "print('Average of all the weighted f1 results:')\n",
    "print('--------------------------------------------------------------------------')\n",
    "print(round(result_f1_weighted.mean(), 4), '\\n')\n",
    "\n",
    "print('--------------------------------------------------------------------------')\n",
    "print('All the AUC score results:')\n",
    "print('--------------------------------------------------------------------------')\n",
    "print(result_auc, '\\n')\n",
    "\n",
    "print('--------------------------------------------------------------------------')\n",
    "print('Average of all the AUC score results:')\n",
    "print('--------------------------------------------------------------------------')\n",
    "print('avg AUC score', result_auc.mean())"
   ]
  },
  {
   "cell_type": "markdown",
   "metadata": {},
   "source": [
    "<a id = \"700130\"> <h2> 1.4 Feature Importance </h2> </a>"
   ]
  },
  {
   "cell_type": "code",
   "execution_count": 20,
   "metadata": {},
   "outputs": [
    {
     "data": {
      "image/png": "[encoded data removed]",
      "text/plain": [
       "<Figure size 432x288 with 1 Axes>"
      ]
     },
     "metadata": {},
     "output_type": "display_data"
    }
   ],
   "source": [
    "# source: https://towardsdatascience.com/exploring-xgboost-4baf9ace0cf6\n",
    "from xgboost import plot_importance\n",
    "import matplotlib.pyplot as plt\n",
    "\n",
    "# plot feature importance\n",
    "plot_importance(xgb2)\n",
    "plt.show()"
   ]
  },
  {
   "cell_type": "markdown",
   "metadata": {},
   "source": [
    "<a id = \"7010\"> <h2> Pipeline 2 </h2> </a>\n",
    "___"
   ]
  },
  {
   "cell_type": "markdown",
   "metadata": {},
   "source": [
    "<b> read csv file to a pandas dataframe"
   ]
  },
  {
   "cell_type": "code",
   "execution_count": 21,
   "metadata": {},
   "outputs": [],
   "source": [
    "df_pipeline2 = pd.read_csv(\"pipeline_2.csv\")"
   ]
  },
  {
   "cell_type": "markdown",
   "metadata": {},
   "source": [
    "<b> show all columns in dataset"
   ]
  },
  {
   "cell_type": "code",
   "execution_count": 22,
   "metadata": {},
   "outputs": [
    {
     "name": "stdout",
     "output_type": "stream",
     "text": [
      "There are 21 features, and the target `Revenue` for pipeline 2:\n"
     ]
    },
    {
     "data": {
      "text/plain": [
       "['TrafficType_15',\n",
       " 'Month_Nov',\n",
       " 'Administrative_Duration_mm_yj_stdev',\n",
       " 'VisitorType_New_Visitor',\n",
       " 'Informational_mm_yj_stdev',\n",
       " 'TrafficType_2',\n",
       " 'TrafficType_3',\n",
       " 'ProductRelated_mm_yj_stdev',\n",
       " 'PageValues_mm_yj_stdev',\n",
       " 'Month_May',\n",
       " 'TrafficType_13',\n",
       " 'OperatingSystems_3',\n",
       " 'TrafficType_1',\n",
       " 'add_exit_bounce_rates_mm_yj_stdev',\n",
       " 'Month_Mar',\n",
       " 'TrafficType_18',\n",
       " 'TrafficType_8',\n",
       " 'SpecialDay_0.8',\n",
       " 'Month_Feb',\n",
       " 'TrafficType_12',\n",
       " 'Browser_12',\n",
       " 'Revenue']"
      ]
     },
     "execution_count": 22,
     "metadata": {},
     "output_type": "execute_result"
    }
   ],
   "source": [
    "print('There are', len(df_pipeline2.columns)-1, 'features, and the target `Revenue` for pipeline 2:')\n",
    "list(df_pipeline2.columns)"
   ]
  },
  {
   "cell_type": "code",
   "execution_count": 23,
   "metadata": {},
   "outputs": [
    {
     "name": "stdout",
     "output_type": "stream",
     "text": [
      "Number of rows in the dataset: 12330\n",
      "Number of columns in the dataset: 22\n"
     ]
    }
   ],
   "source": [
    "print('Number of rows in the dataset:', df_pipeline2.shape[0])\n",
    "print('Number of columns in the dataset:', df_pipeline2.shape[1])"
   ]
  },
  {
   "cell_type": "markdown",
   "metadata": {},
   "source": [
    "<a id = \"700200\"> <h2> 2.0 Basic Model XGBoost </h2> </a>"
   ]
  },
  {
   "cell_type": "markdown",
   "metadata": {},
   "source": [
    "<b> Define Features and Target variables"
   ]
  },
  {
   "cell_type": "code",
   "execution_count": 24,
   "metadata": {},
   "outputs": [],
   "source": [
    "X = df_pipeline2.iloc[:, :-1] # Features is all columns in the dataframe except the last column\n",
    "Y = df_pipeline2.iloc[:, -1] # Target is the last column in the dataframe: 'Revenue'"
   ]
  },
  {
   "cell_type": "code",
   "execution_count": 25,
   "metadata": {},
   "outputs": [],
   "source": [
    "# Split dataset into training set and test set \n",
    "# 70% training and 30% test\n",
    "X_train, X_test, y_train, y_test = train_test_split(X, Y, test_size=0.3,random_state=2019)"
   ]
  },
  {
   "cell_type": "code",
   "execution_count": 26,
   "metadata": {},
   "outputs": [
    {
     "name": "stdout",
     "output_type": "stream",
     "text": [
      "              precision    recall  f1-score   support\n",
      "\n",
      "           0       0.93      0.95      0.94      3131\n",
      "           1       0.67      0.58      0.63       568\n",
      "\n",
      "    accuracy                           0.89      3699\n",
      "   macro avg       0.80      0.77      0.78      3699\n",
      "weighted avg       0.89      0.89      0.89      3699\n",
      "\n"
     ]
    }
   ],
   "source": [
    "# Train the XGboost Model for Classification\n",
    "xgb0 = xgb.XGBClassifier(learning_rate = 0.05, n_estimators=300, max_depth=5)\n",
    "\n",
    "# Train the model using the training sets\n",
    "xgb0.fit(X_train, y_train)\n",
    "\n",
    "# given a trained model, predict the label of a new set of data.\n",
    "y_pred = xgb0.predict(X_test)\n",
    "\n",
    "# print classification report \n",
    "print(classification_report(y_test, y_pred))"
   ]
  },
  {
   "cell_type": "markdown",
   "metadata": {},
   "source": [
    "<b> ROC Curve with AUC score - Basic model </b> (before oversampling)"
   ]
  },
  {
   "cell_type": "code",
   "execution_count": 27,
   "metadata": {},
   "outputs": [],
   "source": [
    "# define a function to plot the roc_curve and AUC score using variables: X_test and y_test\n",
    "def roc_curve(X_test=X_test, y_test=y_test, model=xgb0):\n",
    "    # set the style of the graph\n",
    "    plt.style.use('Solarize_Light2')\n",
    "\n",
    "    # predict_proba gives you the probabilities for the target (0 and 1 in your case) in array form in dimension (N,2). \n",
    "    # The first index refers to the probability that the data belong to class 0, and the second refers to the probability that the data belong to class 1. \n",
    "    # we define a variable with an array of the probabilities that each observation belongs to class 1 (with [:,1], where model.predict_proba(X_test)[:,0] refers to the array it belongs to class 0)\n",
    "    y_pred_proba = model.predict_proba(X_test)[:,1]\n",
    "\n",
    "    # define false positive rate (fpr) and the true positive rate (tpr)\n",
    "    fpr, tpr, _ = metrics.roc_curve(y_test,  y_pred_proba)\n",
    "\n",
    "    # Compute Area Under the Receiver Operating Characteristic Curve (ROC AUC) from prediction scores.\n",
    "    # source: https://scikit-learn.org/stable/modules/generated/sklearn.metrics.roc_auc_score.html\n",
    "    auc = metrics.roc_auc_score(y_test, y_pred_proba)\n",
    "\n",
    "    # plot on the X-axis: the false positive rate\n",
    "    # plot on the Y-axis: the true positive rate\n",
    "    # with the legend having the auc score\n",
    "    plt.plot(fpr,tpr,label='AUC = %0.2f' % auc)\n",
    "    # positioning of the legend\n",
    "    plt.legend(loc=4)\n",
    "    # define the title of the plot\n",
    "    plt.title('Receiver Operating Characteristic (ROC)')\n",
    "    # define the y axis label\n",
    "    plt.ylabel('True Positive Rate')\n",
    "    # define the x axis label\n",
    "    plt.xlabel('False Positive Rate')\n",
    "    # plot a straight dashed line in the color red\n",
    "    plt.plot([0, 1], [0, 1],'r--')\n",
    "    # show the plot\n",
    "    plt.show()\n",
    "    # print out full AUC score\n",
    "    print('AUC score:', auc)"
   ]
  },
  {
   "cell_type": "code",
   "execution_count": 28,
   "metadata": {},
   "outputs": [
    {
     "data": {
      "image/png": "[encoded data removed]",
      "text/plain": [
       "<Figure size 432x288 with 1 Axes>"
      ]
     },
     "metadata": {},
     "output_type": "display_data"
    },
    {
     "name": "stdout",
     "output_type": "stream",
     "text": [
      "AUC score: 0.922143568854841\n"
     ]
    }
   ],
   "source": [
    "# apply function to plot the ROC Curve\n",
    "roc_curve(X_test=X_test, y_test=y_test, model=xgb0)"
   ]
  },
  {
   "cell_type": "markdown",
   "metadata": {},
   "source": [
    "<a id = \"700210\"> <h2> 2.1 Balancing the dataset </h2> </a>\n",
    "We balance the dataset, because the classes within our target variable 'Revenue' are imbalanced:\n",
    "* class 0: 84.53%\n",
    "* class 1: 15.47%"
   ]
  },
  {
   "cell_type": "markdown",
   "metadata": {},
   "source": [
    "The XGBClassifier has a hyper-parameter: \"scale_pos_weight\" (Balancing of positive and negative weights) to weight the positive minority class (class 1) to the negative majority class (class 0)\n",
    "<br> In our dataset the ratio is 1 (class 1) to every 5.46 in the majority class (class 0) \n",
    "<br> So we can set our \"scale_pos_weight\" to a float of 5.462264150943396. The calculation can be seen below."
   ]
  },
  {
   "cell_type": "code",
   "execution_count": 29,
   "metadata": {},
   "outputs": [
    {
     "data": {
      "text/plain": [
       "5.462264150943396"
      ]
     },
     "execution_count": 29,
     "metadata": {},
     "output_type": "execute_result"
    }
   ],
   "source": [
    "# scale_pos_weight = count(negative examples)/count(Positive examples)\n",
    "# in percentages you would get the same number: 84.53/15.47\n",
    "scale_pos_weight = Y[Y==0].count()/Y[Y==1].count()\n",
    "scale_pos_weight"
   ]
  },
  {
   "cell_type": "markdown",
   "metadata": {},
   "source": [
    "We set our \"scale_pos_weight\" and evaluate with the weighted f1-score."
   ]
  },
  {
   "cell_type": "code",
   "execution_count": 30,
   "metadata": {},
   "outputs": [
    {
     "name": "stdout",
     "output_type": "stream",
     "text": [
      "              precision    recall  f1-score   support\n",
      "\n",
      "           0       0.93      0.95      0.94      3131\n",
      "           1       0.67      0.58      0.63       568\n",
      "\n",
      "    accuracy                           0.89      3699\n",
      "   macro avg       0.80      0.77      0.78      3699\n",
      "weighted avg       0.89      0.89      0.89      3699\n",
      "\n"
     ]
    }
   ],
   "source": [
    "# Train the XGboost Model for Classification\n",
    "xgb1 = xgb.XGBClassifier(scale_pos_weight=scale_pos_weight, learning_rate = 0.05, n_estimators=300, max_depth=5)\n",
    "\n",
    "# Train the model using the training sets\n",
    "xgb1.fit(X_train, y_train)\n",
    "\n",
    "# given a trained model, predict the label of a new set of data.\n",
    "y_pred = xgb0.predict(X_test)\n",
    "\n",
    "# print classification report \n",
    "print(classification_report(y_test, y_pred))"
   ]
  },
  {
   "cell_type": "markdown",
   "metadata": {},
   "source": [
    "_Note:_ The weighted f1 score did not change after applying the scale_pos_weight and is still 0.89."
   ]
  },
  {
   "cell_type": "markdown",
   "metadata": {},
   "source": [
    "<b> Cross Validation on X and Y"
   ]
  },
  {
   "cell_type": "code",
   "execution_count": 31,
   "metadata": {},
   "outputs": [
    {
     "name": "stdout",
     "output_type": "stream",
     "text": [
      "--------------------------------------------------------------------------\n",
      "All the weighted f1 results:\n",
      "--------------------------------------------------------------------------\n",
      "[0.86528275 0.86956526 0.87957975 0.88056651 0.88510306 0.87796087\n",
      " 0.88155741 0.86856696 0.87644687 0.88118606] \n",
      "\n",
      "--------------------------------------------------------------------------\n",
      "Average of all the weighted f1 results:\n",
      "--------------------------------------------------------------------------\n",
      "0.876581550208171 \n",
      "\n",
      "--------------------------------------------------------------------------\n",
      "All the AUC score results:\n",
      "--------------------------------------------------------------------------\n",
      "[0.9167542  0.91628409 0.92701597 0.94037735 0.92676479 0.93254075\n",
      " 0.94747789 0.9205474  0.93526012 0.94036683] \n",
      "\n",
      "--------------------------------------------------------------------------\n",
      "Average of all the AUC score results:\n",
      "--------------------------------------------------------------------------\n",
      "avg AUC score 0.9303389383337152\n"
     ]
    }
   ],
   "source": [
    "# define evaluation procedure\n",
    "k_fold_split = 10\n",
    "cv = KFold(n_splits=k_fold_split, random_state=2019, shuffle=True)\n",
    "# evaluate model\n",
    "result = cross_val_score(xgb1, X, Y, cv=cv, scoring='accuracy')\n",
    "result_f1_weighted = cross_val_score(xgb1, X, Y, cv=cv, scoring='f1_weighted')\n",
    "result_auc = cross_val_score(xgb1, X, Y, cv=cv, scoring='roc_auc')\n",
    "\n",
    "print('--------------------------------------------------------------------------')\n",
    "print('All the weighted f1 results:')\n",
    "print('--------------------------------------------------------------------------')\n",
    "print(result_f1_weighted, '\\n')\n",
    "\n",
    "print('--------------------------------------------------------------------------')\n",
    "print('Average of all the weighted f1 results:')\n",
    "print('--------------------------------------------------------------------------')\n",
    "print(result_f1_weighted.mean(), '\\n')\n",
    "\n",
    "print('--------------------------------------------------------------------------')\n",
    "print('All the AUC score results:')\n",
    "print('--------------------------------------------------------------------------')\n",
    "print(result_auc, '\\n')\n",
    "\n",
    "print('--------------------------------------------------------------------------')\n",
    "print('Average of all the AUC score results:')\n",
    "print('--------------------------------------------------------------------------')\n",
    "print('avg AUC score', result_auc.mean())"
   ]
  },
  {
   "cell_type": "markdown",
   "metadata": {},
   "source": [
    "<a id = \"700220\"> <h2> 2.2 Model Tuning </h2> </a>"
   ]
  },
  {
   "cell_type": "code",
   "execution_count": 32,
   "metadata": {},
   "outputs": [],
   "source": [
    "# define grid\n",
    "# source: https://www.kaggle.com/tilii7/hyperparameter-grid-search-with-xgboost\n",
    "param_grid = {\n",
    "        'min_child_weight': [1],\n",
    "        'gamma': [5, 6, 7],\n",
    "        'subsample': [1.0],\n",
    "        'colsample_bytree': [1.0, 1.5],\n",
    "        'max_depth': [3, 4, 5]\n",
    "        }\n",
    "\n",
    "# pipeline 1 notes\n",
    "# {'colsample_bytree': 1.0, 'gamma': 5, 'max_depth': 4, 'min_child_weight': 1, 'subsample': 1.0} "
   ]
  },
  {
   "cell_type": "code",
   "execution_count": 33,
   "metadata": {},
   "outputs": [
    {
     "name": "stdout",
     "output_type": "stream",
     "text": [
      "Best: 0.936844 using {'colsample_bytree': 1.0, 'gamma': 6, 'max_depth': 4, 'min_child_weight': 1, 'subsample': 1.0}\n",
      "--- Execution time: ---\n",
      "--- 96805.182ms. --- \n",
      "--- 96.80518221855164 seconds ---\n",
      "--- 1.6134197036425273 minutes ---\n"
     ]
    }
   ],
   "source": [
    "# set the start time\n",
    "start = time.time()\n",
    "\n",
    "# define evaluation procedure\n",
    "# define cross validation method as KFold\n",
    "k_fold_split = 10\n",
    "cv = KFold(n_splits=k_fold_split, random_state=2019, shuffle=True)\n",
    "\n",
    "# Create a grid search object\n",
    "grid = GridSearchCV(estimator=xgb1, param_grid=param_grid, n_jobs=-1, cv=cv, scoring='roc_auc')\n",
    "\n",
    "# Fit the grid search (Fitting your model to the training data)\n",
    "grid_result = grid.fit(X_train, y_train)\n",
    "\n",
    "# Summarize results\n",
    "print(\"Best: %f using %s\" % (grid_result.best_score_, grid_result.best_params_))\n",
    "\n",
    "# get the time it takes for the gridsearch to run\n",
    "# source: https://blog.softhints.com/python-test-performance-and-measure-time-elapsed-in-seconds/\n",
    "# set the end time\n",
    "end = time.time()\n",
    "\n",
    "# get the elapsed execution time\n",
    "execution_time = end - start\n",
    "print(\"--- Execution time: ---\")\n",
    "print ('--- %0.3fms. --- ' % ( execution_time*1000.))\n",
    "print(\"--- %s seconds ---\" % (execution_time))\n",
    "print(\"--- %s minutes ---\" % (execution_time/60))"
   ]
  },
  {
   "cell_type": "markdown",
   "metadata": {},
   "source": [
    "Best: 0.926779 using {'colsample_bytree': 1.0, 'gamma': 5, 'max_depth': 4, 'min_child_weight': 1, 'subsample': 1.0}\n",
    "<br> --- Execution time: ---\n",
    "<br> --- 2720346.076ms. --- \n",
    "<br> --- 2720.346075773239 seconds ---\n",
    "<br> --- 45.33910126288732 minutes ---"
   ]
  },
  {
   "cell_type": "markdown",
   "metadata": {},
   "source": [
    "Apply optimal hyperparameters and train the model and test it again."
   ]
  },
  {
   "cell_type": "code",
   "execution_count": 34,
   "metadata": {},
   "outputs": [
    {
     "name": "stdout",
     "output_type": "stream",
     "text": [
      "              precision    recall  f1-score   support\n",
      "\n",
      "           0       0.93      0.95      0.94      3131\n",
      "           1       0.67      0.58      0.63       568\n",
      "\n",
      "    accuracy                           0.89      3699\n",
      "   macro avg       0.80      0.77      0.78      3699\n",
      "weighted avg       0.89      0.89      0.89      3699\n",
      "\n"
     ]
    }
   ],
   "source": [
    "# Train the XGboost Model for Classification\n",
    "xgb2 = xgb.XGBClassifier(scale_pos_weight=scale_pos_weight, \n",
    "                         learning_rate = 0.05, \n",
    "                         n_estimators=300, \n",
    "                         min_child_weight = 1,\n",
    "                         gamma = 5,\n",
    "                         subsample = 1,\n",
    "                         colsample_bytree = 1,\n",
    "                         max_depth= 4)\n",
    "\n",
    "# Train the model using the training sets\n",
    "xgb2.fit(X_train, y_train)\n",
    "\n",
    "# given a trained model, predict the label of a new set of data.\n",
    "y_pred = xgb0.predict(X_test)\n",
    "\n",
    "# print classification report \n",
    "print(classification_report(y_test, y_pred))"
   ]
  },
  {
   "cell_type": "code",
   "execution_count": 35,
   "metadata": {},
   "outputs": [
    {
     "data": {
      "image/png": "[encoded data removed]",
      "text/plain": [
       "<Figure size 432x288 with 1 Axes>"
      ]
     },
     "metadata": {},
     "output_type": "display_data"
    },
    {
     "name": "stdout",
     "output_type": "stream",
     "text": [
      "AUC score: 0.9215908273017215\n"
     ]
    }
   ],
   "source": [
    "# apply function to plot the ROC Curve\n",
    "roc_curve(X_test=X_test, y_test=y_test, model=xgb2)"
   ]
  },
  {
   "cell_type": "markdown",
   "metadata": {},
   "source": [
    "<a id = \"700230\"> <h2> 2.3 Cross Validation </h2> </a>"
   ]
  },
  {
   "cell_type": "code",
   "execution_count": 36,
   "metadata": {},
   "outputs": [
    {
     "name": "stdout",
     "output_type": "stream",
     "text": [
      "--------------------------------------------------------------------------\n",
      "All the weighted f1 results:\n",
      "--------------------------------------------------------------------------\n",
      "[0.85899216 0.87104999 0.88031287 0.87358792 0.88127734 0.87513774\n",
      " 0.88139613 0.85878594 0.87261835 0.87566762] \n",
      "\n",
      "--------------------------------------------------------------------------\n",
      "Average of all the weighted f1 results:\n",
      "--------------------------------------------------------------------------\n",
      "0.8729 \n",
      "\n",
      "--------------------------------------------------------------------------\n",
      "All the AUC score results:\n",
      "--------------------------------------------------------------------------\n",
      "[0.91806451 0.92177483 0.9288819  0.94284519 0.92822846 0.93624407\n",
      " 0.94966405 0.92265945 0.93490193 0.94487972] \n",
      "\n",
      "--------------------------------------------------------------------------\n",
      "Average of all the AUC score results:\n",
      "--------------------------------------------------------------------------\n",
      "avg AUC score 0.9328144113341474\n"
     ]
    }
   ],
   "source": [
    "# define evaluation procedure\n",
    "k_fold_split = 10\n",
    "cv = KFold(n_splits=k_fold_split, random_state=2019, shuffle=True)\n",
    "# evaluate model\n",
    "result = cross_val_score(xgb2, X, Y, cv=cv, scoring='accuracy')\n",
    "result_f1_weighted = cross_val_score(xgb2, X, Y, cv=cv, scoring='f1_weighted')\n",
    "result_auc = cross_val_score(xgb2, X, Y, cv=cv, scoring='roc_auc')\n",
    "\n",
    "print('--------------------------------------------------------------------------')\n",
    "print('All the weighted f1 results:')\n",
    "print('--------------------------------------------------------------------------')\n",
    "print(result_f1_weighted, '\\n')\n",
    "\n",
    "print('--------------------------------------------------------------------------')\n",
    "print('Average of all the weighted f1 results:')\n",
    "print('--------------------------------------------------------------------------')\n",
    "print(round(result_f1_weighted.mean(), 4), '\\n')\n",
    "\n",
    "print('--------------------------------------------------------------------------')\n",
    "print('All the AUC score results:')\n",
    "print('--------------------------------------------------------------------------')\n",
    "print(result_auc, '\\n')\n",
    "\n",
    "print('--------------------------------------------------------------------------')\n",
    "print('Average of all the AUC score results:')\n",
    "print('--------------------------------------------------------------------------')\n",
    "print('avg AUC score', result_auc.mean())"
   ]
  },
  {
   "cell_type": "markdown",
   "metadata": {},
   "source": [
    "<a id = \"700240\"> <h2> 2.4 Feature Importance </h2> </a>"
   ]
  },
  {
   "cell_type": "code",
   "execution_count": 37,
   "metadata": {},
   "outputs": [
    {
     "data": {
      "image/png": "[encoded data removed]",
      "text/plain": [
       "<Figure size 432x288 with 1 Axes>"
      ]
     },
     "metadata": {},
     "output_type": "display_data"
    }
   ],
   "source": [
    "# source: https://towardsdatascience.com/exploring-xgboost-4baf9ace0cf6\n",
    "from xgboost import plot_importance\n",
    "import matplotlib.pyplot as plt\n",
    "\n",
    "# plot feature importance\n",
    "plot_importance(xgb2)\n",
    "plt.show()"
   ]
  },
  {
   "cell_type": "markdown",
   "metadata": {},
   "source": [
    "<a id = \"7020\"> <h2> Pipeline 3 </h2> </a>\n",
    "___"
   ]
  },
  {
   "cell_type": "markdown",
   "metadata": {},
   "source": [
    "<b> read csv file to a pandas dataframe"
   ]
  },
  {
   "cell_type": "code",
   "execution_count": 38,
   "metadata": {},
   "outputs": [],
   "source": [
    "df_pipeline3 = pd.read_csv(\"pipeline_3.csv\")"
   ]
  },
  {
   "cell_type": "markdown",
   "metadata": {},
   "source": [
    "<b> show all columns in dataset"
   ]
  },
  {
   "cell_type": "code",
   "execution_count": 39,
   "metadata": {},
   "outputs": [
    {
     "name": "stdout",
     "output_type": "stream",
     "text": [
      "There are 23 features, and the target `Revenue` for pipeline 3:\n"
     ]
    },
    {
     "data": {
      "text/plain": [
       "['Administrative_yj_stdev_zscore',\n",
       " 'Month_Nov',\n",
       " 'VisitorType_New_Visitor',\n",
       " 'TrafficType_2',\n",
       " 'Month_May',\n",
       " 'TrafficType_3',\n",
       " 'add_exit_bounce_rates_yj_stdev_zscore',\n",
       " 'TrafficType_13',\n",
       " 'PageValues_yj_stdev_zscore',\n",
       " 'OperatingSystems_3',\n",
       " 'TrafficType_1',\n",
       " 'Month_Mar',\n",
       " 'TrafficType_8',\n",
       " 'SpecialDay_0.8',\n",
       " 'Month_Feb',\n",
       " 'Month_Dec',\n",
       " 'SpecialDay_0.4',\n",
       " 'TrafficType_20',\n",
       " 'Month_Oct',\n",
       " 'Region_1',\n",
       " 'Browser_12',\n",
       " 'OperatingSystems_7',\n",
       " 'TrafficType_16',\n",
       " 'Revenue']"
      ]
     },
     "execution_count": 39,
     "metadata": {},
     "output_type": "execute_result"
    }
   ],
   "source": [
    "print('There are', len(df_pipeline3.columns)-1, 'features, and the target `Revenue` for pipeline 3:')\n",
    "list(df_pipeline3.columns)"
   ]
  },
  {
   "cell_type": "code",
   "execution_count": 40,
   "metadata": {},
   "outputs": [
    {
     "name": "stdout",
     "output_type": "stream",
     "text": [
      "Number of rows in the dataset: 12330\n",
      "Number of columns in the dataset: 24\n"
     ]
    }
   ],
   "source": [
    "print('Number of rows in the dataset:', df_pipeline3.shape[0])\n",
    "print('Number of columns in the dataset:', df_pipeline3.shape[1])"
   ]
  },
  {
   "cell_type": "markdown",
   "metadata": {},
   "source": [
    "<a id = \"700300\"> <h2> 3.0 Basic Model XGBoost </h2> </a>"
   ]
  },
  {
   "cell_type": "markdown",
   "metadata": {},
   "source": [
    "<b> Define Features and Target variables"
   ]
  },
  {
   "cell_type": "code",
   "execution_count": 41,
   "metadata": {},
   "outputs": [],
   "source": [
    "X = df_pipeline3.iloc[:, :-1] # Features is all columns in the dataframe except the last column\n",
    "Y = df_pipeline3.iloc[:, -1] # Target is the last column in the dataframe: 'Revenue'"
   ]
  },
  {
   "cell_type": "code",
   "execution_count": 42,
   "metadata": {},
   "outputs": [],
   "source": [
    "# Split dataset into training set and test set \n",
    "# 70% training and 30% test\n",
    "X_train, X_test, y_train, y_test = train_test_split(X, Y, test_size=0.3,random_state=2019)"
   ]
  },
  {
   "cell_type": "code",
   "execution_count": 43,
   "metadata": {},
   "outputs": [
    {
     "name": "stdout",
     "output_type": "stream",
     "text": [
      "              precision    recall  f1-score   support\n",
      "\n",
      "           0       0.92      0.95      0.94      3131\n",
      "           1       0.68      0.57      0.62       568\n",
      "\n",
      "    accuracy                           0.89      3699\n",
      "   macro avg       0.80      0.76      0.78      3699\n",
      "weighted avg       0.89      0.89      0.89      3699\n",
      "\n"
     ]
    }
   ],
   "source": [
    "# Train the XGboost Model for Classification\n",
    "xgb0 = xgb.XGBClassifier(learning_rate = 0.05, n_estimators=300, max_depth=5)\n",
    "\n",
    "# Train the model using the training sets\n",
    "xgb0.fit(X_train, y_train)\n",
    "\n",
    "# given a trained model, predict the label of a new set of data.\n",
    "y_pred = xgb0.predict(X_test)\n",
    "\n",
    "# print classification report \n",
    "print(classification_report(y_test, y_pred))"
   ]
  },
  {
   "cell_type": "markdown",
   "metadata": {},
   "source": [
    "<b> ROC Curve with AUC score - Basic model </b> (before oversampling)"
   ]
  },
  {
   "cell_type": "code",
   "execution_count": 44,
   "metadata": {},
   "outputs": [],
   "source": [
    "# define a function to plot the roc_curve and AUC score using variables: X_test and y_test\n",
    "def roc_curve(X_test=X_test, y_test=y_test, model=xgb0):\n",
    "    # set the style of the graph\n",
    "    plt.style.use('Solarize_Light2')\n",
    "\n",
    "    # predict_proba gives you the probabilities for the target (0 and 1 in your case) in array form in dimension (N,2). \n",
    "    # The first index refers to the probability that the data belong to class 0, and the second refers to the probability that the data belong to class 1. \n",
    "    # we define a variable with an array of the probabilities that each observation belongs to class 1 (with [:,1], where model.predict_proba(X_test)[:,0] refers to the array it belongs to class 0)\n",
    "    y_pred_proba = model.predict_proba(X_test)[:,1]\n",
    "\n",
    "    # define false positive rate (fpr) and the true positive rate (tpr)\n",
    "    fpr, tpr, _ = metrics.roc_curve(y_test,  y_pred_proba)\n",
    "\n",
    "    # Compute Area Under the Receiver Operating Characteristic Curve (ROC AUC) from prediction scores.\n",
    "    # source: https://scikit-learn.org/stable/modules/generated/sklearn.metrics.roc_auc_score.html\n",
    "    auc = metrics.roc_auc_score(y_test, y_pred_proba)\n",
    "\n",
    "    # plot on the X-axis: the false positive rate\n",
    "    # plot on the Y-axis: the true positive rate\n",
    "    # with the legend having the auc score\n",
    "    plt.plot(fpr,tpr,label='AUC = %0.2f' % auc)\n",
    "    # positioning of the legend\n",
    "    plt.legend(loc=4)\n",
    "    # define the title of the plot\n",
    "    plt.title('Receiver Operating Characteristic (ROC)')\n",
    "    # define the y axis label\n",
    "    plt.ylabel('True Positive Rate')\n",
    "    # define the x axis label\n",
    "    plt.xlabel('False Positive Rate')\n",
    "    # plot a straight dashed line in the color red\n",
    "    plt.plot([0, 1], [0, 1],'r--')\n",
    "    # show the plot\n",
    "    plt.show()\n",
    "    # print out full AUC score\n",
    "    print('AUC score:', auc)"
   ]
  },
  {
   "cell_type": "markdown",
   "metadata": {},
   "source": [
    "<b> Cross validation on X and Y"
   ]
  },
  {
   "cell_type": "markdown",
   "metadata": {},
   "source": [
    "###### Build the k-fold cross-validator\n",
    "k_fold_split = 10\n",
    "kfold = KFold(n_splits=k_fold_split, random_state=2019, shuffle=True)\n",
    "\n",
    "result_accuracy = cross_val_score(svc_model3, X, Y, cv=kfold, scoring='accuracy')\n",
    "result_f1_weighted = cross_val_score(svc_model3, X, Y, cv=kfold, scoring='f1_weighted')\n",
    "result_auc = cross_val_score(svc_model3, X, Y, cv=kfold, scoring='roc_auc')\n",
    "print('--------------------------------------------------------------------------')\n",
    "print('Average of all the accuracy results:')\n",
    "print('--------------------------------------------------------------------------')\n",
    "print(round(result_accuracy.mean(), 4), '\\n')\n",
    "\n",
    "print('--------------------------------------------------------------------------')\n",
    "print('Average of all the weighted f1 results:')\n",
    "print('--------------------------------------------------------------------------')\n",
    "print(round(result_f1_weighted.mean(), 4), '\\n')\n",
    "\n",
    "print('--------------------------------------------------------------------------')\n",
    "print('Average of all the AUC score results:')\n",
    "print('--------------------------------------------------------------------------')\n",
    "print(round(result_auc.mean(), 4))"
   ]
  },
  {
   "cell_type": "code",
   "execution_count": 45,
   "metadata": {},
   "outputs": [
    {
     "data": {
      "image/png": "[encoded data removed]",
      "text/plain": [
       "<Figure size 432x288 with 1 Axes>"
      ]
     },
     "metadata": {},
     "output_type": "display_data"
    },
    {
     "name": "stdout",
     "output_type": "stream",
     "text": [
      "AUC score: 0.9169411631076785\n"
     ]
    }
   ],
   "source": [
    "# apply function to plot the ROC Curve\n",
    "roc_curve(X_test=X_test, y_test=y_test, model=xgb0)"
   ]
  },
  {
   "cell_type": "markdown",
   "metadata": {},
   "source": [
    "<a id = \"700310\"> <h2> 3.1 Balancing the dataset </h2> </a>\n",
    "We balance the dataset, because the classes within our target variable 'Revenue' are imbalanced:\n",
    "* class 0: 84.53%\n",
    "* class 1: 15.47%"
   ]
  },
  {
   "cell_type": "markdown",
   "metadata": {},
   "source": [
    "The XGBClassifier has a hyper-parameter: \"scale_pos_weight\" (Balancing of positive and negative weights) to weight the positive minority class (class 1) to the negative majority class (class 0)\n",
    "<br> In our dataset the ratio is 1 (class 1) to every 5.46 in the majority class (class 0) \n",
    "<br> So we can set our \"scale_pos_weight\" to a float of 5.462264150943396. The calculation can be seen below."
   ]
  },
  {
   "cell_type": "code",
   "execution_count": 46,
   "metadata": {},
   "outputs": [
    {
     "data": {
      "text/plain": [
       "5.462264150943396"
      ]
     },
     "execution_count": 46,
     "metadata": {},
     "output_type": "execute_result"
    }
   ],
   "source": [
    "# scale_pos_weight = count(negative examples)/count(Positive examples)\n",
    "# in percentages you would get the same number: 84.53/15.47\n",
    "scale_pos_weight = Y[Y==0].count()/Y[Y==1].count()\n",
    "scale_pos_weight"
   ]
  },
  {
   "cell_type": "markdown",
   "metadata": {},
   "source": [
    "We set our \"scale_pos_weight\" and evaluate with the weighted f1-score."
   ]
  },
  {
   "cell_type": "code",
   "execution_count": 47,
   "metadata": {},
   "outputs": [
    {
     "name": "stdout",
     "output_type": "stream",
     "text": [
      "              precision    recall  f1-score   support\n",
      "\n",
      "           0       0.92      0.95      0.94      3131\n",
      "           1       0.68      0.57      0.62       568\n",
      "\n",
      "    accuracy                           0.89      3699\n",
      "   macro avg       0.80      0.76      0.78      3699\n",
      "weighted avg       0.89      0.89      0.89      3699\n",
      "\n"
     ]
    }
   ],
   "source": [
    "# Train the XGboost Model for Classification\n",
    "xgb1 = xgb.XGBClassifier(scale_pos_weight=scale_pos_weight, learning_rate = 0.05, n_estimators=300, max_depth=5)\n",
    "\n",
    "# Train the model using the training sets\n",
    "xgb1.fit(X_train, y_train)\n",
    "\n",
    "# given a trained model, predict the label of a new set of data.\n",
    "y_pred = xgb0.predict(X_test)\n",
    "\n",
    "# print classification report \n",
    "print(classification_report(y_test, y_pred))"
   ]
  },
  {
   "cell_type": "markdown",
   "metadata": {},
   "source": [
    "_Note:_ The weighted f1 score did not change after applying the scale_pos_weight and is still 0.89."
   ]
  },
  {
   "cell_type": "markdown",
   "metadata": {},
   "source": [
    "<b> Cross Validation on X and Y"
   ]
  },
  {
   "cell_type": "code",
   "execution_count": 48,
   "metadata": {},
   "outputs": [
    {
     "name": "stdout",
     "output_type": "stream",
     "text": [
      "--------------------------------------------------------------------------\n",
      "All the weighted f1 results:\n",
      "--------------------------------------------------------------------------\n",
      "[0.85477461 0.86723002 0.87164703 0.86696208 0.87008544 0.86191589\n",
      " 0.87735984 0.85787837 0.86836723 0.8755782 ] \n",
      "\n",
      "--------------------------------------------------------------------------\n",
      "Average of all the weighted f1 results:\n",
      "--------------------------------------------------------------------------\n",
      "0.8672 \n",
      "\n",
      "--------------------------------------------------------------------------\n",
      "All the AUC score results:\n",
      "--------------------------------------------------------------------------\n",
      "[0.91707455 0.91249578 0.92277348 0.93189775 0.9305077  0.92824943\n",
      " 0.94465688 0.91533521 0.93150536 0.93684208] \n",
      "\n",
      "--------------------------------------------------------------------------\n",
      "Average of all the AUC score results:\n",
      "--------------------------------------------------------------------------\n",
      "avg AUC score 0.9271338222763477\n"
     ]
    }
   ],
   "source": [
    "# define evaluation procedure\n",
    "k_fold_split = 10\n",
    "cv = KFold(n_splits=k_fold_split, random_state=2019, shuffle=True)\n",
    "# evaluate model\n",
    "result = cross_val_score(xgb1, X, Y, cv=cv, scoring='accuracy')\n",
    "result_f1_weighted = cross_val_score(xgb1, X, Y, cv=cv, scoring='f1_weighted')\n",
    "result_auc = cross_val_score(xgb1, X, Y, cv=cv, scoring='roc_auc')\n",
    "\n",
    "print('--------------------------------------------------------------------------')\n",
    "print('All the weighted f1 results:')\n",
    "print('--------------------------------------------------------------------------')\n",
    "print(result_f1_weighted, '\\n')\n",
    "\n",
    "print('--------------------------------------------------------------------------')\n",
    "print('Average of all the weighted f1 results:')\n",
    "print('--------------------------------------------------------------------------')\n",
    "print(round(result_f1_weighted.mean(), 4), '\\n')\n",
    "\n",
    "print('--------------------------------------------------------------------------')\n",
    "print('All the AUC score results:')\n",
    "print('--------------------------------------------------------------------------')\n",
    "print(result_auc, '\\n')\n",
    "\n",
    "print('--------------------------------------------------------------------------')\n",
    "print('Average of all the AUC score results:')\n",
    "print('--------------------------------------------------------------------------')\n",
    "print('avg AUC score', result_auc.mean())"
   ]
  },
  {
   "cell_type": "markdown",
   "metadata": {},
   "source": [
    "<a id = \"700320\"> <h2> 3.2 Model Tuning </h2> </a>"
   ]
  },
  {
   "cell_type": "code",
   "execution_count": 49,
   "metadata": {},
   "outputs": [],
   "source": [
    "# define grid\n",
    "# source: https://www.kaggle.com/tilii7/hyperparameter-grid-search-with-xgboost\n",
    "param_grid = {\n",
    "        'min_child_weight': [1, 5, 10],\n",
    "        'gamma': [0.5, 1, 1.5, 2, 5],\n",
    "        'subsample': [0.6, 0.8, 1.0],\n",
    "        'colsample_bytree': [0.6, 0.8, 1.0],\n",
    "        'max_depth': [3, 4, 5]\n",
    "        }"
   ]
  },
  {
   "cell_type": "code",
   "execution_count": 50,
   "metadata": {},
   "outputs": [
    {
     "name": "stdout",
     "output_type": "stream",
     "text": [
      "Best: 0.935843 using {'colsample_bytree': 1.0, 'gamma': 5, 'max_depth': 4, 'min_child_weight': 5, 'subsample': 1.0}\n",
      "--- Execution time: ---\n",
      "--- 3745817.828ms. --- \n",
      "--- 3745.8178277015686 seconds ---\n",
      "--- 62.43029712835948 minutes ---\n"
     ]
    }
   ],
   "source": [
    "# set the start time\n",
    "start = time.time()\n",
    "\n",
    "# define evaluation procedure\n",
    "# define cross validation method as KFold\n",
    "k_fold_split = 10\n",
    "cv = KFold(n_splits=k_fold_split, random_state=2019, shuffle=True)\n",
    "\n",
    "# Create a grid search object\n",
    "grid = GridSearchCV(estimator=xgb1, param_grid=param_grid, n_jobs=-1, cv=cv, scoring='roc_auc')\n",
    "\n",
    "# Fit the grid search (Fitting your model to the training data)\n",
    "grid_result = grid.fit(X_train, y_train)\n",
    "\n",
    "# Summarize results\n",
    "print(\"Best: %f using %s\" % (grid_result.best_score_, grid_result.best_params_))\n",
    "\n",
    "# get the time it takes for the gridsearch to run\n",
    "# source: https://blog.softhints.com/python-test-performance-and-measure-time-elapsed-in-seconds/\n",
    "# set the end time\n",
    "end = time.time()\n",
    "\n",
    "# get the elapsed execution time\n",
    "execution_time = end - start\n",
    "print(\"--- Execution time: ---\")\n",
    "print ('--- %0.3fms. --- ' % ( execution_time*1000.))\n",
    "print(\"--- %s seconds ---\" % (execution_time))\n",
    "print(\"--- %s minutes ---\" % (execution_time/60))"
   ]
  },
  {
   "cell_type": "markdown",
   "metadata": {},
   "source": [
    "Best: 0.926779 using {'colsample_bytree': 1.0, 'gamma': 5, 'max_depth': 4, 'min_child_weight': 1, 'subsample': 1.0}\n",
    "<br> --- Execution time: ---\n",
    "<br> --- 2720346.076ms. --- \n",
    "<br> --- 2720.346075773239 seconds ---\n",
    "<br> --- 45.33910126288732 minutes ---"
   ]
  },
  {
   "cell_type": "markdown",
   "metadata": {},
   "source": [
    "Apply optimal hyperparameters and train the model and test it again."
   ]
  },
  {
   "cell_type": "code",
   "execution_count": 51,
   "metadata": {},
   "outputs": [
    {
     "name": "stdout",
     "output_type": "stream",
     "text": [
      "              precision    recall  f1-score   support\n",
      "\n",
      "           0       0.92      0.95      0.94      3131\n",
      "           1       0.68      0.57      0.62       568\n",
      "\n",
      "    accuracy                           0.89      3699\n",
      "   macro avg       0.80      0.76      0.78      3699\n",
      "weighted avg       0.89      0.89      0.89      3699\n",
      "\n"
     ]
    }
   ],
   "source": [
    "# Train the XGboost Model for Classification\n",
    "xgb2 = xgb.XGBClassifier(scale_pos_weight=scale_pos_weight, \n",
    "                         learning_rate = 0.05, \n",
    "                         n_estimators=300, \n",
    "                         min_child_weight = 1,\n",
    "                         gamma = 5,\n",
    "                         subsample = 1,\n",
    "                         colsample_bytree = 1,\n",
    "                         max_depth= 4)\n",
    "\n",
    "# Train the model using the training sets\n",
    "xgb2.fit(X_train, y_train)\n",
    "\n",
    "# given a trained model, predict the label of a new set of data.\n",
    "y_pred = xgb0.predict(X_test)\n",
    "\n",
    "# print classification report \n",
    "print(classification_report(y_test, y_pred))"
   ]
  },
  {
   "cell_type": "code",
   "execution_count": 52,
   "metadata": {},
   "outputs": [
    {
     "data": {
      "image/png": "[encoded data removed]",
      "text/plain": [
       "<Figure size 432x288 with 1 Axes>"
      ]
     },
     "metadata": {},
     "output_type": "display_data"
    },
    {
     "name": "stdout",
     "output_type": "stream",
     "text": [
      "AUC score: 0.920507555071727\n"
     ]
    }
   ],
   "source": [
    "# apply function to plot the ROC Curve\n",
    "roc_curve(X_test=X_test, y_test=y_test, model=xgb2)"
   ]
  },
  {
   "cell_type": "markdown",
   "metadata": {},
   "source": [
    "<a id = \"700330\"> <h2> 3.3 Cross Validation </h2> </a>"
   ]
  },
  {
   "cell_type": "code",
   "execution_count": 53,
   "metadata": {},
   "outputs": [
    {
     "name": "stdout",
     "output_type": "stream",
     "text": [
      "--------------------------------------------------------------------------\n",
      "All the weighted f1 results:\n",
      "--------------------------------------------------------------------------\n",
      "[0.85519314 0.86440736 0.86676338 0.86366473 0.87221827 0.86634639\n",
      " 0.86966077 0.85767536 0.862123   0.87337893] \n",
      "\n",
      "--------------------------------------------------------------------------\n",
      "Average of all the weighted f1 results:\n",
      "--------------------------------------------------------------------------\n",
      "0.8651431352879608 \n",
      "\n",
      "--------------------------------------------------------------------------\n",
      "All the AUC score results:\n",
      "--------------------------------------------------------------------------\n",
      "[0.91951138 0.916803   0.92554211 0.93956909 0.93174993 0.93522024\n",
      " 0.94648733 0.91807223 0.93291586 0.94461455] \n",
      "\n",
      "--------------------------------------------------------------------------\n",
      "Average of all the AUC score results:\n",
      "--------------------------------------------------------------------------\n",
      "avg AUC score 0.9310485714998432\n"
     ]
    }
   ],
   "source": [
    "# define evaluation procedure\n",
    "k_fold_split = 10\n",
    "cv = KFold(n_splits=k_fold_split, random_state=2019, shuffle=True)\n",
    "# evaluate model\n",
    "result = cross_val_score(xgb2, X, Y, cv=cv, scoring='accuracy')\n",
    "result_f1_weighted = cross_val_score(xgb2, X, Y, cv=cv, scoring='f1_weighted')\n",
    "result_auc = cross_val_score(xgb2, X, Y, cv=cv, scoring='roc_auc')\n",
    "\n",
    "print('--------------------------------------------------------------------------')\n",
    "print('All the weighted f1 results:')\n",
    "print('--------------------------------------------------------------------------')\n",
    "print(result_f1_weighted, '\\n')\n",
    "\n",
    "print('--------------------------------------------------------------------------')\n",
    "print('Average of all the weighted f1 results:')\n",
    "print('--------------------------------------------------------------------------')\n",
    "print(result_f1_weighted.mean(), '\\n')\n",
    "\n",
    "print('--------------------------------------------------------------------------')\n",
    "print('All the AUC score results:')\n",
    "print('--------------------------------------------------------------------------')\n",
    "print(result_auc, '\\n')\n",
    "\n",
    "print('--------------------------------------------------------------------------')\n",
    "print('Average of all the AUC score results:')\n",
    "print('--------------------------------------------------------------------------')\n",
    "print('avg AUC score', result_auc.mean())"
   ]
  },
  {
   "cell_type": "markdown",
   "metadata": {},
   "source": [
    "<a id = \"700340\"> <h2> 3.4 Feature Importance </h2> </a>"
   ]
  },
  {
   "cell_type": "code",
   "execution_count": 54,
   "metadata": {},
   "outputs": [
    {
     "data": {
      "image/png": "[encoded data removed]",
      "text/plain": [
       "<Figure size 432x288 with 1 Axes>"
      ]
     },
     "metadata": {},
     "output_type": "display_data"
    }
   ],
   "source": [
    "# source: https://towardsdatascience.com/exploring-xgboost-4baf9ace0cf6\n",
    "from xgboost import plot_importance\n",
    "import matplotlib.pyplot as plt\n",
    "\n",
    "# plot feature importance\n",
    "plot_importance(xgb2)\n",
    "plt.show()"
   ]
  },
  {
   "cell_type": "markdown",
   "metadata": {},
   "source": [
    "<a id = \"71000\"> <h2> Results </h2> </a>\n",
    "___"
   ]
  },
  {
   "cell_type": "markdown",
   "metadata": {},
   "source": [
    "<b> Left align all markdown tables"
   ]
  },
  {
   "cell_type": "code",
   "execution_count": 55,
   "metadata": {},
   "outputs": [
    {
     "data": {
      "text/html": [
       "<style>\n",
       "    table {\n",
       "        display: inline-block\n",
       "    }\n",
       "</style>\n"
      ],
      "text/plain": [
       "<IPython.core.display.HTML object>"
      ]
     },
     "metadata": {},
     "output_type": "display_data"
    }
   ],
   "source": [
    "%%html\n",
    "<style>\n",
    "    table {\n",
    "        display: inline-block\n",
    "    }\n",
    "</style>"
   ]
  },
  {
   "cell_type": "markdown",
   "metadata": {},
   "source": [
    "### Pipeline 1 Results </b>\n",
    "_Note:_ tool used for Excel table to markdown conversion, namely: https://tableconvert.com/"
   ]
  },
  {
   "cell_type": "markdown",
   "metadata": {},
   "source": []
  },
  {
   "cell_type": "markdown",
   "metadata": {},
   "source": [
    "<b> Take-away: </b> "
   ]
  },
  {
   "cell_type": "markdown",
   "metadata": {},
   "source": [
    "### Pipeline 2 Results </b>"
   ]
  },
  {
   "cell_type": "markdown",
   "metadata": {},
   "source": []
  },
  {
   "cell_type": "markdown",
   "metadata": {},
   "source": [
    "<b> Take-away: </b> "
   ]
  },
  {
   "cell_type": "markdown",
   "metadata": {},
   "source": [
    "### Pipeline 3 Results </b>"
   ]
  },
  {
   "cell_type": "markdown",
   "metadata": {},
   "source": []
  },
  {
   "cell_type": "markdown",
   "metadata": {},
   "source": [
    "<b> Take-away: </b> "
   ]
  },
  {
   "cell_type": "markdown",
   "metadata": {},
   "source": [
    "<b> Conclusion: </b> \n"
   ]
  }
 ],
 "metadata": {
  "kernelspec": {
   "display_name": "Python 3",
   "language": "python",
   "name": "python3"
  },
  "language_info": {
   "codemirror_mode": {
    "name": "ipython",
    "version": 3
   },
   "file_extension": ".py",
   "mimetype": "text/x-python",
   "name": "python",
   "nbconvert_exporter": "python",
   "pygments_lexer": "ipython3",
   "version": "3.6.7"
  }
 },
 "nbformat": 4,
 "nbformat_minor": 4
}
