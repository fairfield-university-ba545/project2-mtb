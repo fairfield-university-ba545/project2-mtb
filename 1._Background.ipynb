{
 "cells": [
  {
   "cell_type": "markdown",
   "metadata": {},
   "source": [
    "# Background #"
   ]
  },
  {
   "cell_type": "markdown",
   "metadata": {},
   "source": [
    "## __1. Business Understanding - Framing the Analytical Questions__ ##"
   ]
  },
  {
   "cell_type": "markdown",
   "metadata": {},
   "source": [
    "## Overall Research Questions ##\n",
    "\n",
    "“What drive potential costomers to make a purchase?”"
   ]
  },
  {
   "cell_type": "markdown",
   "metadata": {},
   "source": [
    "__Outside Research__ \n",
    "\n",
    "Monika will fill this in later...\n"
   ]
  },
  {
   "cell_type": "markdown",
   "metadata": {},
   "source": [
    " __Data Dictionary__ "
   ]
  },
  {
   "cell_type": "markdown",
   "metadata": {},
   "source": [
    "| Variable                | Description                                                                                                                                               |\n",
    "|-------------------------|-----------------------------------------------------------------------------------------------------------------------------------------------------------|\n",
    "| Administrative          | The administrative pages the visitor visited                                                                                                             |\n",
    "| Administrative_Duration | The duration of time spent on the administrative pages                                                                                                    |\n",
    "| Informational           | The informational pages the visitor visited                                                                                                              |\n",
    "| Informational_Duration  | The duration of time spent on the informational pages                                                                                                     |\n",
    "| ProductRelated          | The product related pages the visitor visited                                                                                                            |\n",
    "| ProductRelated_Duration | The duration of time spent on the product related pages                                                                                                   |\n",
    "| BounceRates             | % of visitors who enter site from the page & leave that page (\"bounce\") without triggering any other requests to the analytics server during that session |\n",
    "| ExitRates               | For all pageviews to the page, % of visitors that were the last in the session                                                                            |\n",
    "| PageValues              | Average value for a web page that a user visited before completing an e-commerce transaction                                                              |\n",
    "| SpecialDay              | Indicates the closeness of the site visiting time to a specific special day (e.g. Mother’s Day, Valentine's Day)                                          |\n",
    "| Month                   | Month during the online visit                                                                                                                             |\n",
    "| OperatingSystems        | The operating system the visitor's computer is running                                                                                                    |\n",
    "| Browser                 | The Web Browser the visitor used                                                                                                                           |\n",
    "| Region                  | Region the visitor lives in                                                                                                                               |\n",
    "| TrafficType             | The type of traffic: Direct, Organic, Referral, Social, Email, Display and Paid                                                                           |\n",
    "| VisitorType             | The type of visitor                                                                                                                                       |\n",
    "| Weekend                 | Boolean value indicating whether the date of visit was a weekend                                                                                          |\n",
    "| Revenue                 | Amount of money gained - Target variable                                                                                                                  |"
   ]
  },
  {
   "cell_type": "markdown",
   "metadata": {},
   "source": []
  },
  {
   "cell_type": "markdown",
   "metadata": {},
   "source": []
  }
 ],
 "metadata": {
  "kernelspec": {
   "display_name": "Python 3",
   "language": "python",
   "name": "python3"
  },
  "language_info": {
   "codemirror_mode": {
    "name": "ipython",
    "version": 3
   },
   "file_extension": ".py",
   "mimetype": "text/x-python",
   "name": "python",
   "nbconvert_exporter": "python",
   "pygments_lexer": "ipython3",
   "version": "3.6.7"
  }
 },
 "nbformat": 4,
 "nbformat_minor": 4
}
