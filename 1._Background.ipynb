{
 "cells": [
  {
   "cell_type": "markdown",
   "metadata": {},
   "source": [
    "# Background #"
   ]
  },
  {
   "cell_type": "markdown",
   "metadata": {},
   "source": [
    "## __1. Business Understanding - Framing the Analytical Questions__ ##"
   ]
  },
  {
   "cell_type": "markdown",
   "metadata": {},
   "source": [
    "### Main Research Question\n",
    "\n",
    "_What drives potential customers to make a purchase?_\n",
    "\n",
    "### Sub Questions:\n",
    "1. Which model is the best predictor for determining if a customer will make a purchase, or not, based on the average weighted f1-score and average AUC-score?\n",
    "2. Is investing in Google Analytics (Bounce Rate, Exit Rate & Page Value) worth considering?\n",
    "3. Which features, besides Google Analytics features, contribute most to customers’ purchasing behaviors? \n",
    "4. Does seasonality play a role in customer’s purchasing decision?"
   ]
  },
  {
   "cell_type": "markdown",
   "metadata": {},
   "source": [
    "__About This Project & Dataset__"
   ]
  },
  {
   "cell_type": "markdown",
   "metadata": {},
   "source": [
    "In this project, we are predicting if a web user will make a purchase based on gathering data about their web browsing and demographic information. This is a classic project and the target feature is _Revenue_; if the Revenue is greater than 0, the user made the purchase and is assigned to _class 1_, if Revenue is equal to 0, the user did not make a purchase and assigned to _class 0_. \n",
    "\n",
    "The dataset we are using for this project is the [_Online Shoppers Purchasing Intentions Dataset Data Set_](https://archive.ics.uci.edu/ml/datasets/Online+Shoppers+Purchasing+Intention+Dataset) found online at Machine Learning Repository: Center for Machine Learning and Intelligent Systems. Overall, the dataset consists of 12,330 sessions about consumer's online behaviors and purchasing tendencies. Each session belongs to a different user over a 1-year period to avoid any tendency to a specific campaign, holiday, user profile, or period. The dataset consists of 10 numerical and 8 catergorical attributes. The Revenue variable is often used as the class variable. The _Data Dictionary_ can be found below. \n",
    "\n",
    "More specifically, in this dataset, _84.5% of the samples did not end in a purchase_ and the rest did. "
   ]
  },
  {
   "cell_type": "markdown",
   "metadata": {},
   "source": [
    "__Outside Research__ \n",
    "\n",
    "Previous research has been performed on the topic of consumers' online shopping behaviors. Many academic articles support the claims below: \n",
    "- As age increases, the probability of adopting online shopping decreases.\n",
    "- Men are more likely to adopt e-commerce over women.\n",
    "- Higher education and income results in a higher probability of adapting online purchasing.\n",
    "- Consumers classified as married/couples are more likely to online shop compared to the never consumers classified as married/widowed/separated/divorced.\n",
    "\n",
    "\n",
    "There has also been previous research conducted on how to increase online conversion rates. In Sakar's article about real time predictions for shoppers' online purchases, the authors suggest an item or user based recommender system to increase online purchases. This can be achieved through user-specific contents for users who visit a site. Today, we see direct consumer suggestions on almost every website. The most famous example is Amazon's \"recommended for you\" attribute.    \n",
    "\n",
    "_Sources_\n",
    "\n",
    "Naseri, M., Elliott, G. Role of demographics, social connectedness and prior internet experience in adoption of online shopping: Applications for direct marketing. J Target Meas Anal Mark 19, 69–84 (2011). https://doi.org/10.1057/jt.2011.9\n",
    "\n",
    "Sakar, C.O., Polat, S.O., Katircioglu, M. et al. Real-time prediction of online shoppers’ purchasing intention using multilayer perceptron and LSTM recurrent neural networks. Neural Comput & Applic 31, 6893–6908 (2019). https://doi.org/10.1007/s00521-018-3523-0"
   ]
  },
  {
   "cell_type": "markdown",
   "metadata": {},
   "source": [
    " __Data Dictionary__ "
   ]
  },
  {
   "cell_type": "markdown",
   "metadata": {},
   "source": [
    "| Variable                | Description                                                                                                                                               |\n",
    "|-------------------------|-----------------------------------------------------------------------------------------------------------------------------------------------------------|\n",
    "| Administrative          | Number of pages visited by the visitor about account management                                                                                                            |\n",
    "| Administrative_Duration | Total amount of time (in seconds) spent by the visitor on account management related pages                                                                                                    |\n",
    "| Informational           | Number of pages visited by the visitor about Web site, communication and address information of the shopping site                                                                                                           |\n",
    "| Informational_Duration  | Total amount of time (in seconds) spent by the visitor on informational pages                                                                                                  |\n",
    "| ProductRelated          | Number of pages visited by visitor about product related pages duration                                                                                                         |\n",
    "| ProductRelated_Duration | Total amount of time (in seconds) spent by the visitor on product related pages                                                                                                   |\n",
    "| BounceRates             | % of visitors who enter site from the page & leave that page (\"bounce\") without triggering any other requests to the analytics server during that session |\n",
    "| ExitRates               | For all pageviews to the page, % of visitors that were the last in the session                                                                            |\n",
    "| PageValues              | Average value for a web page that a user visited before completing an e-commerce transaction                                                              |\n",
    "| SpecialDay              | Indicates the closeness of the site visiting time to a specific special day (e.g. Mother’s Day, Valentine's Day)                                          |\n",
    "| Month                   | Month during the online visit                                                                                                                             |\n",
    "| OperatingSystems        | The operating system is device the visitor used                                                                                                    |\n",
    "| Browser                 | The Web Browser the visitor used                                                                                                                           |\n",
    "| Region                  | Region the visitor lives in                                                                                                                               |\n",
    "| TrafficType             | The type of traffic: Direct, Organic, Referral, Social, Email, Display and Paid                                                                           |\n",
    "| VisitorType             | The type of visitor                                                                                                                                       |\n",
    "| Weekend                 | Boolean value indicating whether the date of visit was a weekend                                                                                          |\n",
    "| Revenue                 | Target variable - Class label indicating whether the visit has been finalized with a transaction (True/False)                                                                                                                 |"
   ]
  },
  {
   "cell_type": "markdown",
   "metadata": {},
   "source": [
    "__Explanation of Bounce Rate vs. Exit Rate__ \n",
    "\n",
    "Two variables we felt required a further breakdown in understanding are _bounce and exit rates._ We have added two images below that help visually explain the difference. Overall, a website wants to have low bounce and exit rates as opposed to high rates; with low bounce and exit rates online shopper conversion rates are high. A bounce rate is when a visitor visits one web page and leaves the site. An exit rate is when a visitor leaves a web page on a specific site and goes to another page on the same site. For example, when a visitor visits a product page for Air Force 1s on Nike's site and then leaves the site that is a bounch rate. When a visitor visits a product page for Air Force 1s on Nike, then a product page for a sweatshirt, then an information page about a their new \"Future is Female\" campaign and then, finally leaves the Nike website, that is an exit rate. "
   ]
  },
  {
   "cell_type": "markdown",
   "metadata": {},
   "source": [
    "<img src=\"https://socialmela.files.wordpress.com/2013/02/img1.png?w=600&h=378\">\n",
    "<img src= \"https://www.adlift.com/in/wp-content/uploads/sites/2/2018/09/Bounce-Rate-Versus-Exit-Rate.png\" >\n",
    "\n"
   ]
  }
 ],
 "metadata": {
  "kernelspec": {
   "display_name": "Python 3",
   "language": "python",
   "name": "python3"
  },
  "language_info": {
   "codemirror_mode": {
    "name": "ipython",
    "version": 3
   },
   "file_extension": ".py",
   "mimetype": "text/x-python",
   "name": "python",
   "nbconvert_exporter": "python",
   "pygments_lexer": "ipython3",
   "version": "3.6.7"
  }
 },
 "nbformat": 4,
 "nbformat_minor": 4
}
