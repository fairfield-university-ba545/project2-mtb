{
 "cells": [
  {
   "cell_type": "markdown",
   "metadata": {},
   "source": [
    "# Project 2 #"
   ]
  },
  {
   "cell_type": "markdown",
   "metadata": {},
   "source": [
    "### Table of Contents ###"
   ]
  },
  {
   "cell_type": "markdown",
   "metadata": {},
   "source": [
    "<b> Business Understanding </b>\n",
    "<br> [1. Background](1._Background.ipynb)\n",
    "<br> <b> Data Understanding </b>\n",
    "<br> [2. Descriptives](2._Descriptives.ipynb)\n",
    "<br> <b> Data Preparation: </b>\n",
    "<br> [3. Imputation](3._Imputation.ipynb)\n",
    "<br> [4. Calculation](4._Calculation.ipynb)\n",
    "<br> 5. Pipeline 1: \n",
    "> Outlier IQR, Normalization, Standardization Z-score\n",
    "\n",
    "<br> [6. Pipeline 2](6._Pipeline2.ipynb)\n",
    "> Standardization Min-Max, Normalization, Outlier stdev\n",
    "\n",
    "<br> 7. Pipeline 3:\n",
    "> \n",
    "\n",
    "<br> [8. Correlation Analysis](8._Correlation_Analysis.ipynb)\n",
    "<br> [9. Binning](9._Binning.ipynb)\n",
    "> K-means clustering\n",
    "<!-- end of the list -->\n",
    "<br> [10. Feature_Selection](10._Feature_Selection.ipynb)\n",
    "> RFE\n",
    "<br> Kbest\n",
    "<br> Ridge \n",
    "<!-- end of the list -->\n",
    "<br> <b> Modeling: </b>\n",
    "<br> <b> Evaluation/Optimization: </b>\n",
    "<br> [11.1 Baseline Model](11.1_Baseline_Model.ipynb)\n",
    "<br> [11.2 Naive_Bayes](11.2_Naive_Bayes.ipynb)\n",
    "<br> [11.3 Logistic Regression](11.3_Logistic_Regression.ipynb)\n",
    "<br> [11.4 Linear Regression](11.4_Linear_Regression.ipynb)\n",
    "<br> 11.5 Decision Tree Classification\n",
    "<br> 11.6 Random Forest\n",
    "<br> [20. Conclusion](20._Conclusion.ipynb)"
   ]
  },
  {
   "cell_type": "code",
   "execution_count": null,
   "metadata": {},
   "outputs": [],
   "source": []
  },
  {
   "cell_type": "code",
   "execution_count": null,
   "metadata": {},
   "outputs": [],
   "source": []
  }
 ],
 "metadata": {
  "kernelspec": {
   "display_name": "Python 3",
   "language": "python",
   "name": "python3"
  },
  "language_info": {
   "codemirror_mode": {
    "name": "ipython",
    "version": 3
   },
   "file_extension": ".py",
   "mimetype": "text/x-python",
   "name": "python",
   "nbconvert_exporter": "python",
   "pygments_lexer": "ipython3",
   "version": "3.6.7"
  }
 },
 "nbformat": 4,
 "nbformat_minor": 4
}
