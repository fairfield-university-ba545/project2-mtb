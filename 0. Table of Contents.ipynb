{
 "cells": [
  {
   "cell_type": "markdown",
   "metadata": {},
   "source": [
    "# Project 2 #"
   ]
  },
  {
   "cell_type": "markdown",
   "metadata": {},
   "source": [
    "### Table of Contents ###"
   ]
  },
  {
   "cell_type": "markdown",
   "metadata": {},
   "source": [
    "<b> Business Understanding </b>\n",
    "<br> [1. Background](1._Background.ipynb)\n",
    "<br> <b> Data Understanding </b>\n",
    "<br> [2. Descriptives](2._Descriptives.ipynb)\n",
    "<br> <b> Data Preparation: </b>\n",
    "<br> [3. Recoding](3._Recoding.ipynb)\n",
    "<br> [4. Calculation](4._Calculation.ipynb)\n",
    "<br> [5. Pipeline 1](5._Pipeline_1.ipynb)\n",
    "> Outlier IQR, Normalization, Standardization Z-score, Correlation, Binning, Feature Selection\n",
    "\n",
    "<br> [6. Pipeline 2](6._Pipeline_2.ipynb)\n",
    "> Standardization Min-Max, Normalization, Outlier stdev, Correlation, Binning, Feature Selection\n",
    "\n",
    "<br> [7. Pipeline 3:](7._Pipeline_3.ipynb)\n",
    "> Normalization, Outlier stdev, Standardization Z-score, Correlation, Binning, Feature Selection\n",
    "\n",
    "<!-- end of the list -->\n",
    "<br> <b> Modeling: </b>\n",
    "<br> [8.1 Baseline Model](8.1_Baseline_Model.ipynb)\n",
    "<br> [8.2 Naive_Bayes](8.2_Naive_Bayes.ipynb)\n",
    "<br> [8.3 Logistic Regression](8.3_Logistic_Regression.ipynb)\n",
    "<br> [8.4 XGBoost](8.4_Linear_Regression.ipynb)\n",
    "<br> [8.5 Decision Tree Classification](8.5_Decision_Tree_Classification.ipynb)\n",
    "<br> [8.6 Random Forest](8.6_Random_Forest.ipynb)\n",
    "<br> [8.7 SVM](8.7_SVM.ipynb)\n",
    "\n",
    "<br> <b> Evaluation </b>\n",
    "<br> [9. Evaluation_and_Optimization](9._Evaluation_and_Optimization.ipynb)\n",
    "<br> [10. Conclusion](20._Conclusion.ipynb)"
   ]
  },
  {
   "cell_type": "code",
   "execution_count": null,
   "metadata": {},
   "outputs": [],
   "source": []
  }
 ],
 "metadata": {
  "kernelspec": {
   "display_name": "Python 3",
   "language": "python",
   "name": "python3"
  },
  "language_info": {
   "codemirror_mode": {
    "name": "ipython",
    "version": 3
   },
   "file_extension": ".py",
   "mimetype": "text/x-python",
   "name": "python",
   "nbconvert_exporter": "python",
   "pygments_lexer": "ipython3",
   "version": "3.6.7"
  }
 },
 "nbformat": 4,
 "nbformat_minor": 4
}
