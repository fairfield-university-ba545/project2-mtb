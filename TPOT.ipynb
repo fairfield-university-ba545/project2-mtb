{
 "cells": [
  {
   "cell_type": "markdown",
   "metadata": {},
   "source": [
    "# TPOT - Automated Machine Learning in Python"
   ]
  },
  {
   "cell_type": "markdown",
   "metadata": {},
   "source": [
    "<b> Import modules"
   ]
  },
  {
   "cell_type": "code",
   "execution_count": 97,
   "metadata": {},
   "outputs": [],
   "source": [
    "import pandas as pd\n",
    "import numpy as np\n",
    "\n",
    "# import module (to test execution time of a codeblock to run)\n",
    "import time"
   ]
  },
  {
   "cell_type": "code",
   "execution_count": 98,
   "metadata": {},
   "outputs": [],
   "source": [
    "##################### MODULES TPOT ###################################\n",
    "#### source: http://epistasislab.github.io/tpot/installing/\n",
    "### already installed in our environment by Prof. Tao in JupyterLab\n",
    "# !pip install deap update_checker tqdm stopit --user\n",
    "### for binary classification problem use TPOTClassifier\n",
    "#### already installed in our environment by Prof. Tao in JupyterLab\n",
    "#!pip install tpot --user"
   ]
  },
  {
   "cell_type": "markdown",
   "metadata": {},
   "source": [
    "<b> Import Dataset"
   ]
  },
  {
   "cell_type": "code",
   "execution_count": 99,
   "metadata": {},
   "outputs": [],
   "source": [
    "# import file with data cleaned (one-hot encoded categorical features and feature-engineerd features)\n",
    "df = pd.read_csv(\"df_calculation.csv\")"
   ]
  },
  {
   "cell_type": "markdown",
   "metadata": {},
   "source": [
    "<b> Optional shuffle the data"
   ]
  },
  {
   "cell_type": "code",
   "execution_count": 100,
   "metadata": {},
   "outputs": [
    {
     "data": {
      "text/html": [
       "<div>\n",
       "<style scoped>\n",
       "    .dataframe tbody tr th:only-of-type {\n",
       "        vertical-align: middle;\n",
       "    }\n",
       "\n",
       "    .dataframe tbody tr th {\n",
       "        vertical-align: top;\n",
       "    }\n",
       "\n",
       "    .dataframe thead th {\n",
       "        text-align: right;\n",
       "    }\n",
       "</style>\n",
       "<table border=\"1\" class=\"dataframe\">\n",
       "  <thead>\n",
       "    <tr style=\"text-align: right;\">\n",
       "      <th></th>\n",
       "      <th>Administrative</th>\n",
       "      <th>Administrative_Duration</th>\n",
       "      <th>Informational</th>\n",
       "      <th>Informational_Duration</th>\n",
       "      <th>ProductRelated</th>\n",
       "      <th>ProductRelated_Duration</th>\n",
       "      <th>BounceRates</th>\n",
       "      <th>ExitRates</th>\n",
       "      <th>PageValues</th>\n",
       "      <th>Weekend</th>\n",
       "      <th>...</th>\n",
       "      <th>VisitorType_New_Visitor</th>\n",
       "      <th>VisitorType_Other</th>\n",
       "      <th>VisitorType_Returning_Visitor</th>\n",
       "      <th>avg_exit_bounce_rates</th>\n",
       "      <th>add_exit_bounce_rates</th>\n",
       "      <th>div_exit_bounce_rates</th>\n",
       "      <th>perc_exit_bounce_rates</th>\n",
       "      <th>Administrative_Duration_pp</th>\n",
       "      <th>Informational_Duration_pp</th>\n",
       "      <th>ProductRelated_Duration_pp</th>\n",
       "    </tr>\n",
       "  </thead>\n",
       "  <tbody>\n",
       "    <tr>\n",
       "      <th>0</th>\n",
       "      <td>1</td>\n",
       "      <td>7.000000</td>\n",
       "      <td>0</td>\n",
       "      <td>0.0</td>\n",
       "      <td>20</td>\n",
       "      <td>887.583333</td>\n",
       "      <td>0.000000</td>\n",
       "      <td>0.016140</td>\n",
       "      <td>34.253368</td>\n",
       "      <td>0</td>\n",
       "      <td>...</td>\n",
       "      <td>0</td>\n",
       "      <td>0</td>\n",
       "      <td>1</td>\n",
       "      <td>0.008070</td>\n",
       "      <td>0.016140</td>\n",
       "      <td>0.00000</td>\n",
       "      <td>-1.00000</td>\n",
       "      <td>7.000000</td>\n",
       "      <td>0.000000</td>\n",
       "      <td>44.379167</td>\n",
       "    </tr>\n",
       "    <tr>\n",
       "      <th>1</th>\n",
       "      <td>0</td>\n",
       "      <td>0.000000</td>\n",
       "      <td>0</td>\n",
       "      <td>0.0</td>\n",
       "      <td>1</td>\n",
       "      <td>0.000000</td>\n",
       "      <td>0.200000</td>\n",
       "      <td>0.200000</td>\n",
       "      <td>0.000000</td>\n",
       "      <td>0</td>\n",
       "      <td>...</td>\n",
       "      <td>0</td>\n",
       "      <td>1</td>\n",
       "      <td>0</td>\n",
       "      <td>0.200000</td>\n",
       "      <td>0.400000</td>\n",
       "      <td>1.00000</td>\n",
       "      <td>0.00000</td>\n",
       "      <td>0.000000</td>\n",
       "      <td>0.000000</td>\n",
       "      <td>0.000000</td>\n",
       "    </tr>\n",
       "    <tr>\n",
       "      <th>2</th>\n",
       "      <td>0</td>\n",
       "      <td>0.000000</td>\n",
       "      <td>0</td>\n",
       "      <td>0.0</td>\n",
       "      <td>12</td>\n",
       "      <td>312.033333</td>\n",
       "      <td>0.000000</td>\n",
       "      <td>0.009091</td>\n",
       "      <td>17.808000</td>\n",
       "      <td>0</td>\n",
       "      <td>...</td>\n",
       "      <td>0</td>\n",
       "      <td>0</td>\n",
       "      <td>1</td>\n",
       "      <td>0.004545</td>\n",
       "      <td>0.009091</td>\n",
       "      <td>0.00000</td>\n",
       "      <td>-1.00000</td>\n",
       "      <td>0.000000</td>\n",
       "      <td>0.000000</td>\n",
       "      <td>26.002778</td>\n",
       "    </tr>\n",
       "    <tr>\n",
       "      <th>3</th>\n",
       "      <td>0</td>\n",
       "      <td>0.000000</td>\n",
       "      <td>0</td>\n",
       "      <td>0.0</td>\n",
       "      <td>3</td>\n",
       "      <td>0.000000</td>\n",
       "      <td>0.200000</td>\n",
       "      <td>0.200000</td>\n",
       "      <td>0.000000</td>\n",
       "      <td>0</td>\n",
       "      <td>...</td>\n",
       "      <td>0</td>\n",
       "      <td>0</td>\n",
       "      <td>1</td>\n",
       "      <td>0.200000</td>\n",
       "      <td>0.400000</td>\n",
       "      <td>1.00000</td>\n",
       "      <td>0.00000</td>\n",
       "      <td>0.000000</td>\n",
       "      <td>0.000000</td>\n",
       "      <td>0.000000</td>\n",
       "    </tr>\n",
       "    <tr>\n",
       "      <th>4</th>\n",
       "      <td>12</td>\n",
       "      <td>432.583333</td>\n",
       "      <td>3</td>\n",
       "      <td>112.0</td>\n",
       "      <td>42</td>\n",
       "      <td>2132.683333</td>\n",
       "      <td>0.021289</td>\n",
       "      <td>0.041499</td>\n",
       "      <td>0.000000</td>\n",
       "      <td>0</td>\n",
       "      <td>...</td>\n",
       "      <td>0</td>\n",
       "      <td>0</td>\n",
       "      <td>1</td>\n",
       "      <td>0.031394</td>\n",
       "      <td>0.062787</td>\n",
       "      <td>0.51299</td>\n",
       "      <td>-0.48701</td>\n",
       "      <td>36.048611</td>\n",
       "      <td>37.333333</td>\n",
       "      <td>50.778175</td>\n",
       "    </tr>\n",
       "  </tbody>\n",
       "</table>\n",
       "<p>5 rows × 87 columns</p>\n",
       "</div>"
      ],
      "text/plain": [
       "   Administrative  Administrative_Duration  Informational  \\\n",
       "0               1                 7.000000              0   \n",
       "1               0                 0.000000              0   \n",
       "2               0                 0.000000              0   \n",
       "3               0                 0.000000              0   \n",
       "4              12               432.583333              3   \n",
       "\n",
       "   Informational_Duration  ProductRelated  ProductRelated_Duration  \\\n",
       "0                     0.0              20               887.583333   \n",
       "1                     0.0               1                 0.000000   \n",
       "2                     0.0              12               312.033333   \n",
       "3                     0.0               3                 0.000000   \n",
       "4                   112.0              42              2132.683333   \n",
       "\n",
       "   BounceRates  ExitRates  PageValues  Weekend  ...  VisitorType_New_Visitor  \\\n",
       "0     0.000000   0.016140   34.253368        0  ...                        0   \n",
       "1     0.200000   0.200000    0.000000        0  ...                        0   \n",
       "2     0.000000   0.009091   17.808000        0  ...                        0   \n",
       "3     0.200000   0.200000    0.000000        0  ...                        0   \n",
       "4     0.021289   0.041499    0.000000        0  ...                        0   \n",
       "\n",
       "   VisitorType_Other  VisitorType_Returning_Visitor  avg_exit_bounce_rates  \\\n",
       "0                  0                              1               0.008070   \n",
       "1                  1                              0               0.200000   \n",
       "2                  0                              1               0.004545   \n",
       "3                  0                              1               0.200000   \n",
       "4                  0                              1               0.031394   \n",
       "\n",
       "   add_exit_bounce_rates  div_exit_bounce_rates  perc_exit_bounce_rates  \\\n",
       "0               0.016140                0.00000                -1.00000   \n",
       "1               0.400000                1.00000                 0.00000   \n",
       "2               0.009091                0.00000                -1.00000   \n",
       "3               0.400000                1.00000                 0.00000   \n",
       "4               0.062787                0.51299                -0.48701   \n",
       "\n",
       "   Administrative_Duration_pp  Informational_Duration_pp  \\\n",
       "0                    7.000000                   0.000000   \n",
       "1                    0.000000                   0.000000   \n",
       "2                    0.000000                   0.000000   \n",
       "3                    0.000000                   0.000000   \n",
       "4                   36.048611                  37.333333   \n",
       "\n",
       "   ProductRelated_Duration_pp  \n",
       "0                   44.379167  \n",
       "1                    0.000000  \n",
       "2                   26.002778  \n",
       "3                    0.000000  \n",
       "4                   50.778175  \n",
       "\n",
       "[5 rows x 87 columns]"
      ]
     },
     "execution_count": 100,
     "metadata": {},
     "output_type": "execute_result"
    }
   ],
   "source": [
    "# It's generally a good idea to randomly shuffle the data before starting to avoid any type of ordering in the data.\n",
    "# shuffle the dataset\n",
    "df_shuffle = df.iloc[np.random.permutation(len(df))]\n",
    "# reset the index numbers of the dataframe\n",
    "df_shuffled = df_shuffle.reset_index(drop=True)\n",
    "# show first 5 rows of the dataframe\n",
    "df_shuffled.head()"
   ]
  },
  {
   "cell_type": "code",
   "execution_count": 101,
   "metadata": {},
   "outputs": [
    {
     "data": {
      "text/plain": [
       "False    87\n",
       "dtype: int64"
      ]
     },
     "execution_count": 101,
     "metadata": {},
     "output_type": "execute_result"
    }
   ],
   "source": [
    "# check missing values\n",
    "(pd.isnull(df_shuffled).any()).value_counts()\n",
    "# note: no missing values"
   ]
  },
  {
   "cell_type": "markdown",
   "metadata": {},
   "source": [
    "<b> Train Test Split Indices"
   ]
  },
  {
   "cell_type": "code",
   "execution_count": 102,
   "metadata": {},
   "outputs": [],
   "source": [
    "# cross_validation train_test_split\n",
    "from sklearn.model_selection import train_test_split\n",
    "\n",
    "# define your target variable: Y\n",
    "# The first and most important step in using TPOT on any data set is to rename the target class/response variable to class.\n",
    "# source: https://github.com/EpistasisLab/tpot/blob/master/tutorials/Titanic_Kaggle.ipynb\n",
    "df_shuffled.rename(columns={'Revenue': 'class'}, inplace=True)\n",
    "df_class = df_shuffled['class'].values\n",
    "\n",
    "# split the data into training and testing (75% training, 25% testing, random state = fixed)\n",
    "training_indices, testing_indices = train_test_split(df_shuffled.index, stratify = df_class, train_size=0.75, test_size=0.25, random_state = 2019)"
   ]
  },
  {
   "cell_type": "markdown",
   "metadata": {},
   "source": [
    "<b> Check Size of Train Test Split"
   ]
  },
  {
   "cell_type": "code",
   "execution_count": 103,
   "metadata": {},
   "outputs": [
    {
     "data": {
      "text/plain": [
       "(9247, 3083)"
      ]
     },
     "execution_count": 103,
     "metadata": {},
     "output_type": "execute_result"
    }
   ],
   "source": [
    "# check the size of the training set and validation set\n",
    "training_indices.size, testing_indices.size"
   ]
  },
  {
   "cell_type": "markdown",
   "metadata": {},
   "source": [
    "<b> Run TPOT - Automated Machine Learning Model"
   ]
  },
  {
   "cell_type": "code",
   "execution_count": 105,
   "metadata": {},
   "outputs": [
    {
     "data": {
      "application/vnd.jupyter.widget-view+json": {
       "model_id": "b2d5049eced64a46bc04ed555414f0b6",
       "version_major": 2,
       "version_minor": 0
      },
      "text/plain": [
       "HBox(children=(FloatProgress(value=0.0, description='Optimization Progress', style=ProgressStyle(description_w…"
      ]
     },
     "metadata": {},
     "output_type": "display_data"
    },
    {
     "name": "stdout",
     "output_type": "stream",
     "text": [
      "Generation 1 - Current best internal CV score: 0.8996889364724592\n",
      "\n",
      "Best pipeline: XGBClassifier(input_matrix, learning_rate=0.01, max_depth=8, min_child_weight=18, n_estimators=100, nthread=1, subsample=0.9500000000000001)\n",
      "--- Execution time: ---\n",
      "--- 1666844.584ms. --- \n",
      "--- 1666.8445839881897 seconds ---\n",
      "--- 27.780743066469828 minutes ---\n"
     ]
    }
   ],
   "source": [
    "from tpot import TPOTClassifier\n",
    "\n",
    "# set the start time\n",
    "start = time.time()\n",
    "\n",
    "# define the model\n",
    "\n",
    "tpot = TPOTClassifier(generations=300, # Number of iterations to run the pipeline optimization process. It must be a positive number or None. If None, the parameter max_time_mins must be defined as the runtime limit. Generally, TPOT will work better when you give it more generations (and therefore time) to optimize the pipeline.\n",
    "                      population_size=100,\n",
    "                      offspring_size=100,\n",
    "                      verbosity=2, # verbosity - How much information TPOT communicates while it is running. \n",
    "                      n_jobs=-1, # Number of CPUs for evaluating pipelines in parallel during the TPOT optimization process. Assigning this to -1 will use as many cores as available on the computer. For n_jobs below -1, (n_cpus + 1 + n_jobs) are used. Thus for n_jobs = -2, all CPUs but one are used.\n",
    "                      scoring='f1_weighted', # Function used to evaluate the quality of a given pipeline for the problem. By default, accuracy is used for classification and mean squared error (MSE) is used for regression. \n",
    "                      max_time_mins = 60, \n",
    "                      max_eval_time_mins= 10,\n",
    "                      cv=10)\n",
    "\n",
    "# train the model\n",
    "tpot.fit(df_shuffled.drop('class',axis=1).loc[training_indices].values, # X_train\n",
    "         df_shuffled.loc[training_indices, 'class'].values) # y_train\n",
    "\n",
    "# get the time it takes for the gridsearch to run\n",
    "# source: https://blog.softhints.com/python-test-performance-and-measure-time-elapsed-in-seconds/\n",
    "# set the end time\n",
    "end = time.time()\n",
    "\n",
    "# get the elapsed execution time\n",
    "execution_time = end - start\n",
    "print(\"--- Execution time: ---\")\n",
    "print ('--- %0.3fms. --- ' % ( execution_time*1000.))\n",
    "print(\"--- %s seconds ---\" % (execution_time))\n",
    "print(\"--- %s minutes ---\" % (execution_time/60))"
   ]
  },
  {
   "cell_type": "code",
   "execution_count": 85,
   "metadata": {},
   "outputs": [],
   "source": [
    "# note: for different scoring functions, see:\n",
    "# source: https://epistasislab.github.io/tpot/using/#scoring-functions"
   ]
  },
  {
   "cell_type": "code",
   "execution_count": 106,
   "metadata": {},
   "outputs": [
    {
     "data": {
      "text/plain": [
       "0.8987252354361767"
      ]
     },
     "execution_count": 106,
     "metadata": {},
     "output_type": "execute_result"
    }
   ],
   "source": [
    "# weighted f1 score which was the scoring method for tpot\n",
    "tpot.score(df_shuffled.drop('class',axis=1).loc[testing_indices].values, #X_test\n",
    "           df_shuffled.loc[testing_indices, 'class'].values) # y_test"
   ]
  },
  {
   "cell_type": "code",
   "execution_count": 107,
   "metadata": {},
   "outputs": [
    {
     "name": "stdout",
     "output_type": "stream",
     "text": [
      "\n",
      "AUC score: 0.9285\n"
     ]
    }
   ],
   "source": [
    "# source: https://iq.opengenus.org/tpot-python/\n",
    "from sklearn.metrics import roc_auc_score\n",
    "# calculate AUC score\n",
    "tpot_auc_score = roc_auc_score(df_shuffled.loc[testing_indices, 'class'].values, tpot.predict_proba(df_shuffled.drop('class',axis=1).loc[testing_indices].values)[:, 1])\n",
    "print(f'\\nAUC score: {tpot_auc_score:.4f}')"
   ]
  },
  {
   "cell_type": "markdown",
   "metadata": {},
   "source": [
    "### Testrun 1\n",
    "___\n",
    "HBox(children=(FloatProgress(value=0.0, description='Optimization Progress', max=600.0, style=ProgressStyle(de…\n",
    "\n",
    "Best pipeline: RandomForestClassifier(input_matrix, bootstrap=True, criterion=entropy, max_features=0.7500000000000001, min_samples_leaf=15, min_samples_split=18, n_estimators=100)\n",
    "<br> --- Execution time: ---\n",
    "<br> --- 707084.034ms. --- \n",
    "<br> --- 707.0840344429016 seconds ---\n",
    "<br> --- 11.784733907381694 minutes ---\n",
    "<br> tpot.score = 0.9072333857032616\n",
    "___\n",
    "### Testrun 2\n",
    "est pipeline: ExtraTreesClassifier(input_matrix, bootstrap=True, criterion=entropy, max_features=0.9500000000000001, min_samples_leaf=6, min_samples_split=15, n_estimators=100)\n",
    "--- Execution time: ---\n",
    "--- 424634.354ms. --- \n",
    "--- 424.63435411453247 seconds ---\n",
    "--- 7.0772392352422075 minutes ---\n",
    "<br> tpot.score = 0.9000766387617157\n",
    "___\n",
    "### Testrun 3\n",
    "HBox(children=(FloatProgress(value=0.0, description='Optimization Progress', style=ProgressStyle(description_w…\n",
    "\n",
    "Best pipeline: RandomForestClassifier(input_matrix, bootstrap=True, criterion=entropy, max_features=0.2, min_samples_leaf=8, min_samples_split=14, n_estimators=100)\n",
    "<br> --- Execution time: ---\n",
    "<br> --- 798850.751ms. --- \n",
    "<br> --- 798.8507509231567 seconds ---\n",
    "<br> --- 13.314179182052612 minutes ---\n",
    "<br> tpot.score = 0.9016232777560529\n",
    "___\n",
    "### Testrun 4\n",
    "HBox(children=(FloatProgress(value=0.0, description='Optimization Progress', max=50.0, style=ProgressStyle(des…\n",
    "\n",
    "Generation 1 - Current best internal CV score: 0.9028496916056253\n",
    "Generation 2 - Current best internal CV score: 0.9028496916056253\n",
    "\n",
    "Best pipeline: RandomForestClassifier(input_matrix, bootstrap=True, criterion=gini, max_features=0.6500000000000001, min_samples_leaf=9, min_samples_split=13, n_estimators=100)\n",
    "--- Execution time: ---\n",
    "<br> --- 1343828.360ms. --- \n",
    "<br> --- 1343.8283603191376 seconds ---\n",
    "<br> --- 22.39713933865229 minutes ---\n",
    "<br> tpot.score = 0.8989145659134411\n",
    "<br> AUC score: 0.9283\n",
    "___\n",
    "### Testrun 5\n",
    "HBox(children=(FloatProgress(value=0.0, description='Optimization Progress', style=ProgressStyle(description_w…\n",
    "\n",
    "Best pipeline: XGBClassifier(MinMaxScaler(input_matrix), learning_rate=0.01, max_depth=10, min_child_weight=16, n_estimators=100, nthread=1, subsample=0.6500000000000001)\n",
    "<br>--- Execution time: ---\n",
    "<br> --- 1568095.310ms. --- \n",
    "<br> --- 1568.0953097343445 seconds ---\n",
    "<br> --- 26.134921828905743 minutes --\n",
    "<br> tpot.score = 0.9062844719301901\n",
    "<br> AUC score: 0.9337"
   ]
  },
  {
   "cell_type": "code",
   "execution_count": null,
   "metadata": {},
   "outputs": [],
   "source": [
    "# Export the optimized pipeline as Python code.\n",
    "tpot.export('tpot_project2_pipeline.py')"
   ]
  }
 ],
 "metadata": {
  "kernelspec": {
   "display_name": "Python 3",
   "language": "python",
   "name": "python3"
  },
  "language_info": {
   "codemirror_mode": {
    "name": "ipython",
    "version": 3
   },
   "file_extension": ".py",
   "mimetype": "text/x-python",
   "name": "python",
   "nbconvert_exporter": "python",
   "pygments_lexer": "ipython3",
   "version": "3.6.7"
  }
 },
 "nbformat": 4,
 "nbformat_minor": 4
}
