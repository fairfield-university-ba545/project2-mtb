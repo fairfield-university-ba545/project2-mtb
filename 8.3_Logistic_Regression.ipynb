{
 "cells": [
  {
   "cell_type": "markdown",
   "metadata": {},
   "source": [
    "# <b> Logistic Regression </b>\n",
    "___"
   ]
  },
  {
   "cell_type": "markdown",
   "metadata": {},
   "source": [
    "<b> Table of Content: </b>\n",
    "<br> [Pipeline_1](#8000)\n",
    "<br> [Pipeline 2](#8010)\n",
    "<br> [Pipeline 3](#8020)"
   ]
  },
  {
   "cell_type": "markdown",
   "metadata": {},
   "source": [
    "Loading Modules and Datasets"
   ]
  },
  {
   "cell_type": "code",
   "execution_count": 139,
   "metadata": {},
   "outputs": [],
   "source": [
    "import pandas as pd\n",
    "import numpy as np\n",
    "\n",
    "from sklearn.linear_model import LogisticRegression\n",
    "from sklearn.model_selection import train_test_split\n",
    "\n",
    "# import oversampling and undersampling packages\n",
    "from imblearn.over_sampling import SMOTE\n",
    "from imblearn.under_sampling import NearMiss\n",
    "\n",
    "from sklearn import preprocessing\n",
    "from sklearn.datasets import make_classification\n",
    "from sklearn.preprocessing import StandardScaler \n",
    "\n",
    "from sklearn import metrics\n",
    "from sklearn.metrics import confusion_matrix, classification_report \n",
    "\n",
    "# Cross Validation packages\n",
    "from sklearn.model_selection import KFold\n",
    "from sklearn.model_selection import cross_val_score\n",
    "\n",
    "# import required modules for visualization\n",
    "import matplotlib.pyplot as plt\n",
    "import seaborn as sns\n",
    "\n",
    "# import module for gridsearch (to find optimal hyper-parameters)\n",
    "from sklearn.model_selection import GridSearchCV\n",
    "\n",
    "# import module (to test execution time of a codeblock to run)\n",
    "import time"
   ]
  },
  {
   "cell_type": "markdown",
   "metadata": {},
   "source": [
    "<a id = \"8000\"> <h2> Pipeline 1 </h2> </a>\n",
    "___"
   ]
  },
  {
   "cell_type": "code",
   "execution_count": 140,
   "metadata": {},
   "outputs": [],
   "source": [
    "# read csv file to a pandas dataframe\n",
    "df_pipeline1 = pd.read_csv(\"pipeline_1.csv\")"
   ]
  },
  {
   "cell_type": "code",
   "execution_count": 141,
   "metadata": {},
   "outputs": [
    {
     "name": "stdout",
     "output_type": "stream",
     "text": [
      "There are 22 features, and the target `Revenue` for pipeline 1:\n"
     ]
    },
    {
     "data": {
      "text/plain": [
       "['Q4',\n",
       " 'VisitorType_New_Visitor',\n",
       " 'Q3',\n",
       " 'TrafficType_2',\n",
       " 'TrafficType_8',\n",
       " 'TrafficType_3',\n",
       " 'PageValues_iqr_yj_zscore',\n",
       " 'Q1',\n",
       " 'TrafficType_13',\n",
       " 'ExitRates_iqr_yj_zscore',\n",
       " 'OperatingSystems_3',\n",
       " 'Administrative_Duration_iqr_yj_zscore',\n",
       " 'TrafficType_1',\n",
       " 'SpecialDay_0.8',\n",
       " 'Month_Feb',\n",
       " 'Browser_6',\n",
       " 'SpecialDay_0.4',\n",
       " 'TrafficType_20',\n",
       " 'Informational_Duration_pp_iqr_yj_zscore',\n",
       " 'Browser_12',\n",
       " 'OperatingSystems_7',\n",
       " 'TrafficType_16',\n",
       " 'Revenue']"
      ]
     },
     "execution_count": 141,
     "metadata": {},
     "output_type": "execute_result"
    }
   ],
   "source": [
    "# show all columns in dataset\n",
    "print('There are', len(df_pipeline1.columns)-1, 'features, and the target `Revenue` for pipeline 1:')\n",
    "list(df_pipeline1.columns)"
   ]
  },
  {
   "cell_type": "markdown",
   "metadata": {},
   "source": [
    "> <b> Declare Features and Target"
   ]
  },
  {
   "cell_type": "code",
   "execution_count": 142,
   "metadata": {},
   "outputs": [],
   "source": [
    "# Define Features and Target variables\n",
    "X = df_pipeline1.iloc[:, :-1] # Features is all columns in the dataframe except the last column\n",
    "Y = df_pipeline1.iloc[:, -1] # Target is the last column in the dataframe: 'Revenue'"
   ]
  },
  {
   "cell_type": "markdown",
   "metadata": {},
   "source": [
    "> <b> Split the data"
   ]
  },
  {
   "cell_type": "code",
   "execution_count": 143,
   "metadata": {},
   "outputs": [],
   "source": [
    "# Split dataset into training set and test set \n",
    "# 70% training and 30% test\n",
    "X_train, X_test, y_train, y_test = train_test_split(X, Y, test_size=0.3,random_state=2019) "
   ]
  },
  {
   "cell_type": "markdown",
   "metadata": {},
   "source": [
    "> <b> Model Development and Prediction"
   ]
  },
  {
   "cell_type": "code",
   "execution_count": 144,
   "metadata": {},
   "outputs": [],
   "source": [
    "# instantiate the model (using the default parameters)\n",
    "logreg = LogisticRegression()\n",
    "\n",
    "# fit the model with data\n",
    "logreg.fit(X_train,y_train)\n",
    "\n",
    "# predict (y_hat) - use trained model to predict test data\n",
    "y_pred=logreg.predict(X_test)"
   ]
  },
  {
   "cell_type": "markdown",
   "metadata": {},
   "source": [
    "> <b> Model Evaluation Using Confusion Matrix"
   ]
  },
  {
   "cell_type": "code",
   "execution_count": 145,
   "metadata": {},
   "outputs": [
    {
     "data": {
      "text/plain": [
       "array([[2942,  189],\n",
       "       [ 240,  328]])"
      ]
     },
     "execution_count": 145,
     "metadata": {},
     "output_type": "execute_result"
    }
   ],
   "source": [
    "cnf_matrix = metrics.confusion_matrix(y_test, y_pred)\n",
    "cnf_matrix"
   ]
  },
  {
   "cell_type": "markdown",
   "metadata": {},
   "source": [
    "> <b> Vizualizing Confusion Matrix Using Heatmap"
   ]
  },
  {
   "cell_type": "code",
   "execution_count": 146,
   "metadata": {},
   "outputs": [],
   "source": [
    "%matplotlib inline\n",
    "plt.style.use('ggplot')"
   ]
  },
  {
   "cell_type": "code",
   "execution_count": 147,
   "metadata": {},
   "outputs": [
    {
     "data": {
      "text/plain": [
       "Text(0.5,257.44,'Predicted label')"
      ]
     },
     "execution_count": 147,
     "metadata": {},
     "output_type": "execute_result"
    },
    {
     "data": {
      "image/png": "[encoded data removed]",
      "text/plain": [
       "<Figure size 432x288 with 2 Axes>"
      ]
     },
     "metadata": {},
     "output_type": "display_data"
    }
   ],
   "source": [
    "class_names=[0,1] # name  of classes\n",
    "fig, ax = plt.subplots()\n",
    "tick_marks = np.arange(len(class_names))\n",
    "plt.xticks(tick_marks, class_names)\n",
    "plt.yticks(tick_marks, class_names)\n",
    "# create heatmap\n",
    "sns.heatmap(pd.DataFrame(cnf_matrix), annot=True, cmap=\"YlGnBu\" ,fmt='g')\n",
    "ax.xaxis.set_label_position(\"top\")\n",
    "plt.tight_layout()\n",
    "plt.title('Confusion matrix', y=1.1)\n",
    "plt.ylabel('Actual label')\n",
    "plt.xlabel('Predicted label')"
   ]
  },
  {
   "cell_type": "markdown",
   "metadata": {},
   "source": [
    "> <b> Confusion Matrix Evaluation"
   ]
  },
  {
   "cell_type": "code",
   "execution_count": 184,
   "metadata": {},
   "outputs": [],
   "source": [
    "#print(\"Accuracy:\",metrics.accuracy_score(y_test, y_pred))\n",
    "#print(\"Precision:\",metrics.precision_score(y_test, y_pred))\n",
    "#print(\"Recall:\",metrics.recall_score(y_test, y_pred))"
   ]
  },
  {
   "cell_type": "code",
   "execution_count": 185,
   "metadata": {},
   "outputs": [
    {
     "name": "stdout",
     "output_type": "stream",
     "text": [
      "              precision    recall  f1-score   support\n",
      "\n",
      "           0       0.96      0.88      0.92      3131\n",
      "           1       0.55      0.78      0.64       568\n",
      "\n",
      "    accuracy                           0.87      3699\n",
      "   macro avg       0.75      0.83      0.78      3699\n",
      "weighted avg       0.89      0.87      0.88      3699\n",
      "\n"
     ]
    }
   ],
   "source": [
    "# print the classification report\n",
    "print(classification_report(y_test, y_pred))"
   ]
  },
  {
   "cell_type": "markdown",
   "metadata": {},
   "source": [
    "> <b> ROC Curve"
   ]
  },
  {
   "cell_type": "code",
   "execution_count": 149,
   "metadata": {},
   "outputs": [
    {
     "data": {
      "image/png": "[encoded data removed]",
      "text/plain": [
       "<Figure size 432x288 with 1 Axes>"
      ]
     },
     "metadata": {},
     "output_type": "display_data"
    }
   ],
   "source": [
    "y_pred_proba = logreg.predict_proba(X_test)[::,1]\n",
    "fpr, tpr, _ = metrics.roc_curve(y_test,  y_pred_proba)\n",
    "auc = metrics.roc_auc_score(y_test, y_pred_proba)\n",
    "plt.plot(fpr,tpr,label=\"data 1, auc=\"+str(auc))\n",
    "plt.legend(loc=4)\n",
    "plt.show()"
   ]
  },
  {
   "cell_type": "markdown",
   "metadata": {},
   "source": [
    "> <b> Oversampling applying SMOTE"
   ]
  },
  {
   "cell_type": "code",
   "execution_count": 182,
   "metadata": {},
   "outputs": [
    {
     "name": "stdout",
     "output_type": "stream",
     "text": [
      "After OverSampling, the shape of train_X: (14582, 22)\n",
      "After OverSampling, the shape of train_y: (14582,) \n",
      "\n",
      "After OverSampling, counts of label '1': 7291\n",
      "After OverSampling, counts of label '0': 7291\n"
     ]
    },
    {
     "name": "stderr",
     "output_type": "stream",
     "text": [
      "/opt/tljh/user/lib/python3.6/site-packages/sklearn/utils/deprecation.py:87: FutureWarning: Function safe_indexing is deprecated; safe_indexing is deprecated in version 0.22 and will be removed in version 0.24.\n",
      "  warnings.warn(msg, category=FutureWarning)\n"
     ]
    }
   ],
   "source": [
    "sm = SMOTE(random_state = 2019) \n",
    "X_train_res, y_train_res = sm.fit_sample(X_train, y_train) \n",
    "\n",
    "print('After OverSampling, the shape of train_X: {}'.format(X_train_res.shape)) \n",
    "print('After OverSampling, the shape of train_y: {} \\n'.format(y_train_res.shape)) \n",
    "  \n",
    "print(\"After OverSampling, counts of label '1': {}\".format(sum(y_train_res == 1))) \n",
    "print(\"After OverSampling, counts of label '0': {}\".format(sum(y_train_res == 0)))"
   ]
  },
  {
   "cell_type": "code",
   "execution_count": 183,
   "metadata": {},
   "outputs": [
    {
     "name": "stdout",
     "output_type": "stream",
     "text": [
      "              precision    recall  f1-score   support\n",
      "\n",
      "           0       0.96      0.88      0.92      3131\n",
      "           1       0.55      0.78      0.64       568\n",
      "\n",
      "    accuracy                           0.87      3699\n",
      "   macro avg       0.75      0.83      0.78      3699\n",
      "weighted avg       0.89      0.87      0.88      3699\n",
      "\n"
     ]
    }
   ],
   "source": [
    "logreg1 = LogisticRegression(dual=optimal_dual, \n",
    "                            max_iter=optimal_max_iter, \n",
    "                            C=optimal_C, \n",
    "                            penalty=optimal_penalty, \n",
    "                            fit_intercept=optimal_fit_intercept, \n",
    "                            solver=optimal_solver, \n",
    "                            multi_class=optimal_multi_class)\n",
    "\n",
    "logreg1.fit(X_train_res, y_train_res)\n",
    "y_pred = logreg1.predict(X_test) \n",
    "  \n",
    "# print classification report \n",
    "print(classification_report(y_test, y_pred))"
   ]
  },
  {
   "cell_type": "markdown",
   "metadata": {},
   "source": [
    "> <b> Take-away: </b>\n",
    "* The oversampling decreased the weighted avg f1-score from 89% to 88%\n",
    "* The oversampling decreased the accuracy from 88% to 87%"
   ]
  },
  {
   "cell_type": "markdown",
   "metadata": {},
   "source": [
    "> <b> Cross Validation Using KFold </b>\n",
    "<br> For more information on the topic, please click the following [link](https://stackabuse.com/cross-validation-and-grid-search-for-model-selection-in-python/).\n",
    "<br> The details of the package are noted [here](https://scikit-learn.org/stable/modules/generated/sklearn.model_selection.KFold.html)."
   ]
  },
  {
   "cell_type": "code",
   "execution_count": 151,
   "metadata": {},
   "outputs": [
    {
     "name": "stdout",
     "output_type": "stream",
     "text": [
      "--------------------------------------------------------------------------\n",
      "All the accuracy results:\n",
      "--------------------------------------------------------------------------\n",
      "[0.88564477 0.89586375 0.88759124] \n",
      "\n",
      "--------------------------------------------------------------------------\n",
      "Average of all the accuracy results:\n",
      "--------------------------------------------------------------------------\n",
      "0.8897 \n",
      "\n",
      "--------------------------------------------------------------------------\n",
      "Conclusion: the average of the accuracy changed after applying Kfold:\n",
      "--------------------------------------------------------------------------\n",
      "from:\n",
      "0.88402\n",
      "to:\n",
      "0.8897\n",
      "This is because we only use: 66.67% of our dataset to train the model!\n"
     ]
    }
   ],
   "source": [
    "# Build the k-fold cross-validator\n",
    "k_fold_split = 3\n",
    "kfold = KFold(n_splits=k_fold_split, random_state=2019, shuffle=True)\n",
    "result = cross_val_score(estimator=logreg, X_train_res, Y, cv=kfold, scoring='accuracy')\n",
    "\n",
    "print('--------------------------------------------------------------------------')\n",
    "print('All the accuracy results:')\n",
    "print('--------------------------------------------------------------------------')\n",
    "print(result, '\\n')\n",
    "\n",
    "print('--------------------------------------------------------------------------')\n",
    "print('Average of all the accuracy results:')\n",
    "print('--------------------------------------------------------------------------')\n",
    "print(round(result.mean(), 4), '\\n')\n",
    "\n",
    "print('--------------------------------------------------------------------------')\n",
    "print('Conclusion: the average of the accuracy changed after applying Kfold:')\n",
    "print('--------------------------------------------------------------------------')\n",
    "print('from:')\n",
    "print(round(metrics.accuracy_score(y_test, y_pred), 5))\n",
    "print('to:')\n",
    "print(round(result.mean(), 5))\n",
    "print('This is because we only use: {0:0.2f}% of our dataset to train the model!'.format(((k_fold_split-1)/k_fold_split)*100))"
   ]
  },
  {
   "cell_type": "markdown",
   "metadata": {},
   "source": [
    "> <b> Gridsearch for the optimal hyper-parameters </b>\n",
    "<br> To see the hyper-parameters of the Logistic Regression model, please refer to the following [link](https://scikit-learn.org/stable/modules/generated/sklearn.linear_model.LogisticRegression.html)."
   ]
  },
  {
   "cell_type": "markdown",
   "metadata": {},
   "source": [
    "_Note:_ The optimal hyper-parameter for: 'max_iter' was already found in pipeline 1 for RFE Feature selection using Logistic Regression, it was 53."
   ]
  },
  {
   "cell_type": "code",
   "execution_count": 177,
   "metadata": {},
   "outputs": [],
   "source": [
    "# Set the hyper-parameter grid\n",
    "penalty = ['l1', 'l2']\n",
    "dual=[True, False]\n",
    "# syntax: numpy.logspace(start, stop, num=50, endpoint=True, base=10.0, dtype=None, axis=0) => Return numbers spaced evenly on a log scale.\n",
    "C = np.logspace(-4, 4, 50)\n",
    "fit_intercept=[True, False]\n",
    "solver = ['newton-cg', 'lbfgs', 'liblinear', 'sag', 'saga']\n",
    "max_iter=[53, 100]\n",
    "multi_class = ['auto', 'ovr', 'multinomial']\n",
    "\n",
    "param_grid = dict(penalty=penalty, \n",
    "                  dual=dual,max_iter=max_iter, \n",
    "                  C=C, \n",
    "                  fit_intercept=fit_intercept, \n",
    "                  solver=solver, \n",
    "                  multi_class=multi_class)"
   ]
  },
  {
   "cell_type": "code",
   "execution_count": 178,
   "metadata": {},
   "outputs": [
    {
     "name": "stdout",
     "output_type": "stream",
     "text": [
      "Best: 0.878345 using {'C': 0.0062505519252739694, 'dual': False, 'fit_intercept': True, 'max_iter': 53, 'penalty': 'l2', 'solver': 'liblinear'}\n",
      "--- Execution time: ---\n",
      "--- 174304.646ms. --- \n",
      "--- 174.30464577674866 seconds ---\n",
      "--- 2.9050774296124775 minutes ---\n"
     ]
    }
   ],
   "source": [
    "# set the start time\n",
    "start = time.time()\n",
    "\n",
    "# define the model\n",
    "lr = LogisticRegression()\n",
    "\n",
    "# Create a grid search object\n",
    "grid = GridSearchCV(estimator=lr, param_grid=param_grid, cv = 3, n_jobs=-1)\n",
    "\n",
    "# Fit the grid search (Fitting your model to the training data)\n",
    "grid_result = grid.fit(X, Y)\n",
    "\n",
    "# define each optimal parameter as a new variable\n",
    "optimal_dual = grid.best_estimator_.get_params()['dual']\n",
    "optimal_max_iter = grid.best_estimator_.get_params()['max_iter']\n",
    "optimal_C = grid.best_estimator_.get_params()['C']\n",
    "optimal_penalty = grid.best_estimator_.get_params()['penalty']\n",
    "optimal_fit_intercept = grid.best_estimator_.get_params()['fit_intercept']\n",
    "optimal_solver = grid.best_estimator_.get_params()['solver']\n",
    "optimal_multi_class = grid.best_estimator_.get_params()['multi_class']\n",
    "\n",
    "# Summarize results\n",
    "print(\"Best: %f using %s\" % (grid_result.best_score_, grid_result.best_params_))\n",
    "\n",
    "# get the time it takes for the gridsearch to run\n",
    "# source: https://blog.softhints.com/python-test-performance-and-measure-time-elapsed-in-seconds/\n",
    "# set the end time\n",
    "end = time.time()\n",
    "\n",
    "# get the elapsed execution time\n",
    "execution_time = end - start\n",
    "print(\"--- Execution time: ---\")\n",
    "print ('--- %0.3fms. --- ' % ( execution_time*1000.))\n",
    "print(\"--- %s seconds ---\" % (execution_time))\n",
    "print(\"--- %s minutes ---\" % (execution_time/60))"
   ]
  },
  {
   "cell_type": "markdown",
   "metadata": {},
   "source": [
    "> <b> Applying the optimal hyper-parameters to the model"
   ]
  },
  {
   "cell_type": "code",
   "execution_count": 181,
   "metadata": {},
   "outputs": [
    {
     "name": "stdout",
     "output_type": "stream",
     "text": [
      "              precision    recall  f1-score   support\n",
      "\n",
      "           0       0.94      0.93      0.93      3131\n",
      "           1       0.62      0.65      0.63       568\n",
      "\n",
      "    accuracy                           0.88      3699\n",
      "   macro avg       0.78      0.79      0.78      3699\n",
      "weighted avg       0.89      0.88      0.89      3699\n",
      "\n"
     ]
    }
   ],
   "source": [
    "# apply the optimal hyper-parameters to the Logistic Regression Model\n",
    "logreg = LogisticRegression(dual=optimal_dual, \n",
    "                            max_iter=optimal_max_iter, \n",
    "                            C=optimal_C, \n",
    "                            penalty=optimal_penalty, \n",
    "                            fit_intercept=optimal_fit_intercept, \n",
    "                            solver=optimal_solver, \n",
    "                            multi_class=optimal_multi_class)\n",
    "\n",
    "# fit the model with data\n",
    "logreg.fit(X_train,y_train)\n",
    "\n",
    "# predict \n",
    "y_pred=logreg.predict(X_test)\n",
    "\n",
    "# print out the classification report\n",
    "print(classification_report(y_test, y_pred))"
   ]
  },
  {
   "cell_type": "markdown",
   "metadata": {},
   "source": [
    "> <b> Take-away: </b>\n",
    "* The optimal hyper-parameters increased the weighted avg f1-score from 88% to 89%"
   ]
  },
  {
   "cell_type": "markdown",
   "metadata": {},
   "source": [
    "<a id = \"8010\"> <h2> Pipeline 2 </h2> </a>\n",
    "___"
   ]
  },
  {
   "cell_type": "code",
   "execution_count": 48,
   "metadata": {},
   "outputs": [],
   "source": [
    "# read csv file to a pandas dataframe\n",
    "df_pipeline2 = pd.read_csv(\"pipeline_2.csv\")"
   ]
  },
  {
   "cell_type": "code",
   "execution_count": 49,
   "metadata": {},
   "outputs": [
    {
     "name": "stdout",
     "output_type": "stream",
     "text": [
      "There are 21 features, and the target `Revenue` for pipeline 2:\n"
     ]
    },
    {
     "data": {
      "text/plain": [
       "['TrafficType_15',\n",
       " 'Month_Nov',\n",
       " 'Administrative_Duration_mm_yj_stdev',\n",
       " 'VisitorType_New_Visitor',\n",
       " 'Informational_mm_yj_stdev',\n",
       " 'TrafficType_2',\n",
       " 'TrafficType_3',\n",
       " 'ProductRelated_mm_yj_stdev',\n",
       " 'PageValues_mm_yj_stdev',\n",
       " 'Month_May',\n",
       " 'TrafficType_13',\n",
       " 'OperatingSystems_3',\n",
       " 'TrafficType_1',\n",
       " 'add_exit_bounce_rates_mm_yj_stdev',\n",
       " 'Month_Mar',\n",
       " 'TrafficType_18',\n",
       " 'TrafficType_8',\n",
       " 'SpecialDay_0.8',\n",
       " 'Month_Feb',\n",
       " 'TrafficType_12',\n",
       " 'Browser_12',\n",
       " 'Revenue']"
      ]
     },
     "execution_count": 49,
     "metadata": {},
     "output_type": "execute_result"
    }
   ],
   "source": [
    "# show all columns in dataset\n",
    "print('There are', len(df_pipeline2.columns)-1, 'features, and the target `Revenue` for pipeline 2:')\n",
    "list(df_pipeline2.columns)"
   ]
  },
  {
   "cell_type": "markdown",
   "metadata": {},
   "source": [
    "> Declare Features and Target"
   ]
  },
  {
   "cell_type": "code",
   "execution_count": 50,
   "metadata": {},
   "outputs": [],
   "source": [
    "# Define Features and Target variables\n",
    "X = df_pipeline2.iloc[:, :-1] # Features is all columns in the dataframe except the last column\n",
    "Y = df_pipeline2.iloc[:, -1] # Target is the last column in the dataframe: 'Revenue'"
   ]
  },
  {
   "cell_type": "markdown",
   "metadata": {},
   "source": [
    "> Split the data"
   ]
  },
  {
   "cell_type": "code",
   "execution_count": 51,
   "metadata": {},
   "outputs": [],
   "source": [
    "# Split dataset into training set and test set \n",
    "# 70% training and 30% test\n",
    "X_train, X_test, y_train, y_test = train_test_split(X, Y, test_size=0.3,random_state=2019) "
   ]
  },
  {
   "cell_type": "markdown",
   "metadata": {},
   "source": [
    "> Model Development and Prediction"
   ]
  },
  {
   "cell_type": "code",
   "execution_count": 52,
   "metadata": {},
   "outputs": [],
   "source": [
    "# instantiate the model (using the default parameters)\n",
    "logreg = LogisticRegression(max_iter=100)\n",
    "\n",
    "# fit the model with data\n",
    "logreg.fit(X_train,y_train)\n",
    "\n",
    "# predict (y_hat) - use trained model to predict test data\n",
    "y_pred=logreg.predict(X_test)"
   ]
  },
  {
   "cell_type": "markdown",
   "metadata": {},
   "source": [
    "> Model Evaluation Using Confusion Matrix"
   ]
  },
  {
   "cell_type": "code",
   "execution_count": 53,
   "metadata": {},
   "outputs": [
    {
     "data": {
      "text/plain": [
       "array([[3129,    2],\n",
       "       [ 562,    6]])"
      ]
     },
     "execution_count": 53,
     "metadata": {},
     "output_type": "execute_result"
    }
   ],
   "source": [
    "# import the metrics class\n",
    "from sklearn import metrics\n",
    "cnf_matrix = metrics.confusion_matrix(y_test, y_pred)\n",
    "cnf_matrix"
   ]
  },
  {
   "cell_type": "markdown",
   "metadata": {},
   "source": [
    "> Vizualizing Confusion Matrix Using Heatmap"
   ]
  },
  {
   "cell_type": "code",
   "execution_count": 54,
   "metadata": {},
   "outputs": [],
   "source": [
    "%matplotlib inline\n",
    "plt.style.use('ggplot')"
   ]
  },
  {
   "cell_type": "code",
   "execution_count": 55,
   "metadata": {},
   "outputs": [
    {
     "data": {
      "text/plain": [
       "Text(0.5,257.44,'Predicted label')"
      ]
     },
     "execution_count": 55,
     "metadata": {},
     "output_type": "execute_result"
    },
    {
     "data": {
      "image/png": "[encoded data removed]",
      "text/plain": [
       "<Figure size 432x288 with 2 Axes>"
      ]
     },
     "metadata": {},
     "output_type": "display_data"
    }
   ],
   "source": [
    "class_names=[0,1] # name  of classes\n",
    "fig, ax = plt.subplots()\n",
    "tick_marks = np.arange(len(class_names))\n",
    "plt.xticks(tick_marks, class_names)\n",
    "plt.yticks(tick_marks, class_names)\n",
    "# create heatmap\n",
    "sns.heatmap(pd.DataFrame(cnf_matrix), annot=True, cmap=\"YlGnBu\" ,fmt='g')\n",
    "ax.xaxis.set_label_position(\"top\")\n",
    "plt.tight_layout()\n",
    "plt.title('Confusion matrix', y=1.1)\n",
    "plt.ylabel('Actual label')\n",
    "plt.xlabel('Predicted label')"
   ]
  },
  {
   "cell_type": "markdown",
   "metadata": {},
   "source": [
    "> Confusion Matrix Evaluation"
   ]
  },
  {
   "cell_type": "code",
   "execution_count": 56,
   "metadata": {},
   "outputs": [
    {
     "name": "stdout",
     "output_type": "stream",
     "text": [
      "Accuracy: 0.8475263584752636\n",
      "Precision: 0.75\n",
      "Recall: 0.01056338028169014\n"
     ]
    }
   ],
   "source": [
    "print(\"Accuracy:\",metrics.accuracy_score(y_test, y_pred))\n",
    "print(\"Precision:\",metrics.precision_score(y_test, y_pred))\n",
    "print(\"Recall:\",metrics.recall_score(y_test, y_pred))"
   ]
  },
  {
   "cell_type": "markdown",
   "metadata": {},
   "source": [
    "> ROC Curve"
   ]
  },
  {
   "cell_type": "code",
   "execution_count": 57,
   "metadata": {},
   "outputs": [
    {
     "data": {
      "image/png": "[encoded data removed]",
      "text/plain": [
       "<Figure size 432x288 with 1 Axes>"
      ]
     },
     "metadata": {},
     "output_type": "display_data"
    }
   ],
   "source": [
    "y_pred_proba = logreg.predict_proba(X_test)[::,1]\n",
    "fpr, tpr, _ = metrics.roc_curve(y_test,  y_pred_proba)\n",
    "auc = metrics.roc_auc_score(y_test, y_pred_proba)\n",
    "plt.plot(fpr,tpr,label=\"data 1, auc=\"+str(auc))\n",
    "plt.legend(loc=4)\n",
    "plt.show()"
   ]
  },
  {
   "cell_type": "code",
   "execution_count": 58,
   "metadata": {},
   "outputs": [
    {
     "name": "stdout",
     "output_type": "stream",
     "text": [
      "              precision    recall  f1-score   support\n",
      "\n",
      "           0       0.85      1.00      0.92      3131\n",
      "           1       0.75      0.01      0.02       568\n",
      "\n",
      "    accuracy                           0.85      3699\n",
      "   macro avg       0.80      0.50      0.47      3699\n",
      "weighted avg       0.83      0.85      0.78      3699\n",
      "\n"
     ]
    }
   ],
   "source": [
    "target_names = ['0', '1']\n",
    "\n",
    "# print the classification report\n",
    "print(classification_report(y_test, y_pred, target_names=target_names))"
   ]
  },
  {
   "cell_type": "markdown",
   "metadata": {},
   "source": [
    "<a id = \"8020\"> <h2> Pipeline 3 </h2> </a>\n",
    "___"
   ]
  },
  {
   "cell_type": "code",
   "execution_count": 59,
   "metadata": {},
   "outputs": [],
   "source": [
    "# read csv file to a pandas dataframe\n",
    "df_pipeline3 = pd.read_csv(\"pipeline_3.csv\")"
   ]
  },
  {
   "cell_type": "code",
   "execution_count": 60,
   "metadata": {},
   "outputs": [
    {
     "name": "stdout",
     "output_type": "stream",
     "text": [
      "There are 23 features, and the target `Revenue` for pipeline 3:\n"
     ]
    },
    {
     "data": {
      "text/plain": [
       "['Administrative_yj_stdev_zscore',\n",
       " 'Month_Nov',\n",
       " 'VisitorType_New_Visitor',\n",
       " 'TrafficType_2',\n",
       " 'Month_May',\n",
       " 'TrafficType_3',\n",
       " 'add_exit_bounce_rates_yj_stdev_zscore',\n",
       " 'TrafficType_13',\n",
       " 'PageValues_yj_stdev_zscore',\n",
       " 'OperatingSystems_3',\n",
       " 'TrafficType_1',\n",
       " 'Month_Mar',\n",
       " 'TrafficType_8',\n",
       " 'SpecialDay_0.8',\n",
       " 'Month_Feb',\n",
       " 'Month_Dec',\n",
       " 'SpecialDay_0.4',\n",
       " 'TrafficType_20',\n",
       " 'Month_Oct',\n",
       " 'Region_1',\n",
       " 'Browser_12',\n",
       " 'OperatingSystems_7',\n",
       " 'TrafficType_16',\n",
       " 'Revenue']"
      ]
     },
     "execution_count": 60,
     "metadata": {},
     "output_type": "execute_result"
    }
   ],
   "source": [
    "# show all columns in dataset\n",
    "print('There are', len(df_pipeline3.columns)-1, 'features, and the target `Revenue` for pipeline 3:')\n",
    "list(df_pipeline3.columns)[:]"
   ]
  },
  {
   "cell_type": "markdown",
   "metadata": {},
   "source": [
    "> Declare Features and Target"
   ]
  },
  {
   "cell_type": "code",
   "execution_count": 61,
   "metadata": {},
   "outputs": [],
   "source": [
    "# Define Features and Target variables\n",
    "X = df_pipeline3.iloc[:, :-1] # Features is all columns in the dataframe except the last column\n",
    "Y = df_pipeline3.iloc[:, -1] # Target is the last column in the dataframe: 'Revenue'"
   ]
  },
  {
   "cell_type": "markdown",
   "metadata": {},
   "source": [
    "> Split the data"
   ]
  },
  {
   "cell_type": "code",
   "execution_count": 62,
   "metadata": {},
   "outputs": [],
   "source": [
    "# Split dataset into training set and test set \n",
    "# 70% training and 30% test\n",
    "X_train, X_test, y_train, y_test = train_test_split(X, Y, test_size=0.3,random_state=2019) "
   ]
  },
  {
   "cell_type": "markdown",
   "metadata": {},
   "source": [
    "> Model Development and Prediction"
   ]
  },
  {
   "cell_type": "code",
   "execution_count": 63,
   "metadata": {},
   "outputs": [],
   "source": [
    "# instantiate the model (using the default parameters)\n",
    "logreg = LogisticRegression(max_iter=100)\n",
    "\n",
    "# fit the model with data\n",
    "logreg.fit(X_train,y_train)\n",
    "\n",
    "# predict (y_hat) - use trained model to predict test data\n",
    "y_pred=logreg.predict(X_test)"
   ]
  },
  {
   "cell_type": "markdown",
   "metadata": {},
   "source": [
    "> Model Evaluation Using Confusion Matrix"
   ]
  },
  {
   "cell_type": "code",
   "execution_count": 64,
   "metadata": {},
   "outputs": [
    {
     "data": {
      "text/plain": [
       "array([[2962,  169],\n",
       "       [ 240,  328]])"
      ]
     },
     "execution_count": 64,
     "metadata": {},
     "output_type": "execute_result"
    }
   ],
   "source": [
    "cnf_matrix = metrics.confusion_matrix(y_test, y_pred)\n",
    "cnf_matrix"
   ]
  },
  {
   "cell_type": "markdown",
   "metadata": {},
   "source": [
    "> Vizualizing Confusion Matrix Using Heatmap"
   ]
  },
  {
   "cell_type": "code",
   "execution_count": 65,
   "metadata": {},
   "outputs": [],
   "source": [
    "%matplotlib inline\n",
    "plt.style.use('ggplot')"
   ]
  },
  {
   "cell_type": "code",
   "execution_count": 66,
   "metadata": {},
   "outputs": [
    {
     "data": {
      "text/plain": [
       "Text(0.5,257.44,'Predicted label')"
      ]
     },
     "execution_count": 66,
     "metadata": {},
     "output_type": "execute_result"
    },
    {
     "data": {
      "image/png": "[encoded data removed]",
      "text/plain": [
       "<Figure size 432x288 with 2 Axes>"
      ]
     },
     "metadata": {},
     "output_type": "display_data"
    }
   ],
   "source": [
    "class_names=[0,1] # name  of classes\n",
    "fig, ax = plt.subplots()\n",
    "tick_marks = np.arange(len(class_names))\n",
    "plt.xticks(tick_marks, class_names)\n",
    "plt.yticks(tick_marks, class_names)\n",
    "# create heatmap\n",
    "sns.heatmap(pd.DataFrame(cnf_matrix), annot=True, cmap=\"YlGnBu\" ,fmt='g')\n",
    "ax.xaxis.set_label_position(\"top\")\n",
    "plt.tight_layout()\n",
    "plt.title('Confusion matrix', y=1.1)\n",
    "plt.ylabel('Actual label')\n",
    "plt.xlabel('Predicted label')"
   ]
  },
  {
   "cell_type": "markdown",
   "metadata": {},
   "source": [
    "> Confusion Matrix Evaluation"
   ]
  },
  {
   "cell_type": "code",
   "execution_count": 67,
   "metadata": {},
   "outputs": [
    {
     "name": "stdout",
     "output_type": "stream",
     "text": [
      "Accuracy: 0.8894295755609625\n",
      "Precision: 0.6599597585513078\n",
      "Recall: 0.5774647887323944\n"
     ]
    }
   ],
   "source": [
    "print(\"Accuracy:\",metrics.accuracy_score(y_test, y_pred))\n",
    "print(\"Precision:\",metrics.precision_score(y_test, y_pred))\n",
    "print(\"Recall:\",metrics.recall_score(y_test, y_pred))"
   ]
  },
  {
   "cell_type": "code",
   "execution_count": 69,
   "metadata": {},
   "outputs": [
    {
     "name": "stdout",
     "output_type": "stream",
     "text": [
      "              precision    recall  f1-score   support\n",
      "\n",
      "           0       0.93      0.95      0.94      3131\n",
      "           1       0.66      0.58      0.62       568\n",
      "\n",
      "    accuracy                           0.89      3699\n",
      "   macro avg       0.79      0.76      0.78      3699\n",
      "weighted avg       0.88      0.89      0.89      3699\n",
      "\n"
     ]
    }
   ],
   "source": [
    "target_names = ['0', '1']\n",
    "\n",
    "# print the classification report\n",
    "print(classification_report(y_test, y_pred, target_names=target_names))"
   ]
  },
  {
   "cell_type": "markdown",
   "metadata": {},
   "source": [
    "> ROC Curve"
   ]
  },
  {
   "cell_type": "code",
   "execution_count": 68,
   "metadata": {},
   "outputs": [
    {
     "data": {
      "image/png": "[encoded data removed]",
      "text/plain": [
       "<Figure size 432x288 with 1 Axes>"
      ]
     },
     "metadata": {},
     "output_type": "display_data"
    }
   ],
   "source": [
    "y_pred_proba = logreg.predict_proba(X_test)[::,1]\n",
    "fpr, tpr, _ = metrics.roc_curve(y_test,  y_pred_proba)\n",
    "auc = metrics.roc_auc_score(y_test, y_pred_proba)\n",
    "plt.plot(fpr,tpr,label=\"data 1, auc=\"+str(auc))\n",
    "plt.legend(loc=4)\n",
    "plt.show()"
   ]
  }
 ],
 "metadata": {
  "kernelspec": {
   "display_name": "Python 3",
   "language": "python",
   "name": "python3"
  },
  "language_info": {
   "codemirror_mode": {
    "name": "ipython",
    "version": 3
   },
   "file_extension": ".py",
   "mimetype": "text/x-python",
   "name": "python",
   "nbconvert_exporter": "python",
   "pygments_lexer": "ipython3",
   "version": "3.6.7"
  }
 },
 "nbformat": 4,
 "nbformat_minor": 4
}
