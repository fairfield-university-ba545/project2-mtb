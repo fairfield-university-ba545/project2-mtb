{
 "cells": [
  {
   "cell_type": "markdown",
   "metadata": {},
   "source": [
    "# <b> Logistic Regression </b>\n",
    "___"
   ]
  },
  {
   "cell_type": "markdown",
   "metadata": {},
   "source": [
    "<b> Table of Content: </b>\n",
    "<br> [Pipeline_1](#8000)\n",
    "<br> [Pipeline 2](#8010)\n",
    "<br> [Pipeline 3](#8020)"
   ]
  },
  {
   "cell_type": "markdown",
   "metadata": {},
   "source": [
    "Loading Modules and Datasets"
   ]
  },
  {
   "cell_type": "code",
   "execution_count": 7,
   "metadata": {},
   "outputs": [],
   "source": [
    "import pandas as pd\n",
    "import numpy as np\n",
    "from sklearn import preprocessing\n",
    "from sklearn.model_selection import train_test_split\n",
    "from sklearn.naive_bayes import GaussianNB\n",
    "from sklearn import metrics\n",
    "\n",
    "# import necessary packages  \n",
    "from sklearn.datasets import make_classification\n",
    "from sklearn.preprocessing import StandardScaler \n",
    "from sklearn.metrics import confusion_matrix, classification_report \n",
    "from imblearn.over_sampling import SMOTE\n",
    "from imblearn.under_sampling import NearMiss"
   ]
  },
  {
   "cell_type": "markdown",
   "metadata": {},
   "source": [
    "<a id = \"8000\"> <h2> Pipeline 1 </h2> </a>\n",
    "___"
   ]
  },
  {
   "cell_type": "code",
   "execution_count": 8,
   "metadata": {},
   "outputs": [],
   "source": [
    "# read csv file to a pandas dataframe\n",
    "df_pipeline1 = pd.read_csv(\"pipeline_1.csv\")"
   ]
  },
  {
   "cell_type": "markdown",
   "metadata": {},
   "source": [
    "> Declare features and target"
   ]
  },
  {
   "cell_type": "code",
   "execution_count": 9,
   "metadata": {},
   "outputs": [
    {
     "data": {
      "text/plain": [
       "['Q4',\n",
       " 'VisitorType_New_Visitor',\n",
       " 'Q3',\n",
       " 'TrafficType_2',\n",
       " 'TrafficType_8',\n",
       " 'TrafficType_3',\n",
       " 'PageValues_iqr_yj_zscore',\n",
       " 'Q1',\n",
       " 'TrafficType_13',\n",
       " 'ExitRates_iqr_yj_zscore',\n",
       " 'OperatingSystems_3',\n",
       " 'Administrative_Duration_iqr_yj_zscore',\n",
       " 'TrafficType_1',\n",
       " 'SpecialDay_0.8',\n",
       " 'Month_Feb',\n",
       " 'Browser_6',\n",
       " 'SpecialDay_0.4',\n",
       " 'TrafficType_20',\n",
       " 'Informational_Duration_pp_iqr_yj_zscore',\n",
       " 'Browser_12',\n",
       " 'OperatingSystems_7',\n",
       " 'TrafficType_16',\n",
       " 'Revenue']"
      ]
     },
     "execution_count": 9,
     "metadata": {},
     "output_type": "execute_result"
    }
   ],
   "source": [
    "# show all columns in dataset\n",
    "list(df_pipeline1.columns)[:]"
   ]
  },
  {
   "cell_type": "code",
   "execution_count": 11,
   "metadata": {},
   "outputs": [
    {
     "data": {
      "text/plain": [
       "['Administrative_Duration_iqr_yj_zscore',\n",
       " 'Browser_12',\n",
       " 'Browser_6',\n",
       " 'ExitRates_iqr_yj_zscore',\n",
       " 'Informational_Duration_pp_iqr_yj_zscore',\n",
       " 'Month_Feb',\n",
       " 'OperatingSystems_3',\n",
       " 'OperatingSystems_7',\n",
       " 'PageValues_iqr_yj_zscore',\n",
       " 'Q1',\n",
       " 'Q3',\n",
       " 'Q4',\n",
       " 'SpecialDay_0.4',\n",
       " 'SpecialDay_0.8',\n",
       " 'TrafficType_1',\n",
       " 'TrafficType_13',\n",
       " 'TrafficType_16',\n",
       " 'TrafficType_2',\n",
       " 'TrafficType_20',\n",
       " 'TrafficType_3',\n",
       " 'TrafficType_8',\n",
       " 'VisitorType_New_Visitor']"
      ]
     },
     "execution_count": 11,
     "metadata": {},
     "output_type": "execute_result"
    }
   ],
   "source": [
    "# ---------------------------------------------------------------------------------------------------\n",
    "# Extract needed features as a list of columns \n",
    "# excluding target variable 'Revenue' and original object features (that were labelencoded), namely 'Month' and VisitorType'\n",
    "# ---------------------------------------------------------------------------------------------------\n",
    "## create a list of all the columns\n",
    "list_all_columns = df_pipeline1.columns.tolist()\n",
    "\n",
    "## remove features in list, which are not needed for testing for feature selection, namely:\n",
    "list_remove_features = ['Month', 'VisitorType', 'Revenue'] \n",
    "\n",
    "# Create sets of a,b\n",
    "setA = set(list_all_columns)\n",
    "setB = set(list_remove_features)\n",
    "\n",
    "# Get new set with elements that are only in a but not in b\n",
    "setlist_X_columns = setA.difference(list_remove_features)\n",
    "\n",
    "# convert set object to a list\n",
    "list_X_columns = list(setlist_X_columns)\n",
    "\n",
    "# Define dependent variables\n",
    "X = df_pipeline1[list_X_columns].to_numpy()\n",
    "\n",
    "#show the columns that need to be included as features\n",
    "## sort alphabetically\n",
    "list_X_columns.sort()\n",
    "## show list \n",
    "list_X_columns"
   ]
  },
  {
   "cell_type": "code",
   "execution_count": 12,
   "metadata": {},
   "outputs": [],
   "source": [
    "# Define Features and Target variables\n",
    "X = df_pipeline1[list_X_columns]\n",
    "Y = df_pipeline1['Revenue']"
   ]
  },
  {
   "cell_type": "markdown",
   "metadata": {},
   "source": [
    "> Split the data"
   ]
  },
  {
   "cell_type": "code",
   "execution_count": 13,
   "metadata": {},
   "outputs": [],
   "source": [
    "# Split dataset into training set and test set \n",
    "# 70% training and 30% test\n",
    "X_train, X_test, y_train, y_test = train_test_split(X, Y, test_size=0.3,random_state=2019) "
   ]
  },
  {
   "cell_type": "markdown",
   "metadata": {},
   "source": [
    "> Model Development and Prediction"
   ]
  },
  {
   "cell_type": "code",
   "execution_count": 14,
   "metadata": {},
   "outputs": [],
   "source": [
    "# import the class\n",
    "from sklearn.linear_model import LogisticRegression\n",
    "\n",
    "# instantiate the model (using the default parameters)\n",
    "logreg = LogisticRegression(max_iter=100)\n",
    "\n",
    "# fit the model with data\n",
    "logreg.fit(X_train,y_train)\n",
    "\n",
    "#\n",
    "y_pred=logreg.predict(X_test)"
   ]
  },
  {
   "cell_type": "markdown",
   "metadata": {},
   "source": [
    "> Model Evaluation Using Confusion Matrix"
   ]
  },
  {
   "cell_type": "code",
   "execution_count": 15,
   "metadata": {},
   "outputs": [
    {
     "data": {
      "text/plain": [
       "array([[2942,  189],\n",
       "       [ 240,  328]])"
      ]
     },
     "execution_count": 15,
     "metadata": {},
     "output_type": "execute_result"
    }
   ],
   "source": [
    "# import the metrics class\n",
    "from sklearn import metrics\n",
    "cnf_matrix = metrics.confusion_matrix(y_test, y_pred)\n",
    "cnf_matrix"
   ]
  },
  {
   "cell_type": "markdown",
   "metadata": {},
   "source": [
    "> Vizualizing Confusion Matrix Using Heatmap"
   ]
  },
  {
   "cell_type": "code",
   "execution_count": 16,
   "metadata": {},
   "outputs": [],
   "source": [
    "# import required modules\n",
    "import numpy as np\n",
    "import matplotlib.pyplot as plt\n",
    "import seaborn as sns\n",
    "%matplotlib inline\n",
    "plt.style.use('ggplot')"
   ]
  },
  {
   "cell_type": "code",
   "execution_count": 17,
   "metadata": {},
   "outputs": [
    {
     "data": {
      "text/plain": [
       "Text(0.5,257.44,'Predicted label')"
      ]
     },
     "execution_count": 17,
     "metadata": {},
     "output_type": "execute_result"
    },
    {
     "data": {
      "image/png": "[encoded data removed]",
      "text/plain": [
       "<Figure size 432x288 with 2 Axes>"
      ]
     },
     "metadata": {
      "needs_background": "light"
     },
     "output_type": "display_data"
    }
   ],
   "source": [
    "class_names=[0,1] # name  of classes\n",
    "fig, ax = plt.subplots()\n",
    "tick_marks = np.arange(len(class_names))\n",
    "plt.xticks(tick_marks, class_names)\n",
    "plt.yticks(tick_marks, class_names)\n",
    "# create heatmap\n",
    "sns.heatmap(pd.DataFrame(cnf_matrix), annot=True, cmap=\"YlGnBu\" ,fmt='g')\n",
    "ax.xaxis.set_label_position(\"top\")\n",
    "plt.tight_layout()\n",
    "plt.title('Confusion matrix', y=1.1)\n",
    "plt.ylabel('Actual label')\n",
    "plt.xlabel('Predicted label')"
   ]
  },
  {
   "cell_type": "markdown",
   "metadata": {},
   "source": [
    "> Confusion Matrix Evaluation"
   ]
  },
  {
   "cell_type": "code",
   "execution_count": 18,
   "metadata": {},
   "outputs": [
    {
     "name": "stdout",
     "output_type": "stream",
     "text": [
      "Accuracy: 0.884022708840227\n",
      "Precision: 0.6344294003868471\n",
      "Recall: 0.5774647887323944\n"
     ]
    }
   ],
   "source": [
    "print(\"Accuracy:\",metrics.accuracy_score(y_test, y_pred))\n",
    "print(\"Precision:\",metrics.precision_score(y_test, y_pred))\n",
    "print(\"Recall:\",metrics.recall_score(y_test, y_pred))"
   ]
  },
  {
   "cell_type": "markdown",
   "metadata": {},
   "source": [
    "> ROC Curve"
   ]
  },
  {
   "cell_type": "code",
   "execution_count": 19,
   "metadata": {},
   "outputs": [
    {
     "data": {
      "image/png": "[encoded data removed]",
      "text/plain": [
       "<Figure size 432x288 with 1 Axes>"
      ]
     },
     "metadata": {
      "needs_background": "light"
     },
     "output_type": "display_data"
    }
   ],
   "source": [
    "y_pred_proba = logreg.predict_proba(X_test)[::,1]\n",
    "fpr, tpr, _ = metrics.roc_curve(y_test,  y_pred_proba)\n",
    "auc = metrics.roc_auc_score(y_test, y_pred_proba)\n",
    "plt.plot(fpr,tpr,label=\"data 1, auc=\"+str(auc))\n",
    "plt.legend(loc=4)\n",
    "plt.show()"
   ]
  },
  {
   "cell_type": "code",
   "execution_count": 20,
   "metadata": {},
   "outputs": [
    {
     "name": "stdout",
     "output_type": "stream",
     "text": [
      "              precision    recall  f1-score   support\n",
      "\n",
      "           0       0.92      0.94      0.93      3131\n",
      "           1       0.63      0.58      0.60       568\n",
      "\n",
      "    accuracy                           0.88      3699\n",
      "   macro avg       0.78      0.76      0.77      3699\n",
      "weighted avg       0.88      0.88      0.88      3699\n",
      "\n"
     ]
    }
   ],
   "source": [
    "from sklearn.model_selection import train_test_split\n",
    "from sklearn.metrics import classification_report\n",
    "\n",
    "target_names = ['0', '1']\n",
    "\n",
    "# print the classification report\n",
    "print(classification_report(y_test, y_pred, target_names=target_names))"
   ]
  },
  {
   "cell_type": "markdown",
   "metadata": {},
   "source": [
    "<a id = \"8010\"> <h2> Pipeline 2 </h2> </a>\n",
    "___"
   ]
  },
  {
   "cell_type": "code",
   "execution_count": 21,
   "metadata": {},
   "outputs": [],
   "source": [
    "# read csv file to a pandas dataframe\n",
    "df_pipeline2 = pd.read_csv(\"pipeline_2.csv\")"
   ]
  },
  {
   "cell_type": "markdown",
   "metadata": {},
   "source": [
    "> Declare features and target"
   ]
  },
  {
   "cell_type": "code",
   "execution_count": 22,
   "metadata": {},
   "outputs": [
    {
     "data": {
      "text/plain": [
       "['TrafficType_15',\n",
       " 'Month_Nov',\n",
       " 'Administrative_Duration_mm_yj_stdev',\n",
       " 'VisitorType_New_Visitor',\n",
       " 'Informational_mm_yj_stdev',\n",
       " 'TrafficType_2',\n",
       " 'TrafficType_3',\n",
       " 'ProductRelated_mm_yj_stdev',\n",
       " 'PageValues_mm_yj_stdev',\n",
       " 'Month_May',\n",
       " 'TrafficType_13',\n",
       " 'OperatingSystems_3',\n",
       " 'TrafficType_1',\n",
       " 'add_exit_bounce_rates_mm_yj_stdev',\n",
       " 'Month_Mar',\n",
       " 'TrafficType_18',\n",
       " 'TrafficType_8',\n",
       " 'SpecialDay_0.8',\n",
       " 'Month_Feb',\n",
       " 'TrafficType_12',\n",
       " 'Browser_12',\n",
       " 'Revenue']"
      ]
     },
     "execution_count": 22,
     "metadata": {},
     "output_type": "execute_result"
    }
   ],
   "source": [
    "# show all columns in dataset\n",
    "list(df_pipeline2.columns)[:]"
   ]
  },
  {
   "cell_type": "code",
   "execution_count": 23,
   "metadata": {},
   "outputs": [
    {
     "data": {
      "text/plain": [
       "['Administrative_Duration_mm_yj_stdev',\n",
       " 'Browser_12',\n",
       " 'Informational_mm_yj_stdev',\n",
       " 'Month_Feb',\n",
       " 'Month_Mar',\n",
       " 'Month_May',\n",
       " 'Month_Nov',\n",
       " 'OperatingSystems_3',\n",
       " 'PageValues_mm_yj_stdev',\n",
       " 'ProductRelated_mm_yj_stdev',\n",
       " 'SpecialDay_0.8',\n",
       " 'TrafficType_1',\n",
       " 'TrafficType_12',\n",
       " 'TrafficType_13',\n",
       " 'TrafficType_15',\n",
       " 'TrafficType_18',\n",
       " 'TrafficType_2',\n",
       " 'TrafficType_3',\n",
       " 'TrafficType_8',\n",
       " 'VisitorType_New_Visitor',\n",
       " 'add_exit_bounce_rates_mm_yj_stdev']"
      ]
     },
     "execution_count": 23,
     "metadata": {},
     "output_type": "execute_result"
    }
   ],
   "source": [
    "# ---------------------------------------------------------------------------------------------------\n",
    "# Extract needed features as a list of columns \n",
    "# excluding target variable 'Revenue' and original object features (that were labelencoded), namely 'Month' and VisitorType'\n",
    "# ---------------------------------------------------------------------------------------------------\n",
    "## create a list of all the columns\n",
    "list_all_columns = df_pipeline2.columns.tolist()\n",
    "\n",
    "## remove features in list, which are not needed for testing for feature selection, namely:\n",
    "list_remove_features = ['Month', 'VisitorType', 'Revenue'] \n",
    "\n",
    "# Create sets of a,b\n",
    "setA = set(list_all_columns)\n",
    "setB = set(list_remove_features)\n",
    "\n",
    "# Get new set with elements that are only in a but not in b\n",
    "setlist_X_columns = setA.difference(list_remove_features)\n",
    "\n",
    "# convert set object to a list\n",
    "list_X_columns = list(setlist_X_columns)\n",
    "\n",
    "# Define dependent variables\n",
    "X = df_pipeline2[list_X_columns].to_numpy()\n",
    "\n",
    "#show the columns that need to be included as features\n",
    "## sort alphabetically\n",
    "list_X_columns.sort()\n",
    "## show list \n",
    "list_X_columns"
   ]
  },
  {
   "cell_type": "code",
   "execution_count": 24,
   "metadata": {},
   "outputs": [],
   "source": [
    "# Define Features and Target variables\n",
    "X = df_pipeline2[list_X_columns]\n",
    "Y = df_pipeline2['Revenue']"
   ]
  },
  {
   "cell_type": "markdown",
   "metadata": {},
   "source": [
    "> Split the data"
   ]
  },
  {
   "cell_type": "code",
   "execution_count": 25,
   "metadata": {},
   "outputs": [],
   "source": [
    "# Split dataset into training set and test set \n",
    "# 70% training and 30% test\n",
    "X_train, X_test, y_train, y_test = train_test_split(X, Y, test_size=0.3,random_state=2019) "
   ]
  },
  {
   "cell_type": "markdown",
   "metadata": {},
   "source": [
    "> Model Development and Prediction"
   ]
  },
  {
   "cell_type": "code",
   "execution_count": 26,
   "metadata": {},
   "outputs": [],
   "source": [
    "# import the class\n",
    "from sklearn.linear_model import LogisticRegression\n",
    "\n",
    "# instantiate the model (using the default parameters)\n",
    "logreg = LogisticRegression(max_iter=100)\n",
    "\n",
    "# fit the model with data\n",
    "logreg.fit(X_train,y_train)\n",
    "\n",
    "#\n",
    "y_pred=logreg.predict(X_test)"
   ]
  },
  {
   "cell_type": "markdown",
   "metadata": {},
   "source": [
    "> Model Evaluation Using Confusion Matrix"
   ]
  },
  {
   "cell_type": "code",
   "execution_count": 27,
   "metadata": {},
   "outputs": [
    {
     "data": {
      "text/plain": [
       "array([[3129,    2],\n",
       "       [ 562,    6]])"
      ]
     },
     "execution_count": 27,
     "metadata": {},
     "output_type": "execute_result"
    }
   ],
   "source": [
    "# import the metrics class\n",
    "from sklearn import metrics\n",
    "cnf_matrix = metrics.confusion_matrix(y_test, y_pred)\n",
    "cnf_matrix"
   ]
  },
  {
   "cell_type": "markdown",
   "metadata": {},
   "source": [
    "> Vizualizing Confusion Matrix Using Heatmap"
   ]
  },
  {
   "cell_type": "code",
   "execution_count": 28,
   "metadata": {},
   "outputs": [],
   "source": [
    "# import required modules\n",
    "import numpy as np\n",
    "import matplotlib.pyplot as plt\n",
    "import seaborn as sns\n",
    "%matplotlib inline\n",
    "plt.style.use('ggplot')"
   ]
  },
  {
   "cell_type": "code",
   "execution_count": 29,
   "metadata": {},
   "outputs": [
    {
     "data": {
      "text/plain": [
       "Text(0.5,257.44,'Predicted label')"
      ]
     },
     "execution_count": 29,
     "metadata": {},
     "output_type": "execute_result"
    },
    {
     "data": {
      "image/png": "[encoded data removed]",
      "text/plain": [
       "<Figure size 432x288 with 2 Axes>"
      ]
     },
     "metadata": {},
     "output_type": "display_data"
    }
   ],
   "source": [
    "class_names=[0,1] # name  of classes\n",
    "fig, ax = plt.subplots()\n",
    "tick_marks = np.arange(len(class_names))\n",
    "plt.xticks(tick_marks, class_names)\n",
    "plt.yticks(tick_marks, class_names)\n",
    "# create heatmap\n",
    "sns.heatmap(pd.DataFrame(cnf_matrix), annot=True, cmap=\"YlGnBu\" ,fmt='g')\n",
    "ax.xaxis.set_label_position(\"top\")\n",
    "plt.tight_layout()\n",
    "plt.title('Confusion matrix', y=1.1)\n",
    "plt.ylabel('Actual label')\n",
    "plt.xlabel('Predicted label')"
   ]
  },
  {
   "cell_type": "markdown",
   "metadata": {},
   "source": [
    "> Confusion Matrix Evaluation"
   ]
  },
  {
   "cell_type": "code",
   "execution_count": 30,
   "metadata": {},
   "outputs": [
    {
     "name": "stdout",
     "output_type": "stream",
     "text": [
      "Accuracy: 0.8475263584752636\n",
      "Precision: 0.75\n",
      "Recall: 0.01056338028169014\n"
     ]
    }
   ],
   "source": [
    "print(\"Accuracy:\",metrics.accuracy_score(y_test, y_pred))\n",
    "print(\"Precision:\",metrics.precision_score(y_test, y_pred))\n",
    "print(\"Recall:\",metrics.recall_score(y_test, y_pred))"
   ]
  },
  {
   "cell_type": "markdown",
   "metadata": {},
   "source": [
    "> ROC Curve"
   ]
  },
  {
   "cell_type": "code",
   "execution_count": 31,
   "metadata": {},
   "outputs": [
    {
     "data": {
      "image/png": "[encoded data removed]",
      "text/plain": [
       "<Figure size 432x288 with 1 Axes>"
      ]
     },
     "metadata": {},
     "output_type": "display_data"
    }
   ],
   "source": [
    "y_pred_proba = logreg.predict_proba(X_test)[::,1]\n",
    "fpr, tpr, _ = metrics.roc_curve(y_test,  y_pred_proba)\n",
    "auc = metrics.roc_auc_score(y_test, y_pred_proba)\n",
    "plt.plot(fpr,tpr,label=\"data 1, auc=\"+str(auc))\n",
    "plt.legend(loc=4)\n",
    "plt.show()"
   ]
  },
  {
   "cell_type": "code",
   "execution_count": 32,
   "metadata": {},
   "outputs": [
    {
     "name": "stdout",
     "output_type": "stream",
     "text": [
      "              precision    recall  f1-score   support\n",
      "\n",
      "           0       0.85      1.00      0.92      3131\n",
      "           1       0.75      0.01      0.02       568\n",
      "\n",
      "    accuracy                           0.85      3699\n",
      "   macro avg       0.80      0.50      0.47      3699\n",
      "weighted avg       0.83      0.85      0.78      3699\n",
      "\n"
     ]
    }
   ],
   "source": [
    "from sklearn.model_selection import train_test_split\n",
    "from sklearn.metrics import classification_report\n",
    "\n",
    "target_names = ['0', '1']\n",
    "\n",
    "# print the classification report\n",
    "print(classification_report(y_test, y_pred, target_names=target_names))"
   ]
  },
  {
   "cell_type": "markdown",
   "metadata": {},
   "source": [
    "<a id = \"8020\"> <h2> Pipeline 3 </h2> </a>\n",
    "___"
   ]
  },
  {
   "cell_type": "code",
   "execution_count": 34,
   "metadata": {},
   "outputs": [],
   "source": [
    "# read csv file to a pandas dataframe\n",
    "df_pipeline3 = pd.read_csv(\"pipeline_3.csv\")"
   ]
  },
  {
   "cell_type": "markdown",
   "metadata": {},
   "source": [
    "> Declare features and target"
   ]
  },
  {
   "cell_type": "code",
   "execution_count": 35,
   "metadata": {},
   "outputs": [
    {
     "data": {
      "text/plain": [
       "['Administrative_yj_stdev_zscore',\n",
       " 'Month_Nov',\n",
       " 'VisitorType_New_Visitor',\n",
       " 'TrafficType_2',\n",
       " 'Month_May',\n",
       " 'TrafficType_3',\n",
       " 'add_exit_bounce_rates_yj_stdev_zscore',\n",
       " 'TrafficType_13',\n",
       " 'PageValues_yj_stdev_zscore',\n",
       " 'OperatingSystems_3',\n",
       " 'TrafficType_1',\n",
       " 'Month_Mar',\n",
       " 'TrafficType_8',\n",
       " 'SpecialDay_0.8',\n",
       " 'Month_Feb',\n",
       " 'Month_Dec',\n",
       " 'SpecialDay_0.4',\n",
       " 'TrafficType_20',\n",
       " 'Month_Oct',\n",
       " 'Region_1',\n",
       " 'Browser_12',\n",
       " 'OperatingSystems_7',\n",
       " 'TrafficType_16',\n",
       " 'Revenue']"
      ]
     },
     "execution_count": 35,
     "metadata": {},
     "output_type": "execute_result"
    }
   ],
   "source": [
    "# show all columns in dataset\n",
    "list(df_pipeline3.columns)[:]"
   ]
  },
  {
   "cell_type": "code",
   "execution_count": 37,
   "metadata": {},
   "outputs": [
    {
     "data": {
      "text/plain": [
       "['Administrative_yj_stdev_zscore',\n",
       " 'Browser_12',\n",
       " 'Month_Dec',\n",
       " 'Month_Feb',\n",
       " 'Month_Mar',\n",
       " 'Month_May',\n",
       " 'Month_Nov',\n",
       " 'Month_Oct',\n",
       " 'OperatingSystems_3',\n",
       " 'OperatingSystems_7',\n",
       " 'PageValues_yj_stdev_zscore',\n",
       " 'Region_1',\n",
       " 'SpecialDay_0.4',\n",
       " 'SpecialDay_0.8',\n",
       " 'TrafficType_1',\n",
       " 'TrafficType_13',\n",
       " 'TrafficType_16',\n",
       " 'TrafficType_2',\n",
       " 'TrafficType_20',\n",
       " 'TrafficType_3',\n",
       " 'TrafficType_8',\n",
       " 'VisitorType_New_Visitor',\n",
       " 'add_exit_bounce_rates_yj_stdev_zscore']"
      ]
     },
     "execution_count": 37,
     "metadata": {},
     "output_type": "execute_result"
    }
   ],
   "source": [
    "# ---------------------------------------------------------------------------------------------------\n",
    "# Extract needed features as a list of columns \n",
    "# excluding target variable 'Revenue' and original object features (that were labelencoded), namely 'Month' and VisitorType'\n",
    "# ---------------------------------------------------------------------------------------------------\n",
    "## create a list of all the columns\n",
    "list_all_columns = df_pipeline3.columns.tolist()\n",
    "\n",
    "## remove features in list, which are not needed for testing for feature selection, namely:\n",
    "list_remove_features = ['Month', 'VisitorType', 'Revenue'] \n",
    "\n",
    "# Create sets of a,b\n",
    "setA = set(list_all_columns)\n",
    "setB = set(list_remove_features)\n",
    "\n",
    "# Get new set with elements that are only in a but not in b\n",
    "setlist_X_columns = setA.difference(list_remove_features)\n",
    "\n",
    "# convert set object to a list\n",
    "list_X_columns = list(setlist_X_columns)\n",
    "\n",
    "# Define dependent variables\n",
    "X = df_pipeline3[list_X_columns].to_numpy()\n",
    "\n",
    "#show the columns that need to be included as features\n",
    "## sort alphabetically\n",
    "list_X_columns.sort()\n",
    "## show list \n",
    "list_X_columns"
   ]
  },
  {
   "cell_type": "code",
   "execution_count": 38,
   "metadata": {},
   "outputs": [],
   "source": [
    "# Define Features and Target variables\n",
    "X = df_pipeline3[list_X_columns]\n",
    "Y = df_pipeline3['Revenue']"
   ]
  },
  {
   "cell_type": "markdown",
   "metadata": {},
   "source": [
    "> Split the data"
   ]
  },
  {
   "cell_type": "code",
   "execution_count": 39,
   "metadata": {},
   "outputs": [],
   "source": [
    "# Split dataset into training set and test set \n",
    "# 70% training and 30% test\n",
    "X_train, X_test, y_train, y_test = train_test_split(X, Y, test_size=0.3,random_state=2019) "
   ]
  },
  {
   "cell_type": "markdown",
   "metadata": {},
   "source": [
    "> Model Development and Prediction"
   ]
  },
  {
   "cell_type": "code",
   "execution_count": 40,
   "metadata": {},
   "outputs": [],
   "source": [
    "# import the class\n",
    "from sklearn.linear_model import LogisticRegression\n",
    "\n",
    "# instantiate the model (using the default parameters)\n",
    "logreg = LogisticRegression(max_iter=100)\n",
    "\n",
    "# fit the model with data\n",
    "logreg.fit(X_train,y_train)\n",
    "\n",
    "#\n",
    "y_pred=logreg.predict(X_test)"
   ]
  },
  {
   "cell_type": "markdown",
   "metadata": {},
   "source": [
    "> Model Evaluation Using Confusion Matrix"
   ]
  },
  {
   "cell_type": "code",
   "execution_count": 41,
   "metadata": {},
   "outputs": [
    {
     "data": {
      "text/plain": [
       "array([[2962,  169],\n",
       "       [ 240,  328]])"
      ]
     },
     "execution_count": 41,
     "metadata": {},
     "output_type": "execute_result"
    }
   ],
   "source": [
    "# import the metrics class\n",
    "from sklearn import metrics\n",
    "cnf_matrix = metrics.confusion_matrix(y_test, y_pred)\n",
    "cnf_matrix"
   ]
  },
  {
   "cell_type": "markdown",
   "metadata": {},
   "source": [
    "> Vizualizing Confusion Matrix Using Heatmap"
   ]
  },
  {
   "cell_type": "code",
   "execution_count": 42,
   "metadata": {},
   "outputs": [],
   "source": [
    "# import required modules\n",
    "import numpy as np\n",
    "import matplotlib.pyplot as plt\n",
    "import seaborn as sns\n",
    "%matplotlib inline\n",
    "plt.style.use('ggplot')"
   ]
  },
  {
   "cell_type": "code",
   "execution_count": 43,
   "metadata": {},
   "outputs": [
    {
     "data": {
      "text/plain": [
       "Text(0.5,257.44,'Predicted label')"
      ]
     },
     "execution_count": 43,
     "metadata": {},
     "output_type": "execute_result"
    },
    {
     "data": {
      "image/png": "[encoded data removed]",
      "text/plain": [
       "<Figure size 432x288 with 2 Axes>"
      ]
     },
     "metadata": {},
     "output_type": "display_data"
    }
   ],
   "source": [
    "class_names=[0,1] # name  of classes\n",
    "fig, ax = plt.subplots()\n",
    "tick_marks = np.arange(len(class_names))\n",
    "plt.xticks(tick_marks, class_names)\n",
    "plt.yticks(tick_marks, class_names)\n",
    "# create heatmap\n",
    "sns.heatmap(pd.DataFrame(cnf_matrix), annot=True, cmap=\"YlGnBu\" ,fmt='g')\n",
    "ax.xaxis.set_label_position(\"top\")\n",
    "plt.tight_layout()\n",
    "plt.title('Confusion matrix', y=1.1)\n",
    "plt.ylabel('Actual label')\n",
    "plt.xlabel('Predicted label')"
   ]
  },
  {
   "cell_type": "markdown",
   "metadata": {},
   "source": [
    "> Confusion Matrix Evaluation"
   ]
  },
  {
   "cell_type": "code",
   "execution_count": 44,
   "metadata": {},
   "outputs": [
    {
     "name": "stdout",
     "output_type": "stream",
     "text": [
      "Accuracy: 0.8894295755609625\n",
      "Precision: 0.6599597585513078\n",
      "Recall: 0.5774647887323944\n"
     ]
    }
   ],
   "source": [
    "print(\"Accuracy:\",metrics.accuracy_score(y_test, y_pred))\n",
    "print(\"Precision:\",metrics.precision_score(y_test, y_pred))\n",
    "print(\"Recall:\",metrics.recall_score(y_test, y_pred))"
   ]
  },
  {
   "cell_type": "markdown",
   "metadata": {},
   "source": [
    "> ROC Curve"
   ]
  },
  {
   "cell_type": "code",
   "execution_count": 45,
   "metadata": {},
   "outputs": [
    {
     "data": {
      "image/png": "[encoded data removed]",
      "text/plain": [
       "<Figure size 432x288 with 1 Axes>"
      ]
     },
     "metadata": {},
     "output_type": "display_data"
    }
   ],
   "source": [
    "y_pred_proba = logreg.predict_proba(X_test)[::,1]\n",
    "fpr, tpr, _ = metrics.roc_curve(y_test,  y_pred_proba)\n",
    "auc = metrics.roc_auc_score(y_test, y_pred_proba)\n",
    "plt.plot(fpr,tpr,label=\"data 1, auc=\"+str(auc))\n",
    "plt.legend(loc=4)\n",
    "plt.show()"
   ]
  },
  {
   "cell_type": "code",
   "execution_count": 46,
   "metadata": {},
   "outputs": [
    {
     "name": "stdout",
     "output_type": "stream",
     "text": [
      "              precision    recall  f1-score   support\n",
      "\n",
      "           0       0.93      0.95      0.94      3131\n",
      "           1       0.66      0.58      0.62       568\n",
      "\n",
      "    accuracy                           0.89      3699\n",
      "   macro avg       0.79      0.76      0.78      3699\n",
      "weighted avg       0.88      0.89      0.89      3699\n",
      "\n"
     ]
    }
   ],
   "source": [
    "from sklearn.model_selection import train_test_split\n",
    "from sklearn.metrics import classification_report\n",
    "\n",
    "target_names = ['0', '1']\n",
    "\n",
    "# print the classification report\n",
    "print(classification_report(y_test, y_pred, target_names=target_names))"
   ]
  }
 ],
 "metadata": {
  "kernelspec": {
   "display_name": "Python 3",
   "language": "python",
   "name": "python3"
  },
  "language_info": {
   "codemirror_mode": {
    "name": "ipython",
    "version": 3
   },
   "file_extension": ".py",
   "mimetype": "text/x-python",
   "name": "python",
   "nbconvert_exporter": "python",
   "pygments_lexer": "ipython3",
   "version": "3.6.7"
  }
 },
 "nbformat": 4,
 "nbformat_minor": 4
}
