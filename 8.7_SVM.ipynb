{
 "cells": [
  {
   "cell_type": "markdown",
   "metadata": {},
   "source": [
    "# <b> Support Vector Machines (SVMs) </b>\n",
    "___"
   ]
  },
  {
   "cell_type": "markdown",
   "metadata": {},
   "source": [
    "<b> Table of Content: </b>\n",
    "<br> [Pipeline_1](#8071)\n",
    "<br> [Pipeline 2](#8072)\n",
    "<br> [Pipeline 3](#8073)"
   ]
  },
  {
   "cell_type": "markdown",
   "metadata": {},
   "source": [
    "Loading Modules and Datasets"
   ]
  },
  {
   "cell_type": "code",
   "execution_count": 1,
   "metadata": {},
   "outputs": [
    {
     "name": "stderr",
     "output_type": "stream",
     "text": [
      "/opt/tljh/user/lib/python3.6/site-packages/sklearn/utils/deprecation.py:144: FutureWarning: The sklearn.neighbors.base module is  deprecated in version 0.22 and will be removed in version 0.24. The corresponding classes / functions should instead be imported from sklearn.neighbors. Anything that cannot be imported from sklearn.neighbors is now part of the private API.\n",
      "  warnings.warn(message, FutureWarning)\n",
      "/opt/tljh/user/lib/python3.6/site-packages/sklearn/utils/deprecation.py:144: FutureWarning: The sklearn.ensemble.bagging module is  deprecated in version 0.22 and will be removed in version 0.24. The corresponding classes / functions should instead be imported from sklearn.ensemble. Anything that cannot be imported from sklearn.ensemble is now part of the private API.\n",
      "  warnings.warn(message, FutureWarning)\n",
      "/opt/tljh/user/lib/python3.6/site-packages/sklearn/utils/deprecation.py:144: FutureWarning: The sklearn.ensemble.base module is  deprecated in version 0.22 and will be removed in version 0.24. The corresponding classes / functions should instead be imported from sklearn.ensemble. Anything that cannot be imported from sklearn.ensemble is now part of the private API.\n",
      "  warnings.warn(message, FutureWarning)\n",
      "/opt/tljh/user/lib/python3.6/site-packages/sklearn/utils/deprecation.py:144: FutureWarning: The sklearn.ensemble.forest module is  deprecated in version 0.22 and will be removed in version 0.24. The corresponding classes / functions should instead be imported from sklearn.ensemble. Anything that cannot be imported from sklearn.ensemble is now part of the private API.\n",
      "  warnings.warn(message, FutureWarning)\n",
      "/opt/tljh/user/lib/python3.6/site-packages/sklearn/utils/deprecation.py:144: FutureWarning: The sklearn.utils.testing module is  deprecated in version 0.22 and will be removed in version 0.24. The corresponding classes / functions should instead be imported from sklearn.utils. Anything that cannot be imported from sklearn.utils is now part of the private API.\n",
      "  warnings.warn(message, FutureWarning)\n",
      "/opt/tljh/user/lib/python3.6/site-packages/sklearn/utils/deprecation.py:144: FutureWarning: The sklearn.metrics.classification module is  deprecated in version 0.22 and will be removed in version 0.24. The corresponding classes / functions should instead be imported from sklearn.metrics. Anything that cannot be imported from sklearn.metrics is now part of the private API.\n",
      "  warnings.warn(message, FutureWarning)\n"
     ]
    }
   ],
   "source": [
    "import pandas as pd\n",
    "import numpy as np\n",
    "from sklearn import preprocessing\n",
    "from sklearn import metrics\n",
    "\n",
    "# Import `train_test_split` from `sklearn.model_selection`\n",
    "from sklearn.model_selection import train_test_split\n",
    "\n",
    "# Import the `svm` model from `sklearn`\n",
    "from sklearn import svm\n",
    "\n",
    "# import necessary packages  \n",
    "from sklearn.datasets import make_classification\n",
    "from sklearn.preprocessing import StandardScaler \n",
    "from sklearn.metrics import confusion_matrix, classification_report \n",
    "from imblearn.over_sampling import SMOTE\n",
    "from imblearn.under_sampling import NearMiss"
   ]
  },
  {
   "cell_type": "markdown",
   "metadata": {},
   "source": [
    "<a id = \"8071\"> <h2> Pipeline 1 </h2> </a>\n",
    "___"
   ]
  },
  {
   "cell_type": "code",
   "execution_count": 2,
   "metadata": {},
   "outputs": [],
   "source": [
    "# read csv file to a pandas dataframe\n",
    "df_pipeline1 = pd.read_csv(\"pipeline_1.csv\")"
   ]
  },
  {
   "cell_type": "markdown",
   "metadata": {},
   "source": [
    "> Show all features and target in dataframe"
   ]
  },
  {
   "cell_type": "code",
   "execution_count": 3,
   "metadata": {},
   "outputs": [
    {
     "data": {
      "text/plain": [
       "['Q4',\n",
       " 'VisitorType_New_Visitor',\n",
       " 'Q3',\n",
       " 'TrafficType_2',\n",
       " 'TrafficType_8',\n",
       " 'TrafficType_3',\n",
       " 'PageValues_iqr_yj_zscore',\n",
       " 'Q1',\n",
       " 'TrafficType_13',\n",
       " 'ExitRates_iqr_yj_zscore',\n",
       " 'OperatingSystems_3',\n",
       " 'Administrative_Duration_iqr_yj_zscore',\n",
       " 'TrafficType_1',\n",
       " 'SpecialDay_0.8',\n",
       " 'Month_Feb',\n",
       " 'Browser_6',\n",
       " 'SpecialDay_0.4',\n",
       " 'TrafficType_20',\n",
       " 'Informational_Duration_pp_iqr_yj_zscore',\n",
       " 'Browser_12',\n",
       " 'OperatingSystems_7',\n",
       " 'TrafficType_16',\n",
       " 'Revenue']"
      ]
     },
     "execution_count": 3,
     "metadata": {},
     "output_type": "execute_result"
    }
   ],
   "source": [
    "# show all columns in dataset\n",
    "list(df_pipeline1.columns)[:]"
   ]
  },
  {
   "cell_type": "markdown",
   "metadata": {},
   "source": [
    "> Declare Features and Target"
   ]
  },
  {
   "cell_type": "code",
   "execution_count": 4,
   "metadata": {},
   "outputs": [],
   "source": [
    "# Define Features and Target variables\n",
    "X = df_pipeline1.iloc[:, :-1] # Features is all columns in the dataframe except the last column\n",
    "Y = df_pipeline1.iloc[:, -1] # Target is the last column in the dataframe: 'Revenue'"
   ]
  },
  {
   "cell_type": "code",
   "execution_count": 5,
   "metadata": {},
   "outputs": [],
   "source": [
    "# Split dataset into training set and test set \n",
    "# 70% training and 30% test\n",
    "X_train, X_test, y_train, y_test = train_test_split(X, Y, test_size=0.3,random_state=2019) "
   ]
  },
  {
   "cell_type": "code",
   "execution_count": 6,
   "metadata": {},
   "outputs": [
    {
     "name": "stdout",
     "output_type": "stream",
     "text": [
      "              precision    recall  f1-score   support\n",
      "\n",
      "           0       0.95      0.89      0.92      3131\n",
      "           1       0.56      0.75      0.65       568\n",
      "\n",
      "    accuracy                           0.87      3699\n",
      "   macro avg       0.76      0.82      0.78      3699\n",
      "weighted avg       0.89      0.87      0.88      3699\n",
      "\n"
     ]
    }
   ],
   "source": [
    "# Create the SVC model by calling `svm.SVC()`\n",
    "# the SVC model has a series of hyper-parameters\n",
    "# for now, we are going to use the basics of the hyperparameters as follows\n",
    "# set `gamma` to 0.001 - `gamma` typically ranges from [0.001, 0.01]\n",
    "# set `C` to 100. , and then set `kernel` to 'linear'\n",
    "# name the model as `svc_model`\n",
    "svc_model = svm.SVC(gamma=0.001, C=100, kernel='linear')\n",
    "\n",
    "# Fit the data to the SVC model\n",
    "# since this is supervised learning, you need to `fit` both `X_train` and `y_train` to it\n",
    "svc_model.fit(X_train, y_train)\n",
    "\n",
    "# Predict the label of `X_test` using `.predict()`\n",
    "y_pred = svc_model.predict(X_test)\n",
    "\n",
    "# Print the classification report using comparison of `y_test` and `y_pred`\n",
    "print(classification_report(y_test, y_pred))"
   ]
  },
  {
   "cell_type": "markdown",
   "metadata": {},
   "source": [
    "<b> 1.1 Synthetic Minority Oversampling Technique (SMOTE)"
   ]
  },
  {
   "cell_type": "markdown",
   "metadata": {},
   "source": [
    "We oversample the dataset, because the classes within our target variable 'Revenue' are imbalanced:\n",
    "* class 0: 84.53%\n",
    "* class 1: 15.47%\n",
    "\n",
    "Fore more information, click on detailed information from Prof. Jie Tao [link](https://github.com/DrJieTao/ba545-docs/blob/master/competition2/handling_imbalanced_data_part2.ipynb)"
   ]
  },
  {
   "cell_type": "code",
   "execution_count": 7,
   "metadata": {},
   "outputs": [
    {
     "name": "stdout",
     "output_type": "stream",
     "text": [
      "After OverSampling, the shape of train_X: (14582, 22)\n",
      "After OverSampling, the shape of train_y: (14582,) \n",
      "\n",
      "After OverSampling, counts of label '1': 7291\n",
      "After OverSampling, counts of label '0': 7291\n"
     ]
    },
    {
     "name": "stderr",
     "output_type": "stream",
     "text": [
      "/opt/tljh/user/lib/python3.6/site-packages/sklearn/utils/deprecation.py:87: FutureWarning: Function safe_indexing is deprecated; safe_indexing is deprecated in version 0.22 and will be removed in version 0.24.\n",
      "  warnings.warn(msg, category=FutureWarning)\n"
     ]
    }
   ],
   "source": [
    "sm = SMOTE(random_state = 2019) \n",
    "X_train_res, y_train_res = sm.fit_sample(X_train, y_train) \n",
    "\n",
    "print('After OverSampling, the shape of train_X: {}'.format(X_train_res.shape)) \n",
    "print('After OverSampling, the shape of train_y: {} \\n'.format(y_train_res.shape)) \n",
    "  \n",
    "print(\"After OverSampling, counts of label '1': {}\".format(sum(y_train_res == 1))) \n",
    "print(\"After OverSampling, counts of label '0': {}\".format(sum(y_train_res == 0)))"
   ]
  },
  {
   "cell_type": "markdown",
   "metadata": {},
   "source": [
    "The SMOTE Algorithm has oversampled the instances in the minority class and made it equal to majority class:\n",
    "* Both classes (0 & 1) now have 7291 instances, the dataset is balanced.\n",
    "* Class 1 increased from 1340 instances to 7291 instances, an increase of 5951 instances of class 1."
   ]
  },
  {
   "cell_type": "code",
   "execution_count": 8,
   "metadata": {},
   "outputs": [
    {
     "name": "stdout",
     "output_type": "stream",
     "text": [
      "              precision    recall  f1-score   support\n",
      "\n",
      "           0       0.96      0.88      0.92      3131\n",
      "           1       0.55      0.78      0.64       568\n",
      "\n",
      "    accuracy                           0.87      3699\n",
      "   macro avg       0.75      0.83      0.78      3699\n",
      "weighted avg       0.89      0.87      0.88      3699\n",
      "\n"
     ]
    }
   ],
   "source": [
    "svc_model1 = svm.SVC(gamma=0.001, C=100, kernel='linear')\n",
    "\n",
    "# Fit the data to the SVC model\n",
    "# since this is supervised learning, you need to `fit` both `X_train_res` and `y_train_res` to it\n",
    "svc_model1.fit(X_train_res, y_train_res)\n",
    "\n",
    "# Predict the label of `X_test` using `.predict()`\n",
    "y_pred = svc_model1.predict(X_test)\n",
    "\n",
    "# Print the classification report using comparison of `y_test` and `y_pred`\n",
    "print(classification_report(y_test, y_pred))"
   ]
  },
  {
   "cell_type": "markdown",
   "metadata": {},
   "source": [
    "<b> 1.2 NearMiss Under-Sampling Technique"
   ]
  },
  {
   "cell_type": "code",
   "execution_count": 9,
   "metadata": {},
   "outputs": [
    {
     "name": "stdout",
     "output_type": "stream",
     "text": [
      "After Undersampling, the shape of train_X: (2680, 22)\n",
      "After Undersampling, the shape of train_y: (2680,) \n",
      "\n",
      "After Undersampling, counts of label '1': 1340\n",
      "After Undersampling, counts of label '0': 1340\n"
     ]
    },
    {
     "name": "stderr",
     "output_type": "stream",
     "text": [
      "/opt/tljh/user/lib/python3.6/site-packages/sklearn/utils/deprecation.py:87: FutureWarning: Function safe_indexing is deprecated; safe_indexing is deprecated in version 0.22 and will be removed in version 0.24.\n",
      "  warnings.warn(msg, category=FutureWarning)\n",
      "/opt/tljh/user/lib/python3.6/site-packages/sklearn/utils/deprecation.py:87: FutureWarning: Function safe_indexing is deprecated; safe_indexing is deprecated in version 0.22 and will be removed in version 0.24.\n",
      "  warnings.warn(msg, category=FutureWarning)\n",
      "/opt/tljh/user/lib/python3.6/site-packages/sklearn/utils/deprecation.py:87: FutureWarning: Function safe_indexing is deprecated; safe_indexing is deprecated in version 0.22 and will be removed in version 0.24.\n",
      "  warnings.warn(msg, category=FutureWarning)\n"
     ]
    }
   ],
   "source": [
    "# apply near miss \n",
    "nr = NearMiss(random_state=123) \n",
    "  \n",
    "X_train_miss, y_train_miss = nr.fit_sample(X_train, y_train) \n",
    "  \n",
    "print('After Undersampling, the shape of train_X: {}'.format(X_train_miss.shape)) \n",
    "print('After Undersampling, the shape of train_y: {} \\n'.format(y_train_miss.shape)) \n",
    "  \n",
    "print(\"After Undersampling, counts of label '1': {}\".format(sum(y_train_miss == 1))) \n",
    "print(\"After Undersampling, counts of label '0': {}\".format(sum(y_train_miss == 0)))"
   ]
  },
  {
   "cell_type": "markdown",
   "metadata": {},
   "source": [
    "The NearMiss Algorithm has undersampled the instances in the majority class and made it equal to minority class:\n",
    "* Both classes (0 & 1) now have 1340 instances, the dataset is balanced.\n",
    "* Class 0 decreased from 7291 instances to 1340 instances, a decrease of 5951 instances of class 0."
   ]
  },
  {
   "cell_type": "code",
   "execution_count": 10,
   "metadata": {},
   "outputs": [
    {
     "name": "stdout",
     "output_type": "stream",
     "text": [
      "              precision    recall  f1-score   support\n",
      "\n",
      "           0       0.97      0.76      0.85      3131\n",
      "           1       0.39      0.85      0.53       568\n",
      "\n",
      "    accuracy                           0.77      3699\n",
      "   macro avg       0.68      0.81      0.69      3699\n",
      "weighted avg       0.88      0.77      0.80      3699\n",
      "\n"
     ]
    }
   ],
   "source": [
    "# train the model on train set \n",
    "svc_model2 = svm.SVC(gamma=0.001, C=100, kernel='linear')\n",
    "svc_model2.fit(X_train_miss, y_train_miss) \n",
    "\n",
    "# Predict the label of `X_test` using `.predict()`\n",
    "y_pred = svc_model2.predict(X_test)\n",
    "\n",
    "# print classification report \n",
    "print(classification_report(y_test, y_pred))"
   ]
  },
  {
   "cell_type": "markdown",
   "metadata": {},
   "source": [
    "<a id = \"8072\"> <h2> Pipeline 2 </h2> </a>\n",
    "___"
   ]
  },
  {
   "cell_type": "code",
   "execution_count": 11,
   "metadata": {},
   "outputs": [],
   "source": [
    "# read csv file to a pandas dataframe\n",
    "df_pipeline2 = pd.read_csv(\"pipeline_2.csv\")"
   ]
  },
  {
   "cell_type": "markdown",
   "metadata": {},
   "source": [
    "> Show all features and target in dataframe"
   ]
  },
  {
   "cell_type": "code",
   "execution_count": 12,
   "metadata": {},
   "outputs": [
    {
     "data": {
      "text/plain": [
       "['TrafficType_15',\n",
       " 'Month_Nov',\n",
       " 'Administrative_Duration_mm_yj_stdev',\n",
       " 'VisitorType_New_Visitor',\n",
       " 'Informational_mm_yj_stdev',\n",
       " 'TrafficType_2',\n",
       " 'TrafficType_3',\n",
       " 'ProductRelated_mm_yj_stdev',\n",
       " 'PageValues_mm_yj_stdev',\n",
       " 'Month_May',\n",
       " 'TrafficType_13',\n",
       " 'OperatingSystems_3',\n",
       " 'TrafficType_1',\n",
       " 'add_exit_bounce_rates_mm_yj_stdev',\n",
       " 'Month_Mar',\n",
       " 'TrafficType_18',\n",
       " 'TrafficType_8',\n",
       " 'SpecialDay_0.8',\n",
       " 'Month_Feb',\n",
       " 'TrafficType_12',\n",
       " 'Browser_12',\n",
       " 'Revenue']"
      ]
     },
     "execution_count": 12,
     "metadata": {},
     "output_type": "execute_result"
    }
   ],
   "source": [
    "# show all columns in dataset\n",
    "list(df_pipeline2.columns)[:]"
   ]
  },
  {
   "cell_type": "markdown",
   "metadata": {},
   "source": [
    "> Declare Features and Target"
   ]
  },
  {
   "cell_type": "code",
   "execution_count": 13,
   "metadata": {},
   "outputs": [],
   "source": [
    "# Define Features and Target variables\n",
    "X = df_pipeline2.iloc[:, :-1] # Features is all columns in the dataframe except the last column\n",
    "Y = df_pipeline2.iloc[:, -1] # Target is the last column in the dataframe: 'Revenue'"
   ]
  },
  {
   "cell_type": "code",
   "execution_count": 14,
   "metadata": {},
   "outputs": [],
   "source": [
    "# Split dataset into training set and test set \n",
    "# 70% training and 30% test\n",
    "X_train, X_test, y_train, y_test = train_test_split(X, Y, test_size=0.3,random_state=2019) "
   ]
  },
  {
   "cell_type": "code",
   "execution_count": 15,
   "metadata": {},
   "outputs": [
    {
     "name": "stdout",
     "output_type": "stream",
     "text": [
      "              precision    recall  f1-score   support\n",
      "\n",
      "           0       0.94      0.92      0.93      3131\n",
      "           1       0.60      0.68      0.64       568\n",
      "\n",
      "    accuracy                           0.88      3699\n",
      "   macro avg       0.77      0.80      0.78      3699\n",
      "weighted avg       0.89      0.88      0.88      3699\n",
      "\n"
     ]
    }
   ],
   "source": [
    "# Create the SVC model by calling `svm.SVC()`\n",
    "# the SVC model has a series of hyper-parameters\n",
    "# for now, we are going to use the basics of the hyperparameters as follows\n",
    "# set `gamma` to 0.001 - `gamma` typically ranges from [0.001, 0.01]\n",
    "# set `C` to 100. , and then set `kernel` to 'linear'\n",
    "# name the model as `svc_model`\n",
    "svc_model = svm.SVC(gamma=0.001, C=100, kernel='linear')\n",
    "\n",
    "# Fit the data to the SVC model\n",
    "# since this is supervised learning, you need to `fit` both `X_train` and `y_train` to it\n",
    "svc_model.fit(X_train, y_train)\n",
    "\n",
    "# Predict the label of `X_test` using `.predict()`\n",
    "y_pred = svc_model.predict(X_test)\n",
    "\n",
    "# Print the classification report using comparison of `y_test` and `y_pred`\n",
    "print(classification_report(y_test, y_pred))"
   ]
  },
  {
   "cell_type": "markdown",
   "metadata": {},
   "source": [
    "<b> 1.1 Synthetic Minority Oversampling Technique (SMOTE)"
   ]
  },
  {
   "cell_type": "markdown",
   "metadata": {},
   "source": [
    "We oversample the dataset, because the classes within our target variable 'Revenue' are imbalanced:\n",
    "* class 0: 84.53%\n",
    "* class 1: 15.47%\n",
    "\n",
    "Fore more information, click on detailed information from Prof. Jie Tao [link](https://github.com/DrJieTao/ba545-docs/blob/master/competition2/handling_imbalanced_data_part2.ipynb)"
   ]
  },
  {
   "cell_type": "code",
   "execution_count": 16,
   "metadata": {},
   "outputs": [
    {
     "name": "stdout",
     "output_type": "stream",
     "text": [
      "After OverSampling, the shape of train_X: (14582, 21)\n",
      "After OverSampling, the shape of train_y: (14582,) \n",
      "\n",
      "After OverSampling, counts of label '1': 7291\n",
      "After OverSampling, counts of label '0': 7291\n"
     ]
    },
    {
     "name": "stderr",
     "output_type": "stream",
     "text": [
      "/opt/tljh/user/lib/python3.6/site-packages/sklearn/utils/deprecation.py:87: FutureWarning: Function safe_indexing is deprecated; safe_indexing is deprecated in version 0.22 and will be removed in version 0.24.\n",
      "  warnings.warn(msg, category=FutureWarning)\n"
     ]
    }
   ],
   "source": [
    "sm = SMOTE(random_state = 2019) \n",
    "X_train_res, y_train_res = sm.fit_sample(X_train, y_train) \n",
    "\n",
    "print('After OverSampling, the shape of train_X: {}'.format(X_train_res.shape)) \n",
    "print('After OverSampling, the shape of train_y: {} \\n'.format(y_train_res.shape)) \n",
    "  \n",
    "print(\"After OverSampling, counts of label '1': {}\".format(sum(y_train_res == 1))) \n",
    "print(\"After OverSampling, counts of label '0': {}\".format(sum(y_train_res == 0)))"
   ]
  },
  {
   "cell_type": "markdown",
   "metadata": {},
   "source": [
    "The SMOTE Algorithm has oversampled the instances in the minority class and made it equal to majority class:\n",
    "* Both classes (0 & 1) now have 7291 instances, the dataset is balanced.\n",
    "* Class 1 increased from 1340 instances to 7291 instances, an increase of 5951 instances of class 1."
   ]
  },
  {
   "cell_type": "code",
   "execution_count": 17,
   "metadata": {},
   "outputs": [
    {
     "name": "stdout",
     "output_type": "stream",
     "text": [
      "              precision    recall  f1-score   support\n",
      "\n",
      "           0       0.95      0.90      0.92      3131\n",
      "           1       0.57      0.75      0.65       568\n",
      "\n",
      "    accuracy                           0.87      3699\n",
      "   macro avg       0.76      0.82      0.79      3699\n",
      "weighted avg       0.89      0.87      0.88      3699\n",
      "\n"
     ]
    }
   ],
   "source": [
    "svc_model1 = svm.SVC(gamma=0.001, C=100, kernel='linear')\n",
    "\n",
    "# Fit the data to the SVC model\n",
    "# since this is supervised learning, you need to `fit` both `X_train_res` and `y_train_res` to it\n",
    "svc_model1.fit(X_train_res, y_train_res)\n",
    "\n",
    "# Predict the label of `X_test` using `.predict()`\n",
    "y_pred = svc_model1.predict(X_test)\n",
    "\n",
    "# Print the classification report using comparison of `y_test` and `y_pred`\n",
    "print(classification_report(y_test, y_pred))"
   ]
  },
  {
   "cell_type": "markdown",
   "metadata": {},
   "source": [
    "<b> 1.2 NearMiss Under-Sampling Technique"
   ]
  },
  {
   "cell_type": "code",
   "execution_count": 18,
   "metadata": {},
   "outputs": [
    {
     "name": "stdout",
     "output_type": "stream",
     "text": [
      "After Undersampling, the shape of train_X: (2680, 21)\n",
      "After Undersampling, the shape of train_y: (2680,) \n",
      "\n",
      "After Undersampling, counts of label '1': 1340\n",
      "After Undersampling, counts of label '0': 1340\n"
     ]
    },
    {
     "name": "stderr",
     "output_type": "stream",
     "text": [
      "/opt/tljh/user/lib/python3.6/site-packages/sklearn/utils/deprecation.py:87: FutureWarning: Function safe_indexing is deprecated; safe_indexing is deprecated in version 0.22 and will be removed in version 0.24.\n",
      "  warnings.warn(msg, category=FutureWarning)\n",
      "/opt/tljh/user/lib/python3.6/site-packages/sklearn/utils/deprecation.py:87: FutureWarning: Function safe_indexing is deprecated; safe_indexing is deprecated in version 0.22 and will be removed in version 0.24.\n",
      "  warnings.warn(msg, category=FutureWarning)\n",
      "/opt/tljh/user/lib/python3.6/site-packages/sklearn/utils/deprecation.py:87: FutureWarning: Function safe_indexing is deprecated; safe_indexing is deprecated in version 0.22 and will be removed in version 0.24.\n",
      "  warnings.warn(msg, category=FutureWarning)\n"
     ]
    }
   ],
   "source": [
    "# apply near miss \n",
    "nr = NearMiss(random_state=123) \n",
    "  \n",
    "X_train_miss, y_train_miss = nr.fit_sample(X_train, y_train) \n",
    "  \n",
    "print('After Undersampling, the shape of train_X: {}'.format(X_train_miss.shape)) \n",
    "print('After Undersampling, the shape of train_y: {} \\n'.format(y_train_miss.shape)) \n",
    "  \n",
    "print(\"After Undersampling, counts of label '1': {}\".format(sum(y_train_miss == 1))) \n",
    "print(\"After Undersampling, counts of label '0': {}\".format(sum(y_train_miss == 0)))"
   ]
  },
  {
   "cell_type": "markdown",
   "metadata": {},
   "source": [
    "The NearMiss Algorithm has undersampled the instances in the majority class and made it equal to minority class:\n",
    "* Both classes (0 & 1) now have 1340 instances, the dataset is balanced.\n",
    "* Class 0 decreased from 7291 instances to 1340 instances, a decrease of 5951 instances of class 0."
   ]
  },
  {
   "cell_type": "code",
   "execution_count": 19,
   "metadata": {},
   "outputs": [
    {
     "name": "stdout",
     "output_type": "stream",
     "text": [
      "              precision    recall  f1-score   support\n",
      "\n",
      "           0       0.94      0.65      0.77      3131\n",
      "           1       0.29      0.78      0.42       568\n",
      "\n",
      "    accuracy                           0.67      3699\n",
      "   macro avg       0.62      0.72      0.60      3699\n",
      "weighted avg       0.84      0.67      0.72      3699\n",
      "\n"
     ]
    }
   ],
   "source": [
    "# train the model on train set \n",
    "svc_model2 = svm.SVC(gamma=0.001, C=100, kernel='linear')\n",
    "svc_model2.fit(X_train_miss, y_train_miss) \n",
    "\n",
    "# Predict the label of `X_test` using `.predict()`\n",
    "y_pred = svc_model2.predict(X_test)\n",
    "\n",
    "# print classification report \n",
    "print(classification_report(y_test, y_pred))"
   ]
  },
  {
   "cell_type": "markdown",
   "metadata": {},
   "source": [
    "<a id = \"8073\"> <h2> Pipeline 3 </h2> </a>\n",
    "___"
   ]
  },
  {
   "cell_type": "code",
   "execution_count": 20,
   "metadata": {},
   "outputs": [],
   "source": [
    "# read csv file to a pandas dataframe\n",
    "df_pipeline3 = pd.read_csv(\"pipeline_3.csv\")"
   ]
  },
  {
   "cell_type": "markdown",
   "metadata": {},
   "source": [
    "> Show all features and target in dataframe"
   ]
  },
  {
   "cell_type": "code",
   "execution_count": 21,
   "metadata": {},
   "outputs": [
    {
     "data": {
      "text/plain": [
       "['Administrative_yj_stdev_zscore',\n",
       " 'Month_Nov',\n",
       " 'VisitorType_New_Visitor',\n",
       " 'TrafficType_2',\n",
       " 'Month_May',\n",
       " 'TrafficType_3',\n",
       " 'add_exit_bounce_rates_yj_stdev_zscore',\n",
       " 'TrafficType_13',\n",
       " 'PageValues_yj_stdev_zscore',\n",
       " 'OperatingSystems_3',\n",
       " 'TrafficType_1',\n",
       " 'Month_Mar',\n",
       " 'TrafficType_8',\n",
       " 'SpecialDay_0.8',\n",
       " 'Month_Feb',\n",
       " 'Month_Dec',\n",
       " 'SpecialDay_0.4',\n",
       " 'TrafficType_20',\n",
       " 'Month_Oct',\n",
       " 'Region_1',\n",
       " 'Browser_12',\n",
       " 'OperatingSystems_7',\n",
       " 'TrafficType_16',\n",
       " 'Revenue']"
      ]
     },
     "execution_count": 21,
     "metadata": {},
     "output_type": "execute_result"
    }
   ],
   "source": [
    "# show all columns in dataset\n",
    "list(df_pipeline3.columns)[:]"
   ]
  },
  {
   "cell_type": "markdown",
   "metadata": {},
   "source": [
    "> Declare Features and Target"
   ]
  },
  {
   "cell_type": "code",
   "execution_count": 22,
   "metadata": {},
   "outputs": [],
   "source": [
    "# Define Features and Target variables\n",
    "X = df_pipeline3.iloc[:, :-1] # Features is all columns in the dataframe except the last column\n",
    "Y = df_pipeline3.iloc[:, -1] # Target is the last column in the dataframe: 'Revenue'"
   ]
  },
  {
   "cell_type": "code",
   "execution_count": 23,
   "metadata": {},
   "outputs": [],
   "source": [
    "# Split dataset into training set and test set \n",
    "# 70% training and 30% test\n",
    "X_train, X_test, y_train, y_test = train_test_split(X, Y, test_size=0.3,random_state=2019) "
   ]
  },
  {
   "cell_type": "code",
   "execution_count": 24,
   "metadata": {},
   "outputs": [
    {
     "name": "stdout",
     "output_type": "stream",
     "text": [
      "              precision    recall  f1-score   support\n",
      "\n",
      "           0       0.95      0.90      0.92      3131\n",
      "           1       0.57      0.75      0.64       568\n",
      "\n",
      "    accuracy                           0.87      3699\n",
      "   macro avg       0.76      0.82      0.78      3699\n",
      "weighted avg       0.89      0.87      0.88      3699\n",
      "\n"
     ]
    }
   ],
   "source": [
    "# Create the SVC model by calling `svm.SVC()`\n",
    "# the SVC model has a series of hyper-parameters\n",
    "# for now, we are going to use the basics of the hyperparameters as follows\n",
    "# set `gamma` to 0.001 - `gamma` typically ranges from [0.001, 0.01]\n",
    "# set `C` to 100. , and then set `kernel` to 'linear'\n",
    "# name the model as `svc_model`\n",
    "svc_model = svm.SVC(gamma=0.001, C=100, kernel='linear')\n",
    "\n",
    "# Fit the data to the SVC model\n",
    "# since this is supervised learning, you need to `fit` both `X_train` and `y_train` to it\n",
    "svc_model.fit(X_train, y_train)\n",
    "\n",
    "# Predict the label of `X_test` using `.predict()`\n",
    "y_pred = svc_model.predict(X_test)\n",
    "\n",
    "# Print the classification report using comparison of `y_test` and `y_pred`\n",
    "print(classification_report(y_test, y_pred))"
   ]
  },
  {
   "cell_type": "markdown",
   "metadata": {},
   "source": [
    "<b> 1.1 Synthetic Minority Oversampling Technique (SMOTE)"
   ]
  },
  {
   "cell_type": "markdown",
   "metadata": {},
   "source": [
    "We oversample the dataset, because the classes within our target variable 'Revenue' are imbalanced:\n",
    "* class 0: 84.53%\n",
    "* class 1: 15.47%\n",
    "\n",
    "Fore more information, click on detailed information from Prof. Jie Tao [link](https://github.com/DrJieTao/ba545-docs/blob/master/competition2/handling_imbalanced_data_part2.ipynb)"
   ]
  },
  {
   "cell_type": "code",
   "execution_count": 25,
   "metadata": {},
   "outputs": [
    {
     "name": "stdout",
     "output_type": "stream",
     "text": [
      "After OverSampling, the shape of train_X: (14582, 23)\n",
      "After OverSampling, the shape of train_y: (14582,) \n",
      "\n",
      "After OverSampling, counts of label '1': 7291\n",
      "After OverSampling, counts of label '0': 7291\n"
     ]
    },
    {
     "name": "stderr",
     "output_type": "stream",
     "text": [
      "/opt/tljh/user/lib/python3.6/site-packages/sklearn/utils/deprecation.py:87: FutureWarning: Function safe_indexing is deprecated; safe_indexing is deprecated in version 0.22 and will be removed in version 0.24.\n",
      "  warnings.warn(msg, category=FutureWarning)\n"
     ]
    }
   ],
   "source": [
    "sm = SMOTE(random_state = 2019) \n",
    "X_train_res, y_train_res = sm.fit_sample(X_train, y_train) \n",
    "\n",
    "print('After OverSampling, the shape of train_X: {}'.format(X_train_res.shape)) \n",
    "print('After OverSampling, the shape of train_y: {} \\n'.format(y_train_res.shape)) \n",
    "  \n",
    "print(\"After OverSampling, counts of label '1': {}\".format(sum(y_train_res == 1))) \n",
    "print(\"After OverSampling, counts of label '0': {}\".format(sum(y_train_res == 0)))"
   ]
  },
  {
   "cell_type": "markdown",
   "metadata": {},
   "source": [
    "The SMOTE Algorithm has oversampled the instances in the minority class and made it equal to majority class:\n",
    "* Both classes (0 & 1) now have 7291 instances, the dataset is balanced.\n",
    "* Class 1 increased from 1340 instances to 7291 instances, an increase of 5951 instances of class 1."
   ]
  },
  {
   "cell_type": "code",
   "execution_count": 26,
   "metadata": {},
   "outputs": [
    {
     "name": "stdout",
     "output_type": "stream",
     "text": [
      "              precision    recall  f1-score   support\n",
      "\n",
      "           0       0.96      0.88      0.92      3131\n",
      "           1       0.55      0.78      0.64       568\n",
      "\n",
      "    accuracy                           0.87      3699\n",
      "   macro avg       0.75      0.83      0.78      3699\n",
      "weighted avg       0.89      0.87      0.88      3699\n",
      "\n"
     ]
    }
   ],
   "source": [
    "svc_model1 = svm.SVC(gamma=0.001, C=100, kernel='linear')\n",
    "\n",
    "# Fit the data to the SVC model\n",
    "# since this is supervised learning, you need to `fit` both `X_train_res` and `y_train_res` to it\n",
    "svc_model1.fit(X_train_res, y_train_res)\n",
    "\n",
    "# Predict the label of `X_test` using `.predict()`\n",
    "y_pred = svc_model1.predict(X_test)\n",
    "\n",
    "# Print the classification report using comparison of `y_test` and `y_pred`\n",
    "print(classification_report(y_test, y_pred))"
   ]
  },
  {
   "cell_type": "markdown",
   "metadata": {},
   "source": [
    "<b> 1.2 NearMiss Under-Sampling Technique"
   ]
  },
  {
   "cell_type": "code",
   "execution_count": 27,
   "metadata": {},
   "outputs": [
    {
     "name": "stdout",
     "output_type": "stream",
     "text": [
      "After Undersampling, the shape of train_X: (2680, 23)\n",
      "After Undersampling, the shape of train_y: (2680,) \n",
      "\n",
      "After Undersampling, counts of label '1': 1340\n",
      "After Undersampling, counts of label '0': 1340\n"
     ]
    },
    {
     "name": "stderr",
     "output_type": "stream",
     "text": [
      "/opt/tljh/user/lib/python3.6/site-packages/sklearn/utils/deprecation.py:87: FutureWarning: Function safe_indexing is deprecated; safe_indexing is deprecated in version 0.22 and will be removed in version 0.24.\n",
      "  warnings.warn(msg, category=FutureWarning)\n",
      "/opt/tljh/user/lib/python3.6/site-packages/sklearn/utils/deprecation.py:87: FutureWarning: Function safe_indexing is deprecated; safe_indexing is deprecated in version 0.22 and will be removed in version 0.24.\n",
      "  warnings.warn(msg, category=FutureWarning)\n",
      "/opt/tljh/user/lib/python3.6/site-packages/sklearn/utils/deprecation.py:87: FutureWarning: Function safe_indexing is deprecated; safe_indexing is deprecated in version 0.22 and will be removed in version 0.24.\n",
      "  warnings.warn(msg, category=FutureWarning)\n"
     ]
    }
   ],
   "source": [
    "# apply near miss \n",
    "nr = NearMiss(random_state=123) \n",
    "  \n",
    "X_train_miss, y_train_miss = nr.fit_sample(X_train, y_train) \n",
    "  \n",
    "print('After Undersampling, the shape of train_X: {}'.format(X_train_miss.shape)) \n",
    "print('After Undersampling, the shape of train_y: {} \\n'.format(y_train_miss.shape)) \n",
    "  \n",
    "print(\"After Undersampling, counts of label '1': {}\".format(sum(y_train_miss == 1))) \n",
    "print(\"After Undersampling, counts of label '0': {}\".format(sum(y_train_miss == 0)))"
   ]
  },
  {
   "cell_type": "markdown",
   "metadata": {},
   "source": [
    "The NearMiss Algorithm has undersampled the instances in the majority class and made it equal to minority class:\n",
    "* Both classes (0 & 1) now have 1340 instances, the dataset is balanced.\n",
    "* Class 0 decreased from 7291 instances to 1340 instances, a decrease of 5951 instances of class 0."
   ]
  },
  {
   "cell_type": "code",
   "execution_count": 28,
   "metadata": {},
   "outputs": [
    {
     "name": "stdout",
     "output_type": "stream",
     "text": [
      "              precision    recall  f1-score   support\n",
      "\n",
      "           0       0.96      0.87      0.91      3131\n",
      "           1       0.52      0.78      0.63       568\n",
      "\n",
      "    accuracy                           0.86      3699\n",
      "   macro avg       0.74      0.83      0.77      3699\n",
      "weighted avg       0.89      0.86      0.87      3699\n",
      "\n"
     ]
    }
   ],
   "source": [
    "# train the model on train set \n",
    "svc_model2 = svm.SVC(gamma=0.001, C=100, kernel='linear')\n",
    "svc_model2.fit(X_train_miss, y_train_miss) \n",
    "\n",
    "# Predict the label of `X_test` using `.predict()`\n",
    "y_pred = svc_model2.predict(X_test)\n",
    "\n",
    "# print classification report \n",
    "print(classification_report(y_test, y_pred))"
   ]
  }
 ],
 "metadata": {
  "kernelspec": {
   "display_name": "Python 3",
   "language": "python",
   "name": "python3"
  },
  "language_info": {
   "codemirror_mode": {
    "name": "ipython",
    "version": 3
   },
   "file_extension": ".py",
   "mimetype": "text/x-python",
   "name": "python",
   "nbconvert_exporter": "python",
   "pygments_lexer": "ipython3",
   "version": "3.6.7"
  }
 },
 "nbformat": 4,
 "nbformat_minor": 4
}
