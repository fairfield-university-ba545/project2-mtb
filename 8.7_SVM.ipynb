{
 "cells": [
  {
   "cell_type": "markdown",
   "metadata": {},
   "source": [
    "# <b> Support Vector Machines (SVMs) </b>\n",
    "___"
   ]
  },
  {
   "cell_type": "markdown",
   "metadata": {},
   "source": [
    "<b> Table of Content: </b>\n",
    "<br> <b> [Pipeline_1](#8071) </b>\n",
    "<br> [1.0 Basic Model: SVM](#80710)\n",
    "<br> [1.1 Oversampling (SMOTE)](#80711)\n",
    "<br> [1.2 Cross Validation (Oversampling)](#80712)\n",
    "<br> [1.3 Model Tuning (Hyperparameters)](#80713)\n",
    "<br> [1.4 Feature Importance](#80714)\n",
    "<br> <b> [Pipeline 2](#8072) </b>\n",
    "<br> [2.0 Basic Model: SVM](#80720)\n",
    "<br> [2.1 Oversampling (SMOTE)](#80721)\n",
    "<br> [2.2 Cross Validation (Oversampling)](#80722)\n",
    "<br> [2.3 Model Tuning (Hyperparameters)](#80723)\n",
    "<br> [2.4 Feature Importance](#80724)\n",
    "<br> <b> [Pipeline 3](#8073) </b>\n",
    "<br> [3.0 Basic Model: SVM](#80730)\n",
    "<br> [3.1 Oversampling (SMOTE)](#80731)\n",
    "<br> [3.2 Cross Validation (Oversampling)](#80732)\n",
    "<br> [3.3 Model Tuning (Hyperparameters)](#80733)\n",
    "<br> [3.4 Feature Importance](#80734)\n",
    "<br> <b> [Results](#8074) </b>"
   ]
  },
  {
   "cell_type": "markdown",
   "metadata": {},
   "source": [
    "Loading Modules and Datasets"
   ]
  },
  {
   "cell_type": "code",
   "execution_count": 1,
   "metadata": {},
   "outputs": [
    {
     "name": "stderr",
     "output_type": "stream",
     "text": [
      "/opt/tljh/user/lib/python3.6/site-packages/sklearn/utils/deprecation.py:144: FutureWarning: The sklearn.neighbors.base module is  deprecated in version 0.22 and will be removed in version 0.24. The corresponding classes / functions should instead be imported from sklearn.neighbors. Anything that cannot be imported from sklearn.neighbors is now part of the private API.\n",
      "  warnings.warn(message, FutureWarning)\n",
      "/opt/tljh/user/lib/python3.6/site-packages/sklearn/utils/deprecation.py:144: FutureWarning: The sklearn.ensemble.bagging module is  deprecated in version 0.22 and will be removed in version 0.24. The corresponding classes / functions should instead be imported from sklearn.ensemble. Anything that cannot be imported from sklearn.ensemble is now part of the private API.\n",
      "  warnings.warn(message, FutureWarning)\n",
      "/opt/tljh/user/lib/python3.6/site-packages/sklearn/utils/deprecation.py:144: FutureWarning: The sklearn.ensemble.base module is  deprecated in version 0.22 and will be removed in version 0.24. The corresponding classes / functions should instead be imported from sklearn.ensemble. Anything that cannot be imported from sklearn.ensemble is now part of the private API.\n",
      "  warnings.warn(message, FutureWarning)\n",
      "/opt/tljh/user/lib/python3.6/site-packages/sklearn/utils/deprecation.py:144: FutureWarning: The sklearn.ensemble.forest module is  deprecated in version 0.22 and will be removed in version 0.24. The corresponding classes / functions should instead be imported from sklearn.ensemble. Anything that cannot be imported from sklearn.ensemble is now part of the private API.\n",
      "  warnings.warn(message, FutureWarning)\n",
      "/opt/tljh/user/lib/python3.6/site-packages/sklearn/utils/deprecation.py:144: FutureWarning: The sklearn.utils.testing module is  deprecated in version 0.22 and will be removed in version 0.24. The corresponding classes / functions should instead be imported from sklearn.utils. Anything that cannot be imported from sklearn.utils is now part of the private API.\n",
      "  warnings.warn(message, FutureWarning)\n",
      "/opt/tljh/user/lib/python3.6/site-packages/sklearn/utils/deprecation.py:144: FutureWarning: The sklearn.metrics.classification module is  deprecated in version 0.22 and will be removed in version 0.24. The corresponding classes / functions should instead be imported from sklearn.metrics. Anything that cannot be imported from sklearn.metrics is now part of the private API.\n",
      "  warnings.warn(message, FutureWarning)\n"
     ]
    }
   ],
   "source": [
    "import pandas as pd\n",
    "import numpy as np\n",
    "from sklearn import preprocessing\n",
    "from sklearn import metrics\n",
    "\n",
    "# Import `train_test_split` from `sklearn.model_selection`\n",
    "from sklearn.model_selection import train_test_split\n",
    "\n",
    "# Import the `svm` model from `sklearn`\n",
    "from sklearn import svm\n",
    "\n",
    "# import necessary packages  \n",
    "from sklearn.datasets import make_classification\n",
    "from sklearn.preprocessing import StandardScaler \n",
    "from sklearn.metrics import confusion_matrix, classification_report \n",
    "from imblearn.over_sampling import SMOTE\n",
    "from imblearn.under_sampling import NearMiss\n",
    "\n",
    "# Cross Validation packages\n",
    "from sklearn.model_selection import KFold\n",
    "from sklearn.model_selection import cross_val_score\n",
    "\n",
    "# import oversampling and undersampling packages\n",
    "from imblearn.over_sampling import SMOTE\n",
    "from imblearn.under_sampling import NearMiss\n",
    "\n",
    "# import module (to test execution time of a codeblock to run)\n",
    "import time\n",
    "\n",
    "# import warnings to be able to ignore warnings in codeblocks\n",
    "import warnings"
   ]
  },
  {
   "cell_type": "code",
   "execution_count": 2,
   "metadata": {},
   "outputs": [
    {
     "name": "stdout",
     "output_type": "stream",
     "text": [
      "Automatically created module for IPython interactive environment\n"
     ]
    }
   ],
   "source": [
    "# packages for Receiver Operating Characteristic (ROC) with cross validation\n",
    "# source: https://scikit-learn.org/0.18/auto_examples/model_selection/plot_roc_crossval.html\n",
    "print(__doc__)\n",
    "\n",
    "import numpy as np\n",
    "from scipy import interp\n",
    "import matplotlib.pyplot as plt\n",
    "from itertools import cycle\n",
    "\n",
    "from sklearn import svm, datasets\n",
    "from sklearn.metrics import roc_curve, auc\n",
    "from sklearn.model_selection import StratifiedKFold\n",
    "from sklearn.metrics import plot_roc_curve"
   ]
  },
  {
   "cell_type": "markdown",
   "metadata": {},
   "source": [
    "<a id = \"8071\"> <h2> Pipeline 1 </h2> </a>\n",
    "___"
   ]
  },
  {
   "cell_type": "code",
   "execution_count": 3,
   "metadata": {},
   "outputs": [],
   "source": [
    "# read csv file to a pandas dataframe\n",
    "df_pipeline1 = pd.read_csv(\"pipeline_1.csv\")"
   ]
  },
  {
   "cell_type": "markdown",
   "metadata": {},
   "source": [
    "> Show all features and target in dataframe"
   ]
  },
  {
   "cell_type": "code",
   "execution_count": 4,
   "metadata": {},
   "outputs": [
    {
     "name": "stdout",
     "output_type": "stream",
     "text": [
      "There are 22 features, and the target `Revenue` for pipeline 1:\n"
     ]
    },
    {
     "data": {
      "text/plain": [
       "['Q4',\n",
       " 'VisitorType_New_Visitor',\n",
       " 'Q3',\n",
       " 'TrafficType_2',\n",
       " 'TrafficType_8',\n",
       " 'TrafficType_3',\n",
       " 'PageValues_iqr_yj_zscore',\n",
       " 'Q1',\n",
       " 'TrafficType_13',\n",
       " 'ExitRates_iqr_yj_zscore',\n",
       " 'OperatingSystems_3',\n",
       " 'Administrative_Duration_iqr_yj_zscore',\n",
       " 'TrafficType_1',\n",
       " 'SpecialDay_0.8',\n",
       " 'Month_Feb',\n",
       " 'Browser_6',\n",
       " 'SpecialDay_0.4',\n",
       " 'TrafficType_20',\n",
       " 'Informational_Duration_pp_iqr_yj_zscore',\n",
       " 'Browser_12',\n",
       " 'OperatingSystems_7',\n",
       " 'TrafficType_16',\n",
       " 'Revenue']"
      ]
     },
     "execution_count": 4,
     "metadata": {},
     "output_type": "execute_result"
    }
   ],
   "source": [
    "# show all columns in dataset\n",
    "print('There are', len(df_pipeline1.columns)-1, 'features, and the target `Revenue` for pipeline 1:')\n",
    "list(df_pipeline1.columns)"
   ]
  },
  {
   "cell_type": "markdown",
   "metadata": {},
   "source": [
    "<a id = \"80710\"> <h2> 1.0 Basic Model: SVM </h2> </a>"
   ]
  },
  {
   "cell_type": "markdown",
   "metadata": {},
   "source": [
    "<b> Declare Features and Target"
   ]
  },
  {
   "cell_type": "code",
   "execution_count": 5,
   "metadata": {},
   "outputs": [],
   "source": [
    "# Define Features and Target variables\n",
    "X = df_pipeline1.iloc[:, :-1] # Features is all columns in the dataframe except the last column\n",
    "Y = df_pipeline1.iloc[:, -1] # Target is the last column in the dataframe: 'Revenue'"
   ]
  },
  {
   "cell_type": "code",
   "execution_count": 6,
   "metadata": {},
   "outputs": [],
   "source": [
    "# Split dataset into training set and test set \n",
    "# 70% training and 30% test\n",
    "X_train, X_test, y_train, y_test = train_test_split(X, Y, test_size=0.3,random_state=2019) "
   ]
  },
  {
   "cell_type": "code",
   "execution_count": 7,
   "metadata": {},
   "outputs": [
    {
     "name": "stdout",
     "output_type": "stream",
     "text": [
      "              precision    recall  f1-score   support\n",
      "\n",
      "           0       0.93      0.95      0.94      3131\n",
      "           1       0.68      0.59      0.63       568\n",
      "\n",
      "    accuracy                           0.89      3699\n",
      "   macro avg       0.80      0.77      0.78      3699\n",
      "weighted avg       0.89      0.89      0.89      3699\n",
      "\n",
      "--- Execution time: ---\n",
      "--- 8956.017ms. --- \n",
      "--- 8.956016540527344 seconds ---\n",
      "--- 0.1492669423421224 minutes ---\n"
     ]
    }
   ],
   "source": [
    "# set the start time\n",
    "start = time.time()\n",
    "\n",
    "# Create the SVC model by calling `svm.SVC()`\n",
    "# the SVC model has a series of hyper-parameters\n",
    "# for now, we are going to use the basics of the hyperparameters as follows\n",
    "# set `gamma` to 0.001 - `gamma` typically ranges from [0.001, 0.01]\n",
    "# set `C` to 100. , and then set `kernel` to 'linear'\n",
    "# name the model as `svc_model`\n",
    "svc_model = svm.SVC(probability=True)\n",
    "\n",
    "# Fit the data to the SVC model\n",
    "# since this is supervised learning, you need to `fit` both `X_train` and `y_train` to it\n",
    "svc_model.fit(X_train, y_train)\n",
    "\n",
    "# Predict the label of `X_test` using `.predict()`\n",
    "y_pred = svc_model.predict(X_test)\n",
    "\n",
    "# Print the classification report using comparison of `y_test` and `y_pred`\n",
    "print(classification_report(y_test, y_pred))\n",
    "\n",
    "# get the time it takes for the gridsearch to run\n",
    "# source: https://blog.softhints.com/python-test-performance-and-measure-time-elapsed-in-seconds/\n",
    "# set the end time\n",
    "end = time.time()\n",
    "\n",
    "# get the elapsed execution time\n",
    "execution_time = end - start\n",
    "print(\"--- Execution time: ---\")\n",
    "print ('--- %0.3fms. --- ' % ( execution_time*1000.))\n",
    "print(\"--- %s seconds ---\" % (execution_time))\n",
    "print(\"--- %s minutes ---\" % (execution_time/60))"
   ]
  },
  {
   "cell_type": "markdown",
   "metadata": {},
   "source": [
    "<b> ROC Curve with AUC score"
   ]
  },
  {
   "cell_type": "code",
   "execution_count": 8,
   "metadata": {},
   "outputs": [],
   "source": [
    "# define a function to plot the roc_curve and AUC score using variables: X_test and y_test\n",
    "def roc_curve(X_test=X_test, y_test=y_test, model=svc_model):\n",
    "    # set the style of the graph\n",
    "    plt.style.use('Solarize_Light2')\n",
    "\n",
    "    # predict_proba gives you the probabilities for the target (0 and 1 in your case) in array form in dimension (N,2). \n",
    "    # The first index refers to the probability that the data belong to class 0, and the second refers to the probability that the data belong to class 1. \n",
    "    # we define a variable with an array of the probabilities that each observation belongs to class 1 (with [:,1], where model.predict_proba(X_test)[:,0] refers to the array it belongs to class 0)\n",
    "    y_pred_proba = model.predict_proba(X_test)[:,1]\n",
    "\n",
    "    # define false positive rate (fpr) and the true positive rate (tpr)\n",
    "    fpr, tpr, _ = metrics.roc_curve(y_test,  y_pred_proba)\n",
    "\n",
    "    # Compute Area Under the Receiver Operating Characteristic Curve (ROC AUC) from prediction scores.\n",
    "    # source: https://scikit-learn.org/stable/modules/generated/sklearn.metrics.roc_auc_score.html\n",
    "    auc = metrics.roc_auc_score(y_test, y_pred_proba)\n",
    "\n",
    "    # plot on the X-axis: the false positive rate\n",
    "    # plot on the Y-axis: the true positive rate\n",
    "    # with the legend having the auc score\n",
    "    plt.plot(fpr,tpr,label='AUC = %0.2f' % auc)\n",
    "    # positioning of the legend\n",
    "    plt.legend(loc=4)\n",
    "    # define the title of the plot\n",
    "    plt.title('Receiver Operating Characteristic (ROC)')\n",
    "    # define the y axis label\n",
    "    plt.ylabel('True Positive Rate')\n",
    "    # define the x axis label\n",
    "    plt.xlabel('False Positive Rate')\n",
    "    # plot a straight dashed line in the color red\n",
    "    plt.plot([0, 1], [0, 1],'r--')\n",
    "    # show the plot\n",
    "    plt.show()\n",
    "    # print out full AUC score\n",
    "    print('AUC score:', auc)"
   ]
  },
  {
   "cell_type": "code",
   "execution_count": 9,
   "metadata": {},
   "outputs": [
    {
     "data": {
      "image/png": "[encoded data removed]",
      "text/plain": [
       "<Figure size 432x288 with 1 Axes>"
      ]
     },
     "metadata": {},
     "output_type": "display_data"
    },
    {
     "name": "stdout",
     "output_type": "stream",
     "text": [
      "AUC score: 0.8891525454226477\n"
     ]
    }
   ],
   "source": [
    "# apply function to plot the ROC Curve\n",
    "roc_curve(X_test=X_test, y_test=y_test, model=svc_model)"
   ]
  },
  {
   "cell_type": "markdown",
   "metadata": {},
   "source": [
    "<a id = \"80711\"> <h2> 1.1 Oversampling (SMOTE) </h2> </a>"
   ]
  },
  {
   "cell_type": "markdown",
   "metadata": {},
   "source": [
    "We oversample the dataset, because the classes within our target variable 'Revenue' are imbalanced:\n",
    "* class 0: 84.53%\n",
    "* class 1: 15.47%\n",
    "\n",
    "Fore more information, click on detailed information from Prof. Jie Tao [link](https://github.com/DrJieTao/ba545-docs/blob/master/competition2/handling_imbalanced_data_part2.ipynb)"
   ]
  },
  {
   "cell_type": "code",
   "execution_count": 10,
   "metadata": {},
   "outputs": [
    {
     "name": "stdout",
     "output_type": "stream",
     "text": [
      "After OverSampling, the shape of train_X: (14582, 22)\n",
      "After OverSampling, the shape of train_y: (14582,) \n",
      "\n",
      "After OverSampling, counts of label '1': 7291\n",
      "After OverSampling, counts of label '0': 7291\n"
     ]
    },
    {
     "name": "stderr",
     "output_type": "stream",
     "text": [
      "/opt/tljh/user/lib/python3.6/site-packages/sklearn/utils/deprecation.py:87: FutureWarning: Function safe_indexing is deprecated; safe_indexing is deprecated in version 0.22 and will be removed in version 0.24.\n",
      "  warnings.warn(msg, category=FutureWarning)\n"
     ]
    }
   ],
   "source": [
    "sm = SMOTE(random_state = 2019) \n",
    "X_train_res, y_train_res = sm.fit_sample(X_train, y_train) \n",
    "\n",
    "print('After OverSampling, the shape of train_X: {}'.format(X_train_res.shape)) \n",
    "print('After OverSampling, the shape of train_y: {} \\n'.format(y_train_res.shape)) \n",
    "  \n",
    "print(\"After OverSampling, counts of label '1': {}\".format(sum(y_train_res == 1))) \n",
    "print(\"After OverSampling, counts of label '0': {}\".format(sum(y_train_res == 0)))"
   ]
  },
  {
   "cell_type": "markdown",
   "metadata": {},
   "source": [
    "The SMOTE Algorithm has oversampled the instances in the minority class and made it equal to majority class:\n",
    "* Both classes (0 & 1) now have 7291 instances, the dataset is balanced.\n",
    "* Class 1 increased from 1340 instances to 7291 instances, an increase of 5951 instances of class 1."
   ]
  },
  {
   "cell_type": "code",
   "execution_count": 11,
   "metadata": {},
   "outputs": [
    {
     "name": "stdout",
     "output_type": "stream",
     "text": [
      "              precision    recall  f1-score   support\n",
      "\n",
      "           0       0.96      0.86      0.91      3131\n",
      "           1       0.51      0.80      0.62       568\n",
      "\n",
      "    accuracy                           0.85      3699\n",
      "   macro avg       0.73      0.83      0.76      3699\n",
      "weighted avg       0.89      0.85      0.86      3699\n",
      "\n"
     ]
    }
   ],
   "source": [
    "svc_model1 = svm.SVC(probability=True)\n",
    "\n",
    "# Fit the data to the SVC model\n",
    "# since this is supervised learning, you need to `fit` both `X_train_res` and `y_train_res` to it\n",
    "svc_model1.fit(X_train_res, y_train_res)\n",
    "\n",
    "# Predict the label of `X_test` using `.predict()`\n",
    "y_pred = svc_model1.predict(X_test)\n",
    "\n",
    "# Print the classification report using comparison of `y_test` and `y_pred`\n",
    "print(classification_report(y_test, y_pred))"
   ]
  },
  {
   "cell_type": "code",
   "execution_count": 12,
   "metadata": {},
   "outputs": [
    {
     "data": {
      "image/png": "[encoded data removed]",
      "text/plain": [
       "<Figure size 432x288 with 1 Axes>"
      ]
     },
     "metadata": {},
     "output_type": "display_data"
    },
    {
     "name": "stdout",
     "output_type": "stream",
     "text": [
      "AUC score: 0.8956679232212181\n"
     ]
    }
   ],
   "source": [
    "# apply function to plot the ROC Curve\n",
    "roc_curve(X_test=X_test, y_test=y_test, model=svc_model1)"
   ]
  },
  {
   "cell_type": "markdown",
   "metadata": {},
   "source": [
    "<a id = \"80712\"> <h2> 1.2 Cross Validation (Oversampling) </h2> </a>\n",
    "For more information on the topic, please click the following [link](https://stackabuse.com/cross-validation-and-grid-search-for-model-selection-in-python/).\n",
    "<br> The details of the package are noted [here](https://scikit-learn.org/stable/modules/generated/sklearn.model_selection.KFold.html)."
   ]
  },
  {
   "cell_type": "code",
   "execution_count": 13,
   "metadata": {},
   "outputs": [
    {
     "name": "stdout",
     "output_type": "stream",
     "text": [
      "--------------------------------------------------------------------------\n",
      "All the weighted f1 results:\n",
      "--------------------------------------------------------------------------\n",
      "[0.84098698 0.87178786 0.86215568 0.86697859 0.85177155 0.86419549\n",
      " 0.86690293 0.8669861  0.84978088 0.86486719] \n",
      "\n",
      "--------------------------------------------------------------------------\n",
      "Average of all the weighted f1 results:\n",
      "--------------------------------------------------------------------------\n",
      "0.8606 \n",
      "\n"
     ]
    }
   ],
   "source": [
    "# Build the k-fold cross-validator\n",
    "k_fold_split = 10\n",
    "kfold = KFold(n_splits=k_fold_split, random_state=2019, shuffle=True)\n",
    "\n",
    "# note: only a single metric is permitted for parameter 'scoring'\n",
    "# for all parameters for scoring, see source:https://scikit-learn.org/stable/modules/model_evaluation.html#scoring-parameter\n",
    "result_f1_weighted = cross_val_score(svc_model1, X_train_res, y_train_res, cv=kfold, scoring='f1_weighted')\n",
    "\n",
    "print('--------------------------------------------------------------------------')\n",
    "print('All the weighted f1 results:')\n",
    "print('--------------------------------------------------------------------------')\n",
    "print(result_f1_weighted, '\\n')\n",
    "\n",
    "print('--------------------------------------------------------------------------')\n",
    "print('Average of all the weighted f1 results:')\n",
    "print('--------------------------------------------------------------------------')\n",
    "print(round(result_f1_weighted.mean(), 4), '\\n')"
   ]
  },
  {
   "cell_type": "code",
   "execution_count": 14,
   "metadata": {},
   "outputs": [
    {
     "data": {
      "image/png": "[encoded data removed]",
      "text/plain": [
       "<Figure size 432x288 with 1 Axes>"
      ]
     },
     "metadata": {},
     "output_type": "display_data"
    },
    {
     "name": "stdout",
     "output_type": "stream",
     "text": [
      "AUC score: 0.8956679232212181\n"
     ]
    }
   ],
   "source": [
    "# apply function to plot the ROC Curve\n",
    "roc_curve(X_test=X_test, y_test=y_test, model=svc_model1)"
   ]
  },
  {
   "cell_type": "markdown",
   "metadata": {},
   "source": [
    "<a id = \"80713\"> <h2> 1.3 Model Tuning (Hyperparameters) </h2> </a>\n",
    "To see the hyper-parameters of the SVM model, please refer to the following [link](https://scikit-learn.org/stable/modules/generated/sklearn.svm.SVC.html)."
   ]
  },
  {
   "cell_type": "markdown",
   "metadata": {},
   "source": [
    "<b> Define Grid"
   ]
  },
  {
   "cell_type": "code",
   "execution_count": 15,
   "metadata": {},
   "outputs": [],
   "source": [
    "# Set the hyper-parameter grid\n",
    "# source: https://towardsdatascience.com/svm-hyper-parameter-tuning-using-gridsearchcv-49c0bc55ce29\n",
    "C = [0.1, 1, 10, 100]\n",
    "#kernel=['linear', 'poly', 'rbf', 'sigmoid', 'precomputed']\n",
    "kernel=['linear']\n",
    "#degree=[1, 2, 3]\n",
    "gamma=[1,0.1,0.01,0.001]\n",
    "#shrinking=[True, False]\n",
    "#probability=[True, False]\n",
    "\n",
    "param_grid = dict(C=C, \n",
    "                  gamma=gamma, \n",
    "                  kernel=kernel)   \n",
    "                  #degree=degree, \n",
    "                  #shrinking=shrinking, \n",
    "                  #probability=probability)"
   ]
  },
  {
   "cell_type": "markdown",
   "metadata": {},
   "source": [
    "<b> Hyper-parameter tweaking on oversampled training set"
   ]
  },
  {
   "cell_type": "code",
   "execution_count": null,
   "metadata": {},
   "outputs": [],
   "source": [
    "from sklearn.model_selection import GridSearchCV\n",
    "# set the start time\n",
    "start = time.time()\n",
    "\n",
    "# define the model\n",
    "svc_model = svm.SVC()\n",
    "\n",
    "# Create a grid search object\n",
    "# source: https://towardsdatascience.com/svm-hyper-parameter-tuning-using-gridsearchcv-49c0bc55ce29\n",
    "grid = GridSearchCV(svc_model, param_grid=param_grid, cv = 3)\n",
    "#grid = GridSearchCV(svc_model, param_grid=param_grid, refit=True,verbose=2, cv=3, n_jobs=-1)\n",
    "# Fit the grid search (Fitting your model to the training data)\n",
    "grid_result = grid.fit(X_train_res, y_train_res)\n",
    "\n",
    "# define each optimal parameter as a new variable\n",
    "optimal_C = grid.best_estimator_.get_params()['C']\n",
    "optimal_gamma = grid.best_estimator_.get_params()['gamma']\n",
    "optimal_kernel = grid.best_estimator_.get_params()['kernel']\n",
    "#optimal_degree = grid.best_estimator_.get_params()['degree']\n",
    "#optimal_shrinking = grid.best_estimator_.get_params()['shrinking']\n",
    "#optimal_probability = grid.best_estimator_.get_params()['probability']\n",
    "\n",
    "# Summarize results\n",
    "print(\"Best: %f using %s\" % (grid_result.best_score_, grid_result.best_params_))\n",
    "\n",
    "# get the time it takes for the gridsearch to run\n",
    "# source: https://blog.softhints.com/python-test-performance-and-measure-time-elapsed-in-seconds/\n",
    "# set the end time\n",
    "end = time.time()\n",
    "\n",
    "# get the elapsed execution time\n",
    "execution_time = end - start\n",
    "print(\"--- Execution time: ---\")\n",
    "print ('--- %0.3fms. --- ' % ( execution_time*1000.))\n",
    "print(\"--- %s seconds ---\" % (execution_time))\n",
    "print(\"--- %s minutes ---\" % (execution_time/60))"
   ]
  },
  {
   "cell_type": "markdown",
   "metadata": {},
   "source": [
    "<b>----------------------- TEST 1 Gridsearch -----------------------\n",
    "<br> Optimal parameters for C, gamma, kernel with tested grid: </b>\n",
    "<br> Best: 0.907833 using {'C': 100, 'gamma': 1, 'kernel': 'rbf'}\n",
    "<br> --- Execution time: ---\n",
    "<br> --- 28549844.831ms. --- \n",
    "<br> --- 28549.844831228256 seconds ---\n",
    "<br> --- 475.8307471871376 minutes ---\n",
    "<br> <b> Grid used:  \n",
    "* C = [0.1, 1, 10, 100]\n",
    "* kernel=['rbf', 'poly', 'sigmoid']\n",
    "* gamma=[1,0.1,0.01,0.001]\n",
    "    \n",
    "-> average weighted F1 score was around 0.91 and the average auc with kfold was around 0.95 "
   ]
  },
  {
   "cell_type": "markdown",
   "metadata": {},
   "source": [
    "<b> Applying the optimal hyper-parameters on oversampled training set"
   ]
  },
  {
   "cell_type": "code",
   "execution_count": null,
   "metadata": {},
   "outputs": [],
   "source": [
    "# apply the optimal hyper-parameters to the Logistic Regression Model\n",
    "svc_model3 = svm.SVC(C=optimal_C, \n",
    "                     kernel=optimal_kernel,\n",
    "                     #degree=optimal_degree,\n",
    "                     gamma=optimal_gamma)\n",
    "                     #shrinking=optimal_shrinking,\n",
    "                     #probability=optimal_probability,\n",
    "                     #random_state=optimal_random_state)\n",
    "\n",
    "# fit/train the model with oversampled training set\n",
    "svc_model3.fit(X_train_res, y_train_res)\n",
    "\n",
    "# predict the testing set\n",
    "y_pred=svc_model3.predict(X_test)\n",
    "\n",
    "# print out the classification report\n",
    "print(classification_report(y_test, y_pred))"
   ]
  },
  {
   "cell_type": "markdown",
   "metadata": {},
   "source": [
    "<b> Average Weighted F1 score and Average AUC score with Cross validation"
   ]
  },
  {
   "cell_type": "code",
   "execution_count": null,
   "metadata": {},
   "outputs": [],
   "source": [
    "# ignore warnings\n",
    "warnings.filterwarnings(\"ignore\")\n",
    "\n",
    "# Build the k-fold cross-validator\n",
    "k_fold_split = 10\n",
    "kfold = KFold(n_splits=k_fold_split, random_state=2019, shuffle=True)\n",
    "#result = cross_val_score(gnb, X, Y, cv=kfold, scoring='accuracy')\n",
    "# note: only a single metric is permitted for parameter 'scoring'\n",
    "# for all parameters for scoring, see source:https://scikit-learn.org/stable/modules/model_evaluation.html#scoring-parameter\n",
    "result_f1_weighted = cross_val_score(svc_model3, X_train_res, y_train_res, cv=kfold, scoring='f1_weighted')\n",
    "result_auc_weighted = cross_val_score(svc_model3, X_train_res, y_train_res, cv=kfold, scoring='roc_auc')\n",
    "print('--------------------------------------------------------------------------')\n",
    "print('All the weighted f1 results:')\n",
    "print('--------------------------------------------------------------------------')\n",
    "print(result_f1_weighted, '\\n')\n",
    "\n",
    "print('--------------------------------------------------------------------------')\n",
    "print('Average of all the weighted f1 results:')\n",
    "print('--------------------------------------------------------------------------')\n",
    "print(round(result_f1_weighted.mean(), 4), '\\n')\n",
    "\n",
    "print('--------------------------------------------------------------------------')\n",
    "print('All the AUC scores:')\n",
    "print('--------------------------------------------------------------------------')\n",
    "print(result_auc_weighted, '\\n')\n",
    "\n",
    "print('--------------------------------------------------------------------------')\n",
    "print('Average of all the AUC scores:')\n",
    "print('--------------------------------------------------------------------------')\n",
    "print(round(result_auc_weighted.mean(), 4), '\\n')\n",
    "\n",
    "# reset the warnings for future code\n",
    "warnings.resetwarnings()"
   ]
  },
  {
   "cell_type": "markdown",
   "metadata": {},
   "source": [
    "<b> Cross validation on X and Y"
   ]
  },
  {
   "cell_type": "code",
   "execution_count": null,
   "metadata": {},
   "outputs": [],
   "source": [
    "# Build the k-fold cross-validator\n",
    "k_fold_split = 10\n",
    "kfold = KFold(n_splits=k_fold_split, random_state=2019, shuffle=True)\n",
    "\n",
    "result_accuracy = cross_val_score(svc_model3, X, Y, cv=kfold, scoring='accuracy')\n",
    "result_f1_weighted = cross_val_score(svc_model3, X, Y, cv=kfold, scoring='f1_weighted')\n",
    "result_auc = cross_val_score(svc_model3, X, Y, cv=kfold, scoring='roc_auc')\n",
    "print('--------------------------------------------------------------------------')\n",
    "print('Average of all the accuracy results:')\n",
    "print('--------------------------------------------------------------------------')\n",
    "print(round(result_accuracy.mean(), 4), '\\n')\n",
    "\n",
    "print('--------------------------------------------------------------------------')\n",
    "print('Average of all the weighted f1 results:')\n",
    "print('--------------------------------------------------------------------------')\n",
    "print(round(result_f1_weighted.mean(), 4), '\\n')\n",
    "\n",
    "print('--------------------------------------------------------------------------')\n",
    "print('Average of all the AUC score results:')\n",
    "print('--------------------------------------------------------------------------')\n",
    "print(round(result_auc.mean(), 4))"
   ]
  },
  {
   "cell_type": "markdown",
   "metadata": {},
   "source": [
    "<a id = \"80714\"> <h2> 1.4 Feature Importance </h2> </a>"
   ]
  },
  {
   "cell_type": "markdown",
   "metadata": {},
   "source": [
    "Feature importance is only easily possible with a linear kernel, that is why we did gridsearch again with a linear kernel.\n",
    "<br> Although providing a lower average weighted f1 score and auc score."
   ]
  },
  {
   "cell_type": "code",
   "execution_count": null,
   "metadata": {},
   "outputs": [],
   "source": [
    "lst_coef=[]\n",
    "lst_features=[]\n",
    "\n",
    "for i in svc_model3.coef_:\n",
    "    for j in i:\n",
    "        lst_coef.append(j)\n",
    "        \n",
    "for j in list(X.columns):\n",
    "        lst_features.append(j)\n",
    "\n",
    "# combine the 2 lists of class 0 and feature names into a dataframe\n",
    "dict_lists = {\"Feature\": lst_features, \"Coefficient\": lst_coef}\n",
    "df_coef = pd.DataFrame(dict_lists)\n",
    "# sort descending and reset index\n",
    "df_coef.sort_values(by=['Coefficient'],  ascending=True, inplace=True)\n",
    "df_coef.reset_index(inplace=True, drop=True)\n",
    "df_coef\n",
    "df_coef.plot(x=\"Feature\", y=\"Coefficient\", kind='barh', figsize=(10,10), title='Feature Importance \\n (based on absolute coefficients SVM model with linear kernel)')"
   ]
  },
  {
   "cell_type": "markdown",
   "metadata": {},
   "source": [
    "<a id = \"8072\"> <h2> Pipeline 2 </h2> </a>\n",
    "___"
   ]
  },
  {
   "cell_type": "code",
   "execution_count": null,
   "metadata": {},
   "outputs": [],
   "source": [
    "# read csv file to a pandas dataframe\n",
    "df_pipeline2 = pd.read_csv(\"pipeline_2.csv\")"
   ]
  },
  {
   "cell_type": "markdown",
   "metadata": {},
   "source": [
    "> Show all features and target in dataframe"
   ]
  },
  {
   "cell_type": "code",
   "execution_count": null,
   "metadata": {},
   "outputs": [],
   "source": [
    "# show all columns in dataset\n",
    "print('There are', len(df_pipeline2.columns)-1, 'features, and the target `Revenue` for pipeline 2:')\n",
    "list(df_pipeline2.columns)"
   ]
  },
  {
   "cell_type": "markdown",
   "metadata": {},
   "source": [
    "<a id = \"80720\"> <h2> 2.0 Basic Model: SVM </h2> </a>"
   ]
  },
  {
   "cell_type": "markdown",
   "metadata": {},
   "source": [
    "<b> Declare Features and Target"
   ]
  },
  {
   "cell_type": "code",
   "execution_count": null,
   "metadata": {},
   "outputs": [],
   "source": [
    "# Define Features and Target variables\n",
    "X = df_pipeline2.iloc[:, :-1] # Features is all columns in the dataframe except the last column\n",
    "Y = df_pipeline2.iloc[:, -1] # Target is the last column in the dataframe: 'Revenue'"
   ]
  },
  {
   "cell_type": "code",
   "execution_count": null,
   "metadata": {},
   "outputs": [],
   "source": [
    "# Split dataset into training set and test set \n",
    "# 70% training and 30% test\n",
    "X_train, X_test, y_train, y_test = train_test_split(X, Y, test_size=0.3,random_state=2019) "
   ]
  },
  {
   "cell_type": "code",
   "execution_count": null,
   "metadata": {},
   "outputs": [],
   "source": [
    "# set the start time\n",
    "start = time.time()\n",
    "\n",
    "# Create the SVC model by calling `svm.SVC()`\n",
    "# the SVC model has a series of hyper-parameters\n",
    "# for now, we are going to use the basics of the hyperparameters as follows\n",
    "# set `gamma` to 0.001 - `gamma` typically ranges from [0.001, 0.01]\n",
    "# set `C` to 100. , and then set `kernel` to 'linear'\n",
    "# name the model as `svc_model`\n",
    "svc_model = svm.SVC(probability=True)\n",
    "\n",
    "# Fit the data to the SVC model\n",
    "# since this is supervised learning, you need to `fit` both `X_train` and `y_train` to it\n",
    "svc_model.fit(X_train, y_train)\n",
    "\n",
    "# Predict the label of `X_test` using `.predict()`\n",
    "y_pred = svc_model.predict(X_test)\n",
    "\n",
    "# Print the classification report using comparison of `y_test` and `y_pred`\n",
    "print(classification_report(y_test, y_pred))\n",
    "\n",
    "# get the time it takes for the gridsearch to run\n",
    "# source: https://blog.softhints.com/python-test-performance-and-measure-time-elapsed-in-seconds/\n",
    "# set the end time\n",
    "end = time.time()\n",
    "\n",
    "# get the elapsed execution time\n",
    "execution_time = end - start\n",
    "print(\"--- Execution time: ---\")\n",
    "print ('--- %0.3fms. --- ' % ( execution_time*1000.))\n",
    "print(\"--- %s seconds ---\" % (execution_time))\n",
    "print(\"--- %s minutes ---\" % (execution_time/60))"
   ]
  },
  {
   "cell_type": "markdown",
   "metadata": {},
   "source": [
    "<b> ROC Curve with AUC score"
   ]
  },
  {
   "cell_type": "code",
   "execution_count": null,
   "metadata": {},
   "outputs": [],
   "source": [
    "# define a function to plot the roc_curve and AUC score using variables: X_test and y_test\n",
    "def roc_curve(X_test=X_test, y_test=y_test, model=svc_model):\n",
    "    # set the style of the graph\n",
    "    plt.style.use('Solarize_Light2')\n",
    "\n",
    "    # predict_proba gives you the probabilities for the target (0 and 1 in your case) in array form in dimension (N,2). \n",
    "    # The first index refers to the probability that the data belong to class 0, and the second refers to the probability that the data belong to class 1. \n",
    "    # we define a variable with an array of the probabilities that each observation belongs to class 1 (with [:,1], where model.predict_proba(X_test)[:,0] refers to the array it belongs to class 0)\n",
    "    y_pred_proba = model.predict_proba(X_test)[:,1]\n",
    "\n",
    "    # define false positive rate (fpr) and the true positive rate (tpr)\n",
    "    fpr, tpr, _ = metrics.roc_curve(y_test,  y_pred_proba)\n",
    "\n",
    "    # Compute Area Under the Receiver Operating Characteristic Curve (ROC AUC) from prediction scores.\n",
    "    # source: https://scikit-learn.org/stable/modules/generated/sklearn.metrics.roc_auc_score.html\n",
    "    auc = metrics.roc_auc_score(y_test, y_pred_proba)\n",
    "\n",
    "    # plot on the X-axis: the false positive rate\n",
    "    # plot on the Y-axis: the true positive rate\n",
    "    # with the legend having the auc score\n",
    "    plt.plot(fpr,tpr,label='AUC = %0.2f' % auc)\n",
    "    # positioning of the legend\n",
    "    plt.legend(loc=4)\n",
    "    # define the title of the plot\n",
    "    plt.title('Receiver Operating Characteristic (ROC)')\n",
    "    # define the y axis label\n",
    "    plt.ylabel('True Positive Rate')\n",
    "    # define the x axis label\n",
    "    plt.xlabel('False Positive Rate')\n",
    "    # plot a straight dashed line in the color red\n",
    "    plt.plot([0, 1], [0, 1],'r--')\n",
    "    # show the plot\n",
    "    plt.show()\n",
    "    # print out full AUC score\n",
    "    print('AUC score:', auc)"
   ]
  },
  {
   "cell_type": "code",
   "execution_count": null,
   "metadata": {},
   "outputs": [],
   "source": [
    "# apply function to plot the ROC Curve\n",
    "roc_curve(X_test=X_test, y_test=y_test, model=svc_model)"
   ]
  },
  {
   "cell_type": "markdown",
   "metadata": {},
   "source": [
    "<a id = \"80721\"> <h2> 2.1 Oversampling (SMOTE) </h2> </a>"
   ]
  },
  {
   "cell_type": "markdown",
   "metadata": {},
   "source": [
    "We oversample the dataset, because the classes within our target variable 'Revenue' are imbalanced:\n",
    "* class 0: 84.53%\n",
    "* class 1: 15.47%\n",
    "\n",
    "Fore more information, click on detailed information from Prof. Jie Tao [link](https://github.com/DrJieTao/ba545-docs/blob/master/competition2/handling_imbalanced_data_part2.ipynb)"
   ]
  },
  {
   "cell_type": "code",
   "execution_count": null,
   "metadata": {},
   "outputs": [],
   "source": [
    "sm = SMOTE(random_state = 2019) \n",
    "X_train_res, y_train_res = sm.fit_sample(X_train, y_train) \n",
    "\n",
    "print('After OverSampling, the shape of train_X: {}'.format(X_train_res.shape)) \n",
    "print('After OverSampling, the shape of train_y: {} \\n'.format(y_train_res.shape)) \n",
    "  \n",
    "print(\"After OverSampling, counts of label '1': {}\".format(sum(y_train_res == 1))) \n",
    "print(\"After OverSampling, counts of label '0': {}\".format(sum(y_train_res == 0)))"
   ]
  },
  {
   "cell_type": "markdown",
   "metadata": {},
   "source": [
    "The SMOTE Algorithm has oversampled the instances in the minority class and made it equal to majority class:\n",
    "* Both classes (0 & 1) now have 7291 instances, the dataset is balanced.\n",
    "* Class 1 increased from 1340 instances to 7291 instances, an increase of 5951 instances of class 1."
   ]
  },
  {
   "cell_type": "code",
   "execution_count": null,
   "metadata": {},
   "outputs": [],
   "source": [
    "svc_model1 = svm.SVC(probability=True)\n",
    "\n",
    "# Fit the data to the SVC model\n",
    "# since this is supervised learning, you need to `fit` both `X_train_res` and `y_train_res` to it\n",
    "svc_model1.fit(X_train_res, y_train_res)\n",
    "\n",
    "# Predict the label of `X_test` using `.predict()`\n",
    "y_pred = svc_model1.predict(X_test)\n",
    "\n",
    "# Print the classification report using comparison of `y_test` and `y_pred`\n",
    "print(classification_report(y_test, y_pred))"
   ]
  },
  {
   "cell_type": "code",
   "execution_count": null,
   "metadata": {},
   "outputs": [],
   "source": [
    "# apply function to plot the ROC Curve\n",
    "roc_curve(X_test=X_test, y_test=y_test, model=svc_model1)"
   ]
  },
  {
   "cell_type": "markdown",
   "metadata": {},
   "source": [
    "<a id = \"80722\"> <h2> 2.2 Cross Validation (Oversampling) </h2> </a>\n",
    "For more information on the topic, please click the following [link](https://stackabuse.com/cross-validation-and-grid-search-for-model-selection-in-python/).\n",
    "<br> The details of the package are noted [here](https://scikit-learn.org/stable/modules/generated/sklearn.model_selection.KFold.html)."
   ]
  },
  {
   "cell_type": "code",
   "execution_count": null,
   "metadata": {},
   "outputs": [],
   "source": [
    "# Build the k-fold cross-validator\n",
    "k_fold_split = 10\n",
    "kfold = KFold(n_splits=k_fold_split, random_state=2019, shuffle=True)\n",
    "\n",
    "# note: only a single metric is permitted for parameter 'scoring'\n",
    "# for all parameters for scoring, see source:https://scikit-learn.org/stable/modules/model_evaluation.html#scoring-parameter\n",
    "result_f1_weighted = cross_val_score(svc_model1, X_train_res, y_train_res, cv=kfold, scoring='f1_weighted')\n",
    "result_auc_weighted = cross_val_score(svc_model3, X_train_res, y_train_res, cv=kfold, scoring='roc_auc')\n",
    "\n",
    "print('--------------------------------------------------------------------------')\n",
    "print('All the weighted f1 results:')\n",
    "print('--------------------------------------------------------------------------')\n",
    "print(result_f1_weighted, '\\n')\n",
    "\n",
    "print('--------------------------------------------------------------------------')\n",
    "print('Average of all the weighted f1 results:')\n",
    "print('--------------------------------------------------------------------------')\n",
    "print(round(result_f1_weighted.mean(), 4), '\\n')\n",
    "\n",
    "print('--------------------------------------------------------------------------')\n",
    "print('All the AUC scores:')\n",
    "print('--------------------------------------------------------------------------')\n",
    "print(result_auc_weighted, '\\n')\n",
    "\n",
    "print('--------------------------------------------------------------------------')\n",
    "print('Average of all the AUC scores:')\n",
    "print('--------------------------------------------------------------------------')\n",
    "print(round(result_auc_weighted.mean(), 4), '\\n')"
   ]
  },
  {
   "cell_type": "code",
   "execution_count": null,
   "metadata": {},
   "outputs": [],
   "source": [
    "# apply function to plot the ROC Curve\n",
    "roc_curve(X_test=X_test, y_test=y_test, model=svc_model1)"
   ]
  },
  {
   "cell_type": "markdown",
   "metadata": {},
   "source": [
    "<a id = \"80723\"> <h2> 2.3 Model Tuning (Hyperparameters) </h2> </a>\n",
    "To see the hyper-parameters of the SVM model, please refer to the following [link](https://scikit-learn.org/stable/modules/generated/sklearn.svm.SVC.html)."
   ]
  },
  {
   "cell_type": "markdown",
   "metadata": {},
   "source": [
    "<b> Define Grid"
   ]
  },
  {
   "cell_type": "code",
   "execution_count": null,
   "metadata": {},
   "outputs": [],
   "source": [
    "# Set the hyper-parameter grid\n",
    "# source: https://towardsdatascience.com/svm-hyper-parameter-tuning-using-gridsearchcv-49c0bc55ce29\n",
    "C = [0.1, 1, 10, 100]\n",
    "#kernel=['linear', 'poly', 'rbf', 'sigmoid', 'precomputed']\n",
    "kernel=['linear']\n",
    "#degree=[1, 2, 3]\n",
    "gamma=[1,0.1,0.01,0.001]\n",
    "#shrinking=[True, False]\n",
    "#probability=[True, False]\n",
    "\n",
    "param_grid = dict(C=C, \n",
    "                  gamma=gamma, \n",
    "                  kernel=kernel)   \n",
    "                  #degree=degree, \n",
    "                  #shrinking=shrinking, \n",
    "                  #probability=probability)"
   ]
  },
  {
   "cell_type": "markdown",
   "metadata": {},
   "source": [
    "<b> Hyper-parameter tweaking on oversampled training set"
   ]
  },
  {
   "cell_type": "code",
   "execution_count": null,
   "metadata": {},
   "outputs": [],
   "source": [
    "from sklearn.model_selection import GridSearchCV\n",
    "# set the start time\n",
    "start = time.time()\n",
    "\n",
    "# define the model\n",
    "svc_model = svm.SVC()\n",
    "\n",
    "# Create a grid search object\n",
    "# source: https://towardsdatascience.com/svm-hyper-parameter-tuning-using-gridsearchcv-49c0bc55ce29\n",
    "grid = GridSearchCV(svc_model, param_grid=param_grid, cv = 3)\n",
    "#grid = GridSearchCV(svc_model, param_grid=param_grid, refit=True,verbose=2, cv=3, n_jobs=-1)\n",
    "# Fit the grid search (Fitting your model to the training data)\n",
    "grid_result = grid.fit(X_train_res, y_train_res)\n",
    "\n",
    "# define each optimal parameter as a new variable\n",
    "optimal_C = grid.best_estimator_.get_params()['C']\n",
    "optimal_gamma = grid.best_estimator_.get_params()['gamma']\n",
    "optimal_kernel = grid.best_estimator_.get_params()['kernel']\n",
    "#optimal_degree = grid.best_estimator_.get_params()['degree']\n",
    "#optimal_shrinking = grid.best_estimator_.get_params()['shrinking']\n",
    "#optimal_probability = grid.best_estimator_.get_params()['probability']\n",
    "\n",
    "# Summarize results\n",
    "print(\"Best: %f using %s\" % (grid_result.best_score_, grid_result.best_params_))\n",
    "\n",
    "# get the time it takes for the gridsearch to run\n",
    "# source: https://blog.softhints.com/python-test-performance-and-measure-time-elapsed-in-seconds/\n",
    "# set the end time\n",
    "end = time.time()\n",
    "\n",
    "# get the elapsed execution time\n",
    "execution_time = end - start\n",
    "print(\"--- Execution time: ---\")\n",
    "print ('--- %0.3fms. --- ' % ( execution_time*1000.))\n",
    "print(\"--- %s seconds ---\" % (execution_time))\n",
    "print(\"--- %s minutes ---\" % (execution_time/60))"
   ]
  },
  {
   "cell_type": "markdown",
   "metadata": {},
   "source": [
    "<b> Applying the optimal hyper-parameters on oversampled training set"
   ]
  },
  {
   "cell_type": "code",
   "execution_count": null,
   "metadata": {},
   "outputs": [],
   "source": [
    "# apply the optimal hyper-parameters to the Logistic Regression Model\n",
    "svc_model3 = svm.SVC(C=optimal_C, \n",
    "                     kernel=optimal_kernel,\n",
    "                     gamma=optimal_gamma)\n",
    "\n",
    "\n",
    "# fit/train the model with oversampled training set\n",
    "svc_model3.fit(X_train_res, y_train_res)\n",
    "\n",
    "# predict the testing set\n",
    "y_pred=svc_model3.predict(X_test)\n",
    "\n",
    "# print out the classification report\n",
    "print(classification_report(y_test, y_pred))"
   ]
  },
  {
   "cell_type": "markdown",
   "metadata": {},
   "source": [
    "<b> Average Weighted F1 score and Average AUC score with Cross validation"
   ]
  },
  {
   "cell_type": "code",
   "execution_count": null,
   "metadata": {},
   "outputs": [],
   "source": [
    "# ignore warnings\n",
    "warnings.filterwarnings(\"ignore\")\n",
    "\n",
    "# Build the k-fold cross-validator\n",
    "k_fold_split = 10\n",
    "kfold = KFold(n_splits=k_fold_split, random_state=2019, shuffle=True)\n",
    "#result = cross_val_score(gnb, X, Y, cv=kfold, scoring='accuracy')\n",
    "# note: only a single metric is permitted for parameter 'scoring'\n",
    "# for all parameters for scoring, see source:https://scikit-learn.org/stable/modules/model_evaluation.html#scoring-parameter\n",
    "result_f1_weighted = cross_val_score(svc_model3, X_train_res, y_train_res, cv=kfold, scoring='f1_weighted')\n",
    "result_auc_weighted = cross_val_score(svc_model3, X_train_res, y_train_res, cv=kfold, scoring='roc_auc')\n",
    "print('--------------------------------------------------------------------------')\n",
    "print('All the weighted f1 results:')\n",
    "print('--------------------------------------------------------------------------')\n",
    "print(result_f1_weighted, '\\n')\n",
    "\n",
    "print('--------------------------------------------------------------------------')\n",
    "print('Average of all the weighted f1 results:')\n",
    "print('--------------------------------------------------------------------------')\n",
    "print(round(result_f1_weighted.mean(), 4), '\\n')\n",
    "\n",
    "print('--------------------------------------------------------------------------')\n",
    "print('All the AUC scores:')\n",
    "print('--------------------------------------------------------------------------')\n",
    "print(result_auc_weighted, '\\n')\n",
    "\n",
    "print('--------------------------------------------------------------------------')\n",
    "print('Average of all the AUC scores:')\n",
    "print('--------------------------------------------------------------------------')\n",
    "print(round(result_auc_weighted.mean(), 4), '\\n')\n",
    "\n",
    "# reset the warnings for future code\n",
    "warnings.resetwarnings()"
   ]
  },
  {
   "cell_type": "markdown",
   "metadata": {},
   "source": [
    "<b> Cross validation on X and Y"
   ]
  },
  {
   "cell_type": "code",
   "execution_count": null,
   "metadata": {},
   "outputs": [],
   "source": [
    "# Build the k-fold cross-validator\n",
    "k_fold_split = 10\n",
    "kfold = KFold(n_splits=k_fold_split, random_state=2019, shuffle=True)\n",
    "\n",
    "result_accuracy = cross_val_score(svc_model3, X, Y, cv=kfold, scoring='accuracy')\n",
    "result_f1_weighted = cross_val_score(svc_model3, X, Y, cv=kfold, scoring='f1_weighted')\n",
    "result_auc = cross_val_score(svc_model3, X, Y, cv=kfold, scoring='roc_auc')\n",
    "print('--------------------------------------------------------------------------')\n",
    "print('Average of all the accuracy results:')\n",
    "print('--------------------------------------------------------------------------')\n",
    "print(round(result_accuracy.mean(), 4), '\\n')\n",
    "\n",
    "print('--------------------------------------------------------------------------')\n",
    "print('Average of all the weighted f1 results:')\n",
    "print('--------------------------------------------------------------------------')\n",
    "print(round(result_f1_weighted.mean(), 4), '\\n')\n",
    "\n",
    "print('--------------------------------------------------------------------------')\n",
    "print('Average of all the AUC score results:')\n",
    "print('--------------------------------------------------------------------------')\n",
    "print(round(result_auc.mean(), 4))"
   ]
  },
  {
   "cell_type": "markdown",
   "metadata": {},
   "source": [
    "<a id = \"80724\"> <h2> 2.4 Feature Importance </h2> </a>"
   ]
  },
  {
   "cell_type": "markdown",
   "metadata": {},
   "source": [
    "Feature importance is only easily possible with a linear kernel, that is why we did gridsearch again with a linear kernel.\n",
    "<br> Although providing a lower average weighted f1 score and auc score."
   ]
  },
  {
   "cell_type": "code",
   "execution_count": null,
   "metadata": {},
   "outputs": [],
   "source": [
    "lst_coef=[]\n",
    "lst_features=[]\n",
    "\n",
    "for i in svc_model3.coef_:\n",
    "    for j in i:\n",
    "        lst_coef.append(abs(j))\n",
    "        \n",
    "for j in list(X.columns):\n",
    "        lst_features.append(j)\n",
    "\n",
    "# combine the 2 lists of class 0 and feature names into a dataframe\n",
    "dict_lists = {\"Feature\": lst_features, \"Coefficient\": lst_coef}\n",
    "df_coef = pd.DataFrame(dict_lists)\n",
    "# sort descending and reset index\n",
    "df_coef.sort_values(by=['Coefficient'],  ascending=True, inplace=True)\n",
    "df_coef.reset_index(inplace=True, drop=True)\n",
    "df_coef\n",
    "df_coef.plot(x=\"Feature\", y=\"Coefficient\", kind='barh', figsize=(10,10), title='Feature Importance \\n (based on absolute coefficients SVM model with linear kernel)')"
   ]
  },
  {
   "cell_type": "markdown",
   "metadata": {},
   "source": [
    "<a id = \"8073\"> <h2> Pipeline 3 </h2> </a>\n",
    "___"
   ]
  },
  {
   "cell_type": "code",
   "execution_count": null,
   "metadata": {},
   "outputs": [],
   "source": [
    "# read csv file to a pandas dataframe\n",
    "df_pipeline3 = pd.read_csv(\"pipeline_3.csv\")"
   ]
  },
  {
   "cell_type": "markdown",
   "metadata": {},
   "source": [
    "> Show all features and target in dataframe"
   ]
  },
  {
   "cell_type": "code",
   "execution_count": null,
   "metadata": {},
   "outputs": [],
   "source": [
    "# show all columns in dataset\n",
    "print('There are', len(df_pipeline3.columns)-1, 'features, and the target `Revenue` for pipeline 3:')\n",
    "list(df_pipeline3.columns)"
   ]
  },
  {
   "cell_type": "markdown",
   "metadata": {},
   "source": [
    "<a id = \"80730\"> <h2> 3.0 Basic Model: SVM </h2> </a>"
   ]
  },
  {
   "cell_type": "markdown",
   "metadata": {},
   "source": [
    "<b> Declare Features and Target"
   ]
  },
  {
   "cell_type": "code",
   "execution_count": null,
   "metadata": {},
   "outputs": [],
   "source": [
    "# Define Features and Target variables\n",
    "X = df_pipeline3.iloc[:, :-1] # Features is all columns in the dataframe except the last column\n",
    "Y = df_pipeline3.iloc[:, -1] # Target is the last column in the dataframe: 'Revenue'"
   ]
  },
  {
   "cell_type": "code",
   "execution_count": null,
   "metadata": {},
   "outputs": [],
   "source": [
    "# Split dataset into training set and test set \n",
    "# 70% training and 30% test\n",
    "X_train, X_test, y_train, y_test = train_test_split(X, Y, test_size=0.3,random_state=2019) "
   ]
  },
  {
   "cell_type": "code",
   "execution_count": null,
   "metadata": {},
   "outputs": [],
   "source": [
    "# set the start time\n",
    "start = time.time()\n",
    "\n",
    "# Create the SVC model by calling `svm.SVC()`\n",
    "# the SVC model has a series of hyper-parameters\n",
    "# for now, we are going to use the basics of the hyperparameters as follows\n",
    "# set `gamma` to 0.001 - `gamma` typically ranges from [0.001, 0.01]\n",
    "# set `C` to 100. , and then set `kernel` to 'linear'\n",
    "# name the model as `svc_model`\n",
    "svc_model = svm.SVC(probability=True)\n",
    "\n",
    "# Fit the data to the SVC model\n",
    "# since this is supervised learning, you need to `fit` both `X_train` and `y_train` to it\n",
    "svc_model.fit(X_train, y_train)\n",
    "\n",
    "# Predict the label of `X_test` using `.predict()`\n",
    "y_pred = svc_model.predict(X_test)\n",
    "\n",
    "# Print the classification report using comparison of `y_test` and `y_pred`\n",
    "print(classification_report(y_test, y_pred))\n",
    "\n",
    "# get the time it takes for the gridsearch to run\n",
    "# source: https://blog.softhints.com/python-test-performance-and-measure-time-elapsed-in-seconds/\n",
    "# set the end time\n",
    "end = time.time()\n",
    "\n",
    "# get the elapsed execution time\n",
    "execution_time = end - start\n",
    "print(\"--- Execution time: ---\")\n",
    "print ('--- %0.3fms. --- ' % ( execution_time*1000.))\n",
    "print(\"--- %s seconds ---\" % (execution_time))\n",
    "print(\"--- %s minutes ---\" % (execution_time/60))"
   ]
  },
  {
   "cell_type": "markdown",
   "metadata": {},
   "source": [
    "<b> ROC Curve with AUC score"
   ]
  },
  {
   "cell_type": "code",
   "execution_count": null,
   "metadata": {},
   "outputs": [],
   "source": [
    "# define a function to plot the roc_curve and AUC score using variables: X_test and y_test\n",
    "def roc_curve(X_test=X_test, y_test=y_test, model=svc_model):\n",
    "    # set the style of the graph\n",
    "    plt.style.use('Solarize_Light2')\n",
    "\n",
    "    # predict_proba gives you the probabilities for the target (0 and 1 in your case) in array form in dimension (N,2). \n",
    "    # The first index refers to the probability that the data belong to class 0, and the second refers to the probability that the data belong to class 1. \n",
    "    # we define a variable with an array of the probabilities that each observation belongs to class 1 (with [:,1], where model.predict_proba(X_test)[:,0] refers to the array it belongs to class 0)\n",
    "    y_pred_proba = model.predict_proba(X_test)[:,1]\n",
    "\n",
    "    # define false positive rate (fpr) and the true positive rate (tpr)\n",
    "    fpr, tpr, _ = metrics.roc_curve(y_test,  y_pred_proba)\n",
    "\n",
    "    # Compute Area Under the Receiver Operating Characteristic Curve (ROC AUC) from prediction scores.\n",
    "    # source: https://scikit-learn.org/stable/modules/generated/sklearn.metrics.roc_auc_score.html\n",
    "    auc = metrics.roc_auc_score(y_test, y_pred_proba)\n",
    "\n",
    "    # plot on the X-axis: the false positive rate\n",
    "    # plot on the Y-axis: the true positive rate\n",
    "    # with the legend having the auc score\n",
    "    plt.plot(fpr,tpr,label='AUC = %0.2f' % auc)\n",
    "    # positioning of the legend\n",
    "    plt.legend(loc=4)\n",
    "    # define the title of the plot\n",
    "    plt.title('Receiver Operating Characteristic (ROC)')\n",
    "    # define the y axis label\n",
    "    plt.ylabel('True Positive Rate')\n",
    "    # define the x axis label\n",
    "    plt.xlabel('False Positive Rate')\n",
    "    # plot a straight dashed line in the color red\n",
    "    plt.plot([0, 1], [0, 1],'r--')\n",
    "    # show the plot\n",
    "    plt.show()\n",
    "    # print out full AUC score\n",
    "    print('AUC score:', auc)"
   ]
  },
  {
   "cell_type": "code",
   "execution_count": null,
   "metadata": {},
   "outputs": [],
   "source": [
    "# apply function to plot the ROC Curve\n",
    "roc_curve(X_test=X_test, y_test=y_test, model=svc_model)"
   ]
  },
  {
   "cell_type": "markdown",
   "metadata": {},
   "source": [
    "<a id = \"80731\"> <h2> 3.1 Oversampling (SMOTE) </h2> </a>"
   ]
  },
  {
   "cell_type": "markdown",
   "metadata": {},
   "source": [
    "We oversample the dataset, because the classes within our target variable 'Revenue' are imbalanced:\n",
    "* class 0: 84.53%\n",
    "* class 1: 15.47%\n",
    "\n",
    "Fore more information, click on detailed information from Prof. Jie Tao [link](https://github.com/DrJieTao/ba545-docs/blob/master/competition2/handling_imbalanced_data_part2.ipynb)"
   ]
  },
  {
   "cell_type": "code",
   "execution_count": null,
   "metadata": {},
   "outputs": [],
   "source": [
    "sm = SMOTE(random_state = 2019) \n",
    "X_train_res, y_train_res = sm.fit_sample(X_train, y_train) \n",
    "\n",
    "print('After OverSampling, the shape of train_X: {}'.format(X_train_res.shape)) \n",
    "print('After OverSampling, the shape of train_y: {} \\n'.format(y_train_res.shape)) \n",
    "  \n",
    "print(\"After OverSampling, counts of label '1': {}\".format(sum(y_train_res == 1))) \n",
    "print(\"After OverSampling, counts of label '0': {}\".format(sum(y_train_res == 0)))"
   ]
  },
  {
   "cell_type": "markdown",
   "metadata": {},
   "source": [
    "The SMOTE Algorithm has oversampled the instances in the minority class and made it equal to majority class:\n",
    "* Both classes (0 & 1) now have 7291 instances, the dataset is balanced.\n",
    "* Class 1 increased from 1340 instances to 7291 instances, an increase of 5951 instances of class 1."
   ]
  },
  {
   "cell_type": "code",
   "execution_count": null,
   "metadata": {},
   "outputs": [],
   "source": [
    "svc_model1 = svm.SVC(probability=True)\n",
    "\n",
    "# Fit the data to the SVC model\n",
    "# since this is supervised learning, you need to `fit` both `X_train_res` and `y_train_res` to it\n",
    "svc_model1.fit(X_train_res, y_train_res)\n",
    "\n",
    "# Predict the label of `X_test` using `.predict()`\n",
    "y_pred = svc_model1.predict(X_test)\n",
    "\n",
    "# Print the classification report using comparison of `y_test` and `y_pred`\n",
    "print(classification_report(y_test, y_pred))"
   ]
  },
  {
   "cell_type": "code",
   "execution_count": null,
   "metadata": {},
   "outputs": [],
   "source": [
    "# apply function to plot the ROC Curve\n",
    "roc_curve(X_test=X_test, y_test=y_test, model=svc_model1)"
   ]
  },
  {
   "cell_type": "markdown",
   "metadata": {},
   "source": [
    "<a id = \"80732\"> <h2> 3.2 Cross Validation (Oversampling) </h2> </a>\n",
    "For more information on the topic, please click the following [link](https://stackabuse.com/cross-validation-and-grid-search-for-model-selection-in-python/).\n",
    "<br> The details of the package are noted [here](https://scikit-learn.org/stable/modules/generated/sklearn.model_selection.KFold.html)."
   ]
  },
  {
   "cell_type": "code",
   "execution_count": null,
   "metadata": {},
   "outputs": [],
   "source": [
    "# Build the k-fold cross-validator\n",
    "k_fold_split = 10\n",
    "kfold = KFold(n_splits=k_fold_split, random_state=2019, shuffle=True)\n",
    "\n",
    "# note: only a single metric is permitted for parameter 'scoring'\n",
    "# for all parameters for scoring, see source:https://scikit-learn.org/stable/modules/model_evaluation.html#scoring-parameter\n",
    "result_f1_weighted = cross_val_score(svc_model1, X_train_res, y_train_res, cv=kfold, scoring='f1_weighted')\n",
    "\n",
    "print('--------------------------------------------------------------------------')\n",
    "print('All the weighted f1 results:')\n",
    "print('--------------------------------------------------------------------------')\n",
    "print(result_f1_weighted, '\\n')\n",
    "\n",
    "print('--------------------------------------------------------------------------')\n",
    "print('Average of all the weighted f1 results:')\n",
    "print('--------------------------------------------------------------------------')\n",
    "print(round(result_f1_weighted.mean(), 4), '\\n')"
   ]
  },
  {
   "cell_type": "code",
   "execution_count": null,
   "metadata": {},
   "outputs": [],
   "source": [
    "# apply function to plot the ROC Curve\n",
    "roc_curve(X_test=X_test, y_test=y_test, model=svc_model1)"
   ]
  },
  {
   "cell_type": "markdown",
   "metadata": {},
   "source": [
    "<a id = \"80733\"> <h2> 3.3 Model Tuning (Hyperparameters) </h2> </a>\n",
    "To see the hyper-parameters of the SVM model, please refer to the following [link](https://scikit-learn.org/stable/modules/generated/sklearn.svm.SVC.html)."
   ]
  },
  {
   "cell_type": "markdown",
   "metadata": {},
   "source": [
    "<b> Define Grid"
   ]
  },
  {
   "cell_type": "code",
   "execution_count": null,
   "metadata": {},
   "outputs": [],
   "source": [
    "# Set the hyper-parameter grid\n",
    "# source: https://towardsdatascience.com/svm-hyper-parameter-tuning-using-gridsearchcv-49c0bc55ce29\n",
    "C = [0.1, 1, 10, 100]\n",
    "#kernel=['linear', 'poly', 'rbf', 'sigmoid', 'precomputed']\n",
    "kernel=['linear']\n",
    "#degree=[1, 2, 3]\n",
    "gamma=[1,0.1,0.01,0.001]\n",
    "#shrinking=[True, False]\n",
    "#probability=[True, False]\n",
    "\n",
    "param_grid = dict(C=C, \n",
    "                  gamma=gamma, \n",
    "                  kernel=kernel)   \n",
    "                  #degree=degree, \n",
    "                  #shrinking=shrinking, \n",
    "                  #probability=probability)"
   ]
  },
  {
   "cell_type": "markdown",
   "metadata": {},
   "source": [
    "<b> Hyper-parameter tweaking on oversampled training set"
   ]
  },
  {
   "cell_type": "code",
   "execution_count": null,
   "metadata": {},
   "outputs": [],
   "source": [
    "from sklearn.model_selection import GridSearchCV\n",
    "# set the start time\n",
    "start = time.time()\n",
    "\n",
    "# define the model\n",
    "svc_model = svm.SVC()\n",
    "\n",
    "# Create a grid search object\n",
    "# source: https://towardsdatascience.com/svm-hyper-parameter-tuning-using-gridsearchcv-49c0bc55ce29\n",
    "grid = GridSearchCV(svc_model, param_grid=param_grid, cv = 3)\n",
    "#grid = GridSearchCV(svc_model, param_grid=param_grid, refit=True,verbose=2, cv=3, n_jobs=-1)\n",
    "# Fit the grid search (Fitting your model to the training data)\n",
    "grid_result = grid.fit(X_train_res, y_train_res)\n",
    "\n",
    "# define each optimal parameter as a new variable\n",
    "optimal_C = grid.best_estimator_.get_params()['C']\n",
    "optimal_gamma = grid.best_estimator_.get_params()['gamma']\n",
    "optimal_kernel = grid.best_estimator_.get_params()['kernel']\n",
    "#optimal_degree = grid.best_estimator_.get_params()['degree']\n",
    "#optimal_shrinking = grid.best_estimator_.get_params()['shrinking']\n",
    "#optimal_probability = grid.best_estimator_.get_params()['probability']\n",
    "\n",
    "# Summarize results\n",
    "print(\"Best: %f using %s\" % (grid_result.best_score_, grid_result.best_params_))\n",
    "\n",
    "# get the time it takes for the gridsearch to run\n",
    "# source: https://blog.softhints.com/python-test-performance-and-measure-time-elapsed-in-seconds/\n",
    "# set the end time\n",
    "end = time.time()\n",
    "\n",
    "# get the elapsed execution time\n",
    "execution_time = end - start\n",
    "print(\"--- Execution time: ---\")\n",
    "print ('--- %0.3fms. --- ' % ( execution_time*1000.))\n",
    "print(\"--- %s seconds ---\" % (execution_time))\n",
    "print(\"--- %s minutes ---\" % (execution_time/60))"
   ]
  },
  {
   "cell_type": "markdown",
   "metadata": {},
   "source": [
    "<b> Applying the optimal hyper-parameters on oversampled training set"
   ]
  },
  {
   "cell_type": "code",
   "execution_count": null,
   "metadata": {},
   "outputs": [],
   "source": [
    "# apply the optimal hyper-parameters to the Logistic Regression Model\n",
    "svc_model3 = svm.SVC(C=optimal_C, \n",
    "                     kernel=optimal_kernel,\n",
    "                     gamma=optimal_gamma)\n",
    "\n",
    "\n",
    "# fit/train the model with oversampled training set\n",
    "svc_model3.fit(X_train_res, y_train_res)\n",
    "\n",
    "# predict the testing set\n",
    "y_pred=svc_model3.predict(X_test)\n",
    "\n",
    "# print out the classification report\n",
    "print(classification_report(y_test, y_pred))"
   ]
  },
  {
   "cell_type": "markdown",
   "metadata": {},
   "source": [
    "<b> Average Weighted F1 score and Average AUC score with Cross validation"
   ]
  },
  {
   "cell_type": "code",
   "execution_count": null,
   "metadata": {},
   "outputs": [],
   "source": [
    "# ignore warnings\n",
    "warnings.filterwarnings(\"ignore\")\n",
    "\n",
    "# Build the k-fold cross-validator\n",
    "k_fold_split = 10\n",
    "kfold = KFold(n_splits=k_fold_split, random_state=2019, shuffle=True)\n",
    "#result = cross_val_score(gnb, X, Y, cv=kfold, scoring='accuracy')\n",
    "# note: only a single metric is permitted for parameter 'scoring'\n",
    "# for all parameters for scoring, see source:https://scikit-learn.org/stable/modules/model_evaluation.html#scoring-parameter\n",
    "result_f1_weighted = cross_val_score(svc_model3, X_train_res, y_train_res, cv=kfold, scoring='f1_weighted')\n",
    "result_auc_weighted = cross_val_score(svc_model3, X_train_res, y_train_res, cv=kfold, scoring='roc_auc')\n",
    "print('--------------------------------------------------------------------------')\n",
    "print('All the weighted f1 results:')\n",
    "print('--------------------------------------------------------------------------')\n",
    "print(result_f1_weighted, '\\n')\n",
    "\n",
    "print('--------------------------------------------------------------------------')\n",
    "print('Average of all the weighted f1 results:')\n",
    "print('--------------------------------------------------------------------------')\n",
    "print(round(result_f1_weighted.mean(), 4), '\\n')\n",
    "\n",
    "print('--------------------------------------------------------------------------')\n",
    "print('All the AUC scores:')\n",
    "print('--------------------------------------------------------------------------')\n",
    "print(result_auc_weighted, '\\n')\n",
    "\n",
    "print('--------------------------------------------------------------------------')\n",
    "print('Average of all the AUC scores:')\n",
    "print('--------------------------------------------------------------------------')\n",
    "print(round(result_auc_weighted.mean(), 4), '\\n')\n",
    "\n",
    "# reset the warnings for future code\n",
    "warnings.resetwarnings()"
   ]
  },
  {
   "cell_type": "markdown",
   "metadata": {},
   "source": [
    "<b> Cross validation on X and Y"
   ]
  },
  {
   "cell_type": "code",
   "execution_count": null,
   "metadata": {},
   "outputs": [],
   "source": [
    "# Build the k-fold cross-validator\n",
    "k_fold_split = 10\n",
    "kfold = KFold(n_splits=k_fold_split, random_state=2019, shuffle=True)\n",
    "\n",
    "result_accuracy = cross_val_score(svc_model3, X, Y, cv=kfold, scoring='accuracy')\n",
    "result_f1_weighted = cross_val_score(svc_model3, X, Y, cv=kfold, scoring='f1_weighted')\n",
    "result_auc = cross_val_score(svc_model3, X, Y, cv=kfold, scoring='roc_auc')\n",
    "print('--------------------------------------------------------------------------')\n",
    "print('Average of all the accuracy results:')\n",
    "print('--------------------------------------------------------------------------')\n",
    "print(round(result_accuracy.mean(), 4), '\\n')\n",
    "\n",
    "print('--------------------------------------------------------------------------')\n",
    "print('Average of all the weighted f1 results:')\n",
    "print('--------------------------------------------------------------------------')\n",
    "print(round(result_f1_weighted.mean(), 4), '\\n')\n",
    "\n",
    "print('--------------------------------------------------------------------------')\n",
    "print('Average of all the AUC score results:')\n",
    "print('--------------------------------------------------------------------------')\n",
    "print(round(result_auc.mean(), 4))"
   ]
  },
  {
   "cell_type": "markdown",
   "metadata": {},
   "source": [
    "<a id = \"80734\"> <h2> 3.4 Feature Importance </h2> </a>"
   ]
  },
  {
   "cell_type": "markdown",
   "metadata": {},
   "source": [
    "Feature importance is only easily possible with a linear kernel, that is why we did gridsearch again with a linear kernel.\n",
    "<br> Although providing a lower average weighted f1 score and auc score."
   ]
  },
  {
   "cell_type": "code",
   "execution_count": null,
   "metadata": {},
   "outputs": [],
   "source": [
    "lst_coef=[]\n",
    "lst_features=[]\n",
    "\n",
    "for i in svc_model3.coef_:\n",
    "    for j in i:\n",
    "        lst_coef.append(abs(j))\n",
    "        \n",
    "for j in list(X.columns):\n",
    "        lst_features.append(j)\n",
    "\n",
    "# combine the 2 lists of class 0 and feature names into a dataframe\n",
    "dict_lists = {\"Feature\": lst_features, \"Coefficient\": lst_coef}\n",
    "df_coef = pd.DataFrame(dict_lists)\n",
    "# sort descending and reset index\n",
    "df_coef.sort_values(by=['Coefficient'],  ascending=True, inplace=True)\n",
    "df_coef.reset_index(inplace=True, drop=True)\n",
    "df_coef\n",
    "df_coef.plot(x=\"Feature\", y=\"Coefficient\", kind='barh', figsize=(10,10), title='Feature Importance \\n (based on absolute coefficients SVM model with linear kernel)')"
   ]
  },
  {
   "cell_type": "markdown",
   "metadata": {},
   "source": [
    "<a id = \"8074\"> <h2> Results </h2> </a>"
   ]
  },
  {
   "cell_type": "markdown",
   "metadata": {},
   "source": [
    "_Note:_ To be able to interpret the coefficients for <b> 'feature importance' </b> in the SVM model, a _linear_ kernel was chosen. \n",
    "<br> However a more optimal SVM model can be derived, but will remain a black box for feature importance with non-linear kernels. \n",
    "<br> An example was provided for 'pipeline 1' with a more optimal non-linear model in the first part of this notebook, using GridSearch to derive more optimal hyper-parameters for the SVM model."
   ]
  },
  {
   "cell_type": "markdown",
   "metadata": {},
   "source": [
    "<b> Left align all markdown tables"
   ]
  },
  {
   "cell_type": "code",
   "execution_count": null,
   "metadata": {},
   "outputs": [],
   "source": [
    "%%html\n",
    "<style>\n",
    "    table {\n",
    "        display: inline-block\n",
    "    }\n",
    "</style>"
   ]
  },
  {
   "cell_type": "markdown",
   "metadata": {},
   "source": [
    "### Pipeline 1 Results </b>\n",
    "_Note:_ tool used for Excel table to markdown conversion, namely: https://tableconvert.com/"
   ]
  },
  {
   "cell_type": "markdown",
   "metadata": {},
   "source": [
    "| **Model**                                                         | **weighted avg F1-score** | **AUC score** |\n",
    "| ----------------------------------------------------------------- |:-------------------------:|:-------------:|\n",
    "| Basic Model                                                       | 0\\.89                     | 0\\.889        |\n",
    "| Oversampled Model \\(SMOTE\\)                                       | 0\\.86                     | 0\\.896        |\n",
    "| Cross validation Oversampled Model                                | 0\\.86                     | 0\\.896        |\n",
    "| Optimal Hyper\\-Parameters \\(incl\\. Cross Val\\. and Oversampling\\) | 0\\.85                     | 0\\.912        |"
   ]
  },
  {
   "cell_type": "markdown",
   "metadata": {},
   "source": [
    "### Pipeline 2 Results </b>"
   ]
  },
  {
   "cell_type": "markdown",
   "metadata": {},
   "source": [
    "| **Model**                                                         | **weighted avg F1-score** | **AUC score** |\n",
    "| ----------------------------------------------------------------- |:-------------------------:|:-------------:|\n",
    "| Basic Model                                                       | 0\\.78                     | 0\\.879        |\n",
    "| Oversampled Model \\(SMOTE\\)                                       | 0\\.68                     | 0\\.786        |\n",
    "| Cross validation Oversampled Model                                | 0\\.70                     | 0\\.786        |\n",
    "| Optimal Hyper\\-Parameters \\(incl\\. Cross Val\\. and Oversampling\\) | 0\\.86                     | 0\\.931        |\n"
   ]
  },
  {
   "cell_type": "markdown",
   "metadata": {},
   "source": [
    "### Pipeline 3 Results </b>"
   ]
  },
  {
   "cell_type": "markdown",
   "metadata": {},
   "source": [
    "| **Model**                                                         | **weighted avg F1-score** | **AUC score** |\n",
    "| ----------------------------------------------------------------- |:-------------------------:|:-------------:|\n",
    "| Basic Model                                                       | 0\\.89                     | 0\\.902        |\n",
    "| Oversampled Model \\(SMOTE\\)                                       | 0\\.85                     | 0\\.904        |\n",
    "| Cross validation Oversampled Model                                | 0\\.87                     | 0\\.904        |\n",
    "| Optimal Hyper\\-Parameters \\(incl\\. Cross Val\\. and Oversampling\\) | 0\\.85                     | 0\\.925        |\n"
   ]
  },
  {
   "cell_type": "markdown",
   "metadata": {},
   "source": [
    "<b> Conclusion: </b> \n",
    "<br> Pipelines have very similar results for the best model with cross validation using oversampling (SMOTE) and the 'optimal' parameters for the linear model, based on the weighted avg F1-score and AUC score.\n",
    "<br> The highest average scores are with pipeline 2, having a weighted avg F1-score of 0.86 and a AUC score of 0.931.\n",
    "<br> The variation in the feature: <b> 'Pagevalues' </b>, is by far the most important feature in predicting the variation in the target variable 'Revenue', for all three pipelines, by looking at the magnitude of the coefficients. "
   ]
  }
 ],
 "metadata": {
  "kernelspec": {
   "display_name": "Python 3",
   "language": "python",
   "name": "python3"
  },
  "language_info": {
   "codemirror_mode": {
    "name": "ipython",
    "version": 3
   },
   "file_extension": ".py",
   "mimetype": "text/x-python",
   "name": "python",
   "nbconvert_exporter": "python",
   "pygments_lexer": "ipython3",
   "version": "3.6.7"
  }
 },
 "nbformat": 4,
 "nbformat_minor": 4
}
