{
 "cells": [
  {
   "cell_type": "markdown",
   "metadata": {},
   "source": [
    "# <b> Recoding </b>\n",
    "___"
   ]
  },
  {
   "cell_type": "markdown",
   "metadata": {},
   "source": [
    "<b> Import modules </b>"
   ]
  },
  {
   "cell_type": "code",
   "execution_count": 1,
   "metadata": {},
   "outputs": [],
   "source": [
    "import pandas as pd\n",
    "import numpy as np\n",
    "from sklearn import preprocessing"
   ]
  },
  {
   "cell_type": "markdown",
   "metadata": {},
   "source": [
    "<b> Read csv file to a pandas dataframe </b>"
   ]
  },
  {
   "cell_type": "code",
   "execution_count": 2,
   "metadata": {},
   "outputs": [],
   "source": [
    "df = pd.read_csv(\"data/online_shoppers_intention.csv\")"
   ]
  },
  {
   "cell_type": "markdown",
   "metadata": {},
   "source": [
    "<b> Features grouped by data type </b>"
   ]
  },
  {
   "cell_type": "code",
   "execution_count": 3,
   "metadata": {},
   "outputs": [
    {
     "data": {
      "text/plain": [
       "{dtype('bool'): Index(['Weekend', 'Revenue'], dtype='object'),\n",
       " dtype('int64'): Index(['Administrative', 'Informational', 'ProductRelated', 'OperatingSystems',\n",
       "        'Browser', 'Region', 'TrafficType'],\n",
       "       dtype='object'),\n",
       " dtype('float64'): Index(['Administrative_Duration', 'Informational_Duration',\n",
       "        'ProductRelated_Duration', 'BounceRates', 'ExitRates', 'PageValues',\n",
       "        'SpecialDay'],\n",
       "       dtype='object'),\n",
       " dtype('O'): Index(['Month', 'VisitorType'], dtype='object')}"
      ]
     },
     "execution_count": 3,
     "metadata": {},
     "output_type": "execute_result"
    }
   ],
   "source": [
    "df.columns.to_series().groupby(df.dtypes).groups"
   ]
  },
  {
   "cell_type": "markdown",
   "metadata": {},
   "source": [
    "### 1. Recode Features/Target\n",
    "___"
   ]
  },
  {
   "cell_type": "markdown",
   "metadata": {},
   "source": [
    "<b>  1.1 Boolean Type: </b> \n",
    "<br> False/True into 0/1\n",
    "> - Weekend (-> Feature)\n",
    "- Revenue (-> Target Variable)"
   ]
  },
  {
   "cell_type": "code",
   "execution_count": 4,
   "metadata": {},
   "outputs": [],
   "source": [
    "# define function for converting Boolean (True/False) into (1's and 0's)\n",
    "def convert_bool_int(columnlst):\n",
    "    df[columnlst] = df[columnlst].astype(int)\n",
    "    \n",
    "convert_bool_int(['Weekend', 'Revenue'])\n",
    "# show unique value counts for each category (0/1)\n",
    "#df['Weekend'].value_counts()\n",
    "#df['Revenue'].value_counts()"
   ]
  },
  {
   "cell_type": "markdown",
   "metadata": {},
   "source": [
    "<b> 1.2 Object Type </b>\n",
    "<br> String into Integer (categorical)\n",
    "> - VisitorType (-> Feature)\n",
    "- Month (-> Feature)"
   ]
  },
  {
   "cell_type": "markdown",
   "metadata": {},
   "source": [
    "#### 1.2.1 VisitorType"
   ]
  },
  {
   "cell_type": "code",
   "execution_count": 5,
   "metadata": {},
   "outputs": [],
   "source": [
    "# Convert VisitorType from object to integer (categorical)\n",
    "df['VisitorType_lbl'] = df['VisitorType'].map({'New_Visitor': 0, 'Returning_Visitor': 1, 'Other': 2})"
   ]
  },
  {
   "cell_type": "markdown",
   "metadata": {},
   "source": [
    "<b> Show result remapping for the VisitorType </b>"
   ]
  },
  {
   "cell_type": "code",
   "execution_count": 6,
   "metadata": {},
   "outputs": [
    {
     "data": {
      "text/html": [
       "<div>\n",
       "<style scoped>\n",
       "    .dataframe tbody tr th:only-of-type {\n",
       "        vertical-align: middle;\n",
       "    }\n",
       "\n",
       "    .dataframe tbody tr th {\n",
       "        vertical-align: top;\n",
       "    }\n",
       "\n",
       "    .dataframe thead th {\n",
       "        text-align: right;\n",
       "    }\n",
       "</style>\n",
       "<table border=\"1\" class=\"dataframe\">\n",
       "  <thead>\n",
       "    <tr style=\"text-align: right;\">\n",
       "      <th></th>\n",
       "      <th>VisitorType</th>\n",
       "      <th>VisitorType_lbl</th>\n",
       "    </tr>\n",
       "  </thead>\n",
       "  <tbody>\n",
       "    <tr>\n",
       "      <th>0</th>\n",
       "      <td>New_Visitor</td>\n",
       "      <td>0</td>\n",
       "    </tr>\n",
       "    <tr>\n",
       "      <th>1</th>\n",
       "      <td>Returning_Visitor</td>\n",
       "      <td>1</td>\n",
       "    </tr>\n",
       "    <tr>\n",
       "      <th>2</th>\n",
       "      <td>Other</td>\n",
       "      <td>2</td>\n",
       "    </tr>\n",
       "  </tbody>\n",
       "</table>\n",
       "</div>"
      ],
      "text/plain": [
       "         VisitorType  VisitorType_lbl\n",
       "0        New_Visitor                0\n",
       "1  Returning_Visitor                1\n",
       "2              Other                2"
      ]
     },
     "execution_count": 6,
     "metadata": {},
     "output_type": "execute_result"
    }
   ],
   "source": [
    "df.groupby(by=['VisitorType'], as_index=False)['VisitorType_lbl'].first().sort_values('VisitorType_lbl').reset_index(drop=True)"
   ]
  },
  {
   "cell_type": "code",
   "execution_count": 7,
   "metadata": {},
   "outputs": [
    {
     "data": {
      "text/plain": [
       "array([1, 0, 2])"
      ]
     },
     "execution_count": 7,
     "metadata": {},
     "output_type": "execute_result"
    }
   ],
   "source": [
    "# test if only unique values 0,1,2 remain for relabeled feature: 'VisitorType_lbl'\n",
    "df['VisitorType_lbl'].unique()"
   ]
  },
  {
   "cell_type": "markdown",
   "metadata": {},
   "source": [
    "#### 1.2.2 Month"
   ]
  },
  {
   "cell_type": "code",
   "execution_count": 8,
   "metadata": {},
   "outputs": [
    {
     "data": {
      "text/plain": [
       "array(['Feb', 'Mar', 'May', 'Oct', 'June', 'Jul', 'Aug', 'Nov', 'Sep',\n",
       "       'Dec'], dtype=object)"
      ]
     },
     "execution_count": 8,
     "metadata": {},
     "output_type": "execute_result"
    }
   ],
   "source": [
    "# show unique months\n",
    "df['Month'].unique()"
   ]
  },
  {
   "cell_type": "code",
   "execution_count": 9,
   "metadata": {},
   "outputs": [],
   "source": [
    "# Recode Month - defensive coding (included all the months of the year in the remapping of the feature although we are missing January, April)\n",
    "df['Month_lbl'] = df['Month'].map({'Jan': 1, 'Feb':2, 'Mar':3, 'Apr': 4, 'May':5, 'June':6, 'Jul':7, 'Aug': 8, 'Sep':9, 'Oct': 10, 'Nov': 11, 'Dec':12})"
   ]
  },
  {
   "cell_type": "markdown",
   "metadata": {},
   "source": [
    "<b> _Show result remapping of feature for the Month_ </b>"
   ]
  },
  {
   "cell_type": "code",
   "execution_count": 10,
   "metadata": {},
   "outputs": [
    {
     "data": {
      "text/html": [
       "<div>\n",
       "<style scoped>\n",
       "    .dataframe tbody tr th:only-of-type {\n",
       "        vertical-align: middle;\n",
       "    }\n",
       "\n",
       "    .dataframe tbody tr th {\n",
       "        vertical-align: top;\n",
       "    }\n",
       "\n",
       "    .dataframe thead th {\n",
       "        text-align: right;\n",
       "    }\n",
       "</style>\n",
       "<table border=\"1\" class=\"dataframe\">\n",
       "  <thead>\n",
       "    <tr style=\"text-align: right;\">\n",
       "      <th></th>\n",
       "      <th>Month</th>\n",
       "      <th>Month_lbl</th>\n",
       "    </tr>\n",
       "  </thead>\n",
       "  <tbody>\n",
       "    <tr>\n",
       "      <th>0</th>\n",
       "      <td>Feb</td>\n",
       "      <td>2</td>\n",
       "    </tr>\n",
       "    <tr>\n",
       "      <th>1</th>\n",
       "      <td>Mar</td>\n",
       "      <td>3</td>\n",
       "    </tr>\n",
       "    <tr>\n",
       "      <th>2</th>\n",
       "      <td>May</td>\n",
       "      <td>5</td>\n",
       "    </tr>\n",
       "    <tr>\n",
       "      <th>3</th>\n",
       "      <td>June</td>\n",
       "      <td>6</td>\n",
       "    </tr>\n",
       "    <tr>\n",
       "      <th>4</th>\n",
       "      <td>Jul</td>\n",
       "      <td>7</td>\n",
       "    </tr>\n",
       "    <tr>\n",
       "      <th>5</th>\n",
       "      <td>Aug</td>\n",
       "      <td>8</td>\n",
       "    </tr>\n",
       "    <tr>\n",
       "      <th>6</th>\n",
       "      <td>Sep</td>\n",
       "      <td>9</td>\n",
       "    </tr>\n",
       "    <tr>\n",
       "      <th>7</th>\n",
       "      <td>Oct</td>\n",
       "      <td>10</td>\n",
       "    </tr>\n",
       "    <tr>\n",
       "      <th>8</th>\n",
       "      <td>Nov</td>\n",
       "      <td>11</td>\n",
       "    </tr>\n",
       "    <tr>\n",
       "      <th>9</th>\n",
       "      <td>Dec</td>\n",
       "      <td>12</td>\n",
       "    </tr>\n",
       "  </tbody>\n",
       "</table>\n",
       "</div>"
      ],
      "text/plain": [
       "  Month  Month_lbl\n",
       "0   Feb          2\n",
       "1   Mar          3\n",
       "2   May          5\n",
       "3  June          6\n",
       "4   Jul          7\n",
       "5   Aug          8\n",
       "6   Sep          9\n",
       "7   Oct         10\n",
       "8   Nov         11\n",
       "9   Dec         12"
      ]
     },
     "execution_count": 10,
     "metadata": {},
     "output_type": "execute_result"
    }
   ],
   "source": [
    "# show the old column Month and compare it with Month_lbl to see if the mapping worked\n",
    "# source: https://stackoverflow.com/questions/48131812/get-unique-values-of-multiple-columns-as-a-new-dataframe-in-pandas\n",
    "df.groupby(by=['Month'], as_index=False)['Month_lbl'].first().sort_values('Month_lbl').reset_index(drop=True)"
   ]
  },
  {
   "cell_type": "code",
   "execution_count": 11,
   "metadata": {},
   "outputs": [
    {
     "data": {
      "text/plain": [
       "array([ 2,  3,  5, 10,  6,  7,  8, 11,  9, 12])"
      ]
     },
     "execution_count": 11,
     "metadata": {},
     "output_type": "execute_result"
    }
   ],
   "source": [
    "# test if all values are replaced and no other values remain\n",
    "df['Month_lbl'].unique()"
   ]
  },
  {
   "cell_type": "markdown",
   "metadata": {},
   "source": [
    "<b>  1.3 Encode Categorical Features: One Hot Encoding </b> \n",
    "<br> _Note_: categorical features with more than 5 categories can be One Hot Encoded\n",
    "> - Month                   (10 categories)\n",
    "- SpecialDay                (6 categories)\n",
    "- OperatingSystems          (8 categories)\n",
    "- Browser                   (13 categories)\n",
    "- Region                    (9 categories)\n",
    "- TrafficType               (20 categories)"
   ]
  },
  {
   "cell_type": "markdown",
   "metadata": {},
   "source": [
    "<b> Show the number of Unique values for our categorical features"
   ]
  },
  {
   "cell_type": "code",
   "execution_count": 12,
   "metadata": {},
   "outputs": [
    {
     "name": "stdout",
     "output_type": "stream",
     "text": [
      "***********************************************************************************\n",
      "                    Unique values for Categorical Feature(s):\n",
      "***********************************************************************************\n",
      "Month : ['Aug' 'Dec' 'Feb' 'Jul' 'June' 'Mar' 'May' 'Nov' 'Oct' 'Sep'] \n",
      " - Unique Values: 10\n",
      "Weekend : [0 1] \n",
      " - Unique Values: 2\n",
      "SpecialDay : [0.  0.2 0.4 0.6 0.8 1. ] \n",
      " - Unique Values: 6\n",
      "VisitorType : ['New_Visitor' 'Other' 'Returning_Visitor'] \n",
      " - Unique Values: 3\n",
      "OperatingSystems : [1 2 3 4 5 6 7 8] \n",
      " - Unique Values: 8\n",
      "Browser : [ 1  2  3  4  5  6  7  8  9 10 11 12 13] \n",
      " - Unique Values: 13\n",
      "Region : [1 2 3 4 5 6 7 8 9] \n",
      " - Unique Values: 9\n",
      "TrafficType : [ 1  2  3  4  5  6  7  8  9 10 11 12 13 14 15 16 17 18 19 20] \n",
      " - Unique Values: 20\n",
      "***********************************************************************************\n"
     ]
    }
   ],
   "source": [
    "def feature_unique_values(df_name, lst_columns):\n",
    "    print('***********************************************************************************')\n",
    "    print('                    Unique values for Categorical Feature(s):')\n",
    "    print('***********************************************************************************')\n",
    "    for i in df_name[lst_columns]:\n",
    "        list_unique_values = df_name[i].unique()\n",
    "        list_unique_values.sort()\n",
    "        length_list = len(list_unique_values)\n",
    "        print(i, ':', list_unique_values, '\\n', '- Unique Values:', length_list)\n",
    "    print('***********************************************************************************')\n",
    "lst_features = ['Month', 'Weekend', 'SpecialDay', 'VisitorType', 'OperatingSystems', 'Browser', 'Region', 'TrafficType']\n",
    "feature_unique_values(df_name=df, lst_columns=lst_features)"
   ]
  },
  {
   "cell_type": "markdown",
   "metadata": {},
   "source": [
    "<b> One Hot Encoding </b> for categorical features with >5 categories\n",
    "<br> _source:_ https://pbpython.com/categorical-encoding.html"
   ]
  },
  {
   "cell_type": "code",
   "execution_count": 13,
   "metadata": {},
   "outputs": [],
   "source": [
    "df = pd.get_dummies(df, columns=['Month', 'SpecialDay', 'OperatingSystems', 'Browser', 'Region', 'TrafficType', 'VisitorType'], prefix=['Month', 'SpecialDay', 'OperatingSystems', 'Browser', 'Region', 'TrafficType', 'VisitorType'], dtype=int)   "
   ]
  },
  {
   "cell_type": "code",
   "execution_count": 18,
   "metadata": {},
   "outputs": [
    {
     "name": "stdout",
     "output_type": "stream",
     "text": [
      "<class 'pandas.core.frame.DataFrame'>\n",
      "RangeIndex: 12330 entries, 0 to 12329\n",
      "Data columns (total 82 columns):\n",
      "Administrative                   12330 non-null int64\n",
      "Administrative_Duration          12330 non-null float64\n",
      "Informational                    12330 non-null int64\n",
      "Informational_Duration           12330 non-null float64\n",
      "ProductRelated                   12330 non-null int64\n",
      "ProductRelated_Duration          12330 non-null float64\n",
      "BounceRates                      12330 non-null float64\n",
      "ExitRates                        12330 non-null float64\n",
      "PageValues                       12330 non-null float64\n",
      "Weekend                          12330 non-null int64\n",
      "Revenue                          12330 non-null int64\n",
      "VisitorType_lbl                  12330 non-null int64\n",
      "Month_lbl                        12330 non-null int64\n",
      "Month_Aug                        12330 non-null int64\n",
      "Month_Dec                        12330 non-null int64\n",
      "Month_Feb                        12330 non-null int64\n",
      "Month_Jul                        12330 non-null int64\n",
      "Month_June                       12330 non-null int64\n",
      "Month_Mar                        12330 non-null int64\n",
      "Month_May                        12330 non-null int64\n",
      "Month_Nov                        12330 non-null int64\n",
      "Month_Oct                        12330 non-null int64\n",
      "Month_Sep                        12330 non-null int64\n",
      "SpecialDay_0.0                   12330 non-null int64\n",
      "SpecialDay_0.2                   12330 non-null int64\n",
      "SpecialDay_0.4                   12330 non-null int64\n",
      "SpecialDay_0.6                   12330 non-null int64\n",
      "SpecialDay_0.8                   12330 non-null int64\n",
      "SpecialDay_1.0                   12330 non-null int64\n",
      "OperatingSystems_1               12330 non-null int64\n",
      "OperatingSystems_2               12330 non-null int64\n",
      "OperatingSystems_3               12330 non-null int64\n",
      "OperatingSystems_4               12330 non-null int64\n",
      "OperatingSystems_5               12330 non-null int64\n",
      "OperatingSystems_6               12330 non-null int64\n",
      "OperatingSystems_7               12330 non-null int64\n",
      "OperatingSystems_8               12330 non-null int64\n",
      "Browser_1                        12330 non-null int64\n",
      "Browser_2                        12330 non-null int64\n",
      "Browser_3                        12330 non-null int64\n",
      "Browser_4                        12330 non-null int64\n",
      "Browser_5                        12330 non-null int64\n",
      "Browser_6                        12330 non-null int64\n",
      "Browser_7                        12330 non-null int64\n",
      "Browser_8                        12330 non-null int64\n",
      "Browser_9                        12330 non-null int64\n",
      "Browser_10                       12330 non-null int64\n",
      "Browser_11                       12330 non-null int64\n",
      "Browser_12                       12330 non-null int64\n",
      "Browser_13                       12330 non-null int64\n",
      "Region_1                         12330 non-null int64\n",
      "Region_2                         12330 non-null int64\n",
      "Region_3                         12330 non-null int64\n",
      "Region_4                         12330 non-null int64\n",
      "Region_5                         12330 non-null int64\n",
      "Region_6                         12330 non-null int64\n",
      "Region_7                         12330 non-null int64\n",
      "Region_8                         12330 non-null int64\n",
      "Region_9                         12330 non-null int64\n",
      "TrafficType_1                    12330 non-null int64\n",
      "TrafficType_2                    12330 non-null int64\n",
      "TrafficType_3                    12330 non-null int64\n",
      "TrafficType_4                    12330 non-null int64\n",
      "TrafficType_5                    12330 non-null int64\n",
      "TrafficType_6                    12330 non-null int64\n",
      "TrafficType_7                    12330 non-null int64\n",
      "TrafficType_8                    12330 non-null int64\n",
      "TrafficType_9                    12330 non-null int64\n",
      "TrafficType_10                   12330 non-null int64\n",
      "TrafficType_11                   12330 non-null int64\n",
      "TrafficType_12                   12330 non-null int64\n",
      "TrafficType_13                   12330 non-null int64\n",
      "TrafficType_14                   12330 non-null int64\n",
      "TrafficType_15                   12330 non-null int64\n",
      "TrafficType_16                   12330 non-null int64\n",
      "TrafficType_17                   12330 non-null int64\n",
      "TrafficType_18                   12330 non-null int64\n",
      "TrafficType_19                   12330 non-null int64\n",
      "TrafficType_20                   12330 non-null int64\n",
      "VisitorType_New_Visitor          12330 non-null int64\n",
      "VisitorType_Other                12330 non-null int64\n",
      "VisitorType_Returning_Visitor    12330 non-null int64\n",
      "dtypes: float64(6), int64(76)\n",
      "memory usage: 7.7 MB\n"
     ]
    }
   ],
   "source": [
    "# test if it worked by showing the additional columnnames and respective data types\n",
    "#list(df.columns)\n",
    "df.info()\n",
    "# show the first 5 rows of the one hot encoded features\n",
    "#df.iloc[:, 14:].head()"
   ]
  },
  {
   "cell_type": "markdown",
   "metadata": {},
   "source": [
    "### __Save Recoded Dataset to a CSV File__ #\n",
    "___"
   ]
  },
  {
   "cell_type": "code",
   "execution_count": 17,
   "metadata": {},
   "outputs": [],
   "source": [
    "# save a copy of the dataframe under 'df_recoded'\n",
    "# drop old columns which are labeled as new columns (VisitorType_lbl)\n",
    "# note: the get_dummies syntax already dropped the original Month feature with one-hot encoding  \n",
    "df_recoded = df.drop(['VisitorType_lbl', 'Month_lbl'], axis=1)\n",
    "\n",
    "# define name of the csv file\n",
    "file_name = 'df_recoded.csv'\n",
    "\n",
    "# export pandas dataframe to csv\n",
    "df_recoded.to_csv('../project2-mtb/' + file_name, index=False)"
   ]
  },
  {
   "cell_type": "code",
   "execution_count": null,
   "metadata": {},
   "outputs": [],
   "source": []
  }
 ],
 "metadata": {
  "kernelspec": {
   "display_name": "Python 3",
   "language": "python",
   "name": "python3"
  },
  "language_info": {
   "codemirror_mode": {
    "name": "ipython",
    "version": 3
   },
   "file_extension": ".py",
   "mimetype": "text/x-python",
   "name": "python",
   "nbconvert_exporter": "python",
   "pygments_lexer": "ipython3",
   "version": "3.6.7"
  }
 },
 "nbformat": 4,
 "nbformat_minor": 4
}
