{
 "cells": [
  {
   "cell_type": "markdown",
   "metadata": {},
   "source": [
    "# Appendix"
   ]
  },
  {
   "cell_type": "markdown",
   "metadata": {},
   "source": [
    "The features and target _'Revenue'_ used in the models, from the 3 pipelines, are listed in the table below:\n",
    "<br> _(based on Feature Selection methods: RFE, Kbest, Ridge Regression)_"
   ]
  },
  {
   "cell_type": "code",
   "execution_count": 2,
   "metadata": {},
   "outputs": [
    {
     "data": {
      "text/html": [
       "<style>\n",
       "    table {\n",
       "        display: inline-block\n",
       "    }\n",
       "</style>\n"
      ],
      "text/plain": [
       "<IPython.core.display.HTML object>"
      ]
     },
     "metadata": {},
     "output_type": "display_data"
    }
   ],
   "source": [
    "%%html\n",
    "<style>\n",
    "    table {\n",
    "        display: inline-block\n",
    "    }\n",
    "</style>"
   ]
  },
  {
   "cell_type": "markdown",
   "metadata": {},
   "source": [
    "| **Pipeline 1**                                | **Pipeline 2**                           | **Pipeline 3**                               |\n",
    "|:---------------------------------------------:|:----------------------------------------:|:--------------------------------------------:|\n",
    "| Q4                                            | TrafficType\\_15                          | Administrative\\_yj\\_stdev\\_zscore            |\n",
    "|  VisitorType\\_New\\_Visitor                    |  Month\\_Nov                              |  Month\\_Nov                                  |\n",
    "|  Q3                                           |  Administrative\\_Duration\\_mm\\_yj\\_stdev |  VisitorType\\_New\\_Visitor                   |\n",
    "|  TrafficType\\_2                               |  VisitorType\\_New\\_Visitor               |  TrafficType\\_2                              |\n",
    "|  TrafficType\\_8                               |  Informational\\_mm\\_yj\\_stdev            |  Month\\_May                                  |\n",
    "|  TrafficType\\_3                               |  TrafficType\\_2                          |  TrafficType\\_3                              |\n",
    "|  PageValues\\_iqr\\_yj\\_zscore                  |  TrafficType\\_3                          |  add\\_exit\\_bounce\\_rates\\_yj\\_stdev\\_zscore |\n",
    "|  Q1                                           |  ProductRelated\\_mm\\_yj\\_stdev           |  TrafficType\\_13                             |\n",
    "|  TrafficType\\_13                              |  PageValues\\_mm\\_yj\\_stdev               |  PageValues\\_yj\\_stdev\\_zscore               |\n",
    "|  ExitRates\\_iqr\\_yj\\_zscore                   |  Month\\_May                              |  OperatingSystems\\_3                         |\n",
    "|  OperatingSystems\\_3                          |  TrafficType\\_13                         |  TrafficType\\_1                              |\n",
    "|  Administrative\\_Duration\\_iqr\\_yj\\_zscore    |  OperatingSystems\\_3                     |  Month\\_Mar                                  |\n",
    "|  TrafficType\\_1                               |  TrafficType\\_1                          |  TrafficType\\_8                              |\n",
    "|  SpecialDay\\_0\\.8                             |  add\\_exit\\_bounce\\_rates\\_mm\\_yj\\_stdev |  SpecialDay\\_0\\.8                            |\n",
    "|  Month\\_Feb                                   |  Month\\_Mar                              |  Month\\_Feb                                  |\n",
    "|  Browser\\_6                                   |  TrafficType\\_18                         |  Month\\_Dec                                  |\n",
    "|  SpecialDay\\_0\\.4                             |  TrafficType\\_8                          |  SpecialDay\\_0\\.4                            |\n",
    "|  TrafficType\\_20                              |  SpecialDay\\_0\\.8                        |  TrafficType\\_20                             |\n",
    "|  Informational\\_Duration\\_pp\\_iqr\\_yj\\_zscore |  Month\\_Feb                              |  Month\\_Oct                                  |\n",
    "|  Browser\\_12                                  |  TrafficType\\_12                         |  Region\\_1                                   |\n",
    "|  OperatingSystems\\_7                          |  Browser\\_12                             |  Browser\\_12                                 |\n",
    "|  TrafficType\\_16                              |  Revenue                                 |  OperatingSystems\\_7                         |\n",
    "|  Revenue                                      |                                          |  TrafficType\\_16                             |\n",
    "|                                               |                                          |  Revenue                                     |"
   ]
  }
 ],
 "metadata": {
  "kernelspec": {
   "display_name": "Python 3",
   "language": "python",
   "name": "python3"
  },
  "language_info": {
   "codemirror_mode": {
    "name": "ipython",
    "version": 3
   },
   "file_extension": ".py",
   "mimetype": "text/x-python",
   "name": "python",
   "nbconvert_exporter": "python",
   "pygments_lexer": "ipython3",
   "version": "3.6.7"
  }
 },
 "nbformat": 4,
 "nbformat_minor": 4
}
