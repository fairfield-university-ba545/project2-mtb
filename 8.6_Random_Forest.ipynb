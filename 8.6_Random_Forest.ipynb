{
 "cells": [
  {
   "cell_type": "markdown",
   "metadata": {},
   "source": [
    "# Random Forest #"
   ]
  },
  {
   "cell_type": "markdown",
   "metadata": {},
   "source": [
    "<b> Table of Contents: </b>\n",
    "<br> <b> [Pipeline 1](#11) </b>\n",
    "<br> [1.0 Basic Model: Random Forest](#1100)\n",
    "<br> [1.1 Oversampling (SMOTE)](#1101)\n",
    "<br> [1.2 Undersampling (NearMiss)](#1102)\n",
    "<br> [1.3 Cross Validation (Oversampling)](#1103)\n",
    "<br> [1.4 Model Tuning (Hyperparameters)](#1104)\n",
    "<br> [1.5 Feature Importance](#1105)\n",
    "<br> <b> [Pipeline 2](#22) </b>\n",
    "<br> [2.0 Basic Model: Random Forest](#2100)\n",
    "<br> [2.1 Oversampling (SMOTE)](#2101)\n",
    "<br> [2.2 Cross Validation (Oversampling)](#2102)\n",
    "<br> [2.3 Model Tuning (Hyperparameters)](#2103)\n",
    "<br> [2.4 Feature Importance](#2104)\n",
    "<br> <b> [Pipeline 3](#33) </b>\n",
    "<br> [3.0 Basic Model: Random Forest](#3100)\n",
    "<br> [3.1 Oversampling (SMOTE)](#3101)\n",
    "<br> [3.2 Cross Validation (Oversampling)](#3102) \n",
    "<br> [3.3 Model Tuning (Hyperparameters)](#3103)\n",
    "<br> [3.4 Feature Importance](#3104)\n",
    "<br> <b> [Results](#31005) </b>"
   ]
  },
  {
   "cell_type": "markdown",
   "metadata": {},
   "source": [
    "Loading Modules"
   ]
  },
  {
   "cell_type": "code",
   "execution_count": 1,
   "metadata": {},
   "outputs": [
    {
     "name": "stderr",
     "output_type": "stream",
     "text": [
      "/opt/tljh/user/lib/python3.6/site-packages/sklearn/utils/deprecation.py:144: FutureWarning: The sklearn.neighbors.base module is  deprecated in version 0.22 and will be removed in version 0.24. The corresponding classes / functions should instead be imported from sklearn.neighbors. Anything that cannot be imported from sklearn.neighbors is now part of the private API.\n",
      "  warnings.warn(message, FutureWarning)\n",
      "/opt/tljh/user/lib/python3.6/site-packages/sklearn/utils/deprecation.py:144: FutureWarning: The sklearn.ensemble.bagging module is  deprecated in version 0.22 and will be removed in version 0.24. The corresponding classes / functions should instead be imported from sklearn.ensemble. Anything that cannot be imported from sklearn.ensemble is now part of the private API.\n",
      "  warnings.warn(message, FutureWarning)\n",
      "/opt/tljh/user/lib/python3.6/site-packages/sklearn/utils/deprecation.py:144: FutureWarning: The sklearn.ensemble.base module is  deprecated in version 0.22 and will be removed in version 0.24. The corresponding classes / functions should instead be imported from sklearn.ensemble. Anything that cannot be imported from sklearn.ensemble is now part of the private API.\n",
      "  warnings.warn(message, FutureWarning)\n",
      "/opt/tljh/user/lib/python3.6/site-packages/sklearn/utils/deprecation.py:144: FutureWarning: The sklearn.ensemble.forest module is  deprecated in version 0.22 and will be removed in version 0.24. The corresponding classes / functions should instead be imported from sklearn.ensemble. Anything that cannot be imported from sklearn.ensemble is now part of the private API.\n",
      "  warnings.warn(message, FutureWarning)\n",
      "/opt/tljh/user/lib/python3.6/site-packages/sklearn/utils/deprecation.py:144: FutureWarning: The sklearn.utils.testing module is  deprecated in version 0.22 and will be removed in version 0.24. The corresponding classes / functions should instead be imported from sklearn.utils. Anything that cannot be imported from sklearn.utils is now part of the private API.\n",
      "  warnings.warn(message, FutureWarning)\n",
      "/opt/tljh/user/lib/python3.6/site-packages/sklearn/utils/deprecation.py:144: FutureWarning: The sklearn.metrics.classification module is  deprecated in version 0.22 and will be removed in version 0.24. The corresponding classes / functions should instead be imported from sklearn.metrics. Anything that cannot be imported from sklearn.metrics is now part of the private API.\n",
      "  warnings.warn(message, FutureWarning)\n"
     ]
    }
   ],
   "source": [
    "# import modules\n",
    "import pandas as pd\n",
    "import numpy as np\n",
    "\n",
    "#Import scikit-learn dataset library\n",
    "from sklearn import datasets\n",
    "\n",
    "# Import train_test_split function\n",
    "from sklearn.model_selection import train_test_split\n",
    "\n",
    "# import oversampling and undersampling packages\n",
    "from imblearn.over_sampling import SMOTE\n",
    "from imblearn.under_sampling import NearMiss\n",
    "\n",
    "from sklearn import preprocessing\n",
    "from sklearn.datasets import make_classification\n",
    "from sklearn.preprocessing import StandardScaler \n",
    "\n",
    "from sklearn import metrics\n",
    "from sklearn.metrics import confusion_matrix, classification_report \n",
    "\n",
    "# Cross Validation packages\n",
    "from sklearn.model_selection import KFold\n",
    "from sklearn.model_selection import cross_val_score\n",
    "\n",
    "# import required modules for visualization\n",
    "import matplotlib.pyplot as plt\n",
    "import seaborn as sns\n",
    "\n",
    "# import module for gridsearch (to find optimal hyper-parameters)\n",
    "from sklearn.model_selection import GridSearchCV\n",
    "\n",
    "# import module (to test execution time of a codeblock to run)\n",
    "import time\n",
    "\n",
    "import warnings \n",
    "\n",
    "from sklearn.model_selection import StratifiedKFold\n",
    "from sklearn.svm import SVC"
   ]
  },
  {
   "cell_type": "code",
   "execution_count": 2,
   "metadata": {},
   "outputs": [
    {
     "name": "stdout",
     "output_type": "stream",
     "text": [
      "Automatically created module for IPython interactive environment\n"
     ]
    }
   ],
   "source": [
    "# packages for Receiver Operating Characteristic (ROC) with cross validation\n",
    "# source: https://scikit-learn.org/0.18/auto_examples/model_selection/plot_roc_crossval.html\n",
    "print(__doc__)\n",
    "\n",
    "import numpy as np\n",
    "from scipy import interp\n",
    "import matplotlib.pyplot as plt\n",
    "from itertools import cycle\n",
    "\n",
    "from sklearn import svm, datasets\n",
    "from sklearn.metrics import roc_curve, auc\n",
    "from sklearn.model_selection import StratifiedKFold\n",
    "from sklearn.metrics import plot_roc_curve"
   ]
  },
  {
   "cell_type": "markdown",
   "metadata": {},
   "source": [
    "<a id = \"11\"> <h2> Pipeline 1 </h2> </a>\n",
    "___"
   ]
  },
  {
   "cell_type": "markdown",
   "metadata": {},
   "source": [
    "<b> read csv file to a pandas dataframe"
   ]
  },
  {
   "cell_type": "code",
   "execution_count": 3,
   "metadata": {},
   "outputs": [],
   "source": [
    "#Load dataset\n",
    "# read csv file to a pandas dataframe\n",
    "df_pipeline1 = pd.read_csv(\"pipeline_1.csv\")"
   ]
  },
  {
   "cell_type": "markdown",
   "metadata": {},
   "source": [
    "<b> show all columns in dataset"
   ]
  },
  {
   "cell_type": "code",
   "execution_count": 4,
   "metadata": {},
   "outputs": [
    {
     "name": "stdout",
     "output_type": "stream",
     "text": [
      "There are 22 features, and the target `Revenue` for pipeline 1:\n"
     ]
    },
    {
     "data": {
      "text/plain": [
       "['Q4',\n",
       " 'VisitorType_New_Visitor',\n",
       " 'Q3',\n",
       " 'TrafficType_2',\n",
       " 'TrafficType_8',\n",
       " 'TrafficType_3',\n",
       " 'PageValues_iqr_yj_zscore',\n",
       " 'Q1',\n",
       " 'TrafficType_13',\n",
       " 'ExitRates_iqr_yj_zscore',\n",
       " 'OperatingSystems_3',\n",
       " 'Administrative_Duration_iqr_yj_zscore',\n",
       " 'TrafficType_1',\n",
       " 'SpecialDay_0.8',\n",
       " 'Month_Feb',\n",
       " 'Browser_6',\n",
       " 'SpecialDay_0.4',\n",
       " 'TrafficType_20',\n",
       " 'Informational_Duration_pp_iqr_yj_zscore',\n",
       " 'Browser_12',\n",
       " 'OperatingSystems_7',\n",
       " 'TrafficType_16',\n",
       " 'Revenue']"
      ]
     },
     "execution_count": 4,
     "metadata": {},
     "output_type": "execute_result"
    }
   ],
   "source": [
    "# show all columns in dataset\n",
    "print('There are', len(df_pipeline1.columns)-1, 'features, and the target `Revenue` for pipeline 1:')\n",
    "list(df_pipeline1.columns)"
   ]
  },
  {
   "cell_type": "code",
   "execution_count": 5,
   "metadata": {},
   "outputs": [
    {
     "name": "stdout",
     "output_type": "stream",
     "text": [
      "Number of rows in the dataset: 12330\n",
      "Number of columns in the dataset: 23\n"
     ]
    }
   ],
   "source": [
    "print('Number of rows in the dataset:', df_pipeline1.shape[0])\n",
    "print('Number of columns in the dataset:', df_pipeline1.shape[1])"
   ]
  },
  {
   "cell_type": "markdown",
   "metadata": {},
   "source": [
    "<a id = \"1100\"> <h2> 1.0 Basic Model Random Forest </h2> </a>"
   ]
  },
  {
   "cell_type": "markdown",
   "metadata": {},
   "source": [
    "> <b> Declare Features and Target"
   ]
  },
  {
   "cell_type": "code",
   "execution_count": 6,
   "metadata": {},
   "outputs": [],
   "source": [
    "# Define Features and Target variables\n",
    "X = df_pipeline1.iloc[:, :-1] # Features is all columns in the dataframe except the last column\n",
    "Y = df_pipeline1.iloc[:, -1] # Target is the last column in the dataframe: 'Revenue'"
   ]
  },
  {
   "cell_type": "markdown",
   "metadata": {},
   "source": [
    "> <b> Split the data"
   ]
  },
  {
   "cell_type": "code",
   "execution_count": 7,
   "metadata": {},
   "outputs": [],
   "source": [
    "# Split dataset into training set and test set\n",
    "X_train, X_test, y_train, y_test = train_test_split(X, Y, test_size=0.3, random_state=2019) # 70% training and 30% test"
   ]
  },
  {
   "cell_type": "markdown",
   "metadata": {},
   "source": [
    "> <b> Model Development and Prediction"
   ]
  },
  {
   "cell_type": "code",
   "execution_count": 8,
   "metadata": {},
   "outputs": [
    {
     "name": "stdout",
     "output_type": "stream",
     "text": [
      "              precision    recall  f1-score   support\n",
      "\n",
      "           0       0.92      0.95      0.93      3131\n",
      "           1       0.65      0.53      0.58       568\n",
      "\n",
      "    accuracy                           0.88      3699\n",
      "   macro avg       0.79      0.74      0.76      3699\n",
      "weighted avg       0.88      0.88      0.88      3699\n",
      "\n"
     ]
    }
   ],
   "source": [
    "#Import Random Forest Model\n",
    "from sklearn.ensemble import RandomForestClassifier\n",
    "\n",
    "#Create a Random Forest Classifier\n",
    "clf = RandomForestClassifier(random_state=2019)\n",
    "\n",
    "#Train the model using the training sets y_pred=clf.predict(X_test)\n",
    "clf.fit(X_train,y_train)\n",
    "\n",
    "y_pred = clf.predict(X_test)\n",
    "\n",
    "#check the predictive performance using the actual and predicted values\n",
    "from sklearn.metrics import classification_report, confusion_matrix\n",
    "print(classification_report(y_test, y_pred))"
   ]
  },
  {
   "cell_type": "markdown",
   "metadata": {},
   "source": [
    "<b> ROC Curve with AUC score - Basic model </b> (before oversampling/undersampling)"
   ]
  },
  {
   "cell_type": "code",
   "execution_count": 9,
   "metadata": {},
   "outputs": [],
   "source": [
    "# define a function to plot the roc_curve and AUC score using variables: X_test and y_test\n",
    "def roc_curve(X_test=X_test, y_test=y_test, model=clf):\n",
    "    # set the style of the graph\n",
    "    plt.style.use('Solarize_Light2')\n",
    "\n",
    "    # predict_proba gives you the probabilities for the target (0 and 1 in your case) in array form in dimension (N,2). \n",
    "    # The first index refers to the probability that the data belong to class 0, and the second refers to the probability that the data belong to class 1. \n",
    "    # we define a variable with an array of the probabilities that each observation belongs to class 1 (with [:,1], where model.predict_proba(X_test)[:,0] refers to the array it belongs to class 0)\n",
    "    y_pred_proba = model.predict_proba(X_test)[:,1]\n",
    "\n",
    "    # define false positive rate (fpr) and the true positive rate (tpr)\n",
    "    fpr, tpr, _ = metrics.roc_curve(y_test,  y_pred_proba)\n",
    "\n",
    "    # Compute Area Under the Receiver Operating Characteristic Curve (ROC AUC) from prediction scores.\n",
    "    # source: https://scikit-learn.org/stable/modules/generated/sklearn.metrics.roc_auc_score.html\n",
    "    auc = metrics.roc_auc_score(y_test, y_pred_proba)\n",
    "\n",
    "    # plot on the X-axis: the false positive rate\n",
    "    # plot on the Y-axis: the true positive rate\n",
    "    # with the legend having the auc score\n",
    "    plt.plot(fpr,tpr,label='AUC = %0.2f' % auc)\n",
    "    # positioning of the legend\n",
    "    plt.legend(loc=4)\n",
    "    # define the title of the plot\n",
    "    plt.title('Receiver Operating Characteristic (ROC)')\n",
    "    # define the y axis label\n",
    "    plt.ylabel('True Positive Rate')\n",
    "    # define the x axis label\n",
    "    plt.xlabel('False Positive Rate')\n",
    "    # plot a straight dashed line in the color red\n",
    "    plt.plot([0, 1], [0, 1],'r--')\n",
    "    # show the plot\n",
    "    plt.show()\n",
    "    # print out full AUC score\n",
    "    print('AUC score:', auc)"
   ]
  },
  {
   "cell_type": "code",
   "execution_count": 10,
   "metadata": {},
   "outputs": [
    {
     "data": {
      "image/png": "[encoded data removed]",
      "text/plain": [
       "<Figure size 432x288 with 1 Axes>"
      ]
     },
     "metadata": {},
     "output_type": "display_data"
    },
    {
     "name": "stdout",
     "output_type": "stream",
     "text": [
      "AUC score: 0.8917655566101818\n"
     ]
    }
   ],
   "source": [
    "# apply function to plot the ROC Curve\n",
    "roc_curve(X_test=X_test, y_test=y_test, model=clf)"
   ]
  },
  {
   "cell_type": "markdown",
   "metadata": {},
   "source": [
    "<a id = \"1101\"> <h2> 1.1 Oversampling (SMOTE) </h2> </a>\n",
    "We oversample the <b> training </b> dataset, because the classes within our target variable 'Revenue' are imbalanced:\n",
    "* class 0: 84.53%\n",
    "* class 1: 15.47%\n",
    "\n",
    "For more information, click on detailed information from Prof. Jie Tao [link](https://github.com/DrJieTao/ba545-docs/blob/master/competition2/handling_imbalanced_data_part2.ipynb)"
   ]
  },
  {
   "cell_type": "markdown",
   "metadata": {},
   "source": [
    "> <b> Oversampling applying SMOTE"
   ]
  },
  {
   "cell_type": "code",
   "execution_count": 11,
   "metadata": {},
   "outputs": [
    {
     "name": "stderr",
     "output_type": "stream",
     "text": [
      "/opt/tljh/user/lib/python3.6/site-packages/sklearn/utils/deprecation.py:87: FutureWarning: Function safe_indexing is deprecated; safe_indexing is deprecated in version 0.22 and will be removed in version 0.24.\n",
      "  warnings.warn(msg, category=FutureWarning)\n"
     ]
    },
    {
     "name": "stdout",
     "output_type": "stream",
     "text": [
      "After OverSampling, the shape of train_X: (14582, 22)\n",
      "After OverSampling, the shape of train_y: (14582,) \n",
      "\n",
      "After OverSampling, counts of label '1': 7291\n",
      "After OverSampling, counts of label '0': 7291\n"
     ]
    }
   ],
   "source": [
    "sm = SMOTE(random_state = 2019) \n",
    "X_train_res, y_train_res = sm.fit_sample(X_train, y_train) \n",
    "\n",
    "print('After OverSampling, the shape of train_X: {}'.format(X_train_res.shape)) \n",
    "print('After OverSampling, the shape of train_y: {} \\n'.format(y_train_res.shape)) \n",
    "  \n",
    "print(\"After OverSampling, counts of label '1': {}\".format(sum(y_train_res == 1))) \n",
    "print(\"After OverSampling, counts of label '0': {}\".format(sum(y_train_res == 0)))"
   ]
  },
  {
   "cell_type": "code",
   "execution_count": 12,
   "metadata": {},
   "outputs": [
    {
     "name": "stdout",
     "output_type": "stream",
     "text": [
      "              precision    recall  f1-score   support\n",
      "\n",
      "           0       0.94      0.89      0.91      3131\n",
      "           1       0.53      0.71      0.61       568\n",
      "\n",
      "    accuracy                           0.86      3699\n",
      "   macro avg       0.74      0.80      0.76      3699\n",
      "weighted avg       0.88      0.86      0.87      3699\n",
      "\n"
     ]
    }
   ],
   "source": [
    "# define the model\n",
    "#Import Random Forest Model\n",
    "from sklearn.ensemble import RandomForestClassifier\n",
    "\n",
    "#Create a RandomForest Classifier\n",
    "clf1 = RandomForestClassifier(n_estimators=100, random_state=2019)\n",
    "\n",
    "#Train the model using the training sets y_pred=clf.predict(X_test)\n",
    "clf1.fit(X_train_res,y_train_res)\n",
    "\n",
    "y_pred = clf1.predict(X_test)\n",
    "\n",
    "#check the predictive performance using the actual and predicted values\n",
    "from sklearn.metrics import classification_report, confusion_matrix\n",
    "print(classification_report(y_test, y_pred))"
   ]
  },
  {
   "cell_type": "code",
   "execution_count": 13,
   "metadata": {},
   "outputs": [
    {
     "data": {
      "image/png": "[encoded data removed]",
      "text/plain": [
       "<Figure size 432x288 with 1 Axes>"
      ]
     },
     "metadata": {},
     "output_type": "display_data"
    },
    {
     "name": "stdout",
     "output_type": "stream",
     "text": [
      "AUC score: 0.8885829348495958\n"
     ]
    }
   ],
   "source": [
    "# apply function to plot the ROC Curve\n",
    "roc_curve(X_test=X_test, y_test=y_test, model=clf1)"
   ]
  },
  {
   "cell_type": "markdown",
   "metadata": {},
   "source": [
    "<a id = \"1102\"> <h2> 1.2 Undersampling (NearMiss)  </h2> </a>\n",
    "We undersample the dataset, because the classes within our target variable 'Revenue' are imbalanced:\n",
    "* class 0: 84.53%\n",
    "* class 1: 15.47%\n",
    "\n",
    "Fore more information, click on detailed information from Prof. Jie Tao [link](https://github.com/DrJieTao/ba545-docs/blob/master/competition2/handling_imbalanced_data_part2.ipynb)"
   ]
  },
  {
   "cell_type": "code",
   "execution_count": 14,
   "metadata": {},
   "outputs": [
    {
     "name": "stderr",
     "output_type": "stream",
     "text": [
      "/opt/tljh/user/lib/python3.6/site-packages/sklearn/utils/deprecation.py:87: FutureWarning: Function safe_indexing is deprecated; safe_indexing is deprecated in version 0.22 and will be removed in version 0.24.\n",
      "  warnings.warn(msg, category=FutureWarning)\n",
      "/opt/tljh/user/lib/python3.6/site-packages/sklearn/utils/deprecation.py:87: FutureWarning: Function safe_indexing is deprecated; safe_indexing is deprecated in version 0.22 and will be removed in version 0.24.\n",
      "  warnings.warn(msg, category=FutureWarning)\n",
      "/opt/tljh/user/lib/python3.6/site-packages/sklearn/utils/deprecation.py:87: FutureWarning: Function safe_indexing is deprecated; safe_indexing is deprecated in version 0.22 and will be removed in version 0.24.\n",
      "  warnings.warn(msg, category=FutureWarning)\n"
     ]
    },
    {
     "name": "stdout",
     "output_type": "stream",
     "text": [
      "After Undersampling, the shape of train_X: (2680, 22)\n",
      "After Undersampling, the shape of train_y: (2680,) \n",
      "\n",
      "After Undersampling, counts of label '1': 1340\n",
      "After Undersampling, counts of label '0': 1340\n"
     ]
    }
   ],
   "source": [
    "# apply near miss \n",
    "nr = NearMiss(random_state=2019)\n",
    "  \n",
    "# resample the training dataset\n",
    "X_train_miss, y_train_miss = nr.fit_sample(X_train, y_train) \n",
    "  \n",
    "print('After Undersampling, the shape of train_X: {}'.format(X_train_miss.shape)) \n",
    "print('After Undersampling, the shape of train_y: {} \\n'.format(y_train_miss.shape)) \n",
    "  \n",
    "print(\"After Undersampling, counts of label '1': {}\".format(sum(y_train_miss == 1))) \n",
    "print(\"After Undersampling, counts of label '0': {}\".format(sum(y_train_miss == 0)))"
   ]
  },
  {
   "cell_type": "code",
   "execution_count": 15,
   "metadata": {},
   "outputs": [
    {
     "name": "stdout",
     "output_type": "stream",
     "text": [
      "              precision    recall  f1-score   support\n",
      "\n",
      "           0       0.85      0.20      0.32      3131\n",
      "           1       0.16      0.81      0.26       568\n",
      "\n",
      "    accuracy                           0.29      3699\n",
      "   macro avg       0.50      0.51      0.29      3699\n",
      "weighted avg       0.75      0.29      0.31      3699\n",
      "\n"
     ]
    }
   ],
   "source": [
    "#Create a Gaussian Classifier\n",
    "clf2 = RandomForestClassifier(n_estimators=100,random_state=2019)\n",
    "\n",
    "#Train the model using the training sets y_pred=clf.predict(X_test)\n",
    "clf2.fit(X_train_miss, y_train_miss)\n",
    "\n",
    "y_pred = clf2.predict(X_test)\n",
    "\n",
    "#check the predictive performance using the actual and predicted values\n",
    "from sklearn.metrics import classification_report, confusion_matrix\n",
    "print(classification_report(y_test, y_pred))"
   ]
  },
  {
   "cell_type": "code",
   "execution_count": 16,
   "metadata": {},
   "outputs": [
    {
     "data": {
      "image/png": "[encoded data removed]",
      "text/plain": [
       "<Figure size 432x288 with 1 Axes>"
      ]
     },
     "metadata": {},
     "output_type": "display_data"
    },
    {
     "name": "stdout",
     "output_type": "stream",
     "text": [
      "AUC score: 0.5181263242180647\n"
     ]
    }
   ],
   "source": [
    "# apply function to plot the ROC Curve\n",
    "roc_curve(X_test=X_test, y_test=y_test, model=clf2)"
   ]
  },
  {
   "cell_type": "markdown",
   "metadata": {},
   "source": [
    "## Cross Validation Using KFold </b>\n",
    "For more information on the topic, please click the following [link](https://stackabuse.com/cross-validation-and-grid-search-for-model-selection-in-python/).\n",
    "<br> The details of the package are noted [here](https://scikit-learn.org/stable/modules/generated/sklearn.model_selection.KFold.html)."
   ]
  },
  {
   "cell_type": "markdown",
   "metadata": {},
   "source": [
    "<a id = \"1103\"> <h2> 1.3 Cross Validation (Oversampling)  </h2> </a>"
   ]
  },
  {
   "cell_type": "markdown",
   "metadata": {},
   "source": [
    "Before we tune our model's hyperparameters we want to get the baseline result of our oversampled training set."
   ]
  },
  {
   "cell_type": "markdown",
   "metadata": {},
   "source": [
    "<b> Metrics: F1, AUC scores"
   ]
  },
  {
   "cell_type": "code",
   "execution_count": 17,
   "metadata": {},
   "outputs": [
    {
     "name": "stdout",
     "output_type": "stream",
     "text": [
      "--------------------------------------------------------------------------\n",
      "All the weighted f1 results:\n",
      "--------------------------------------------------------------------------\n",
      "[0.9072474  0.92182066 0.91149612 0.91414572 0.91971224 0.90592958\n",
      " 0.91974255 0.90808325 0.89975584 0.91213212] \n",
      "\n",
      "--------------------------------------------------------------------------\n",
      "Average of all the weighted f1 results:\n",
      "--------------------------------------------------------------------------\n",
      "0.912 \n",
      "\n",
      "--------------------------------------------------------------------------\n",
      "All the AUC score results:\n",
      "--------------------------------------------------------------------------\n",
      "[0.96606727 0.97387479 0.9656008  0.96581866 0.96809318 0.96455648\n",
      " 0.96823571 0.96162325 0.96068818 0.97170988] \n",
      "\n",
      "--------------------------------------------------------------------------\n",
      "Average of all the AUC score results:\n",
      "--------------------------------------------------------------------------\n",
      "avg AUC score 0.9666268206986643\n"
     ]
    }
   ],
   "source": [
    "# ignore warnings\n",
    "warnings.filterwarnings(\"ignore\")\n",
    "\n",
    "# Build the k-fold cross-validator\n",
    "k_fold_split = 10\n",
    "kfold = KFold(n_splits=k_fold_split, random_state=2019, shuffle=True)\n",
    "\n",
    "result = cross_val_score(clf1, X_train_res, y_train_res, cv=kfold, scoring='accuracy')\n",
    "result_f1_weighted = cross_val_score(clf1, X_train_res, y_train_res, cv=kfold, scoring='f1_weighted')\n",
    "result_auc = cross_val_score(clf1, X_train_res, y_train_res, cv=kfold, scoring='roc_auc')\n",
    "\n",
    "print('--------------------------------------------------------------------------')\n",
    "print('All the weighted f1 results:')\n",
    "print('--------------------------------------------------------------------------')\n",
    "print(result_f1_weighted, '\\n')\n",
    "\n",
    "print('--------------------------------------------------------------------------')\n",
    "print('Average of all the weighted f1 results:')\n",
    "print('--------------------------------------------------------------------------')\n",
    "print(round(result_f1_weighted.mean(), 4), '\\n')\n",
    "\n",
    "print('--------------------------------------------------------------------------')\n",
    "print('All the AUC score results:')\n",
    "print('--------------------------------------------------------------------------')\n",
    "print(result_auc, '\\n')\n",
    "\n",
    "print('--------------------------------------------------------------------------')\n",
    "print('Average of all the AUC score results:')\n",
    "print('--------------------------------------------------------------------------')\n",
    "print('avg AUC score', result_auc.mean())\n",
    "\n",
    "# reset the warnings for future code\n",
    "warnings.resetwarnings()"
   ]
  },
  {
   "cell_type": "markdown",
   "metadata": {},
   "source": [
    "<a id = \"1104\"> <h2> 1.4 Model Tuning (Hyperparameters) </h2> </a>\n",
    "___"
   ]
  },
  {
   "cell_type": "markdown",
   "metadata": {},
   "source": [
    "_Note:_ previous results with hyper-parameter tuning\n",
    "<br> Best: 0.893156 using {'bootstrap': False, 'max_depth': 10, 'n_estimators': 250, 'random_state': 2019}\n",
    "<br> Best: 0.908450 using {'bootstrap': False, 'max_depth': 20, 'n_estimators': 210, 'random_state': 2019}\n",
    "<br> Best: 0.908450 using {'bootstrap': False, 'max_depth': 20, 'max_features': 'auto', 'n_estimators': 200, 'random_state': 2019}\n",
    "<br> Best: 0.908655 using {'bootstrap': False, 'criterion': 'entropy', 'max_depth': 20, 'max_features': 'auto', 'n_estimators': 210, 'random_state': 2019}\n",
    "<br> Best: 0.908655 using {'bootstrap': False, 'criterion': 'entropy', 'max_depth': 20, 'max_features': 'auto', 'min_samples_leaf': 1, 'min_samples_split': 2, 'n_estimators': 210, 'random_state': 2019}"
   ]
  },
  {
   "cell_type": "markdown",
   "metadata": {},
   "source": [
    "<b> Define Grid"
   ]
  },
  {
   "cell_type": "code",
   "execution_count": 18,
   "metadata": {},
   "outputs": [],
   "source": [
    "# Set the hyper-parameter grid\n",
    "n_estimators = [210]\n",
    "#n_estimators = [int(x) for x in np.linspace(start = 200, stop = 2000, num = 10)]\n",
    "criterion = ['entropy']\n",
    "max_depth = [20]\n",
    "#max_depth = [int(x) for x in np.linspace(10, 110, num = 11)]\n",
    "min_samples_split = [2]\n",
    "min_samples_leaf = [1]\n",
    "random_state = [2019]\n",
    "bootstrap = [True, False]\n",
    "max_features = ['auto']\n",
    "\n",
    "param_grid = dict(n_estimators = n_estimators,\n",
    "                  criterion = criterion,\n",
    "                  max_depth = max_depth, \n",
    "                  min_samples_split = min_samples_split,\n",
    "                  min_samples_leaf= min_samples_leaf,\n",
    "                  random_state = random_state,\n",
    "                  bootstrap = bootstrap,\n",
    "                 max_features = max_features)"
   ]
  },
  {
   "cell_type": "markdown",
   "metadata": {},
   "source": [
    "<b> Hyper-parameter tweaking on oversampled training set"
   ]
  },
  {
   "cell_type": "code",
   "execution_count": 19,
   "metadata": {},
   "outputs": [
    {
     "name": "stdout",
     "output_type": "stream",
     "text": [
      "Best: 0.908655 using {'bootstrap': False, 'criterion': 'entropy', 'max_depth': 20, 'max_features': 'auto', 'min_samples_leaf': 1, 'min_samples_split': 2, 'n_estimators': 210, 'random_state': 2019}\n",
      "--- Execution time: ---\n",
      "--- 75519.439ms. --- \n",
      "--- 75.51943850517273 seconds ---\n",
      "--- 1.2586573084195456 minutes ---\n"
     ]
    }
   ],
   "source": [
    "# set the start time\n",
    "start = time.time()\n",
    "\n",
    "# define the model\n",
    "clf = RandomForestClassifier()\n",
    "\n",
    "# Create a grid search object\n",
    "grid = GridSearchCV(estimator=clf, param_grid=param_grid, cv = 3, n_jobs=-1)\n",
    "\n",
    "# Fit the grid search (Fitting your model to the training data)\n",
    "grid_result = grid.fit(X_train_res, y_train_res)\n",
    "\n",
    "# define each optimal parameter as a new variable\n",
    "optimal_n_estimators = grid.best_estimator_.get_params()['n_estimators']\n",
    "optimal_criterion = grid.best_estimator_.get_params()['criterion']\n",
    "optimal_max_depth = grid.best_estimator_.get_params()['max_depth']\n",
    "optimal_min_samples_split = grid.best_estimator_.get_params()['min_samples_split']\n",
    "optimal_min_samples_leaf =  grid.best_estimator_.get_params()['min_samples_leaf']\n",
    "optimal_random_state = grid.best_estimator_.get_params()['random_state']\n",
    "optimal_bootstrap = grid.best_estimator_.get_params()['bootstrap']\n",
    "optimal_max_features = grid.best_estimator_.get_params()['max_features']\n",
    "\n",
    "# Summarize results\n",
    "print(\"Best: %f using %s\" % (grid_result.best_score_, grid_result.best_params_))\n",
    "\n",
    "# get the time it takes for the gridsearch to run\n",
    "# source: https://blog.softhints.com/python-test-performance-and-measure-time-elapsed-in-seconds/\n",
    "# set the end time\n",
    "end = time.time()\n",
    "\n",
    "# get the elapsed execution time\n",
    "execution_time = end - start\n",
    "print(\"--- Execution time: ---\")\n",
    "print ('--- %0.3fms. --- ' % ( execution_time*1000.))\n",
    "print(\"--- %s seconds ---\" % (execution_time))\n",
    "print(\"--- %s minutes ---\" % (execution_time/60))"
   ]
  },
  {
   "cell_type": "markdown",
   "metadata": {},
   "source": [
    "Best: 0.908655 using {'bootstrap': False, 'criterion': 'entropy', 'max_depth': 20, 'max_features': 'auto', 'min_samples_leaf': 1, 'min_samples_split': 2, 'n_estimators': 210, 'random_state': 2019}\n",
    "<br> --- Execution time: ---\n",
    "<br> --- 75519.439ms. --- \n",
    "<br> --- 75.51943850517273 seconds ---\n",
    "<br> --- 1.2586573084195456 minutes ---"
   ]
  },
  {
   "cell_type": "markdown",
   "metadata": {},
   "source": [
    "<b> Applying the optimal hyper-parameters on oversampled training set"
   ]
  },
  {
   "cell_type": "code",
   "execution_count": 20,
   "metadata": {},
   "outputs": [
    {
     "name": "stdout",
     "output_type": "stream",
     "text": [
      "              precision    recall  f1-score   support\n",
      "\n",
      "           0       0.94      0.89      0.92      3131\n",
      "           1       0.55      0.71      0.62       568\n",
      "\n",
      "    accuracy                           0.87      3699\n",
      "   macro avg       0.75      0.80      0.77      3699\n",
      "weighted avg       0.88      0.87      0.87      3699\n",
      "\n"
     ]
    }
   ],
   "source": [
    "# apply the optimal hyper-parameters to the Random Forest Model\n",
    "clf3 = RandomForestClassifier(n_estimators = optimal_n_estimators,\n",
    "                              criterion = optimal_criterion,\n",
    "                              max_depth = optimal_max_depth, \n",
    "                              min_samples_split = optimal_min_samples_split,\n",
    "                              min_samples_leaf = optimal_min_samples_leaf,\n",
    "                              random_state = optimal_random_state,\n",
    "                              bootstrap = optimal_bootstrap,\n",
    "                              max_features = optimal_max_features)\n",
    "\n",
    "# fit/train the model with oversampled training set\n",
    "clf3.fit(X_train_res, y_train_res)\n",
    "\n",
    "# predict the testing set\n",
    "y_pred=clf3.predict(X_test)\n",
    "\n",
    "# print out the classification report\n",
    "print(classification_report(y_test, y_pred))"
   ]
  },
  {
   "cell_type": "markdown",
   "metadata": {},
   "source": [
    "<b> Average Weighted F1 score and Average AUC score with Cross validation"
   ]
  },
  {
   "cell_type": "code",
   "execution_count": 21,
   "metadata": {},
   "outputs": [
    {
     "name": "stdout",
     "output_type": "stream",
     "text": [
      "--------------------------------------------------------------------------\n",
      "All the weighted f1 results:\n",
      "--------------------------------------------------------------------------\n",
      "[0.90871989 0.91979385 0.91701097 0.92106237 0.91563464 0.90120333\n",
      " 0.91289868 0.90878572 0.9011944  0.915592  ] \n",
      "\n",
      "--------------------------------------------------------------------------\n",
      "Average of all the weighted f1 results:\n",
      "--------------------------------------------------------------------------\n",
      "0.9122 \n",
      "\n",
      "--------------------------------------------------------------------------\n",
      "All the AUC scores:\n",
      "--------------------------------------------------------------------------\n",
      "[0.96842425 0.97657319 0.96904825 0.97187726 0.97038662 0.96762551\n",
      " 0.97038226 0.96856016 0.96374234 0.97529166] \n",
      "\n",
      "--------------------------------------------------------------------------\n",
      "Average of all the AUC scores:\n",
      "--------------------------------------------------------------------------\n",
      "0.9702 \n",
      "\n"
     ]
    }
   ],
   "source": [
    "# ignore warnings\n",
    "warnings.filterwarnings(\"ignore\")\n",
    "\n",
    "# Build the k-fold cross-validator\n",
    "k_fold_split = 10\n",
    "kfold = KFold(n_splits=k_fold_split, random_state=2019, shuffle=True)\n",
    "\n",
    "# note: only a single metric is permitted for parameter 'scoring'\n",
    "# for all parameters for scoring, see source:https://scikit-learn.org/stable/modules/model_evaluation.html#scoring-parameter\n",
    "result_f1_weighted = cross_val_score(clf3, X_train_res, y_train_res, cv=kfold, scoring='f1_weighted')\n",
    "result_auc_weighted = cross_val_score(clf3, X_train_res, y_train_res, cv=kfold, scoring='roc_auc')\n",
    "print('--------------------------------------------------------------------------')\n",
    "print('All the weighted f1 results:')\n",
    "print('--------------------------------------------------------------------------')\n",
    "print(result_f1_weighted, '\\n')\n",
    "\n",
    "print('--------------------------------------------------------------------------')\n",
    "print('Average of all the weighted f1 results:')\n",
    "print('--------------------------------------------------------------------------')\n",
    "print(round(result_f1_weighted.mean(), 4), '\\n')\n",
    "\n",
    "print('--------------------------------------------------------------------------')\n",
    "print('All the AUC scores:')\n",
    "print('--------------------------------------------------------------------------')\n",
    "print(result_auc_weighted, '\\n')\n",
    "\n",
    "print('--------------------------------------------------------------------------')\n",
    "print('Average of all the AUC scores:')\n",
    "print('--------------------------------------------------------------------------')\n",
    "print(round(result_auc_weighted.mean(), 4), '\\n')\n",
    "\n",
    "# reset the warnings for future code\n",
    "warnings.resetwarnings()"
   ]
  },
  {
   "cell_type": "markdown",
   "metadata": {},
   "source": [
    "<b> Cross Validation Using KFold </b>\n",
    "<br> For more information on the topic, please click the following [link](https://stackabuse.com/cross-validation-and-grid-search-for-model-selection-in-python/).\n",
    "<br> The details of the package are noted [here](https://scikit-learn.org/stable/modules/generated/sklearn.model_selection.KFold.html)."
   ]
  },
  {
   "cell_type": "markdown",
   "metadata": {},
   "source": [
    "<b> Cross validation on X and Y with our optimal hyperparameters for our model"
   ]
  },
  {
   "cell_type": "code",
   "execution_count": 22,
   "metadata": {},
   "outputs": [
    {
     "name": "stdout",
     "output_type": "stream",
     "text": [
      "--------------------------------------------------------------------------\n",
      "All the weighted f1 results:\n",
      "--------------------------------------------------------------------------\n",
      "[0.89018337 0.87694193 0.86937445 0.89973332 0.88289327 0.90268942\n",
      " 0.88033306 0.87008448 0.87528942 0.89498617] \n",
      "\n",
      "--------------------------------------------------------------------------\n",
      "Average of all the weighted f1 results:\n",
      "--------------------------------------------------------------------------\n",
      "0.8843 \n",
      "\n",
      "--------------------------------------------------------------------------\n",
      "All the AUC scores:\n",
      "--------------------------------------------------------------------------\n",
      "[0.89690776 0.89440803 0.90268877 0.92416902 0.91167162 0.92197235\n",
      " 0.93145843 0.89477052 0.906141   0.92333343] \n",
      "\n",
      "--------------------------------------------------------------------------\n",
      "Average of all the AUC scores:\n",
      "--------------------------------------------------------------------------\n",
      "0.9108 \n",
      "\n"
     ]
    }
   ],
   "source": [
    "# Build the k-fold cross-validator\n",
    "k_fold_split = 10\n",
    "kfold = KFold(n_splits=k_fold_split, random_state=2019, shuffle=True)\n",
    "result = cross_val_score(clf3, X, Y, cv=kfold, scoring='accuracy')\n",
    "\n",
    "result_f1_weighted = cross_val_score(clf3, X, Y, cv=kfold, scoring='f1_weighted')\n",
    "result_auc_weighted = cross_val_score(clf3, X, Y, cv=kfold, scoring='roc_auc')\n",
    "\n",
    "print('--------------------------------------------------------------------------')\n",
    "print('All the weighted f1 results:')\n",
    "print('--------------------------------------------------------------------------')\n",
    "print(result_f1_weighted, '\\n')\n",
    "\n",
    "print('--------------------------------------------------------------------------')\n",
    "print('Average of all the weighted f1 results:')\n",
    "print('--------------------------------------------------------------------------')\n",
    "print(round(result_f1_weighted.mean(), 4), '\\n')\n",
    "\n",
    "print('--------------------------------------------------------------------------')\n",
    "print('All the AUC scores:')\n",
    "print('--------------------------------------------------------------------------')\n",
    "print(result_auc_weighted, '\\n')\n",
    "\n",
    "print('--------------------------------------------------------------------------')\n",
    "print('Average of all the AUC scores:')\n",
    "print('--------------------------------------------------------------------------')\n",
    "print(round(result_auc_weighted.mean(), 4), '\\n')\n",
    "\n",
    "# reset the warnings for future code\n",
    "warnings.resetwarnings()"
   ]
  },
  {
   "cell_type": "markdown",
   "metadata": {},
   "source": [
    "<a id = \"1105\"> <h2> 1.5 Feature Importance </h2> </a>"
   ]
  },
  {
   "cell_type": "code",
   "execution_count": 23,
   "metadata": {},
   "outputs": [
    {
     "data": {
      "text/plain": [
       "PageValues_iqr_yj_zscore                   0.462939\n",
       "ExitRates_iqr_yj_zscore                    0.167013\n",
       "Administrative_Duration_iqr_yj_zscore      0.098885\n",
       "Q4                                         0.044706\n",
       "Informational_Duration_pp_iqr_yj_zscore    0.043870\n",
       "OperatingSystems_3                         0.037820\n",
       "TrafficType_2                              0.022164\n",
       "VisitorType_New_Visitor                    0.021054\n",
       "TrafficType_3                              0.020153\n",
       "Q3                                         0.019457\n",
       "Q1                                         0.015689\n",
       "TrafficType_1                              0.014260\n",
       "TrafficType_13                             0.008939\n",
       "TrafficType_8                              0.007336\n",
       "SpecialDay_0.8                             0.003956\n",
       "TrafficType_20                             0.003848\n",
       "Browser_6                                  0.003140\n",
       "SpecialDay_0.4                             0.001991\n",
       "Browser_12                                 0.001733\n",
       "Month_Feb                                  0.000585\n",
       "OperatingSystems_7                         0.000461\n",
       "TrafficType_16                             0.000000\n",
       "dtype: float64"
      ]
     },
     "execution_count": 23,
     "metadata": {},
     "output_type": "execute_result"
    }
   ],
   "source": [
    "feature_imp = pd.Series(clf3.feature_importances_, index=list(X.columns)).sort_values(ascending=False)\n",
    "feature_imp"
   ]
  },
  {
   "cell_type": "markdown",
   "metadata": {},
   "source": [
    "<b> Visualizing Important Features"
   ]
  },
  {
   "cell_type": "code",
   "execution_count": 24,
   "metadata": {},
   "outputs": [
    {
     "data": {
      "image/png": "[encoded data removed]",
      "text/plain": [
       "<Figure size 432x288 with 1 Axes>"
      ]
     },
     "metadata": {},
     "output_type": "display_data"
    }
   ],
   "source": [
    "%matplotlib inline\n",
    "plt.style.use('ggplot')\n",
    "\n",
    "# Creating a bar plot\n",
    "sns.barplot(x=feature_imp, y=feature_imp.index)\n",
    "\n",
    "# Add labels to your graph\n",
    "plt.xlabel('Feature Importance Score')\n",
    "plt.ylabel('Features')\n",
    "plt.title(\"Visualizing Important Features\")\n",
    "plt.show()"
   ]
  },
  {
   "cell_type": "markdown",
   "metadata": {},
   "source": [
    "<a id = \"22\"> <h2> Pipeline 2 </h2> </a>\n",
    "___"
   ]
  },
  {
   "cell_type": "markdown",
   "metadata": {},
   "source": [
    "<b> read csv file to a pandas dataframe"
   ]
  },
  {
   "cell_type": "code",
   "execution_count": 39,
   "metadata": {},
   "outputs": [],
   "source": [
    "#Load dataset\n",
    "# read csv file to a pandas dataframe\n",
    "df_pipeline2 = pd.read_csv(\"pipeline_2.csv\")"
   ]
  },
  {
   "cell_type": "markdown",
   "metadata": {},
   "source": [
    "<b> show all columns in dataset"
   ]
  },
  {
   "cell_type": "code",
   "execution_count": 40,
   "metadata": {},
   "outputs": [
    {
     "name": "stdout",
     "output_type": "stream",
     "text": [
      "There are 21 features, and the target `Revenue` for pipeline 2:\n"
     ]
    },
    {
     "data": {
      "text/plain": [
       "['TrafficType_15',\n",
       " 'Month_Nov',\n",
       " 'Administrative_Duration_mm_yj_stdev',\n",
       " 'VisitorType_New_Visitor',\n",
       " 'Informational_mm_yj_stdev',\n",
       " 'TrafficType_2',\n",
       " 'TrafficType_3',\n",
       " 'ProductRelated_mm_yj_stdev',\n",
       " 'PageValues_mm_yj_stdev',\n",
       " 'Month_May',\n",
       " 'TrafficType_13',\n",
       " 'OperatingSystems_3',\n",
       " 'TrafficType_1',\n",
       " 'add_exit_bounce_rates_mm_yj_stdev',\n",
       " 'Month_Mar',\n",
       " 'TrafficType_18',\n",
       " 'TrafficType_8',\n",
       " 'SpecialDay_0.8',\n",
       " 'Month_Feb',\n",
       " 'TrafficType_12',\n",
       " 'Browser_12',\n",
       " 'Revenue']"
      ]
     },
     "execution_count": 40,
     "metadata": {},
     "output_type": "execute_result"
    }
   ],
   "source": [
    "# show all columns in dataset\n",
    "print('There are', len(df_pipeline2.columns)-1, 'features, and the target `Revenue` for pipeline 2:')\n",
    "list(df_pipeline2.columns)"
   ]
  },
  {
   "cell_type": "code",
   "execution_count": 41,
   "metadata": {},
   "outputs": [
    {
     "name": "stdout",
     "output_type": "stream",
     "text": [
      "Number of rows in the dataset: 12330\n",
      "Number of columns in the dataset: 22\n"
     ]
    }
   ],
   "source": [
    "print('Number of rows in the dataset:', df_pipeline2.shape[0])\n",
    "print('Number of columns in the dataset:', df_pipeline2.shape[1])"
   ]
  },
  {
   "cell_type": "markdown",
   "metadata": {},
   "source": [
    "<a id = \"2100\"> <h2> 2.0 Basic Model Random Forest </h2> </a>"
   ]
  },
  {
   "cell_type": "markdown",
   "metadata": {},
   "source": [
    "> <b> Declare Features and Target"
   ]
  },
  {
   "cell_type": "code",
   "execution_count": 42,
   "metadata": {},
   "outputs": [],
   "source": [
    "# Define Features and Target variables\n",
    "X = df_pipeline2.iloc[:, :-1] # Features is all columns in the dataframe except the last column\n",
    "Y = df_pipeline2.iloc[:, -1] # Target is the last column in the dataframe: 'Revenue'"
   ]
  },
  {
   "cell_type": "markdown",
   "metadata": {},
   "source": [
    "> <b> Split the data"
   ]
  },
  {
   "cell_type": "code",
   "execution_count": 43,
   "metadata": {},
   "outputs": [],
   "source": [
    "# Split dataset into training set and test set\n",
    "X_train, X_test, y_train, y_test = train_test_split(X, Y, test_size=0.3, random_state=2019) # 70% training and 30% test"
   ]
  },
  {
   "cell_type": "markdown",
   "metadata": {},
   "source": [
    "> <b> Model Development and Prediction"
   ]
  },
  {
   "cell_type": "code",
   "execution_count": 44,
   "metadata": {},
   "outputs": [
    {
     "name": "stdout",
     "output_type": "stream",
     "text": [
      "              precision    recall  f1-score   support\n",
      "\n",
      "           0       0.92      0.95      0.94      3131\n",
      "           1       0.69      0.55      0.61       568\n",
      "\n",
      "    accuracy                           0.89      3699\n",
      "   macro avg       0.80      0.75      0.78      3699\n",
      "weighted avg       0.89      0.89      0.89      3699\n",
      "\n"
     ]
    }
   ],
   "source": [
    "#Import Random Forest Model\n",
    "from sklearn.ensemble import RandomForestClassifier\n",
    "\n",
    "#Create a Random Forest Classifier\n",
    "clf = RandomForestClassifier(random_state=2019)\n",
    "\n",
    "#Train the model using the training sets y_pred=clf.predict(X_test)\n",
    "clf.fit(X_train,y_train)\n",
    "\n",
    "y_pred = clf.predict(X_test)\n",
    "\n",
    "#check the predictive performance using the actual and predicted values\n",
    "from sklearn.metrics import classification_report, confusion_matrix\n",
    "print(classification_report(y_test, y_pred))"
   ]
  },
  {
   "cell_type": "markdown",
   "metadata": {},
   "source": [
    "<b> ROC Curve with AUC score - Basic model </b> (before oversampling/undersampling)"
   ]
  },
  {
   "cell_type": "code",
   "execution_count": 45,
   "metadata": {},
   "outputs": [],
   "source": [
    "# define a function to plot the roc_curve and AUC score using variables: X_test and y_test\n",
    "def roc_curve(X_test=X_test, y_test=y_test, model=clf):\n",
    "    # set the style of the graph\n",
    "    plt.style.use('Solarize_Light2')\n",
    "\n",
    "    # predict_proba gives you the probabilities for the target (0 and 1 in your case) in array form in dimension (N,2). \n",
    "    # The first index refers to the probability that the data belong to class 0, and the second refers to the probability that the data belong to class 1. \n",
    "    # we define a variable with an array of the probabilities that each observation belongs to class 1 (with [:,1], where model.predict_proba(X_test)[:,0] refers to the array it belongs to class 0)\n",
    "    y_pred_proba = model.predict_proba(X_test)[:,1]\n",
    "\n",
    "    # define false positive rate (fpr) and the true positive rate (tpr)\n",
    "    fpr, tpr, _ = metrics.roc_curve(y_test,  y_pred_proba)\n",
    "\n",
    "    # Compute Area Under the Receiver Operating Characteristic Curve (ROC AUC) from prediction scores.\n",
    "    # source: https://scikit-learn.org/stable/modules/generated/sklearn.metrics.roc_auc_score.html\n",
    "    auc = metrics.roc_auc_score(y_test, y_pred_proba)\n",
    "\n",
    "    # plot on the X-axis: the false positive rate\n",
    "    # plot on the Y-axis: the true positive rate\n",
    "    # with the legend having the auc score\n",
    "    plt.plot(fpr,tpr,label='AUC = %0.2f' % auc)\n",
    "    # positioning of the legend\n",
    "    plt.legend(loc=4)\n",
    "    # define the title of the plot\n",
    "    plt.title('Receiver Operating Characteristic (ROC)')\n",
    "    # define the y axis label\n",
    "    plt.ylabel('True Positive Rate')\n",
    "    # define the x axis label\n",
    "    plt.xlabel('False Positive Rate')\n",
    "    # plot a straight dashed line in the color red\n",
    "    plt.plot([0, 1], [0, 1],'r--')\n",
    "    # show the plot\n",
    "    plt.show()\n",
    "    # print out full AUC score\n",
    "    print('AUC score:', auc)"
   ]
  },
  {
   "cell_type": "code",
   "execution_count": 46,
   "metadata": {},
   "outputs": [
    {
     "data": {
      "image/png": "[encoded data removed]",
      "text/plain": [
       "<Figure size 432x288 with 1 Axes>"
      ]
     },
     "metadata": {},
     "output_type": "display_data"
    },
    {
     "name": "stdout",
     "output_type": "stream",
     "text": [
      "AUC score: 0.9098570181870527\n"
     ]
    }
   ],
   "source": [
    "# apply function to plot the ROC Curve\n",
    "roc_curve(X_test=X_test, y_test=y_test, model=clf)"
   ]
  },
  {
   "cell_type": "markdown",
   "metadata": {},
   "source": [
    "<a id = \"2101\"> <h2> 2.1 Oversampling (SMOTE) </h2> </a>\n",
    "We oversample the <b> training </b> dataset, because the classes within our target variable 'Revenue' are imbalanced:\n",
    "* class 0: 84.53%\n",
    "* class 1: 15.47%\n",
    "\n",
    "For more information, click on detailed information from Prof. Jie Tao [link](https://github.com/DrJieTao/ba545-docs/blob/master/competition2/handling_imbalanced_data_part2.ipynb)"
   ]
  },
  {
   "cell_type": "markdown",
   "metadata": {},
   "source": [
    "> <b> Oversampling applying SMOTE"
   ]
  },
  {
   "cell_type": "code",
   "execution_count": 47,
   "metadata": {},
   "outputs": [
    {
     "name": "stdout",
     "output_type": "stream",
     "text": [
      "After OverSampling, the shape of train_X: (14582, 21)\n",
      "After OverSampling, the shape of train_y: (14582,) \n",
      "\n",
      "After OverSampling, counts of label '1': 7291\n",
      "After OverSampling, counts of label '0': 7291\n"
     ]
    },
    {
     "name": "stderr",
     "output_type": "stream",
     "text": [
      "/opt/tljh/user/lib/python3.6/site-packages/sklearn/utils/deprecation.py:87: FutureWarning: Function safe_indexing is deprecated; safe_indexing is deprecated in version 0.22 and will be removed in version 0.24.\n",
      "  warnings.warn(msg, category=FutureWarning)\n"
     ]
    }
   ],
   "source": [
    "sm = SMOTE(random_state = 2019) \n",
    "X_train_res, y_train_res = sm.fit_sample(X_train, y_train) \n",
    "\n",
    "print('After OverSampling, the shape of train_X: {}'.format(X_train_res.shape)) \n",
    "print('After OverSampling, the shape of train_y: {} \\n'.format(y_train_res.shape)) \n",
    "  \n",
    "print(\"After OverSampling, counts of label '1': {}\".format(sum(y_train_res == 1))) \n",
    "print(\"After OverSampling, counts of label '0': {}\".format(sum(y_train_res == 0)))"
   ]
  },
  {
   "cell_type": "code",
   "execution_count": 48,
   "metadata": {},
   "outputs": [
    {
     "name": "stdout",
     "output_type": "stream",
     "text": [
      "              precision    recall  f1-score   support\n",
      "\n",
      "           0       0.95      0.90      0.92      3131\n",
      "           1       0.57      0.72      0.64       568\n",
      "\n",
      "    accuracy                           0.88      3699\n",
      "   macro avg       0.76      0.81      0.78      3699\n",
      "weighted avg       0.89      0.88      0.88      3699\n",
      "\n"
     ]
    }
   ],
   "source": [
    "# define the model\n",
    "#Import Random Forest Model\n",
    "from sklearn.ensemble import RandomForestClassifier\n",
    "\n",
    "#Create a RandomForest Classifier\n",
    "clf1 = RandomForestClassifier(n_estimators=100, random_state=2019)\n",
    "\n",
    "#Train the model using the training sets y_pred=clf.predict(X_test)\n",
    "clf1.fit(X_train_res,y_train_res)\n",
    "\n",
    "y_pred = clf1.predict(X_test)\n",
    "\n",
    "#check the predictive performance using the actual and predicted values\n",
    "from sklearn.metrics import classification_report, confusion_matrix\n",
    "print(classification_report(y_test, y_pred))"
   ]
  },
  {
   "cell_type": "code",
   "execution_count": 49,
   "metadata": {},
   "outputs": [
    {
     "data": {
      "image/png": "[encoded data removed]",
      "text/plain": [
       "<Figure size 432x288 with 1 Axes>"
      ]
     },
     "metadata": {},
     "output_type": "display_data"
    },
    {
     "name": "stdout",
     "output_type": "stream",
     "text": [
      "AUC score: 0.9118551535980495\n"
     ]
    }
   ],
   "source": [
    "# apply function to plot the ROC Curve\n",
    "roc_curve(X_test=X_test, y_test=y_test, model=clf1)"
   ]
  },
  {
   "cell_type": "markdown",
   "metadata": {},
   "source": [
    "## Cross Validation Using KFold </b>\n",
    "For more information on the topic, please click the following [link](https://stackabuse.com/cross-validation-and-grid-search-for-model-selection-in-python/).\n",
    "<br> The details of the package are noted [here](https://scikit-learn.org/stable/modules/generated/sklearn.model_selection.KFold.html)."
   ]
  },
  {
   "cell_type": "markdown",
   "metadata": {},
   "source": [
    "<a id = \"2102\"> <h2> 2.2 Cross Validation (Oversampling)  </h2> </a>"
   ]
  },
  {
   "cell_type": "markdown",
   "metadata": {},
   "source": [
    "Before we tune our model's hyperparameters we want to get the baseline result of our oversampled training set."
   ]
  },
  {
   "cell_type": "markdown",
   "metadata": {},
   "source": [
    "<b> Metrics: F1, AUC scores"
   ]
  },
  {
   "cell_type": "code",
   "execution_count": 50,
   "metadata": {},
   "outputs": [
    {
     "name": "stdout",
     "output_type": "stream",
     "text": [
      "--------------------------------------------------------------------------\n",
      "All the weighted f1 results:\n",
      "--------------------------------------------------------------------------\n",
      "[0.91617336 0.93691561 0.93072034 0.94713613 0.92862049 0.93480897\n",
      " 0.93755122 0.92731682 0.92313687 0.93274591] \n",
      "\n",
      "--------------------------------------------------------------------------\n",
      "Average of all the weighted f1 results:\n",
      "--------------------------------------------------------------------------\n",
      "0.9315 \n",
      "\n",
      "--------------------------------------------------------------------------\n",
      "All the AUC score results:\n",
      "--------------------------------------------------------------------------\n",
      "[0.98087073 0.98426249 0.97598552 0.98153409 0.98303868 0.98055367\n",
      " 0.98462038 0.97982333 0.97806475 0.98064692] \n",
      "\n",
      "--------------------------------------------------------------------------\n",
      "Average of all the AUC score results:\n",
      "--------------------------------------------------------------------------\n",
      "avg AUC score 0.9809400555278897\n"
     ]
    }
   ],
   "source": [
    "# ignore warnings\n",
    "warnings.filterwarnings(\"ignore\")\n",
    "\n",
    "# Build the k-fold cross-validator\n",
    "k_fold_split = 10\n",
    "kfold = KFold(n_splits=k_fold_split, random_state=2019, shuffle=True)\n",
    "\n",
    "result = cross_val_score(clf1, X_train_res, y_train_res, cv=kfold, scoring='accuracy')\n",
    "result_f1_weighted = cross_val_score(clf1, X_train_res, y_train_res, cv=kfold, scoring='f1_weighted')\n",
    "result_auc = cross_val_score(clf1, X_train_res, y_train_res, cv=kfold, scoring='roc_auc')\n",
    "\n",
    "print('--------------------------------------------------------------------------')\n",
    "print('All the weighted f1 results:')\n",
    "print('--------------------------------------------------------------------------')\n",
    "print(result_f1_weighted, '\\n')\n",
    "\n",
    "print('--------------------------------------------------------------------------')\n",
    "print('Average of all the weighted f1 results:')\n",
    "print('--------------------------------------------------------------------------')\n",
    "print(round(result_f1_weighted.mean(), 4), '\\n')\n",
    "\n",
    "print('--------------------------------------------------------------------------')\n",
    "print('All the AUC score results:')\n",
    "print('--------------------------------------------------------------------------')\n",
    "print(result_auc, '\\n')\n",
    "\n",
    "print('--------------------------------------------------------------------------')\n",
    "print('Average of all the AUC score results:')\n",
    "print('--------------------------------------------------------------------------')\n",
    "print('avg AUC score', result_auc.mean())\n",
    "\n",
    "# reset the warnings for future code\n",
    "warnings.resetwarnings()"
   ]
  },
  {
   "cell_type": "markdown",
   "metadata": {},
   "source": [
    "<a id = \"2103\"> <h2> 2.3 Model Tuning (Hyperparameters) </h2> </a>\n",
    "___"
   ]
  },
  {
   "cell_type": "markdown",
   "metadata": {},
   "source": [
    "<b> Define Grid"
   ]
  },
  {
   "cell_type": "code",
   "execution_count": 51,
   "metadata": {},
   "outputs": [],
   "source": [
    "# Set the hyper-parameter grid\n",
    "n_estimators = [210]\n",
    "criterion = ['entropy']\n",
    "max_depth = [20]\n",
    "min_samples_split = [2, 5, 10]\n",
    "min_samples_leaf = [1, 2, 4]\n",
    "random_state = [2019]\n",
    "bootstrap = [False]\n",
    "max_features = ['auto']\n",
    "\n",
    "# from pipeline 1 as a reference:\n",
    "# Best: 0.908655 using {'bootstrap': False, 'criterion': 'entropy', 'max_depth': 20, 'max_features': 'auto', 'n_estimators': 210, 'random_state': 2019} \n",
    "\n",
    "param_grid = dict(n_estimators = n_estimators,\n",
    "                  criterion = criterion,\n",
    "                  max_depth = max_depth, \n",
    "                  min_samples_split = min_samples_split,\n",
    "                  min_samples_leaf= min_samples_leaf,\n",
    "                  random_state = random_state,\n",
    "                  bootstrap = bootstrap,\n",
    "                  max_features = max_features)"
   ]
  },
  {
   "cell_type": "markdown",
   "metadata": {},
   "source": [
    "<b> Hyper-parameter tweaking on oversampled training set"
   ]
  },
  {
   "cell_type": "code",
   "execution_count": 52,
   "metadata": {},
   "outputs": [
    {
     "name": "stdout",
     "output_type": "stream",
     "text": [
      "Best: 0.930189 using {'bootstrap': False, 'criterion': 'entropy', 'max_depth': 20, 'max_features': 'auto', 'min_samples_leaf': 1, 'min_samples_split': 2, 'n_estimators': 210, 'random_state': 2019}\n",
      "--- Execution time: ---\n",
      "--- 82196.946ms. --- \n",
      "--- 82.19694590568542 seconds ---\n",
      "--- 1.3699490984280904 minutes ---\n"
     ]
    }
   ],
   "source": [
    "# set the start time\n",
    "start = time.time()\n",
    "\n",
    "# define the model\n",
    "clf = RandomForestClassifier()\n",
    "\n",
    "# Create a grid search object\n",
    "grid = GridSearchCV(estimator=clf, param_grid=param_grid, cv = 3, n_jobs=-1)\n",
    "\n",
    "# Fit the grid search (Fitting your model to the training data)\n",
    "grid_result = grid.fit(X_train_res, y_train_res)\n",
    "\n",
    "# define each optimal parameter as a new variable\n",
    "optimal_n_estimators = grid.best_estimator_.get_params()['n_estimators']\n",
    "optimal_criterion = grid.best_estimator_.get_params()['criterion']\n",
    "optimal_max_depth = grid.best_estimator_.get_params()['max_depth']\n",
    "optimal_min_samples_split = grid.best_estimator_.get_params()['min_samples_split']\n",
    "optimal_min_samples_leaf =  grid.best_estimator_.get_params()['min_samples_leaf']\n",
    "optimal_random_state = grid.best_estimator_.get_params()['random_state']\n",
    "optimal_bootstrap = grid.best_estimator_.get_params()['bootstrap']\n",
    "optimal_max_features = grid.best_estimator_.get_params()['max_features']\n",
    "\n",
    "# Summarize results\n",
    "print(\"Best: %f using %s\" % (grid_result.best_score_, grid_result.best_params_))\n",
    "\n",
    "# get the time it takes for the gridsearch to run\n",
    "# source: https://blog.softhints.com/python-test-performance-and-measure-time-elapsed-in-seconds/\n",
    "# set the end time\n",
    "end = time.time()\n",
    "\n",
    "# get the elapsed execution time\n",
    "execution_time = end - start\n",
    "print(\"--- Execution time: ---\")\n",
    "print ('--- %0.3fms. --- ' % ( execution_time*1000.))\n",
    "print(\"--- %s seconds ---\" % (execution_time))\n",
    "print(\"--- %s minutes ---\" % (execution_time/60))"
   ]
  },
  {
   "cell_type": "markdown",
   "metadata": {},
   "source": [
    "<br> _Note:_ Optimal hyper-parameters\n",
    "Best: 0.930189 using {'bootstrap': False, 'criterion': 'entropy', 'max_depth': 20, 'max_features': 'auto', 'min_samples_leaf': 1, 'min_samples_split': 2, 'n_estimators': 210, 'random_state': 2019}\n",
    "<br> --- Execution time: ---\n",
    "<br> --- 82196.946ms. --- \n",
    "<br> --- 82.19694590568542 seconds ---\n",
    "<br> --- 1.3699490984280904 minutes ---"
   ]
  },
  {
   "cell_type": "markdown",
   "metadata": {},
   "source": [
    "<b> Applying the optimal hyper-parameters on oversampled training set"
   ]
  },
  {
   "cell_type": "code",
   "execution_count": 53,
   "metadata": {},
   "outputs": [
    {
     "name": "stdout",
     "output_type": "stream",
     "text": [
      "              precision    recall  f1-score   support\n",
      "\n",
      "           0       0.94      0.90      0.92      3131\n",
      "           1       0.57      0.71      0.63       568\n",
      "\n",
      "    accuracy                           0.87      3699\n",
      "   macro avg       0.76      0.81      0.78      3699\n",
      "weighted avg       0.89      0.87      0.88      3699\n",
      "\n"
     ]
    }
   ],
   "source": [
    "# apply the optimal hyper-parameters to the Random Forest Model\n",
    "clf3 = RandomForestClassifier(n_estimators = optimal_n_estimators,\n",
    "                              criterion = optimal_criterion,\n",
    "                              max_depth = optimal_max_depth, \n",
    "                              min_samples_split = optimal_min_samples_split,\n",
    "                              min_samples_leaf = optimal_min_samples_leaf,\n",
    "                              random_state = optimal_random_state,\n",
    "                              bootstrap = optimal_bootstrap,\n",
    "                              max_features = optimal_max_features)\n",
    "\n",
    "# fit/train the model with oversampled training set\n",
    "clf3.fit(X_train_res, y_train_res)\n",
    "\n",
    "# predict the testing set\n",
    "y_pred=clf3.predict(X_test)\n",
    "\n",
    "# print out the classification report\n",
    "print(classification_report(y_test, y_pred))"
   ]
  },
  {
   "cell_type": "markdown",
   "metadata": {},
   "source": [
    "<b> Average Weighted F1 score and Average AUC score with Cross validation"
   ]
  },
  {
   "cell_type": "code",
   "execution_count": 54,
   "metadata": {},
   "outputs": [
    {
     "name": "stdout",
     "output_type": "stream",
     "text": [
      "--------------------------------------------------------------------------\n",
      "All the weighted f1 results:\n",
      "--------------------------------------------------------------------------\n",
      "[0.92100953 0.93759568 0.93072321 0.94437862 0.92658357 0.94168107\n",
      " 0.93755922 0.92592955 0.92036101 0.93478816] \n",
      "\n",
      "--------------------------------------------------------------------------\n",
      "Average of all the weighted f1 results:\n",
      "--------------------------------------------------------------------------\n",
      "0.9321 \n",
      "\n",
      "--------------------------------------------------------------------------\n",
      "All the AUC scores:\n",
      "--------------------------------------------------------------------------\n",
      "[0.9816592  0.98602133 0.97963067 0.98258153 0.98481076 0.98197529\n",
      " 0.98569788 0.9818263  0.97849475 0.9818813 ] \n",
      "\n",
      "--------------------------------------------------------------------------\n",
      "Average of all the AUC scores:\n",
      "--------------------------------------------------------------------------\n",
      "0.9825 \n",
      "\n"
     ]
    }
   ],
   "source": [
    "# ignore warnings\n",
    "warnings.filterwarnings(\"ignore\")\n",
    "\n",
    "# Build the k-fold cross-validator\n",
    "k_fold_split = 10\n",
    "kfold = KFold(n_splits=k_fold_split, random_state=2019, shuffle=True)\n",
    "\n",
    "# note: only a single metric is permitted for parameter 'scoring'\n",
    "# for all parameters for scoring, see source:https://scikit-learn.org/stable/modules/model_evaluation.html#scoring-parameter\n",
    "result_f1_weighted = cross_val_score(clf3, X_train_res, y_train_res, cv=kfold, scoring='f1_weighted')\n",
    "result_auc_weighted = cross_val_score(clf3, X_train_res, y_train_res, cv=kfold, scoring='roc_auc')\n",
    "print('--------------------------------------------------------------------------')\n",
    "print('All the weighted f1 results:')\n",
    "print('--------------------------------------------------------------------------')\n",
    "print(result_f1_weighted, '\\n')\n",
    "\n",
    "print('--------------------------------------------------------------------------')\n",
    "print('Average of all the weighted f1 results:')\n",
    "print('--------------------------------------------------------------------------')\n",
    "print(round(result_f1_weighted.mean(), 4), '\\n')\n",
    "\n",
    "print('--------------------------------------------------------------------------')\n",
    "print('All the AUC scores:')\n",
    "print('--------------------------------------------------------------------------')\n",
    "print(result_auc_weighted, '\\n')\n",
    "\n",
    "print('--------------------------------------------------------------------------')\n",
    "print('Average of all the AUC scores:')\n",
    "print('--------------------------------------------------------------------------')\n",
    "print(round(result_auc_weighted.mean(), 4), '\\n')\n",
    "\n",
    "# reset the warnings for future code\n",
    "warnings.resetwarnings()"
   ]
  },
  {
   "cell_type": "markdown",
   "metadata": {},
   "source": [
    "<b> Cross Validation Using KFold </b>\n",
    "<br> For more information on the topic, please click the following [link](https://stackabuse.com/cross-validation-and-grid-search-for-model-selection-in-python/).\n",
    "<br> The details of the package are noted [here](https://scikit-learn.org/stable/modules/generated/sklearn.model_selection.KFold.html)."
   ]
  },
  {
   "cell_type": "markdown",
   "metadata": {},
   "source": [
    "<b> Cross validation on X and Y with our optimal hyperparameters for our model"
   ]
  },
  {
   "cell_type": "code",
   "execution_count": 55,
   "metadata": {},
   "outputs": [
    {
     "name": "stdout",
     "output_type": "stream",
     "text": [
      "--------------------------------------------------------------------------\n",
      "All the weighted f1 results:\n",
      "--------------------------------------------------------------------------\n",
      "[0.88483129 0.88614592 0.89104629 0.89328366 0.88943046 0.89933388\n",
      " 0.89731823 0.88379795 0.89149793 0.89761045] \n",
      "\n",
      "--------------------------------------------------------------------------\n",
      "Average of all the weighted f1 results:\n",
      "--------------------------------------------------------------------------\n",
      "0.8914 \n",
      "\n",
      "--------------------------------------------------------------------------\n",
      "All the AUC scores:\n",
      "--------------------------------------------------------------------------\n",
      "[0.91419658 0.90797896 0.91583495 0.93737864 0.91715366 0.92299103\n",
      " 0.94289314 0.90924855 0.92914382 0.93649436] \n",
      "\n",
      "--------------------------------------------------------------------------\n",
      "Average of all the AUC scores:\n",
      "--------------------------------------------------------------------------\n",
      "0.9233 \n",
      "\n"
     ]
    }
   ],
   "source": [
    "# Build the k-fold cross-validator\n",
    "k_fold_split = 10\n",
    "kfold = KFold(n_splits=k_fold_split, random_state=2019, shuffle=True)\n",
    "result = cross_val_score(clf3, X, Y, cv=kfold, scoring='accuracy')\n",
    "\n",
    "result_f1_weighted = cross_val_score(clf3, X, Y, cv=kfold, scoring='f1_weighted')\n",
    "result_auc_weighted = cross_val_score(clf3, X, Y, cv=kfold, scoring='roc_auc')\n",
    "\n",
    "print('--------------------------------------------------------------------------')\n",
    "print('All the weighted f1 results:')\n",
    "print('--------------------------------------------------------------------------')\n",
    "print(result_f1_weighted, '\\n')\n",
    "\n",
    "print('--------------------------------------------------------------------------')\n",
    "print('Average of all the weighted f1 results:')\n",
    "print('--------------------------------------------------------------------------')\n",
    "print(round(result_f1_weighted.mean(), 4), '\\n')\n",
    "\n",
    "print('--------------------------------------------------------------------------')\n",
    "print('All the AUC scores:')\n",
    "print('--------------------------------------------------------------------------')\n",
    "print(result_auc_weighted, '\\n')\n",
    "\n",
    "print('--------------------------------------------------------------------------')\n",
    "print('Average of all the AUC scores:')\n",
    "print('--------------------------------------------------------------------------')\n",
    "print(round(result_auc_weighted.mean(), 4), '\\n')\n",
    "\n",
    "# reset the warnings for future code\n",
    "warnings.resetwarnings()"
   ]
  },
  {
   "cell_type": "markdown",
   "metadata": {},
   "source": [
    "<a id = \"2104\"> <h2> 2.4 Feature Importance </h2> </a>"
   ]
  },
  {
   "cell_type": "code",
   "execution_count": 56,
   "metadata": {},
   "outputs": [
    {
     "data": {
      "text/plain": [
       "PageValues_mm_yj_stdev                 4.675577e-01\n",
       "add_exit_bounce_rates_mm_yj_stdev      1.338513e-01\n",
       "ProductRelated_mm_yj_stdev             1.135191e-01\n",
       "Administrative_Duration_mm_yj_stdev    1.011906e-01\n",
       "Informational_mm_yj_stdev              5.054380e-02\n",
       "Month_Nov                              3.653124e-02\n",
       "Month_May                              1.718632e-02\n",
       "TrafficType_2                          1.357267e-02\n",
       "VisitorType_New_Visitor                1.327583e-02\n",
       "OperatingSystems_3                     1.191766e-02\n",
       "Month_Mar                              1.177602e-02\n",
       "TrafficType_3                          8.657522e-03\n",
       "TrafficType_1                          7.848020e-03\n",
       "TrafficType_13                         4.941903e-03\n",
       "TrafficType_8                          3.766868e-03\n",
       "SpecialDay_0.8                         2.244279e-03\n",
       "Month_Feb                              8.281810e-04\n",
       "Browser_12                             5.693493e-04\n",
       "TrafficType_15                         2.139371e-04\n",
       "TrafficType_18                         7.586399e-06\n",
       "TrafficType_12                         1.559358e-07\n",
       "dtype: float64"
      ]
     },
     "execution_count": 56,
     "metadata": {},
     "output_type": "execute_result"
    }
   ],
   "source": [
    "feature_imp = pd.Series(clf3.feature_importances_, index=list(X.columns)).sort_values(ascending=False)\n",
    "feature_imp"
   ]
  },
  {
   "cell_type": "markdown",
   "metadata": {},
   "source": [
    "<b> Visualizing Important Features"
   ]
  },
  {
   "cell_type": "code",
   "execution_count": 57,
   "metadata": {},
   "outputs": [
    {
     "data": {
      "image/png": "[encoded data removed]",
      "text/plain": [
       "<Figure size 432x288 with 1 Axes>"
      ]
     },
     "metadata": {},
     "output_type": "display_data"
    }
   ],
   "source": [
    "%matplotlib inline\n",
    "plt.style.use('ggplot')\n",
    "\n",
    "# Creating a bar plot\n",
    "sns.barplot(x=feature_imp, y=feature_imp.index)\n",
    "\n",
    "# Add labels to your graph\n",
    "plt.xlabel('Feature Importance Score')\n",
    "plt.ylabel('Features')\n",
    "plt.title(\"Visualizing Important Features\")\n",
    "plt.show()"
   ]
  },
  {
   "cell_type": "markdown",
   "metadata": {},
   "source": [
    "<a id = \"33\"> <h2> Pipeline 3 </h2> </a>\n",
    "___"
   ]
  },
  {
   "cell_type": "markdown",
   "metadata": {},
   "source": [
    "<b> read csv file to a pandas dataframe"
   ]
  },
  {
   "cell_type": "code",
   "execution_count": 58,
   "metadata": {},
   "outputs": [],
   "source": [
    "#Load dataset\n",
    "# read csv file to a pandas dataframe\n",
    "df_pipeline3 = pd.read_csv(\"pipeline_3.csv\")"
   ]
  },
  {
   "cell_type": "markdown",
   "metadata": {},
   "source": [
    "<b> show all columns in dataset"
   ]
  },
  {
   "cell_type": "code",
   "execution_count": 59,
   "metadata": {},
   "outputs": [
    {
     "name": "stdout",
     "output_type": "stream",
     "text": [
      "There are 23 features, and the target `Revenue` for pipeline 3:\n"
     ]
    },
    {
     "data": {
      "text/plain": [
       "['Administrative_yj_stdev_zscore',\n",
       " 'Month_Nov',\n",
       " 'VisitorType_New_Visitor',\n",
       " 'TrafficType_2',\n",
       " 'Month_May',\n",
       " 'TrafficType_3',\n",
       " 'add_exit_bounce_rates_yj_stdev_zscore',\n",
       " 'TrafficType_13',\n",
       " 'PageValues_yj_stdev_zscore',\n",
       " 'OperatingSystems_3',\n",
       " 'TrafficType_1',\n",
       " 'Month_Mar',\n",
       " 'TrafficType_8',\n",
       " 'SpecialDay_0.8',\n",
       " 'Month_Feb',\n",
       " 'Month_Dec',\n",
       " 'SpecialDay_0.4',\n",
       " 'TrafficType_20',\n",
       " 'Month_Oct',\n",
       " 'Region_1',\n",
       " 'Browser_12',\n",
       " 'OperatingSystems_7',\n",
       " 'TrafficType_16',\n",
       " 'Revenue']"
      ]
     },
     "execution_count": 59,
     "metadata": {},
     "output_type": "execute_result"
    }
   ],
   "source": [
    "# show all columns in dataset\n",
    "print('There are', len(df_pipeline3.columns)-1, 'features, and the target `Revenue` for pipeline 3:')\n",
    "list(df_pipeline3.columns)"
   ]
  },
  {
   "cell_type": "code",
   "execution_count": 60,
   "metadata": {},
   "outputs": [
    {
     "name": "stdout",
     "output_type": "stream",
     "text": [
      "Number of rows in the dataset: 12330\n",
      "Number of columns in the dataset: 24\n"
     ]
    }
   ],
   "source": [
    "print('Number of rows in the dataset:', df_pipeline3.shape[0])\n",
    "print('Number of columns in the dataset:', df_pipeline3.shape[1])"
   ]
  },
  {
   "cell_type": "markdown",
   "metadata": {},
   "source": [
    "<a id = \"3100\"> <h2> 3.0 Basic Model Random Forest </h2> </a>"
   ]
  },
  {
   "cell_type": "markdown",
   "metadata": {},
   "source": [
    "> <b> Declare Features and Target"
   ]
  },
  {
   "cell_type": "code",
   "execution_count": 72,
   "metadata": {},
   "outputs": [],
   "source": [
    "# Define Features and Target variables\n",
    "X = df_pipeline3.iloc[:, :-1] # Features is all columns in the dataframe except the last column\n",
    "Y = df_pipeline3.iloc[:, -1] # Target is the last column in the dataframe: 'Revenue'"
   ]
  },
  {
   "cell_type": "markdown",
   "metadata": {},
   "source": [
    "> <b> Split the data"
   ]
  },
  {
   "cell_type": "code",
   "execution_count": 73,
   "metadata": {},
   "outputs": [],
   "source": [
    "# Split dataset into training set and test set\n",
    "X_train, X_test, y_train, y_test = train_test_split(X, Y, test_size=0.3, random_state=2019) # 70% training and 30% test"
   ]
  },
  {
   "cell_type": "markdown",
   "metadata": {},
   "source": [
    "> <b> Model Development and Prediction"
   ]
  },
  {
   "cell_type": "code",
   "execution_count": 74,
   "metadata": {},
   "outputs": [
    {
     "name": "stdout",
     "output_type": "stream",
     "text": [
      "              precision    recall  f1-score   support\n",
      "\n",
      "           0       0.92      0.95      0.93      3131\n",
      "           1       0.65      0.55      0.60       568\n",
      "\n",
      "    accuracy                           0.89      3699\n",
      "   macro avg       0.79      0.75      0.77      3699\n",
      "weighted avg       0.88      0.89      0.88      3699\n",
      "\n"
     ]
    }
   ],
   "source": [
    "#Import Random Forest Model\n",
    "from sklearn.ensemble import RandomForestClassifier\n",
    "\n",
    "#Create a Random Forest Classifier\n",
    "clf = RandomForestClassifier(random_state=2019)\n",
    "\n",
    "#Train the model using the training sets y_pred=clf.predict(X_test)\n",
    "clf.fit(X_train,y_train)\n",
    "\n",
    "y_pred = clf.predict(X_test)\n",
    "\n",
    "#check the predictive performance using the actual and predicted values\n",
    "from sklearn.metrics import classification_report, confusion_matrix\n",
    "print(classification_report(y_test, y_pred))"
   ]
  },
  {
   "cell_type": "markdown",
   "metadata": {},
   "source": [
    "<b> ROC Curve with AUC score - Basic model </b> (before oversampling/undersampling)"
   ]
  },
  {
   "cell_type": "code",
   "execution_count": 75,
   "metadata": {},
   "outputs": [],
   "source": [
    "# define a function to plot the roc_curve and AUC score using variables: X_test and y_test\n",
    "def roc_curve(X_test=X_test, y_test=y_test, model=clf):\n",
    "    # set the style of the graph\n",
    "    plt.style.use('Solarize_Light2')\n",
    "\n",
    "    # predict_proba gives you the probabilities for the target (0 and 1 in your case) in array form in dimension (N,2). \n",
    "    # The first index refers to the probability that the data belong to class 0, and the second refers to the probability that the data belong to class 1. \n",
    "    # we define a variable with an array of the probabilities that each observation belongs to class 1 (with [:,1], where model.predict_proba(X_test)[:,0] refers to the array it belongs to class 0)\n",
    "    y_pred_proba = model.predict_proba(X_test)[:,1]\n",
    "\n",
    "    # define false positive rate (fpr) and the true positive rate (tpr)\n",
    "    fpr, tpr, _ = metrics.roc_curve(y_test,  y_pred_proba)\n",
    "\n",
    "    # Compute Area Under the Receiver Operating Characteristic Curve (ROC AUC) from prediction scores.\n",
    "    # source: https://scikit-learn.org/stable/modules/generated/sklearn.metrics.roc_auc_score.html\n",
    "    auc = metrics.roc_auc_score(y_test, y_pred_proba)\n",
    "\n",
    "    # plot on the X-axis: the false positive rate\n",
    "    # plot on the Y-axis: the true positive rate\n",
    "    # with the legend having the auc score\n",
    "    plt.plot(fpr,tpr,label='AUC = %0.2f' % auc)\n",
    "    # positioning of the legend\n",
    "    plt.legend(loc=4)\n",
    "    # define the title of the plot\n",
    "    plt.title('Receiver Operating Characteristic (ROC)')\n",
    "    # define the y axis label\n",
    "    plt.ylabel('True Positive Rate')\n",
    "    # define the x axis label\n",
    "    plt.xlabel('False Positive Rate')\n",
    "    # plot a straight dashed line in the color red\n",
    "    plt.plot([0, 1], [0, 1],'r--')\n",
    "    # show the plot\n",
    "    plt.show()\n",
    "    # print out full AUC score\n",
    "    print('AUC score:', auc)"
   ]
  },
  {
   "cell_type": "code",
   "execution_count": 76,
   "metadata": {},
   "outputs": [
    {
     "data": {
      "image/png": "[encoded data removed]",
      "text/plain": [
       "<Figure size 432x288 with 1 Axes>"
      ]
     },
     "metadata": {},
     "output_type": "display_data"
    },
    {
     "name": "stdout",
     "output_type": "stream",
     "text": [
      "AUC score: 0.8981561036612521\n"
     ]
    }
   ],
   "source": [
    "# apply function to plot the ROC Curve\n",
    "roc_curve(X_test=X_test, y_test=y_test, model=clf)"
   ]
  },
  {
   "cell_type": "markdown",
   "metadata": {},
   "source": [
    "<a id = \"3101\"> <h2> 3.1 Oversampling (SMOTE) </h2> </a>\n",
    "We oversample the <b> training </b> dataset, because the classes within our target variable 'Revenue' are imbalanced:\n",
    "* class 0: 84.53%\n",
    "* class 1: 15.47%\n",
    "\n",
    "For more information, click on detailed information from Prof. Jie Tao [link](https://github.com/DrJieTao/ba545-docs/blob/master/competition2/handling_imbalanced_data_part2.ipynb)"
   ]
  },
  {
   "cell_type": "markdown",
   "metadata": {},
   "source": [
    "> <b> Oversampling applying SMOTE"
   ]
  },
  {
   "cell_type": "code",
   "execution_count": 77,
   "metadata": {},
   "outputs": [
    {
     "name": "stdout",
     "output_type": "stream",
     "text": [
      "After OverSampling, the shape of train_X: (14582, 23)\n",
      "After OverSampling, the shape of train_y: (14582,) \n",
      "\n",
      "After OverSampling, counts of label '1': 7291\n",
      "After OverSampling, counts of label '0': 7291\n"
     ]
    },
    {
     "name": "stderr",
     "output_type": "stream",
     "text": [
      "/opt/tljh/user/lib/python3.6/site-packages/sklearn/utils/deprecation.py:87: FutureWarning: Function safe_indexing is deprecated; safe_indexing is deprecated in version 0.22 and will be removed in version 0.24.\n",
      "  warnings.warn(msg, category=FutureWarning)\n"
     ]
    }
   ],
   "source": [
    "sm = SMOTE(random_state = 2019) \n",
    "X_train_res, y_train_res = sm.fit_sample(X_train, y_train) \n",
    "\n",
    "print('After OverSampling, the shape of train_X: {}'.format(X_train_res.shape)) \n",
    "print('After OverSampling, the shape of train_y: {} \\n'.format(y_train_res.shape)) \n",
    "  \n",
    "print(\"After OverSampling, counts of label '1': {}\".format(sum(y_train_res == 1))) \n",
    "print(\"After OverSampling, counts of label '0': {}\".format(sum(y_train_res == 0)))"
   ]
  },
  {
   "cell_type": "code",
   "execution_count": 78,
   "metadata": {},
   "outputs": [
    {
     "name": "stdout",
     "output_type": "stream",
     "text": [
      "              precision    recall  f1-score   support\n",
      "\n",
      "           0       0.94      0.90      0.92      3131\n",
      "           1       0.56      0.70      0.62       568\n",
      "\n",
      "    accuracy                           0.87      3699\n",
      "   macro avg       0.75      0.80      0.77      3699\n",
      "weighted avg       0.88      0.87      0.88      3699\n",
      "\n"
     ]
    }
   ],
   "source": [
    "# define the model\n",
    "#Import Random Forest Model\n",
    "from sklearn.ensemble import RandomForestClassifier\n",
    "\n",
    "#Create a RandomForest Classifier\n",
    "clf1 = RandomForestClassifier(n_estimators=100, random_state=2019)\n",
    "\n",
    "#Train the model using the training sets y_pred=clf.predict(X_test)\n",
    "clf1.fit(X_train_res,y_train_res)\n",
    "\n",
    "y_pred = clf1.predict(X_test)\n",
    "\n",
    "#check the predictive performance using the actual and predicted values\n",
    "from sklearn.metrics import classification_report, confusion_matrix\n",
    "print(classification_report(y_test, y_pred))"
   ]
  },
  {
   "cell_type": "code",
   "execution_count": 79,
   "metadata": {},
   "outputs": [
    {
     "data": {
      "image/png": "[encoded data removed]",
      "text/plain": [
       "<Figure size 432x288 with 1 Axes>"
      ]
     },
     "metadata": {},
     "output_type": "display_data"
    },
    {
     "name": "stdout",
     "output_type": "stream",
     "text": [
      "AUC score: 0.898195464707761\n"
     ]
    }
   ],
   "source": [
    "# apply function to plot the ROC Curve\n",
    "roc_curve(X_test=X_test, y_test=y_test, model=clf1)"
   ]
  },
  {
   "cell_type": "markdown",
   "metadata": {},
   "source": [
    "## Cross Validation Using KFold </b>\n",
    "For more information on the topic, please click the following [link](https://stackabuse.com/cross-validation-and-grid-search-for-model-selection-in-python/).\n",
    "<br> The details of the package are noted [here](https://scikit-learn.org/stable/modules/generated/sklearn.model_selection.KFold.html)."
   ]
  },
  {
   "cell_type": "markdown",
   "metadata": {},
   "source": [
    "<a id = \"3102\"> <h2> 3.2 Cross Validation (Oversampling)  </h2> </a>"
   ]
  },
  {
   "cell_type": "markdown",
   "metadata": {},
   "source": [
    "Before we tune our model's hyperparameters we want to get the baseline result of our oversampled training set."
   ]
  },
  {
   "cell_type": "markdown",
   "metadata": {},
   "source": [
    "<b> Metrics: F1, AUC scores"
   ]
  },
  {
   "cell_type": "code",
   "execution_count": 80,
   "metadata": {},
   "outputs": [
    {
     "name": "stdout",
     "output_type": "stream",
     "text": [
      "--------------------------------------------------------------------------\n",
      "All the weighted f1 results:\n",
      "--------------------------------------------------------------------------\n",
      "[0.91825133 0.93211373 0.92523875 0.92793903 0.93067138 0.92655385\n",
      " 0.92933684 0.92044644 0.91968457 0.9231431 ] \n",
      "\n",
      "--------------------------------------------------------------------------\n",
      "Average of all the weighted f1 results:\n",
      "--------------------------------------------------------------------------\n",
      "0.9253 \n",
      "\n",
      "--------------------------------------------------------------------------\n",
      "All the AUC score results:\n",
      "--------------------------------------------------------------------------\n",
      "[0.97412685 0.97843538 0.97563814 0.97138086 0.9755711  0.97048286\n",
      " 0.98118836 0.97468118 0.97253507 0.97562284] \n",
      "\n",
      "--------------------------------------------------------------------------\n",
      "Average of all the AUC score results:\n",
      "--------------------------------------------------------------------------\n",
      "avg AUC score 0.9749662636058962\n"
     ]
    }
   ],
   "source": [
    "# ignore warnings\n",
    "warnings.filterwarnings(\"ignore\")\n",
    "\n",
    "# Build the k-fold cross-validator\n",
    "k_fold_split = 10\n",
    "kfold = KFold(n_splits=k_fold_split, random_state=2019, shuffle=True)\n",
    "\n",
    "result = cross_val_score(clf1, X_train_res, y_train_res, cv=kfold, scoring='accuracy')\n",
    "result_f1_weighted = cross_val_score(clf1, X_train_res, y_train_res, cv=kfold, scoring='f1_weighted')\n",
    "result_auc = cross_val_score(clf1, X_train_res, y_train_res, cv=kfold, scoring='roc_auc')\n",
    "\n",
    "print('--------------------------------------------------------------------------')\n",
    "print('All the weighted f1 results:')\n",
    "print('--------------------------------------------------------------------------')\n",
    "print(result_f1_weighted, '\\n')\n",
    "\n",
    "print('--------------------------------------------------------------------------')\n",
    "print('Average of all the weighted f1 results:')\n",
    "print('--------------------------------------------------------------------------')\n",
    "print(round(result_f1_weighted.mean(), 4), '\\n')\n",
    "\n",
    "print('--------------------------------------------------------------------------')\n",
    "print('All the AUC score results:')\n",
    "print('--------------------------------------------------------------------------')\n",
    "print(result_auc, '\\n')\n",
    "\n",
    "print('--------------------------------------------------------------------------')\n",
    "print('Average of all the AUC score results:')\n",
    "print('--------------------------------------------------------------------------')\n",
    "print('avg AUC score', result_auc.mean())\n",
    "\n",
    "# reset the warnings for future code\n",
    "warnings.resetwarnings()"
   ]
  },
  {
   "cell_type": "markdown",
   "metadata": {},
   "source": [
    "<a id = \"3103\"> <h2> 3.3 Model Tuning (Hyperparameters) </h2> </a>\n",
    "___"
   ]
  },
  {
   "cell_type": "markdown",
   "metadata": {},
   "source": [
    "<b> Define Grid"
   ]
  },
  {
   "cell_type": "code",
   "execution_count": 81,
   "metadata": {},
   "outputs": [],
   "source": [
    "# Set the hyper-parameter grid\n",
    "n_estimators = [210]\n",
    "criterion = ['entropy']\n",
    "max_depth = [20]\n",
    "min_samples_split = [2, 5, 10]\n",
    "min_samples_leaf = [1, 2, 4]\n",
    "random_state = [2019]\n",
    "bootstrap = [False]\n",
    "max_features = ['auto']\n",
    "\n",
    "# from pipeline 1 as a reference:\n",
    "# Best: 0.908655 using {'bootstrap': False, 'criterion': 'entropy', 'max_depth': 20, 'max_features': 'auto', 'n_estimators': 210, 'random_state': 2019} \n",
    "\n",
    "param_grid = dict(n_estimators = n_estimators,\n",
    "                  criterion = criterion,\n",
    "                  max_depth = max_depth, \n",
    "                  min_samples_split = min_samples_split,\n",
    "                  min_samples_leaf= min_samples_leaf,\n",
    "                  random_state = random_state,\n",
    "                  bootstrap = bootstrap,\n",
    "                  max_features = max_features)"
   ]
  },
  {
   "cell_type": "markdown",
   "metadata": {},
   "source": [
    "<b> Hyper-parameter tweaking on oversampled training set"
   ]
  },
  {
   "cell_type": "code",
   "execution_count": 82,
   "metadata": {},
   "outputs": [
    {
     "name": "stdout",
     "output_type": "stream",
     "text": [
      "Best: 0.920862 using {'bootstrap': False, 'criterion': 'entropy', 'max_depth': 20, 'max_features': 'auto', 'min_samples_leaf': 1, 'min_samples_split': 5, 'n_estimators': 210, 'random_state': 2019}\n",
      "--- Execution time: ---\n",
      "--- 32379.078ms. --- \n",
      "--- 32.37907814979553 seconds ---\n",
      "--- 0.5396513024965922 minutes ---\n"
     ]
    }
   ],
   "source": [
    "# set the start time\n",
    "start = time.time()\n",
    "\n",
    "# define the model\n",
    "clf = RandomForestClassifier()\n",
    "\n",
    "# Create a grid search object\n",
    "grid = GridSearchCV(estimator=clf, param_grid=param_grid, cv = 3, n_jobs=-1)\n",
    "\n",
    "# Fit the grid search (Fitting your model to the training data)\n",
    "grid_result = grid.fit(X_train_res, y_train_res)\n",
    "\n",
    "# define each optimal parameter as a new variable\n",
    "optimal_n_estimators = grid.best_estimator_.get_params()['n_estimators']\n",
    "optimal_criterion = grid.best_estimator_.get_params()['criterion']\n",
    "optimal_max_depth = grid.best_estimator_.get_params()['max_depth']\n",
    "optimal_min_samples_split = grid.best_estimator_.get_params()['min_samples_split']\n",
    "optimal_min_samples_leaf =  grid.best_estimator_.get_params()['min_samples_leaf']\n",
    "optimal_random_state = grid.best_estimator_.get_params()['random_state']\n",
    "optimal_bootstrap = grid.best_estimator_.get_params()['bootstrap']\n",
    "optimal_max_features = grid.best_estimator_.get_params()['max_features']\n",
    "\n",
    "# Summarize results\n",
    "print(\"Best: %f using %s\" % (grid_result.best_score_, grid_result.best_params_))\n",
    "\n",
    "# get the time it takes for the gridsearch to run\n",
    "# source: https://blog.softhints.com/python-test-performance-and-measure-time-elapsed-in-seconds/\n",
    "# set the end time\n",
    "end = time.time()\n",
    "\n",
    "# get the elapsed execution time\n",
    "execution_time = end - start\n",
    "print(\"--- Execution time: ---\")\n",
    "print ('--- %0.3fms. --- ' % ( execution_time*1000.))\n",
    "print(\"--- %s seconds ---\" % (execution_time))\n",
    "print(\"--- %s minutes ---\" % (execution_time/60))"
   ]
  },
  {
   "cell_type": "markdown",
   "metadata": {},
   "source": [
    "<b> Applying the optimal hyper-parameters on oversampled training set"
   ]
  },
  {
   "cell_type": "code",
   "execution_count": 83,
   "metadata": {},
   "outputs": [
    {
     "name": "stdout",
     "output_type": "stream",
     "text": [
      "              precision    recall  f1-score   support\n",
      "\n",
      "           0       0.94      0.90      0.92      3131\n",
      "           1       0.55      0.70      0.62       568\n",
      "\n",
      "    accuracy                           0.87      3699\n",
      "   macro avg       0.75      0.80      0.77      3699\n",
      "weighted avg       0.88      0.87      0.87      3699\n",
      "\n"
     ]
    }
   ],
   "source": [
    "# apply the optimal hyper-parameters to the Random Forest Model\n",
    "clf3 = RandomForestClassifier(n_estimators = optimal_n_estimators,\n",
    "                              criterion = optimal_criterion,\n",
    "                              max_depth = optimal_max_depth, \n",
    "                              min_samples_split = optimal_min_samples_split,\n",
    "                              min_samples_leaf = optimal_min_samples_leaf,\n",
    "                              random_state = optimal_random_state,\n",
    "                              bootstrap = optimal_bootstrap,\n",
    "                              max_features = optimal_max_features)\n",
    "\n",
    "# fit/train the model with oversampled training set\n",
    "clf3.fit(X_train_res, y_train_res)\n",
    "\n",
    "# predict the testing set\n",
    "y_pred=clf3.predict(X_test)\n",
    "\n",
    "# print out the classification report\n",
    "print(classification_report(y_test, y_pred))"
   ]
  },
  {
   "cell_type": "markdown",
   "metadata": {},
   "source": [
    "<b> Average Weighted F1 score and Average AUC score with Cross validation"
   ]
  },
  {
   "cell_type": "code",
   "execution_count": 84,
   "metadata": {},
   "outputs": [
    {
     "name": "stdout",
     "output_type": "stream",
     "text": [
      "--------------------------------------------------------------------------\n",
      "All the weighted f1 results:\n",
      "--------------------------------------------------------------------------\n",
      "[0.92097757 0.9355227  0.92523285 0.9272299  0.92928654 0.92792097\n",
      " 0.92453629 0.91633822 0.91968457 0.93136873] \n",
      "\n",
      "--------------------------------------------------------------------------\n",
      "Average of all the weighted f1 results:\n",
      "--------------------------------------------------------------------------\n",
      "0.9258 \n",
      "\n",
      "--------------------------------------------------------------------------\n",
      "All the AUC scores:\n",
      "--------------------------------------------------------------------------\n",
      "[0.97558727 0.9828043  0.97883988 0.97932429 0.97784102 0.97476371\n",
      " 0.98122977 0.97620555 0.97460223 0.97970138] \n",
      "\n",
      "--------------------------------------------------------------------------\n",
      "Average of all the AUC scores:\n",
      "--------------------------------------------------------------------------\n",
      "0.9781 \n",
      "\n"
     ]
    }
   ],
   "source": [
    "# ignore warnings\n",
    "warnings.filterwarnings(\"ignore\")\n",
    "\n",
    "# Build the k-fold cross-validator\n",
    "k_fold_split = 10\n",
    "kfold = KFold(n_splits=k_fold_split, random_state=2019, shuffle=True)\n",
    "\n",
    "# note: only a single metric is permitted for parameter 'scoring'\n",
    "# for all parameters for scoring, see source:https://scikit-learn.org/stable/modules/model_evaluation.html#scoring-parameter\n",
    "result_f1_weighted = cross_val_score(clf3, X_train_res, y_train_res, cv=kfold, scoring='f1_weighted')\n",
    "result_auc_weighted = cross_val_score(clf3, X_train_res, y_train_res, cv=kfold, scoring='roc_auc')\n",
    "print('--------------------------------------------------------------------------')\n",
    "print('All the weighted f1 results:')\n",
    "print('--------------------------------------------------------------------------')\n",
    "print(result_f1_weighted, '\\n')\n",
    "\n",
    "print('--------------------------------------------------------------------------')\n",
    "print('Average of all the weighted f1 results:')\n",
    "print('--------------------------------------------------------------------------')\n",
    "print(round(result_f1_weighted.mean(), 4), '\\n')\n",
    "\n",
    "print('--------------------------------------------------------------------------')\n",
    "print('All the AUC scores:')\n",
    "print('--------------------------------------------------------------------------')\n",
    "print(result_auc_weighted, '\\n')\n",
    "\n",
    "print('--------------------------------------------------------------------------')\n",
    "print('Average of all the AUC scores:')\n",
    "print('--------------------------------------------------------------------------')\n",
    "print(round(result_auc_weighted.mean(), 4), '\\n')\n",
    "\n",
    "# reset the warnings for future code\n",
    "warnings.resetwarnings()"
   ]
  },
  {
   "cell_type": "markdown",
   "metadata": {},
   "source": [
    "<b> Cross Validation Using KFold </b>\n",
    "<br> For more information on the topic, please click the following [link](https://stackabuse.com/cross-validation-and-grid-search-for-model-selection-in-python/).\n",
    "<br> The details of the package are noted [here](https://scikit-learn.org/stable/modules/generated/sklearn.model_selection.KFold.html)."
   ]
  },
  {
   "cell_type": "markdown",
   "metadata": {},
   "source": [
    "<b> Cross validation on X and Y with our optimal hyperparameters for our model"
   ]
  },
  {
   "cell_type": "code",
   "execution_count": 85,
   "metadata": {},
   "outputs": [
    {
     "name": "stdout",
     "output_type": "stream",
     "text": [
      "--------------------------------------------------------------------------\n",
      "All the weighted f1 results:\n",
      "--------------------------------------------------------------------------\n",
      "[0.89098766 0.87782478 0.87922547 0.89539576 0.88972769 0.89108555\n",
      " 0.89835007 0.87534693 0.88034604 0.89393866] \n",
      "\n",
      "--------------------------------------------------------------------------\n",
      "Average of all the weighted f1 results:\n",
      "--------------------------------------------------------------------------\n",
      "0.8872 \n",
      "\n",
      "--------------------------------------------------------------------------\n",
      "All the AUC scores:\n",
      "--------------------------------------------------------------------------\n",
      "[0.91024725 0.89853631 0.91242014 0.9286623  0.91174993 0.92499484\n",
      " 0.93424485 0.91705202 0.91165703 0.92795139] \n",
      "\n",
      "--------------------------------------------------------------------------\n",
      "Average of all the AUC scores:\n",
      "--------------------------------------------------------------------------\n",
      "0.9178 \n",
      "\n"
     ]
    }
   ],
   "source": [
    "# Build the k-fold cross-validator\n",
    "k_fold_split = 10\n",
    "kfold = KFold(n_splits=k_fold_split, random_state=2019, shuffle=True)\n",
    "result = cross_val_score(clf3, X, Y, cv=kfold, scoring='accuracy')\n",
    "\n",
    "result_f1_weighted = cross_val_score(clf3, X, Y, cv=kfold, scoring='f1_weighted')\n",
    "result_auc_weighted = cross_val_score(clf3, X, Y, cv=kfold, scoring='roc_auc')\n",
    "\n",
    "print('--------------------------------------------------------------------------')\n",
    "print('All the weighted f1 results:')\n",
    "print('--------------------------------------------------------------------------')\n",
    "print(result_f1_weighted, '\\n')\n",
    "\n",
    "print('--------------------------------------------------------------------------')\n",
    "print('Average of all the weighted f1 results:')\n",
    "print('--------------------------------------------------------------------------')\n",
    "print(round(result_f1_weighted.mean(), 4), '\\n')\n",
    "\n",
    "print('--------------------------------------------------------------------------')\n",
    "print('All the AUC scores:')\n",
    "print('--------------------------------------------------------------------------')\n",
    "print(result_auc_weighted, '\\n')\n",
    "\n",
    "print('--------------------------------------------------------------------------')\n",
    "print('Average of all the AUC scores:')\n",
    "print('--------------------------------------------------------------------------')\n",
    "print(round(result_auc_weighted.mean(), 4), '\\n')\n",
    "\n",
    "# reset the warnings for future code\n",
    "warnings.resetwarnings()"
   ]
  },
  {
   "cell_type": "markdown",
   "metadata": {},
   "source": [
    "<a id = \"3104\"> <h2> 3.4 Feature Importance </h2> </a>"
   ]
  },
  {
   "cell_type": "code",
   "execution_count": 86,
   "metadata": {},
   "outputs": [
    {
     "data": {
      "text/plain": [
       "PageValues_yj_stdev_zscore               0.454621\n",
       "add_exit_bounce_rates_yj_stdev_zscore    0.164840\n",
       "Administrative_yj_stdev_zscore           0.106375\n",
       "Month_Nov                                0.046170\n",
       "OperatingSystems_3                       0.038459\n",
       "Month_May                                0.023925\n",
       "VisitorType_New_Visitor                  0.021957\n",
       "Region_1                                 0.020989\n",
       "TrafficType_3                            0.020161\n",
       "TrafficType_2                            0.019653\n",
       "Month_Mar                                0.017424\n",
       "Month_Dec                                0.014759\n",
       "TrafficType_1                            0.012814\n",
       "TrafficType_13                           0.010380\n",
       "Month_Oct                                0.009470\n",
       "TrafficType_8                            0.005595\n",
       "SpecialDay_0.8                           0.004256\n",
       "TrafficType_20                           0.003423\n",
       "SpecialDay_0.4                           0.001874\n",
       "Month_Feb                                0.001111\n",
       "Browser_12                               0.001051\n",
       "OperatingSystems_7                       0.000692\n",
       "TrafficType_16                           0.000000\n",
       "dtype: float64"
      ]
     },
     "execution_count": 86,
     "metadata": {},
     "output_type": "execute_result"
    }
   ],
   "source": [
    "feature_imp = pd.Series(clf3.feature_importances_, index=list(X.columns)).sort_values(ascending=False)\n",
    "feature_imp"
   ]
  },
  {
   "cell_type": "markdown",
   "metadata": {},
   "source": [
    "<b> Visualizing Important Features"
   ]
  },
  {
   "cell_type": "code",
   "execution_count": 87,
   "metadata": {},
   "outputs": [
    {
     "data": {
      "image/png": "[encoded data removed]",
      "text/plain": [
       "<Figure size 432x288 with 1 Axes>"
      ]
     },
     "metadata": {},
     "output_type": "display_data"
    }
   ],
   "source": [
    "%matplotlib inline\n",
    "plt.style.use('ggplot')\n",
    "\n",
    "# Creating a bar plot\n",
    "sns.barplot(x=feature_imp, y=feature_imp.index)\n",
    "\n",
    "# Add labels to your graph\n",
    "plt.xlabel('Feature Importance Score')\n",
    "plt.ylabel('Features')\n",
    "plt.title(\"Visualizing Important Features\")\n",
    "plt.show()"
   ]
  },
  {
   "cell_type": "markdown",
   "metadata": {},
   "source": [
    "<a id = \"31005\"> <h2> Results </h2> </a>"
   ]
  },
  {
   "cell_type": "markdown",
   "metadata": {},
   "source": [
    "<b> Left align all markdown tables"
   ]
  },
  {
   "cell_type": "code",
   "execution_count": 88,
   "metadata": {},
   "outputs": [
    {
     "data": {
      "text/html": [
       "<style>\n",
       "    table {\n",
       "        display: inline-block\n",
       "    }\n",
       "</style>\n"
      ],
      "text/plain": [
       "<IPython.core.display.HTML object>"
      ]
     },
     "metadata": {},
     "output_type": "display_data"
    }
   ],
   "source": [
    "%%html\n",
    "<style>\n",
    "    table {\n",
    "        display: inline-block\n",
    "    }\n",
    "</style>"
   ]
  },
  {
   "cell_type": "markdown",
   "metadata": {},
   "source": [
    "### Pipeline 1 Results </b>\n",
    "_Note:_ tool used for Excel table to markdown conversion, namely: https://tableconvert.com/"
   ]
  },
  {
   "cell_type": "markdown",
   "metadata": {},
   "source": [
    "| Model                                                             | weighted avg F1\\-score | AUC score |\n",
    "|-------------------------------------------------------------------|------------------------|-----------|\n",
    "| Basic Model                                                       | 0\\.80                  | 0\\.893    |\n",
    "| Oversampled Model \\(SMOTE\\)                                       | 0\\.87                  | 0\\.890    |\n",
    "| Undersampled Model \\(Nearmiss\\)                                   | 0\\.87                  | 0\\.889    |\n",
    "| Cross validation Oversampled Model                                | 0\\.91                  | 0\\.965    |\n",
    "| Optimal Hyper\\-Parameters \\(incl\\. Cross Val\\. And Oversampling\\) | 0\\.87                  | 0\\.961    |   |   |   |   |   |"
   ]
  },
  {
   "cell_type": "markdown",
   "metadata": {},
   "source": [
    "### Pipeline 2 Results </b>"
   ]
  },
  {
   "cell_type": "markdown",
   "metadata": {},
   "source": [
    "| Model                                                             | weighted avg F1\\-score | AUC score |\n",
    "|-------------------------------------------------------------------|------------------------|-----------|\n",
    "| Basic Model                                                       | 0\\.88                  | 0\\.891    |\n",
    "| Oversampled Model \\(SMOTE\\)                                       | 0\\.88                  | 0\\.912    |\n",
    "| Cross validation Oversampled Model                                | 0\\.9321                | 0\\.980    |\n",
    "| Optimal Hyper\\-Parameters \\(incl\\. Cross Val\\. And Oversampling\\) | 0\\.88                  | 0\\.9698   |   |   |   |   |   |"
   ]
  },
  {
   "cell_type": "markdown",
   "metadata": {},
   "source": [
    "<b> Take-away: </b> For pipeline 2 the best results are with training our model with oversampling using SMOTE and applying cross-validation for a more reliable result."
   ]
  },
  {
   "cell_type": "markdown",
   "metadata": {},
   "source": [
    "### Pipeline 3 Results </b>"
   ]
  },
  {
   "cell_type": "markdown",
   "metadata": {},
   "source": [
    "| Model                                                             | weighted avg F1\\-score | AUC score |\n",
    "|-------------------------------------------------------------------|------------------------|-----------|\n",
    "| Basic Model                                                       | 0\\.88                  | 0\\.902    |\n",
    "| Oversampled Model \\(SMOTE\\)                                       | 0\\.88                  | 0\\.90007  |\n",
    "| Cross validation Oversampled Model                                | 0\\.92                  | 0\\.975    |\n",
    "| Optimal Hyper\\-Parameters \\(incl\\. Cross Val\\. And Oversampling\\) | 0\\.88                  | 0\\.970    |   |   |   |   |\n"
   ]
  },
  {
   "cell_type": "markdown",
   "metadata": {},
   "source": [
    "<b> Conclusion: </b> \n"
   ]
  },
  {
   "cell_type": "markdown",
   "metadata": {},
   "source": [
    "<br> Pipelines have very similar results for the best model with cross validation using oversampling (SMOTE) and the 'optimal' parameters for the linear model, based on the weighted avg F1-score and AUC score.\n",
    "<br> The highest average scores (with Cross Validation, Oversampling, Model Tuning) are with pipeline 2, having a weighted avg F1-score of 0.9321 and a AUC score of 0.98."
   ]
  },
  {
   "cell_type": "code",
   "execution_count": null,
   "metadata": {},
   "outputs": [],
   "source": []
  }
 ],
 "metadata": {
  "kernelspec": {
   "display_name": "Python 3",
   "language": "python",
   "name": "python3"
  },
  "language_info": {
   "codemirror_mode": {
    "name": "ipython",
    "version": 3
   },
   "file_extension": ".py",
   "mimetype": "text/x-python",
   "name": "python",
   "nbconvert_exporter": "python",
   "pygments_lexer": "ipython3",
   "version": "3.6.7"
  }
 },
 "nbformat": 4,
 "nbformat_minor": 4
}
