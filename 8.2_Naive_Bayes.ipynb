{
 "cells": [
  {
   "cell_type": "markdown",
   "metadata": {},
   "source": [
    "# <b> Naive Bayes </b>\n",
    "___"
   ]
  },
  {
   "cell_type": "markdown",
   "metadata": {},
   "source": [
    "<b> Table of Content: </b>\n",
    "<br> <b> [Pipeline_1](#800) </b>\n",
    "<br> [1.0 Basic Model: Naive Bayes](#80010)\n",
    "<br> [1.1 Oversampling (SMOTE)](#80011)\n",
    "<br> [1.2 Undersampling (NearMiss)](#80012)\n",
    "<br> [1.3 Cross Validation (Oversampling)](#80013)\n",
    "<br> [1.4 Cross Validation (Undersampling)](#80014)\n",
    "<br> [1.5 Feature Importance](#80015)\n",
    "<br>  <b>  [Pipeline 2](#801) </b>\n",
    "<br> [2.0 Basic Model: Naive Bayes](#80020)\n",
    "<br> [2.1 Oversampling (SMOTE)](#80021)\n",
    "<br> [2.2 Undersampling (NearMiss)](#80022)\n",
    "<br> [2.3 Cross Validation (Oversampling)](#80023)\n",
    "<br> [2.4 Cross Validation (Undersampling)](#80024)\n",
    "<br> [2.5 Feature Importance](#80025)\n",
    "<br>  <b>[Pipeline 3](#802) </b>\n",
    "<br> [3.0 Basic Model: Naive Bayes](#80030)\n",
    "<br> [3.1 Oversampling (SMOTE)](#80031)\n",
    "<br> [3.2 Undersampling (NearMiss)](#80032)\n",
    "<br> [3.3 Cross Validation (Oversampling)](#80033)\n",
    "<br> [3.4 Cross Validation (Undersampling)](#80034)\n",
    "<br> [3.5 Cross Validation (Undersampling)](#80035)\n",
    "<br> <b> [Results](#810) </b>\n",
    "___"
   ]
  },
  {
   "cell_type": "markdown",
   "metadata": {},
   "source": [
    "<b> Loading Required Modules"
   ]
  },
  {
   "cell_type": "code",
   "execution_count": 134,
   "metadata": {},
   "outputs": [],
   "source": [
    "import pandas as pd\n",
    "import numpy as np\n",
    "from sklearn import preprocessing\n",
    "from sklearn.model_selection import train_test_split\n",
    "from sklearn.naive_bayes import GaussianNB\n",
    "from sklearn import metrics\n",
    "\n",
    "from sklearn.datasets import make_classification\n",
    "from sklearn.preprocessing import StandardScaler \n",
    "from sklearn.metrics import confusion_matrix, classification_report \n",
    "from imblearn.over_sampling import SMOTE\n",
    "from imblearn.under_sampling import NearMiss \n",
    "\n",
    "# Cross Validation packages\n",
    "from sklearn.model_selection import KFold\n",
    "from sklearn.model_selection import cross_val_score\n",
    "\n",
    "# ROC Curve and AUC\n",
    "from sklearn.metrics import roc_auc_score\n",
    "\n",
    "# for plotting\n",
    "import matplotlib.pyplot as plt\n",
    "from sklearn.svm import SVC"
   ]
  },
  {
   "cell_type": "code",
   "execution_count": 135,
   "metadata": {},
   "outputs": [
    {
     "name": "stdout",
     "output_type": "stream",
     "text": [
      "Automatically created module for IPython interactive environment\n"
     ]
    }
   ],
   "source": [
    "# packages for Receiver Operating Characteristic (ROC) with cross validation\n",
    "# source: https://scikit-learn.org/0.18/auto_examples/model_selection/plot_roc_crossval.html\n",
    "print(__doc__)\n",
    "\n",
    "import numpy as np\n",
    "from scipy import interp\n",
    "import matplotlib.pyplot as plt\n",
    "from itertools import cycle\n",
    "\n",
    "from sklearn import svm, datasets\n",
    "from sklearn.metrics import roc_curve, auc\n",
    "from sklearn.model_selection import StratifiedKFold\n",
    "from sklearn.metrics import plot_roc_curve"
   ]
  },
  {
   "cell_type": "markdown",
   "metadata": {},
   "source": [
    "<a id = \"800\"> <h2> Pipeline 1 </h2> </a>\n",
    "___"
   ]
  },
  {
   "cell_type": "markdown",
   "metadata": {},
   "source": [
    "<b> read csv file to a pandas dataframe"
   ]
  },
  {
   "cell_type": "code",
   "execution_count": 136,
   "metadata": {},
   "outputs": [],
   "source": [
    "df_pipeline1 = pd.read_csv(\"pipeline_1.csv\")"
   ]
  },
  {
   "cell_type": "markdown",
   "metadata": {},
   "source": [
    "<b> show all columns in dataset"
   ]
  },
  {
   "cell_type": "code",
   "execution_count": 137,
   "metadata": {},
   "outputs": [
    {
     "name": "stdout",
     "output_type": "stream",
     "text": [
      "There are 22 features, and the target `Revenue` for pipeline 1:\n"
     ]
    },
    {
     "data": {
      "text/plain": [
       "['Q4',\n",
       " 'VisitorType_New_Visitor',\n",
       " 'Q3',\n",
       " 'TrafficType_2',\n",
       " 'TrafficType_8',\n",
       " 'TrafficType_3',\n",
       " 'PageValues_iqr_yj_zscore',\n",
       " 'Q1',\n",
       " 'TrafficType_13',\n",
       " 'ExitRates_iqr_yj_zscore',\n",
       " 'OperatingSystems_3',\n",
       " 'Administrative_Duration_iqr_yj_zscore',\n",
       " 'TrafficType_1',\n",
       " 'SpecialDay_0.8',\n",
       " 'Month_Feb',\n",
       " 'Browser_6',\n",
       " 'SpecialDay_0.4',\n",
       " 'TrafficType_20',\n",
       " 'Informational_Duration_pp_iqr_yj_zscore',\n",
       " 'Browser_12',\n",
       " 'OperatingSystems_7',\n",
       " 'TrafficType_16',\n",
       " 'Revenue']"
      ]
     },
     "execution_count": 137,
     "metadata": {},
     "output_type": "execute_result"
    }
   ],
   "source": [
    "print('There are', len(df_pipeline1.columns)-1, 'features, and the target `Revenue` for pipeline 1:')\n",
    "list(df_pipeline1.columns)"
   ]
  },
  {
   "cell_type": "code",
   "execution_count": 138,
   "metadata": {},
   "outputs": [
    {
     "name": "stdout",
     "output_type": "stream",
     "text": [
      "Number of rows in the dataset: 12330\n",
      "Number of columns in the dataset: 23\n"
     ]
    }
   ],
   "source": [
    "print('Number of rows in the dataset:', df_pipeline1.shape[0])\n",
    "print('Number of columns in the dataset:', df_pipeline1.shape[1])"
   ]
  },
  {
   "cell_type": "markdown",
   "metadata": {},
   "source": [
    "<a id = \"80010\"> <h2> 1.0 Basic Model Naive Bayes </h2> </a>"
   ]
  },
  {
   "cell_type": "markdown",
   "metadata": {},
   "source": [
    "<b> Define Features and Target variables"
   ]
  },
  {
   "cell_type": "code",
   "execution_count": 139,
   "metadata": {},
   "outputs": [],
   "source": [
    "X = df_pipeline1.iloc[:, :-1] # Features is all columns in the dataframe except the last column\n",
    "Y = df_pipeline1.iloc[:, -1] # Target is the last column in the dataframe: 'Revenue'"
   ]
  },
  {
   "cell_type": "code",
   "execution_count": 140,
   "metadata": {},
   "outputs": [
    {
     "name": "stdout",
     "output_type": "stream",
     "text": [
      "Before OverSampling, the shape of train_X: (8631, 22)\n",
      "Before OverSampling, counts of label '1' in y_train: 1340\n",
      "Before OverSampling, counts of label '0' in y_train: 7291\n",
      "\n",
      "\n",
      "              precision    recall  f1-score   support\n",
      "\n",
      "           0       0.96      0.76      0.85      3131\n",
      "           1       0.38      0.84      0.53       568\n",
      "\n",
      "    accuracy                           0.77      3699\n",
      "   macro avg       0.67      0.80      0.69      3699\n",
      "weighted avg       0.87      0.77      0.80      3699\n",
      "\n"
     ]
    }
   ],
   "source": [
    "# Split dataset into training set and test set \n",
    "# 70% training and 30% test\n",
    "X_train, X_test, y_train, y_test = train_test_split(X, Y, test_size=0.3,random_state=2019) \n",
    "\n",
    "# Create a Gaussian Classifier\n",
    "gnb = GaussianNB()\n",
    "\n",
    "# Train the model using the training sets\n",
    "gnb.fit(X_train, y_train)\n",
    "\n",
    "print('Before OverSampling, the shape of train_X: {}'.format(X_train.shape))  \n",
    "print(\"Before OverSampling, counts of label '1' in y_train: {}\".format(sum(y_train == 1))) \n",
    "print(\"Before OverSampling, counts of label '0' in y_train: {}\".format(sum(y_train == 0)))\n",
    "print('\\n')\n",
    "\n",
    "# given a trained model, predict the label of a new set of data.\n",
    "y_pred = gnb.predict(X_test)\n",
    "\n",
    "# print classification report \n",
    "print(classification_report(y_test, y_pred))"
   ]
  },
  {
   "cell_type": "markdown",
   "metadata": {},
   "source": [
    "<b> ROC Curve with AUC score - Basic model </b> (before oversampling/undersampling)"
   ]
  },
  {
   "cell_type": "code",
   "execution_count": 141,
   "metadata": {},
   "outputs": [],
   "source": [
    "# define a function to plot the roc_curve and AUC score using variables: X_test and y_test\n",
    "def roc_curve(X_test=X_test, y_test=y_test, model=gnb):\n",
    "    # set the style of the graph\n",
    "    plt.style.use('Solarize_Light2')\n",
    "\n",
    "    # predict_proba gives you the probabilities for the target (0 and 1 in your case) in array form in dimension (N,2). \n",
    "    # The first index refers to the probability that the data belong to class 0, and the second refers to the probability that the data belong to class 1. \n",
    "    # we define a variable with an array of the probabilities that each observation belongs to class 1 (with [:,1], where model.predict_proba(X_test)[:,0] refers to the array it belongs to class 0)\n",
    "    y_pred_proba = model.predict_proba(X_test)[:,1]\n",
    "\n",
    "    # define false positive rate (fpr) and the true positive rate (tpr)\n",
    "    fpr, tpr, _ = metrics.roc_curve(y_test,  y_pred_proba)\n",
    "\n",
    "    # Compute Area Under the Receiver Operating Characteristic Curve (ROC AUC) from prediction scores.\n",
    "    # source: https://scikit-learn.org/stable/modules/generated/sklearn.metrics.roc_auc_score.html\n",
    "    auc = metrics.roc_auc_score(y_test, y_pred_proba)\n",
    "\n",
    "    # plot on the X-axis: the false positive rate\n",
    "    # plot on the Y-axis: the true positive rate\n",
    "    # with the legend having the auc score\n",
    "    plt.plot(fpr,tpr,label='AUC = %0.2f' % auc)\n",
    "    # positioning of the legend\n",
    "    plt.legend(loc=4)\n",
    "    # define the title of the plot\n",
    "    plt.title('Receiver Operating Characteristic (ROC)')\n",
    "    # define the y axis label\n",
    "    plt.ylabel('True Positive Rate')\n",
    "    # define the x axis label\n",
    "    plt.xlabel('False Positive Rate')\n",
    "    # plot a straight dashed line in the color red\n",
    "    plt.plot([0, 1], [0, 1],'r--')\n",
    "    # show the plot\n",
    "    plt.show()\n",
    "    # print out full AUC score\n",
    "    print('AUC score:', auc)"
   ]
  },
  {
   "cell_type": "code",
   "execution_count": 142,
   "metadata": {},
   "outputs": [
    {
     "data": {
      "image/png": "[encoded data removed]",
      "text/plain": [
       "<Figure size 432x288 with 1 Axes>"
      ]
     },
     "metadata": {},
     "output_type": "display_data"
    },
    {
     "name": "stdout",
     "output_type": "stream",
     "text": [
      "AUC score: 0.8418990467879137\n"
     ]
    }
   ],
   "source": [
    "# apply function to plot the ROC Curve\n",
    "roc_curve(X_test=X_test, y_test=y_test, model=gnb)"
   ]
  },
  {
   "cell_type": "markdown",
   "metadata": {},
   "source": [
    "<a id = \"80011\"> <h2> 1.1 Oversampling (SMOTE) </h2> </a>\n",
    "We oversample the <b> training </b> dataset, because the classes within our target variable 'Revenue' are imbalanced:\n",
    "* class 0: 84.53%\n",
    "* class 1: 15.47%\n",
    "\n",
    "Fore more information, click on detailed information from Prof. Jie Tao [link](https://github.com/DrJieTao/ba545-docs/blob/master/competition2/handling_imbalanced_data_part2.ipynb)"
   ]
  },
  {
   "cell_type": "code",
   "execution_count": 143,
   "metadata": {},
   "outputs": [
    {
     "name": "stdout",
     "output_type": "stream",
     "text": [
      "After OverSampling, the shape of train_X: (14582, 22)\n",
      "After OverSampling, the shape of train_y: (14582,) \n",
      "\n",
      "After OverSampling, counts of label '1': 7291\n",
      "After OverSampling, counts of label '0': 7291\n"
     ]
    },
    {
     "name": "stderr",
     "output_type": "stream",
     "text": [
      "/opt/tljh/user/lib/python3.6/site-packages/sklearn/utils/deprecation.py:87: FutureWarning: Function safe_indexing is deprecated; safe_indexing is deprecated in version 0.22 and will be removed in version 0.24.\n",
      "  warnings.warn(msg, category=FutureWarning)\n"
     ]
    }
   ],
   "source": [
    "# Split dataset into training set and test set \n",
    "# 70% training and 30% test\n",
    "X_train, X_test, y_train, y_test = train_test_split(X, Y, test_size=0.3,random_state=2019) \n",
    "\n",
    "sm = SMOTE(random_state = 2019) \n",
    "X_train_res, y_train_res = sm.fit_sample(X_train, y_train) \n",
    "\n",
    "print('After OverSampling, the shape of train_X: {}'.format(X_train_res.shape)) \n",
    "print('After OverSampling, the shape of train_y: {} \\n'.format(y_train_res.shape)) \n",
    "  \n",
    "print(\"After OverSampling, counts of label '1': {}\".format(sum(y_train_res == 1))) \n",
    "print(\"After OverSampling, counts of label '0': {}\".format(sum(y_train_res == 0)))"
   ]
  },
  {
   "cell_type": "markdown",
   "metadata": {},
   "source": [
    "The SMOTE Algorithm has oversampled the instances in the minority class and made it equal to majority class:\n",
    "* Both classes (0 & 1) now have 7291 instances, the <b> training </b> dataset is balanced.\n",
    "* Class 1 increased from 1340 instances to 7291 instances, an increase of 5951 instances of class 1."
   ]
  },
  {
   "cell_type": "code",
   "execution_count": 144,
   "metadata": {},
   "outputs": [
    {
     "name": "stdout",
     "output_type": "stream",
     "text": [
      "              precision    recall  f1-score   support\n",
      "\n",
      "           0       0.97      0.49      0.65      3131\n",
      "           1       0.25      0.93      0.39       568\n",
      "\n",
      "    accuracy                           0.56      3699\n",
      "   macro avg       0.61      0.71      0.52      3699\n",
      "weighted avg       0.86      0.56      0.61      3699\n",
      "\n"
     ]
    }
   ],
   "source": [
    "# define the model\n",
    "gnb1 = GaussianNB()\n",
    "\n",
    "# train the model\n",
    "gnb1.fit(X_train_res, y_train_res)\n",
    "\n",
    "# given a trained model, predict the label of a new set of data. \n",
    "y_pred = gnb1.predict(X_test) \n",
    "  \n",
    "# print classification report \n",
    "print(classification_report(y_test, y_pred))"
   ]
  },
  {
   "cell_type": "code",
   "execution_count": 145,
   "metadata": {},
   "outputs": [
    {
     "data": {
      "image/png": "[encoded data removed]",
      "text/plain": [
       "<Figure size 432x288 with 1 Axes>"
      ]
     },
     "metadata": {},
     "output_type": "display_data"
    },
    {
     "name": "stdout",
     "output_type": "stream",
     "text": [
      "AUC score: 0.8341440771746416\n"
     ]
    }
   ],
   "source": [
    "# apply function to plot the ROC Curve\n",
    "roc_curve(X_test=X_test, y_test=y_test, model=gnb1)"
   ]
  },
  {
   "cell_type": "markdown",
   "metadata": {},
   "source": [
    "<a id = \"80012\"> <h2> 1.2 Undersampling (NearMiss)  </h2> </a>\n",
    "We undersample the dataset, because the classes within our target variable 'Revenue' are imbalanced:\n",
    "* class 0: 84.53%\n",
    "* class 1: 15.47%\n",
    "\n",
    "Fore more information, click on detailed information from Prof. Jie Tao [link](https://github.com/DrJieTao/ba545-docs/blob/master/competition2/handling_imbalanced_data_part2.ipynb)"
   ]
  },
  {
   "cell_type": "code",
   "execution_count": 146,
   "metadata": {},
   "outputs": [
    {
     "name": "stdout",
     "output_type": "stream",
     "text": [
      "After Undersampling, the shape of train_X: (2680, 22)\n",
      "After Undersampling, the shape of train_y: (2680,) \n",
      "\n",
      "After Undersampling, counts of label '1': 1340\n",
      "After Undersampling, counts of label '0': 1340\n"
     ]
    },
    {
     "name": "stderr",
     "output_type": "stream",
     "text": [
      "/opt/tljh/user/lib/python3.6/site-packages/sklearn/utils/deprecation.py:87: FutureWarning: Function safe_indexing is deprecated; safe_indexing is deprecated in version 0.22 and will be removed in version 0.24.\n",
      "  warnings.warn(msg, category=FutureWarning)\n",
      "/opt/tljh/user/lib/python3.6/site-packages/sklearn/utils/deprecation.py:87: FutureWarning: Function safe_indexing is deprecated; safe_indexing is deprecated in version 0.22 and will be removed in version 0.24.\n",
      "  warnings.warn(msg, category=FutureWarning)\n",
      "/opt/tljh/user/lib/python3.6/site-packages/sklearn/utils/deprecation.py:87: FutureWarning: Function safe_indexing is deprecated; safe_indexing is deprecated in version 0.22 and will be removed in version 0.24.\n",
      "  warnings.warn(msg, category=FutureWarning)\n"
     ]
    }
   ],
   "source": [
    "# apply near miss \n",
    "nr = NearMiss(random_state=2019)\n",
    "  \n",
    "# resample the training dataset\n",
    "X_train_miss, y_train_miss = nr.fit_sample(X_train, y_train) \n",
    "  \n",
    "print('After Undersampling, the shape of train_X: {}'.format(X_train_miss.shape)) \n",
    "print('After Undersampling, the shape of train_y: {} \\n'.format(y_train_miss.shape)) \n",
    "  \n",
    "print(\"After Undersampling, counts of label '1': {}\".format(sum(y_train_miss == 1))) \n",
    "print(\"After Undersampling, counts of label '0': {}\".format(sum(y_train_miss == 0)))"
   ]
  },
  {
   "cell_type": "markdown",
   "metadata": {},
   "source": [
    "The NearMiss Algorithm has undersampled the instances in the majority class and made it equal to minority class:\n",
    "* Both classes (0 & 1) now have 1340 instances, the dataset is balanced.\n",
    "* Class 0 decreased from 7291 instances to 1340 instances, a decrease of 5951 instances of class 0."
   ]
  },
  {
   "cell_type": "code",
   "execution_count": 147,
   "metadata": {},
   "outputs": [
    {
     "name": "stdout",
     "output_type": "stream",
     "text": [
      "              precision    recall  f1-score   support\n",
      "\n",
      "           0       0.84      0.88      0.86      3131\n",
      "           1       0.07      0.05      0.06       568\n",
      "\n",
      "    accuracy                           0.75      3699\n",
      "   macro avg       0.45      0.47      0.46      3699\n",
      "weighted avg       0.72      0.75      0.73      3699\n",
      "\n"
     ]
    }
   ],
   "source": [
    "# train the model on train set \n",
    "gnb2 = GaussianNB()\n",
    "gnb2.fit(X_train_miss, y_train_miss) \n",
    "y_pred = gnb2.predict(X_test) \n",
    "\n",
    "# print classification report \n",
    "print(classification_report(y_test, y_pred))"
   ]
  },
  {
   "cell_type": "code",
   "execution_count": 148,
   "metadata": {},
   "outputs": [
    {
     "data": {
      "image/png": "[encoded data removed]",
      "text/plain": [
       "<Figure size 432x288 with 1 Axes>"
      ]
     },
     "metadata": {},
     "output_type": "display_data"
    },
    {
     "name": "stdout",
     "output_type": "stream",
     "text": [
      "AUC score: 0.48148315797049945\n"
     ]
    }
   ],
   "source": [
    "# apply function to plot the ROC Curve\n",
    "roc_curve(X_test=X_test, y_test=y_test, model=gnb2)"
   ]
  },
  {
   "cell_type": "markdown",
   "metadata": {},
   "source": [
    "## Cross Validation Using KFold </b>\n",
    "For more information on the topic, please click the following [link](https://stackabuse.com/cross-validation-and-grid-search-for-model-selection-in-python/).\n",
    "<br> The details of the package are noted [here](https://scikit-learn.org/stable/modules/generated/sklearn.model_selection.KFold.html)."
   ]
  },
  {
   "cell_type": "markdown",
   "metadata": {},
   "source": [
    "<a id = \"80013\"> <h2> 1.3 Cross Validation (Oversampling)  </h2> </a>"
   ]
  },
  {
   "cell_type": "markdown",
   "metadata": {},
   "source": [
    "We oversample X and Y with cross validation and NOT using the previously employed 1 hold-out method!"
   ]
  },
  {
   "cell_type": "code",
   "execution_count": 149,
   "metadata": {},
   "outputs": [
    {
     "name": "stdout",
     "output_type": "stream",
     "text": [
      "After OverSampling, the shape of X_res: (20844, 22)\n",
      "After OverSampling, the shape of y_res: (20844,) \n",
      "\n",
      "After OverSampling, counts of label '1': 10422\n",
      "After OverSampling, counts of label '0': 10422\n"
     ]
    },
    {
     "name": "stderr",
     "output_type": "stream",
     "text": [
      "/opt/tljh/user/lib/python3.6/site-packages/sklearn/utils/deprecation.py:87: FutureWarning: Function safe_indexing is deprecated; safe_indexing is deprecated in version 0.22 and will be removed in version 0.24.\n",
      "  warnings.warn(msg, category=FutureWarning)\n"
     ]
    }
   ],
   "source": [
    "sm = SMOTE(random_state = 2019) \n",
    "X_res, y_res = sm.fit_sample(X, Y) \n",
    "\n",
    "print('After OverSampling, the shape of X_res: {}'.format(X_res.shape)) \n",
    "print('After OverSampling, the shape of y_res: {} \\n'.format(y_res.shape)) \n",
    "  \n",
    "print(\"After OverSampling, counts of label '1': {}\".format(sum(y_res == 1))) \n",
    "print(\"After OverSampling, counts of label '0': {}\".format(sum(y_res == 0)))"
   ]
  },
  {
   "cell_type": "code",
   "execution_count": 150,
   "metadata": {},
   "outputs": [
    {
     "name": "stdout",
     "output_type": "stream",
     "text": [
      "--------------------------------------------------------------------------\n",
      "All the weighted f1 results:\n",
      "--------------------------------------------------------------------------\n",
      "[0.70011478 0.69149571 0.67908945 0.67209398 0.69453411 0.69221646\n",
      " 0.6377632  0.67846401 0.66345599 0.67769786] \n",
      "\n",
      "--------------------------------------------------------------------------\n",
      "Average of all the weighted f1 results:\n",
      "--------------------------------------------------------------------------\n",
      "0.6787 \n",
      "\n",
      "--------------------------------------------------------------------------\n",
      "All the AUC score results:\n",
      "--------------------------------------------------------------------------\n",
      "[0.85228354 0.85720609 0.85279273 0.84193451 0.8553716  0.85090056\n",
      " 0.84489718 0.83983154 0.83975818 0.84961085] \n",
      "\n",
      "--------------------------------------------------------------------------\n",
      "Average of all the AUC score results:\n",
      "--------------------------------------------------------------------------\n",
      "avg AUC score 0.848458677011903\n"
     ]
    }
   ],
   "source": [
    "# Build the k-fold cross-validator\n",
    "k_fold_split = 10\n",
    "kfold = KFold(n_splits=k_fold_split, random_state=2019, shuffle=True)\n",
    "\n",
    "result = cross_val_score(gnb1, X_res, y_res, cv=kfold, scoring='accuracy')\n",
    "result_f1_weighted = cross_val_score(gnb1, X_res, y_res, cv=kfold, scoring='f1_weighted')\n",
    "result_auc = cross_val_score(gnb1, X_res, y_res, cv=kfold, scoring='roc_auc')\n",
    "\n",
    "print('--------------------------------------------------------------------------')\n",
    "print('All the weighted f1 results:')\n",
    "print('--------------------------------------------------------------------------')\n",
    "print(result_f1_weighted, '\\n')\n",
    "\n",
    "print('--------------------------------------------------------------------------')\n",
    "print('Average of all the weighted f1 results:')\n",
    "print('--------------------------------------------------------------------------')\n",
    "print(round(result_f1_weighted.mean(), 4), '\\n')\n",
    "\n",
    "\n",
    "print('--------------------------------------------------------------------------')\n",
    "print('All the AUC score results:')\n",
    "print('--------------------------------------------------------------------------')\n",
    "print(result_auc, '\\n')\n",
    "\n",
    "print('--------------------------------------------------------------------------')\n",
    "print('Average of all the AUC score results:')\n",
    "print('--------------------------------------------------------------------------')\n",
    "print('avg AUC score', result_auc.mean())"
   ]
  },
  {
   "cell_type": "markdown",
   "metadata": {},
   "source": [
    "<b> ROC Curve Cross validation on oversampled dataset"
   ]
  },
  {
   "cell_type": "code",
   "execution_count": 151,
   "metadata": {},
   "outputs": [
    {
     "data": {
      "image/png": "[encoded data removed]",
      "text/plain": [
       "<Figure size 432x288 with 1 Axes>"
      ]
     },
     "metadata": {},
     "output_type": "display_data"
    },
    {
     "name": "stdout",
     "output_type": "stream",
     "text": [
      "AUC score: 0.8493714223498916\n"
     ]
    }
   ],
   "source": [
    "# roc curve with KFold\n",
    "roc_curve(X_test=X_res, y_test=y_res, model=gnb1)"
   ]
  },
  {
   "cell_type": "markdown",
   "metadata": {},
   "source": [
    "<a id = \"80014\"> <h2> 1.4 Cross Validation (Undersampling)  </h2> </a>"
   ]
  },
  {
   "cell_type": "code",
   "execution_count": 152,
   "metadata": {},
   "outputs": [
    {
     "name": "stderr",
     "output_type": "stream",
     "text": [
      "/opt/tljh/user/lib/python3.6/site-packages/sklearn/utils/deprecation.py:87: FutureWarning: Function safe_indexing is deprecated; safe_indexing is deprecated in version 0.22 and will be removed in version 0.24.\n",
      "  warnings.warn(msg, category=FutureWarning)\n",
      "/opt/tljh/user/lib/python3.6/site-packages/sklearn/utils/deprecation.py:87: FutureWarning: Function safe_indexing is deprecated; safe_indexing is deprecated in version 0.22 and will be removed in version 0.24.\n",
      "  warnings.warn(msg, category=FutureWarning)\n",
      "/opt/tljh/user/lib/python3.6/site-packages/sklearn/utils/deprecation.py:87: FutureWarning: Function safe_indexing is deprecated; safe_indexing is deprecated in version 0.22 and will be removed in version 0.24.\n",
      "  warnings.warn(msg, category=FutureWarning)\n"
     ]
    },
    {
     "name": "stdout",
     "output_type": "stream",
     "text": [
      "--------------------------------------------------------------------------\n",
      "All the accuracy results:\n",
      "--------------------------------------------------------------------------\n",
      "[0.53403141 0.54973822 0.53926702 0.5104712  0.53926702 0.58900524\n",
      " 0.50918635 0.54593176 0.56167979 0.56430446] \n",
      "\n",
      "--------------------------------------------------------------------------\n",
      "Average of all the accuracy results:\n",
      "--------------------------------------------------------------------------\n",
      "0.5443 \n",
      "\n",
      "--------------------------------------------------------------------------\n",
      "All the weighted f1 results:\n",
      "--------------------------------------------------------------------------\n",
      "[0.42175977 0.44433794 0.42280816 0.37775056 0.43134925 0.4884275\n",
      " 0.38767445 0.4248522  0.43853863 0.45512951] \n",
      "\n",
      "--------------------------------------------------------------------------\n",
      "Average of all the weighted f1 results:\n",
      "--------------------------------------------------------------------------\n",
      "0.4293 \n",
      "\n",
      "--------------------------------------------------------------------------\n",
      "All the AUC score results:\n",
      "--------------------------------------------------------------------------\n",
      "[0.78089903 0.83881624 0.85558023 0.84473814 0.82252139 0.79182858\n",
      " 0.81543698 0.87041171 0.8559116  0.82857143] \n",
      "\n",
      "--------------------------------------------------------------------------\n",
      "Average of all the AUC score results:\n",
      "--------------------------------------------------------------------------\n",
      "avg AUC score 0.8304715329232566\n"
     ]
    }
   ],
   "source": [
    "# apply near miss \n",
    "nr = NearMiss(random_state=2019)\n",
    "  \n",
    "# resample the training dataset\n",
    "X_miss, y_miss = nr.fit_sample(X, Y)\n",
    "\n",
    "# Build the k-fold cross-validator\n",
    "k_fold_split = 10\n",
    "kfold = KFold(n_splits=k_fold_split, random_state=2019, shuffle=True)\n",
    "\n",
    "result = cross_val_score(gnb2, X_miss, y_miss, cv=kfold, scoring='accuracy')\n",
    "result_f1_weighted = cross_val_score(gnb2, X_miss, y_miss, cv=kfold, scoring='f1_weighted')\n",
    "result_auc = cross_val_score(gnb2, X_miss, y_miss, cv=kfold, scoring='roc_auc')\n",
    "print('--------------------------------------------------------------------------')\n",
    "print('All the accuracy results:')\n",
    "print('--------------------------------------------------------------------------')\n",
    "print(result, '\\n')\n",
    "\n",
    "print('--------------------------------------------------------------------------')\n",
    "print('Average of all the accuracy results:')\n",
    "print('--------------------------------------------------------------------------')\n",
    "print(round(result.mean(), 4), '\\n')\n",
    "\n",
    "print('--------------------------------------------------------------------------')\n",
    "print('All the weighted f1 results:')\n",
    "print('--------------------------------------------------------------------------')\n",
    "print(result_f1_weighted, '\\n')\n",
    "\n",
    "print('--------------------------------------------------------------------------')\n",
    "print('Average of all the weighted f1 results:')\n",
    "print('--------------------------------------------------------------------------')\n",
    "print(round(result_f1_weighted.mean(), 4), '\\n')\n",
    "\n",
    "print('--------------------------------------------------------------------------')\n",
    "print('All the AUC score results:')\n",
    "print('--------------------------------------------------------------------------')\n",
    "print(result_auc, '\\n')\n",
    "\n",
    "print('--------------------------------------------------------------------------')\n",
    "print('Average of all the AUC score results:')\n",
    "print('--------------------------------------------------------------------------')\n",
    "print('avg AUC score', result_auc.mean())"
   ]
  },
  {
   "cell_type": "code",
   "execution_count": 153,
   "metadata": {},
   "outputs": [
    {
     "data": {
      "image/png": "[encoded data removed]",
      "text/plain": [
       "<Figure size 432x288 with 1 Axes>"
      ]
     },
     "metadata": {},
     "output_type": "display_data"
    },
    {
     "name": "stdout",
     "output_type": "stream",
     "text": [
      "AUC score: 0.808836318667071\n"
     ]
    }
   ],
   "source": [
    "# roc curve with KFold\n",
    "roc_curve(X_test=X_miss, y_test=y_miss, model=gnb2)"
   ]
  },
  {
   "cell_type": "markdown",
   "metadata": {},
   "source": [
    "<b> Cross validation on X and Y"
   ]
  },
  {
   "cell_type": "code",
   "execution_count": 155,
   "metadata": {},
   "outputs": [
    {
     "name": "stdout",
     "output_type": "stream",
     "text": [
      "--------------------------------------------------------------------------\n",
      "Average of all the accuracy results:\n",
      "--------------------------------------------------------------------------\n",
      "0.7001 \n",
      "\n",
      "--------------------------------------------------------------------------\n",
      "Average of all the weighted f1 results:\n",
      "--------------------------------------------------------------------------\n",
      "0.7269 \n",
      "\n",
      "--------------------------------------------------------------------------\n",
      "Average of all the AUC score results:\n",
      "--------------------------------------------------------------------------\n",
      "0.8409\n"
     ]
    }
   ],
   "source": [
    "# Build the k-fold cross-validator\n",
    "k_fold_split = 10\n",
    "kfold = KFold(n_splits=k_fold_split, random_state=2019, shuffle=True)\n",
    "\n",
    "result_accuracy = cross_val_score(gnb1, X, Y, cv=kfold, scoring='accuracy')\n",
    "result_f1_weighted = cross_val_score(gnb1, X, Y, cv=kfold, scoring='f1_weighted')\n",
    "result_auc = cross_val_score(gnb1, X, Y, cv=kfold, scoring='roc_auc')\n",
    "print('--------------------------------------------------------------------------')\n",
    "print('Average of all the accuracy results:')\n",
    "print('--------------------------------------------------------------------------')\n",
    "print(round(result_accuracy.mean(), 4), '\\n')\n",
    "\n",
    "print('--------------------------------------------------------------------------')\n",
    "print('Average of all the weighted f1 results:')\n",
    "print('--------------------------------------------------------------------------')\n",
    "print(round(result_f1_weighted.mean(), 4), '\\n')\n",
    "\n",
    "print('--------------------------------------------------------------------------')\n",
    "print('Average of all the AUC score results:')\n",
    "print('--------------------------------------------------------------------------')\n",
    "print(round(result_auc.mean(), 4))"
   ]
  },
  {
   "cell_type": "markdown",
   "metadata": {},
   "source": [
    "<a id = \"80015\"> <h2> 1.5 Feature Importance </h2> </a>"
   ]
  },
  {
   "cell_type": "markdown",
   "metadata": {},
   "source": [
    "For Feature Importance we consider the oversampled trained/fitted model (named: 'gnb1') which has better results."
   ]
  },
  {
   "cell_type": "code",
   "execution_count": 156,
   "metadata": {},
   "outputs": [
    {
     "data": {
      "text/html": [
       "<div>\n",
       "<style scoped>\n",
       "    .dataframe tbody tr th:only-of-type {\n",
       "        vertical-align: middle;\n",
       "    }\n",
       "\n",
       "    .dataframe tbody tr th {\n",
       "        vertical-align: top;\n",
       "    }\n",
       "\n",
       "    .dataframe thead th {\n",
       "        text-align: right;\n",
       "    }\n",
       "</style>\n",
       "<table border=\"1\" class=\"dataframe\">\n",
       "  <thead>\n",
       "    <tr style=\"text-align: right;\">\n",
       "      <th></th>\n",
       "      <th>Feature</th>\n",
       "      <th>Variance Class 0</th>\n",
       "      <th>Mean Class 0</th>\n",
       "    </tr>\n",
       "  </thead>\n",
       "  <tbody>\n",
       "    <tr>\n",
       "      <th>0</th>\n",
       "      <td>ExitRates_iqr_yj_zscore</td>\n",
       "      <td>1.02</td>\n",
       "      <td>0.110567</td>\n",
       "    </tr>\n",
       "    <tr>\n",
       "      <th>1</th>\n",
       "      <td>Administrative_Duration_iqr_yj_zscore</td>\n",
       "      <td>0.98</td>\n",
       "      <td>-0.079885</td>\n",
       "    </tr>\n",
       "    <tr>\n",
       "      <th>2</th>\n",
       "      <td>Informational_Duration_pp_iqr_yj_zscore</td>\n",
       "      <td>0.92</td>\n",
       "      <td>-0.050411</td>\n",
       "    </tr>\n",
       "    <tr>\n",
       "      <th>3</th>\n",
       "      <td>PageValues_iqr_yj_zscore</td>\n",
       "      <td>0.56</td>\n",
       "      <td>-0.265990</td>\n",
       "    </tr>\n",
       "    <tr>\n",
       "      <th>4</th>\n",
       "      <td>Q4</td>\n",
       "      <td>0.24</td>\n",
       "      <td>0.400905</td>\n",
       "    </tr>\n",
       "    <tr>\n",
       "      <th>5</th>\n",
       "      <td>TrafficType_2</td>\n",
       "      <td>0.21</td>\n",
       "      <td>0.293924</td>\n",
       "    </tr>\n",
       "    <tr>\n",
       "      <th>6</th>\n",
       "      <td>OperatingSystems_3</td>\n",
       "      <td>0.17</td>\n",
       "      <td>0.214785</td>\n",
       "    </tr>\n",
       "    <tr>\n",
       "      <th>7</th>\n",
       "      <td>TrafficType_1</td>\n",
       "      <td>0.17</td>\n",
       "      <td>0.209436</td>\n",
       "    </tr>\n",
       "    <tr>\n",
       "      <th>8</th>\n",
       "      <td>TrafficType_3</td>\n",
       "      <td>0.15</td>\n",
       "      <td>0.179399</td>\n",
       "    </tr>\n",
       "    <tr>\n",
       "      <th>9</th>\n",
       "      <td>Q1</td>\n",
       "      <td>0.15</td>\n",
       "      <td>0.180771</td>\n",
       "    </tr>\n",
       "    <tr>\n",
       "      <th>10</th>\n",
       "      <td>VisitorType_New_Visitor</td>\n",
       "      <td>0.11</td>\n",
       "      <td>0.120697</td>\n",
       "    </tr>\n",
       "    <tr>\n",
       "      <th>11</th>\n",
       "      <td>Q3</td>\n",
       "      <td>0.09</td>\n",
       "      <td>0.102044</td>\n",
       "    </tr>\n",
       "    <tr>\n",
       "      <th>12</th>\n",
       "      <td>TrafficType_13</td>\n",
       "      <td>0.06</td>\n",
       "      <td>0.066932</td>\n",
       "    </tr>\n",
       "    <tr>\n",
       "      <th>13</th>\n",
       "      <td>SpecialDay_0.8</td>\n",
       "      <td>0.03</td>\n",
       "      <td>0.031957</td>\n",
       "    </tr>\n",
       "    <tr>\n",
       "      <th>14</th>\n",
       "      <td>Month_Feb</td>\n",
       "      <td>0.02</td>\n",
       "      <td>0.016184</td>\n",
       "    </tr>\n",
       "    <tr>\n",
       "      <th>15</th>\n",
       "      <td>SpecialDay_0.4</td>\n",
       "      <td>0.02</td>\n",
       "      <td>0.021945</td>\n",
       "    </tr>\n",
       "    <tr>\n",
       "      <th>16</th>\n",
       "      <td>TrafficType_8</td>\n",
       "      <td>0.02</td>\n",
       "      <td>0.024277</td>\n",
       "    </tr>\n",
       "    <tr>\n",
       "      <th>17</th>\n",
       "      <td>Browser_6</td>\n",
       "      <td>0.01</td>\n",
       "      <td>0.015087</td>\n",
       "    </tr>\n",
       "    <tr>\n",
       "      <th>18</th>\n",
       "      <td>TrafficType_20</td>\n",
       "      <td>0.01</td>\n",
       "      <td>0.014538</td>\n",
       "    </tr>\n",
       "    <tr>\n",
       "      <th>19</th>\n",
       "      <td>Browser_12</td>\n",
       "      <td>0.00</td>\n",
       "      <td>0.000549</td>\n",
       "    </tr>\n",
       "    <tr>\n",
       "      <th>20</th>\n",
       "      <td>OperatingSystems_7</td>\n",
       "      <td>0.00</td>\n",
       "      <td>0.000686</td>\n",
       "    </tr>\n",
       "    <tr>\n",
       "      <th>21</th>\n",
       "      <td>TrafficType_16</td>\n",
       "      <td>0.00</td>\n",
       "      <td>0.000000</td>\n",
       "    </tr>\n",
       "  </tbody>\n",
       "</table>\n",
       "</div>"
      ],
      "text/plain": [
       "                                    Feature  Variance Class 0  Mean Class 0\n",
       "0                   ExitRates_iqr_yj_zscore              1.02      0.110567\n",
       "1     Administrative_Duration_iqr_yj_zscore              0.98     -0.079885\n",
       "2   Informational_Duration_pp_iqr_yj_zscore              0.92     -0.050411\n",
       "3                  PageValues_iqr_yj_zscore              0.56     -0.265990\n",
       "4                                        Q4              0.24      0.400905\n",
       "5                             TrafficType_2              0.21      0.293924\n",
       "6                        OperatingSystems_3              0.17      0.214785\n",
       "7                             TrafficType_1              0.17      0.209436\n",
       "8                             TrafficType_3              0.15      0.179399\n",
       "9                                        Q1              0.15      0.180771\n",
       "10                  VisitorType_New_Visitor              0.11      0.120697\n",
       "11                                       Q3              0.09      0.102044\n",
       "12                           TrafficType_13              0.06      0.066932\n",
       "13                           SpecialDay_0.8              0.03      0.031957\n",
       "14                                Month_Feb              0.02      0.016184\n",
       "15                           SpecialDay_0.4              0.02      0.021945\n",
       "16                            TrafficType_8              0.02      0.024277\n",
       "17                                Browser_6              0.01      0.015087\n",
       "18                           TrafficType_20              0.01      0.014538\n",
       "19                               Browser_12              0.00      0.000549\n",
       "20                       OperatingSystems_7              0.00      0.000686\n",
       "21                           TrafficType_16              0.00      0.000000"
      ]
     },
     "execution_count": 156,
     "metadata": {},
     "output_type": "execute_result"
    }
   ],
   "source": [
    "# class 0 variance\n",
    "gnb1.sigma_[0]\n",
    "# class 1 variance\n",
    "gnb1.sigma_[1]\n",
    "\n",
    "# mean of each feature per class\n",
    "# array, shape (n_classes, n_features)\n",
    "# class 0 mean\n",
    "gnb1.theta_[0]\n",
    "# class 1 mean\n",
    "gnb1.theta_[1]\n",
    "\n",
    "lst_variance_class_0 = []\n",
    "lst_mean_class_0 = []\n",
    "lst_features = []\n",
    "\n",
    "for i in gnb1.sigma_[0]:\n",
    "    lst_variance_class_0.append((i).round(2))\n",
    "for j in list(X.columns):\n",
    "        lst_features.append(j)\n",
    "for k in gnb1.theta_[0]:\n",
    "    lst_mean_class_0.append(k)\n",
    "        \n",
    "# combine the 2 lists of class 0 and feature names into a dataframe\n",
    "dict_lists = {\"Feature\": lst_features, \"Variance Class 0\": lst_variance_class_0,  \"Mean Class 0\":lst_mean_class_0}\n",
    "df_class_0 = pd.DataFrame(dict_lists)\n",
    "# sort descending and reset index\n",
    "df_class_0.sort_values(by=['Variance Class 0'],  ascending=False, inplace=True)\n",
    "df_class_0.reset_index(inplace=True, drop=True)\n",
    "df_class_0"
   ]
  },
  {
   "cell_type": "code",
   "execution_count": 157,
   "metadata": {},
   "outputs": [
    {
     "data": {
      "text/html": [
       "<div>\n",
       "<style scoped>\n",
       "    .dataframe tbody tr th:only-of-type {\n",
       "        vertical-align: middle;\n",
       "    }\n",
       "\n",
       "    .dataframe tbody tr th {\n",
       "        vertical-align: top;\n",
       "    }\n",
       "\n",
       "    .dataframe thead th {\n",
       "        text-align: right;\n",
       "    }\n",
       "</style>\n",
       "<table border=\"1\" class=\"dataframe\">\n",
       "  <thead>\n",
       "    <tr style=\"text-align: right;\">\n",
       "      <th></th>\n",
       "      <th>Feature</th>\n",
       "      <th>Variance Class 1</th>\n",
       "      <th>Mean Class 1</th>\n",
       "    </tr>\n",
       "  </thead>\n",
       "  <tbody>\n",
       "    <tr>\n",
       "      <th>0</th>\n",
       "      <td>Informational_Duration_pp_iqr_yj_zscore</td>\n",
       "      <td>1.33</td>\n",
       "      <td>0.256528</td>\n",
       "    </tr>\n",
       "    <tr>\n",
       "      <th>1</th>\n",
       "      <td>PageValues_iqr_yj_zscore</td>\n",
       "      <td>0.92</td>\n",
       "      <td>1.463112</td>\n",
       "    </tr>\n",
       "    <tr>\n",
       "      <th>2</th>\n",
       "      <td>Administrative_Duration_iqr_yj_zscore</td>\n",
       "      <td>0.88</td>\n",
       "      <td>0.375475</td>\n",
       "    </tr>\n",
       "    <tr>\n",
       "      <th>3</th>\n",
       "      <td>ExitRates_iqr_yj_zscore</td>\n",
       "      <td>0.45</td>\n",
       "      <td>-0.600416</td>\n",
       "    </tr>\n",
       "    <tr>\n",
       "      <th>4</th>\n",
       "      <td>Q4</td>\n",
       "      <td>0.24</td>\n",
       "      <td>0.564058</td>\n",
       "    </tr>\n",
       "    <tr>\n",
       "      <th>5</th>\n",
       "      <td>TrafficType_2</td>\n",
       "      <td>0.24</td>\n",
       "      <td>0.444866</td>\n",
       "    </tr>\n",
       "    <tr>\n",
       "      <th>6</th>\n",
       "      <td>VisitorType_New_Visitor</td>\n",
       "      <td>0.16</td>\n",
       "      <td>0.208729</td>\n",
       "    </tr>\n",
       "    <tr>\n",
       "      <th>7</th>\n",
       "      <td>TrafficType_1</td>\n",
       "      <td>0.11</td>\n",
       "      <td>0.134020</td>\n",
       "    </tr>\n",
       "    <tr>\n",
       "      <th>8</th>\n",
       "      <td>Q3</td>\n",
       "      <td>0.10</td>\n",
       "      <td>0.113561</td>\n",
       "    </tr>\n",
       "    <tr>\n",
       "      <th>9</th>\n",
       "      <td>Q1</td>\n",
       "      <td>0.09</td>\n",
       "      <td>0.098447</td>\n",
       "    </tr>\n",
       "    <tr>\n",
       "      <th>10</th>\n",
       "      <td>OperatingSystems_3</td>\n",
       "      <td>0.08</td>\n",
       "      <td>0.104040</td>\n",
       "    </tr>\n",
       "    <tr>\n",
       "      <th>11</th>\n",
       "      <td>TrafficType_3</td>\n",
       "      <td>0.07</td>\n",
       "      <td>0.078383</td>\n",
       "    </tr>\n",
       "    <tr>\n",
       "      <th>12</th>\n",
       "      <td>TrafficType_8</td>\n",
       "      <td>0.04</td>\n",
       "      <td>0.044019</td>\n",
       "    </tr>\n",
       "    <tr>\n",
       "      <th>13</th>\n",
       "      <td>TrafficType_13</td>\n",
       "      <td>0.02</td>\n",
       "      <td>0.018399</td>\n",
       "    </tr>\n",
       "    <tr>\n",
       "      <th>14</th>\n",
       "      <td>TrafficType_20</td>\n",
       "      <td>0.02</td>\n",
       "      <td>0.026598</td>\n",
       "    </tr>\n",
       "    <tr>\n",
       "      <th>15</th>\n",
       "      <td>Browser_6</td>\n",
       "      <td>0.01</td>\n",
       "      <td>0.006778</td>\n",
       "    </tr>\n",
       "    <tr>\n",
       "      <th>16</th>\n",
       "      <td>OperatingSystems_7</td>\n",
       "      <td>0.00</td>\n",
       "      <td>0.000618</td>\n",
       "    </tr>\n",
       "    <tr>\n",
       "      <th>17</th>\n",
       "      <td>Browser_12</td>\n",
       "      <td>0.00</td>\n",
       "      <td>0.001323</td>\n",
       "    </tr>\n",
       "    <tr>\n",
       "      <th>18</th>\n",
       "      <td>SpecialDay_0.8</td>\n",
       "      <td>0.00</td>\n",
       "      <td>0.004780</td>\n",
       "    </tr>\n",
       "    <tr>\n",
       "      <th>19</th>\n",
       "      <td>SpecialDay_0.4</td>\n",
       "      <td>0.00</td>\n",
       "      <td>0.004486</td>\n",
       "    </tr>\n",
       "    <tr>\n",
       "      <th>20</th>\n",
       "      <td>Month_Feb</td>\n",
       "      <td>0.00</td>\n",
       "      <td>0.000609</td>\n",
       "    </tr>\n",
       "    <tr>\n",
       "      <th>21</th>\n",
       "      <td>TrafficType_16</td>\n",
       "      <td>0.00</td>\n",
       "      <td>0.000000</td>\n",
       "    </tr>\n",
       "  </tbody>\n",
       "</table>\n",
       "</div>"
      ],
      "text/plain": [
       "                                    Feature  Variance Class 1  Mean Class 1\n",
       "0   Informational_Duration_pp_iqr_yj_zscore              1.33      0.256528\n",
       "1                  PageValues_iqr_yj_zscore              0.92      1.463112\n",
       "2     Administrative_Duration_iqr_yj_zscore              0.88      0.375475\n",
       "3                   ExitRates_iqr_yj_zscore              0.45     -0.600416\n",
       "4                                        Q4              0.24      0.564058\n",
       "5                             TrafficType_2              0.24      0.444866\n",
       "6                   VisitorType_New_Visitor              0.16      0.208729\n",
       "7                             TrafficType_1              0.11      0.134020\n",
       "8                                        Q3              0.10      0.113561\n",
       "9                                        Q1              0.09      0.098447\n",
       "10                       OperatingSystems_3              0.08      0.104040\n",
       "11                            TrafficType_3              0.07      0.078383\n",
       "12                            TrafficType_8              0.04      0.044019\n",
       "13                           TrafficType_13              0.02      0.018399\n",
       "14                           TrafficType_20              0.02      0.026598\n",
       "15                                Browser_6              0.01      0.006778\n",
       "16                       OperatingSystems_7              0.00      0.000618\n",
       "17                               Browser_12              0.00      0.001323\n",
       "18                           SpecialDay_0.8              0.00      0.004780\n",
       "19                           SpecialDay_0.4              0.00      0.004486\n",
       "20                                Month_Feb              0.00      0.000609\n",
       "21                           TrafficType_16              0.00      0.000000"
      ]
     },
     "execution_count": 157,
     "metadata": {},
     "output_type": "execute_result"
    }
   ],
   "source": [
    "lst_variance_class_1 = []\n",
    "lst_mean_class_1 = []\n",
    "lst_features = []\n",
    "\n",
    "for i in gnb1.sigma_[1]:\n",
    "    lst_variance_class_1.append((i).round(2))\n",
    "for j in list(X.columns):\n",
    "        lst_features.append(j)\n",
    "for k in gnb1.theta_[1]:\n",
    "    lst_mean_class_1.append(k)\n",
    "        \n",
    "# combine the 2 lists of class 0 and feature names into a dataframe\n",
    "dict_lists = {\"Feature\": lst_features, \"Variance Class 1\": lst_variance_class_1,  \"Mean Class 1\":lst_mean_class_1}\n",
    "df_class_1 = pd.DataFrame(dict_lists)\n",
    "# sort descending and reset index\n",
    "df_class_1.sort_values(by=['Variance Class 1'],  ascending=False, inplace=True)\n",
    "df_class_1.reset_index(inplace=True, drop=True)\n",
    "df_class_1"
   ]
  },
  {
   "cell_type": "markdown",
   "metadata": {},
   "source": [
    "<a id = \"801\"> <h2> Pipeline 2 </h2> </a>\n",
    "___"
   ]
  },
  {
   "cell_type": "markdown",
   "metadata": {},
   "source": [
    "<b> read csv file to a pandas dataframe"
   ]
  },
  {
   "cell_type": "code",
   "execution_count": 158,
   "metadata": {},
   "outputs": [],
   "source": [
    "df_pipeline2 = pd.read_csv(\"pipeline_2.csv\")"
   ]
  },
  {
   "cell_type": "markdown",
   "metadata": {},
   "source": [
    "<b> show all columns in dataset"
   ]
  },
  {
   "cell_type": "code",
   "execution_count": 159,
   "metadata": {},
   "outputs": [
    {
     "name": "stdout",
     "output_type": "stream",
     "text": [
      "There are 21 features, and the target `Revenue` for pipeline 2:\n"
     ]
    },
    {
     "data": {
      "text/plain": [
       "['TrafficType_15',\n",
       " 'Month_Nov',\n",
       " 'Administrative_Duration_mm_yj_stdev',\n",
       " 'VisitorType_New_Visitor',\n",
       " 'Informational_mm_yj_stdev',\n",
       " 'TrafficType_2',\n",
       " 'TrafficType_3',\n",
       " 'ProductRelated_mm_yj_stdev',\n",
       " 'PageValues_mm_yj_stdev',\n",
       " 'Month_May',\n",
       " 'TrafficType_13',\n",
       " 'OperatingSystems_3',\n",
       " 'TrafficType_1',\n",
       " 'add_exit_bounce_rates_mm_yj_stdev',\n",
       " 'Month_Mar',\n",
       " 'TrafficType_18',\n",
       " 'TrafficType_8',\n",
       " 'SpecialDay_0.8',\n",
       " 'Month_Feb',\n",
       " 'TrafficType_12',\n",
       " 'Browser_12',\n",
       " 'Revenue']"
      ]
     },
     "execution_count": 159,
     "metadata": {},
     "output_type": "execute_result"
    }
   ],
   "source": [
    "print('There are', len(df_pipeline2.columns)-1, 'features, and the target `Revenue` for pipeline 2:')\n",
    "list(df_pipeline2.columns)"
   ]
  },
  {
   "cell_type": "code",
   "execution_count": 160,
   "metadata": {},
   "outputs": [
    {
     "name": "stdout",
     "output_type": "stream",
     "text": [
      "Number of rows in the dataset: 12330\n",
      "Number of columns in the dataset: 22\n"
     ]
    }
   ],
   "source": [
    "print('Number of rows in the dataset:', df_pipeline2.shape[0])\n",
    "print('Number of columns in the dataset:', df_pipeline2.shape[1])"
   ]
  },
  {
   "cell_type": "markdown",
   "metadata": {},
   "source": [
    "<a id = \"80020\"> <h2> 2.0 Basic Model Naive Bayes </h2> </a>"
   ]
  },
  {
   "cell_type": "markdown",
   "metadata": {},
   "source": [
    "<b> Define Features and Target variables"
   ]
  },
  {
   "cell_type": "code",
   "execution_count": 161,
   "metadata": {},
   "outputs": [],
   "source": [
    "X = df_pipeline2.iloc[:, :-1] # Features is all columns in the dataframe except the last column\n",
    "Y = df_pipeline2.iloc[:, -1] # Target is the last column in the dataframe: 'Revenue'"
   ]
  },
  {
   "cell_type": "code",
   "execution_count": 162,
   "metadata": {},
   "outputs": [
    {
     "name": "stdout",
     "output_type": "stream",
     "text": [
      "Before OverSampling, the shape of train_X: (8631, 21)\n",
      "Before OverSampling, counts of label '1' in y_train: 1340\n",
      "Before OverSampling, counts of label '0' in y_train: 7291\n",
      "\n",
      "\n",
      "              precision    recall  f1-score   support\n",
      "\n",
      "           0       0.98      0.06      0.11      3131\n",
      "           1       0.16      0.99      0.28       568\n",
      "\n",
      "    accuracy                           0.20      3699\n",
      "   macro avg       0.57      0.53      0.19      3699\n",
      "weighted avg       0.85      0.20      0.13      3699\n",
      "\n"
     ]
    }
   ],
   "source": [
    "# Split dataset into training set and test set \n",
    "# 70% training and 30% test\n",
    "X_train, X_test, y_train, y_test = train_test_split(X, Y, test_size=0.3,random_state=2019) \n",
    "\n",
    "# Create a Gaussian Classifier\n",
    "gnb = GaussianNB()\n",
    "\n",
    "# Train the model using the training sets\n",
    "gnb.fit(X_train, y_train)\n",
    "\n",
    "print('Before OverSampling, the shape of train_X: {}'.format(X_train.shape))  \n",
    "print(\"Before OverSampling, counts of label '1' in y_train: {}\".format(sum(y_train == 1))) \n",
    "print(\"Before OverSampling, counts of label '0' in y_train: {}\".format(sum(y_train == 0)))\n",
    "print('\\n')\n",
    "\n",
    "# given a trained model, predict the label of a new set of data.\n",
    "y_pred = gnb.predict(X_test)\n",
    "\n",
    "# print classification report \n",
    "print(classification_report(y_test, y_pred))"
   ]
  },
  {
   "cell_type": "markdown",
   "metadata": {},
   "source": [
    "<b> ROC Curve with AUC score - Basic model </b> (before oversampling/undersampling)"
   ]
  },
  {
   "cell_type": "code",
   "execution_count": 163,
   "metadata": {},
   "outputs": [],
   "source": [
    "# define a function to plot the roc_curve and AUC score using variables: X_test and y_test\n",
    "def roc_curve(X_test=X_test, y_test=y_test, model=gnb):\n",
    "    # set the style of the graph\n",
    "    plt.style.use('Solarize_Light2')\n",
    "\n",
    "    # predict_proba gives you the probabilities for the target (0 and 1 in your case) in array form in dimension (N,2). \n",
    "    # The first index refers to the probability that the data belong to class 0, and the second refers to the probability that the data belong to class 1. \n",
    "    # we define a variable with an array of the probabilities that each observation belongs to class 1 (with [:,1], where model.predict_proba(X_test)[:,0] refers to the array it belongs to class 0)\n",
    "    y_pred_proba = model.predict_proba(X_test)[:,1]\n",
    "\n",
    "    # define false positive rate (fpr) and the true positive rate (tpr)\n",
    "    fpr, tpr, _ = metrics.roc_curve(y_test,  y_pred_proba)\n",
    "\n",
    "    # Compute Area Under the Receiver Operating Characteristic Curve (ROC AUC) from prediction scores.\n",
    "    # source: https://scikit-learn.org/stable/modules/generated/sklearn.metrics.roc_auc_score.html\n",
    "    auc = metrics.roc_auc_score(y_test, y_pred_proba)\n",
    "\n",
    "    # plot on the X-axis: the false positive rate\n",
    "    # plot on the Y-axis: the true positive rate\n",
    "    # with the legend having the auc score\n",
    "    plt.plot(fpr,tpr,label='AUC = %0.2f' % auc)\n",
    "    # positioning of the legend\n",
    "    plt.legend(loc=4)\n",
    "    # define the title of the plot\n",
    "    plt.title('Receiver Operating Characteristic (ROC)')\n",
    "    # define the y axis label\n",
    "    plt.ylabel('True Positive Rate')\n",
    "    # define the x axis label\n",
    "    plt.xlabel('False Positive Rate')\n",
    "    # plot a straight dashed line in the color red\n",
    "    plt.plot([0, 1], [0, 1],'r--')\n",
    "    # show the plot\n",
    "    plt.show()\n",
    "    # print out full AUC score\n",
    "    print('AUC score:', auc)"
   ]
  },
  {
   "cell_type": "code",
   "execution_count": 164,
   "metadata": {},
   "outputs": [
    {
     "data": {
      "image/png": "[encoded data removed]",
      "text/plain": [
       "<Figure size 432x288 with 1 Axes>"
      ]
     },
     "metadata": {},
     "output_type": "display_data"
    },
    {
     "name": "stdout",
     "output_type": "stream",
     "text": [
      "AUC score: 0.8616388927625157\n"
     ]
    }
   ],
   "source": [
    "# apply function to plot the ROC Curve\n",
    "roc_curve(X_test=X_test, y_test=y_test, model=gnb)"
   ]
  },
  {
   "cell_type": "markdown",
   "metadata": {},
   "source": [
    "<a id = \"80021\"> <h2> 2.1 Oversampling (SMOTE) </h2> </a>\n",
    "We oversample the <b> training </b> dataset, because the classes within our target variable 'Revenue' are imbalanced:\n",
    "* class 0: 84.53%\n",
    "* class 1: 15.47%\n",
    "\n",
    "Fore more information, click on detailed information from Prof. Jie Tao [link](https://github.com/DrJieTao/ba545-docs/blob/master/competition2/handling_imbalanced_data_part2.ipynb)"
   ]
  },
  {
   "cell_type": "code",
   "execution_count": 165,
   "metadata": {},
   "outputs": [
    {
     "name": "stdout",
     "output_type": "stream",
     "text": [
      "After OverSampling, the shape of train_X: (14582, 21)\n",
      "After OverSampling, the shape of train_y: (14582,) \n",
      "\n",
      "After OverSampling, counts of label '1': 7291\n",
      "After OverSampling, counts of label '0': 7291\n"
     ]
    },
    {
     "name": "stderr",
     "output_type": "stream",
     "text": [
      "/opt/tljh/user/lib/python3.6/site-packages/sklearn/utils/deprecation.py:87: FutureWarning: Function safe_indexing is deprecated; safe_indexing is deprecated in version 0.22 and will be removed in version 0.24.\n",
      "  warnings.warn(msg, category=FutureWarning)\n"
     ]
    }
   ],
   "source": [
    "# Split dataset into training set and test set \n",
    "# 70% training and 30% test\n",
    "X_train, X_test, y_train, y_test = train_test_split(X, Y, test_size=0.3,random_state=2019) \n",
    "\n",
    "sm = SMOTE(random_state = 2019) \n",
    "X_train_res, y_train_res = sm.fit_sample(X_train, y_train) \n",
    "\n",
    "print('After OverSampling, the shape of train_X: {}'.format(X_train_res.shape)) \n",
    "print('After OverSampling, the shape of train_y: {} \\n'.format(y_train_res.shape)) \n",
    "  \n",
    "print(\"After OverSampling, counts of label '1': {}\".format(sum(y_train_res == 1))) \n",
    "print(\"After OverSampling, counts of label '0': {}\".format(sum(y_train_res == 0)))"
   ]
  },
  {
   "cell_type": "markdown",
   "metadata": {},
   "source": [
    "The SMOTE Algorithm has oversampled the instances in the minority class and made it equal to majority class:\n",
    "* Both classes (0 & 1) now have 7291 instances, the <b> training </b> dataset is balanced.\n",
    "* Class 1 increased from 1340 instances to 7291 instances, an increase of 5951 instances of class 1."
   ]
  },
  {
   "cell_type": "code",
   "execution_count": 166,
   "metadata": {},
   "outputs": [
    {
     "name": "stdout",
     "output_type": "stream",
     "text": [
      "              precision    recall  f1-score   support\n",
      "\n",
      "           0       0.98      0.05      0.10      3131\n",
      "           1       0.16      0.99      0.28       568\n",
      "\n",
      "    accuracy                           0.20      3699\n",
      "   macro avg       0.57      0.52      0.19      3699\n",
      "weighted avg       0.85      0.20      0.13      3699\n",
      "\n"
     ]
    }
   ],
   "source": [
    "# define the model\n",
    "gnb1 = GaussianNB()\n",
    "\n",
    "# train the model\n",
    "gnb1.fit(X_train_res, y_train_res)\n",
    "\n",
    "# given a trained model, predict the label of a new set of data. \n",
    "y_pred = gnb1.predict(X_test) \n",
    "  \n",
    "# print classification report \n",
    "print(classification_report(y_test, y_pred))"
   ]
  },
  {
   "cell_type": "code",
   "execution_count": 167,
   "metadata": {},
   "outputs": [
    {
     "data": {
      "image/png": "[encoded data removed]",
      "text/plain": [
       "<Figure size 432x288 with 1 Axes>"
      ]
     },
     "metadata": {},
     "output_type": "display_data"
    },
    {
     "name": "stdout",
     "output_type": "stream",
     "text": [
      "AUC score: 0.8614626115042218\n"
     ]
    }
   ],
   "source": [
    "# apply function to plot the ROC Curve\n",
    "roc_curve(X_test=X_test, y_test=y_test, model=gnb1)"
   ]
  },
  {
   "cell_type": "markdown",
   "metadata": {},
   "source": [
    "<a id = \"80022\"> <h2> 2.2 Undersampling (NearMiss)  </h2> </a>\n",
    "We undersample the dataset, because the classes within our target variable 'Revenue' are imbalanced:\n",
    "* class 0: 84.53%\n",
    "* class 1: 15.47%\n",
    "\n",
    "Fore more information, click on detailed information from Prof. Jie Tao [link](https://github.com/DrJieTao/ba545-docs/blob/master/competition2/handling_imbalanced_data_part2.ipynb)"
   ]
  },
  {
   "cell_type": "code",
   "execution_count": 168,
   "metadata": {},
   "outputs": [
    {
     "name": "stdout",
     "output_type": "stream",
     "text": [
      "After Undersampling, the shape of train_X: (2680, 21)\n",
      "After Undersampling, the shape of train_y: (2680,) \n",
      "\n",
      "After Undersampling, counts of label '1': 1340\n",
      "After Undersampling, counts of label '0': 1340\n"
     ]
    },
    {
     "name": "stderr",
     "output_type": "stream",
     "text": [
      "/opt/tljh/user/lib/python3.6/site-packages/sklearn/utils/deprecation.py:87: FutureWarning: Function safe_indexing is deprecated; safe_indexing is deprecated in version 0.22 and will be removed in version 0.24.\n",
      "  warnings.warn(msg, category=FutureWarning)\n",
      "/opt/tljh/user/lib/python3.6/site-packages/sklearn/utils/deprecation.py:87: FutureWarning: Function safe_indexing is deprecated; safe_indexing is deprecated in version 0.22 and will be removed in version 0.24.\n",
      "  warnings.warn(msg, category=FutureWarning)\n",
      "/opt/tljh/user/lib/python3.6/site-packages/sklearn/utils/deprecation.py:87: FutureWarning: Function safe_indexing is deprecated; safe_indexing is deprecated in version 0.22 and will be removed in version 0.24.\n",
      "  warnings.warn(msg, category=FutureWarning)\n"
     ]
    }
   ],
   "source": [
    "# apply near miss \n",
    "nr = NearMiss(random_state=2019)\n",
    "  \n",
    "# resample the training dataset\n",
    "X_train_miss, y_train_miss = nr.fit_sample(X_train, y_train) \n",
    "  \n",
    "print('After Undersampling, the shape of train_X: {}'.format(X_train_miss.shape)) \n",
    "print('After Undersampling, the shape of train_y: {} \\n'.format(y_train_miss.shape)) \n",
    "  \n",
    "print(\"After Undersampling, counts of label '1': {}\".format(sum(y_train_miss == 1))) \n",
    "print(\"After Undersampling, counts of label '0': {}\".format(sum(y_train_miss == 0)))"
   ]
  },
  {
   "cell_type": "markdown",
   "metadata": {},
   "source": [
    "The NearMiss Algorithm has undersampled the instances in the majority class and made it equal to minority class:\n",
    "* Both classes (0 & 1) now have 1340 instances, the dataset is balanced.\n",
    "* Class 0 decreased from 7291 instances to 1340 instances, a decrease of 5951 instances of class 0."
   ]
  },
  {
   "cell_type": "code",
   "execution_count": 169,
   "metadata": {},
   "outputs": [
    {
     "name": "stdout",
     "output_type": "stream",
     "text": [
      "              precision    recall  f1-score   support\n",
      "\n",
      "           0       0.84      0.87      0.85      3131\n",
      "           1       0.10      0.08      0.08       568\n",
      "\n",
      "    accuracy                           0.75      3699\n",
      "   macro avg       0.47      0.47      0.47      3699\n",
      "weighted avg       0.72      0.75      0.74      3699\n",
      "\n"
     ]
    }
   ],
   "source": [
    "# train the model on train set \n",
    "gnb2 = GaussianNB()\n",
    "gnb2.fit(X_train_miss, y_train_miss) \n",
    "y_pred = gnb2.predict(X_test) \n",
    "\n",
    "# print classification report \n",
    "print(classification_report(y_test, y_pred))"
   ]
  },
  {
   "cell_type": "code",
   "execution_count": 170,
   "metadata": {},
   "outputs": [
    {
     "data": {
      "image/png": "[encoded data removed]",
      "text/plain": [
       "<Figure size 432x288 with 1 Axes>"
      ]
     },
     "metadata": {},
     "output_type": "display_data"
    },
    {
     "name": "stdout",
     "output_type": "stream",
     "text": [
      "AUC score: 0.4887047854035744\n"
     ]
    }
   ],
   "source": [
    "# apply function to plot the ROC Curve\n",
    "roc_curve(X_test=X_test, y_test=y_test, model=gnb2)"
   ]
  },
  {
   "cell_type": "markdown",
   "metadata": {},
   "source": [
    "## Cross Validation Using KFold </b>\n",
    "For more information on the topic, please click the following [link](https://stackabuse.com/cross-validation-and-grid-search-for-model-selection-in-python/).\n",
    "<br> The details of the package are noted [here](https://scikit-learn.org/stable/modules/generated/sklearn.model_selection.KFold.html)."
   ]
  },
  {
   "cell_type": "markdown",
   "metadata": {},
   "source": [
    "<a id = \"80023\"> <h2> 2.3 Cross Validation (Oversampling)  </h2> </a>"
   ]
  },
  {
   "cell_type": "markdown",
   "metadata": {},
   "source": [
    "We oversample X and Y with cross validation and NOT using the previously employed 1 hold-out method!"
   ]
  },
  {
   "cell_type": "code",
   "execution_count": 171,
   "metadata": {},
   "outputs": [
    {
     "name": "stdout",
     "output_type": "stream",
     "text": [
      "After OverSampling, the shape of X_res: (20844, 21)\n",
      "After OverSampling, the shape of y_res: (20844,) \n",
      "\n",
      "After OverSampling, counts of label '1': 10422\n",
      "After OverSampling, counts of label '0': 10422\n"
     ]
    },
    {
     "name": "stderr",
     "output_type": "stream",
     "text": [
      "/opt/tljh/user/lib/python3.6/site-packages/sklearn/utils/deprecation.py:87: FutureWarning: Function safe_indexing is deprecated; safe_indexing is deprecated in version 0.22 and will be removed in version 0.24.\n",
      "  warnings.warn(msg, category=FutureWarning)\n"
     ]
    }
   ],
   "source": [
    "sm = SMOTE(random_state = 2019) \n",
    "X_res, y_res = sm.fit_sample(X, Y) \n",
    "\n",
    "print('After OverSampling, the shape of X_res: {}'.format(X_res.shape)) \n",
    "print('After OverSampling, the shape of y_res: {} \\n'.format(y_res.shape)) \n",
    "  \n",
    "print(\"After OverSampling, counts of label '1': {}\".format(sum(y_res == 1))) \n",
    "print(\"After OverSampling, counts of label '0': {}\".format(sum(y_res == 0)))"
   ]
  },
  {
   "cell_type": "code",
   "execution_count": 172,
   "metadata": {},
   "outputs": [
    {
     "name": "stdout",
     "output_type": "stream",
     "text": [
      "--------------------------------------------------------------------------\n",
      "All the weighted f1 results:\n",
      "--------------------------------------------------------------------------\n",
      "[0.40356676 0.38556414 0.39414779 0.41767288 0.37471274 0.37887938\n",
      " 0.36428335 0.40119862 0.38223353 0.39394369] \n",
      "\n",
      "--------------------------------------------------------------------------\n",
      "Average of all the weighted f1 results:\n",
      "--------------------------------------------------------------------------\n",
      "0.3896 \n",
      "\n",
      "--------------------------------------------------------------------------\n",
      "All the AUC score results:\n",
      "--------------------------------------------------------------------------\n",
      "[0.87553716 0.88007185 0.87809984 0.87483983 0.88006333 0.88424541\n",
      " 0.87401537 0.86963758 0.87186276 0.88104034] \n",
      "\n",
      "--------------------------------------------------------------------------\n",
      "Average of all the AUC score results:\n",
      "--------------------------------------------------------------------------\n",
      "avg AUC score 0.8769413460826121\n"
     ]
    }
   ],
   "source": [
    "# Build the k-fold cross-validator\n",
    "k_fold_split = 10\n",
    "kfold = KFold(n_splits=k_fold_split, random_state=2019, shuffle=True)\n",
    "\n",
    "result = cross_val_score(gnb1, X_res, y_res, cv=kfold, scoring='accuracy')\n",
    "result_f1_weighted = cross_val_score(gnb1, X_res, y_res, cv=kfold, scoring='f1_weighted')\n",
    "result_auc = cross_val_score(gnb1, X_res, y_res, cv=kfold, scoring='roc_auc')\n",
    "\n",
    "print('--------------------------------------------------------------------------')\n",
    "print('All the weighted f1 results:')\n",
    "print('--------------------------------------------------------------------------')\n",
    "print(result_f1_weighted, '\\n')\n",
    "\n",
    "print('--------------------------------------------------------------------------')\n",
    "print('Average of all the weighted f1 results:')\n",
    "print('--------------------------------------------------------------------------')\n",
    "print(round(result_f1_weighted.mean(), 4), '\\n')\n",
    "\n",
    "\n",
    "print('--------------------------------------------------------------------------')\n",
    "print('All the AUC score results:')\n",
    "print('--------------------------------------------------------------------------')\n",
    "print(result_auc, '\\n')\n",
    "\n",
    "print('--------------------------------------------------------------------------')\n",
    "print('Average of all the AUC score results:')\n",
    "print('--------------------------------------------------------------------------')\n",
    "print('avg AUC score', result_auc.mean())"
   ]
  },
  {
   "cell_type": "markdown",
   "metadata": {},
   "source": [
    "<b> ROC Curve Cross validation on oversampled dataset"
   ]
  },
  {
   "cell_type": "code",
   "execution_count": 173,
   "metadata": {},
   "outputs": [
    {
     "data": {
      "image/png": "[encoded data removed]",
      "text/plain": [
       "<Figure size 432x288 with 1 Axes>"
      ]
     },
     "metadata": {},
     "output_type": "display_data"
    },
    {
     "name": "stdout",
     "output_type": "stream",
     "text": [
      "AUC score: 0.8772296793598385\n"
     ]
    }
   ],
   "source": [
    "# roc curve with KFold\n",
    "roc_curve(X_test=X_res, y_test=y_res, model=gnb1)"
   ]
  },
  {
   "cell_type": "markdown",
   "metadata": {},
   "source": [
    "<a id = \"80024\"> <h2> 2.4 Cross Validation (Undersampling)  </h2> </a>"
   ]
  },
  {
   "cell_type": "code",
   "execution_count": 174,
   "metadata": {},
   "outputs": [
    {
     "name": "stderr",
     "output_type": "stream",
     "text": [
      "/opt/tljh/user/lib/python3.6/site-packages/sklearn/utils/deprecation.py:87: FutureWarning: Function safe_indexing is deprecated; safe_indexing is deprecated in version 0.22 and will be removed in version 0.24.\n",
      "  warnings.warn(msg, category=FutureWarning)\n",
      "/opt/tljh/user/lib/python3.6/site-packages/sklearn/utils/deprecation.py:87: FutureWarning: Function safe_indexing is deprecated; safe_indexing is deprecated in version 0.22 and will be removed in version 0.24.\n",
      "  warnings.warn(msg, category=FutureWarning)\n",
      "/opt/tljh/user/lib/python3.6/site-packages/sklearn/utils/deprecation.py:87: FutureWarning: Function safe_indexing is deprecated; safe_indexing is deprecated in version 0.22 and will be removed in version 0.24.\n",
      "  warnings.warn(msg, category=FutureWarning)\n"
     ]
    },
    {
     "name": "stdout",
     "output_type": "stream",
     "text": [
      "--------------------------------------------------------------------------\n",
      "All the accuracy results:\n",
      "--------------------------------------------------------------------------\n",
      "[0.51832461 0.54188482 0.53141361 0.5026178  0.52879581 0.56544503\n",
      " 0.50656168 0.54855643 0.57217848 0.5511811 ] \n",
      "\n",
      "--------------------------------------------------------------------------\n",
      "Average of all the accuracy results:\n",
      "--------------------------------------------------------------------------\n",
      "0.5367 \n",
      "\n",
      "--------------------------------------------------------------------------\n",
      "All the weighted f1 results:\n",
      "--------------------------------------------------------------------------\n",
      "[0.39538279 0.42298442 0.41804536 0.35792228 0.40479386 0.43621179\n",
      " 0.38263931 0.43667694 0.46547664 0.43010138] \n",
      "\n",
      "--------------------------------------------------------------------------\n",
      "Average of all the weighted f1 results:\n",
      "--------------------------------------------------------------------------\n",
      "0.415 \n",
      "\n",
      "--------------------------------------------------------------------------\n",
      "All the AUC score results:\n",
      "--------------------------------------------------------------------------\n",
      "[0.77027213 0.77966938 0.77476218 0.81277448 0.78977023 0.77470029\n",
      " 0.757403   0.76631393 0.81574586 0.79116106] \n",
      "\n",
      "--------------------------------------------------------------------------\n",
      "Average of all the AUC score results:\n",
      "--------------------------------------------------------------------------\n",
      "avg AUC score 0.7832572541612054\n"
     ]
    }
   ],
   "source": [
    "# apply near miss \n",
    "nr = NearMiss(random_state=2019)\n",
    "  \n",
    "# resample the training dataset\n",
    "X_miss, y_miss = nr.fit_sample(X, Y)\n",
    "\n",
    "# Build the k-fold cross-validator\n",
    "k_fold_split = 10\n",
    "kfold = KFold(n_splits=k_fold_split, random_state=2019, shuffle=True)\n",
    "\n",
    "result = cross_val_score(gnb2, X_miss, y_miss, cv=kfold, scoring='accuracy')\n",
    "result_f1_weighted = cross_val_score(gnb2, X_miss, y_miss, cv=kfold, scoring='f1_weighted')\n",
    "result_auc = cross_val_score(gnb2, X_miss, y_miss, cv=kfold, scoring='roc_auc')\n",
    "print('--------------------------------------------------------------------------')\n",
    "print('All the accuracy results:')\n",
    "print('--------------------------------------------------------------------------')\n",
    "print(result, '\\n')\n",
    "\n",
    "print('--------------------------------------------------------------------------')\n",
    "print('Average of all the accuracy results:')\n",
    "print('--------------------------------------------------------------------------')\n",
    "print(round(result.mean(), 4), '\\n')\n",
    "\n",
    "print('--------------------------------------------------------------------------')\n",
    "print('All the weighted f1 results:')\n",
    "print('--------------------------------------------------------------------------')\n",
    "print(result_f1_weighted, '\\n')\n",
    "\n",
    "print('--------------------------------------------------------------------------')\n",
    "print('Average of all the weighted f1 results:')\n",
    "print('--------------------------------------------------------------------------')\n",
    "print(round(result_f1_weighted.mean(), 4), '\\n')\n",
    "\n",
    "print('--------------------------------------------------------------------------')\n",
    "print('All the AUC score results:')\n",
    "print('--------------------------------------------------------------------------')\n",
    "print(result_auc, '\\n')\n",
    "\n",
    "print('--------------------------------------------------------------------------')\n",
    "print('Average of all the AUC score results:')\n",
    "print('--------------------------------------------------------------------------')\n",
    "print('avg AUC score', result_auc.mean())"
   ]
  },
  {
   "cell_type": "code",
   "execution_count": 175,
   "metadata": {},
   "outputs": [
    {
     "data": {
      "image/png": "[encoded data removed]",
      "text/plain": [
       "<Figure size 432x288 with 1 Axes>"
      ]
     },
     "metadata": {},
     "output_type": "display_data"
    },
    {
     "name": "stdout",
     "output_type": "stream",
     "text": [
      "AUC score: 0.7859278377701304\n"
     ]
    }
   ],
   "source": [
    "# roc curve with KFold\n",
    "roc_curve(X_test=X_miss, y_test=y_miss, model=gnb2)"
   ]
  },
  {
   "cell_type": "markdown",
   "metadata": {},
   "source": [
    "<b> Cross validation on X and Y"
   ]
  },
  {
   "cell_type": "code",
   "execution_count": 176,
   "metadata": {},
   "outputs": [
    {
     "name": "stdout",
     "output_type": "stream",
     "text": [
      "--------------------------------------------------------------------------\n",
      "Average of all the accuracy results:\n",
      "--------------------------------------------------------------------------\n",
      "0.2107 \n",
      "\n",
      "--------------------------------------------------------------------------\n",
      "Average of all the weighted f1 results:\n",
      "--------------------------------------------------------------------------\n",
      "0.15 \n",
      "\n",
      "--------------------------------------------------------------------------\n",
      "Average of all the AUC score results:\n",
      "--------------------------------------------------------------------------\n",
      "0.8693\n"
     ]
    }
   ],
   "source": [
    "# Build the k-fold cross-validator\n",
    "k_fold_split = 10\n",
    "kfold = KFold(n_splits=k_fold_split, random_state=2019, shuffle=True)\n",
    "\n",
    "result_accuracy = cross_val_score(gnb1, X, Y, cv=kfold, scoring='accuracy')\n",
    "result_f1_weighted = cross_val_score(gnb1, X, Y, cv=kfold, scoring='f1_weighted')\n",
    "result_auc = cross_val_score(gnb1, X, Y, cv=kfold, scoring='roc_auc')\n",
    "print('--------------------------------------------------------------------------')\n",
    "print('Average of all the accuracy results:')\n",
    "print('--------------------------------------------------------------------------')\n",
    "print(round(result_accuracy.mean(), 4), '\\n')\n",
    "\n",
    "print('--------------------------------------------------------------------------')\n",
    "print('Average of all the weighted f1 results:')\n",
    "print('--------------------------------------------------------------------------')\n",
    "print(round(result_f1_weighted.mean(), 4), '\\n')\n",
    "\n",
    "print('--------------------------------------------------------------------------')\n",
    "print('Average of all the AUC score results:')\n",
    "print('--------------------------------------------------------------------------')\n",
    "print(round(result_auc.mean(), 4))"
   ]
  },
  {
   "cell_type": "markdown",
   "metadata": {},
   "source": [
    "<a id = \"80025\"> <h2> 2.5 Feature Importance </h2> </a>"
   ]
  },
  {
   "cell_type": "markdown",
   "metadata": {},
   "source": [
    "For Feature Importance we consider the oversampled trained/fitted model (named: 'gnb1') which has better results."
   ]
  },
  {
   "cell_type": "code",
   "execution_count": 177,
   "metadata": {},
   "outputs": [
    {
     "data": {
      "text/html": [
       "<div>\n",
       "<style scoped>\n",
       "    .dataframe tbody tr th:only-of-type {\n",
       "        vertical-align: middle;\n",
       "    }\n",
       "\n",
       "    .dataframe tbody tr th {\n",
       "        vertical-align: top;\n",
       "    }\n",
       "\n",
       "    .dataframe thead th {\n",
       "        text-align: right;\n",
       "    }\n",
       "</style>\n",
       "<table border=\"1\" class=\"dataframe\">\n",
       "  <thead>\n",
       "    <tr style=\"text-align: right;\">\n",
       "      <th></th>\n",
       "      <th>Feature</th>\n",
       "      <th>Variance Class 0</th>\n",
       "      <th>Mean Class 0</th>\n",
       "    </tr>\n",
       "  </thead>\n",
       "  <tbody>\n",
       "    <tr>\n",
       "      <th>0</th>\n",
       "      <td>TrafficType_2</td>\n",
       "      <td>0.21</td>\n",
       "      <td>0.293924</td>\n",
       "    </tr>\n",
       "    <tr>\n",
       "      <th>1</th>\n",
       "      <td>Month_May</td>\n",
       "      <td>0.21</td>\n",
       "      <td>0.291181</td>\n",
       "    </tr>\n",
       "    <tr>\n",
       "      <th>2</th>\n",
       "      <td>Month_Nov</td>\n",
       "      <td>0.17</td>\n",
       "      <td>0.216431</td>\n",
       "    </tr>\n",
       "    <tr>\n",
       "      <th>3</th>\n",
       "      <td>OperatingSystems_3</td>\n",
       "      <td>0.17</td>\n",
       "      <td>0.214785</td>\n",
       "    </tr>\n",
       "    <tr>\n",
       "      <th>4</th>\n",
       "      <td>TrafficType_1</td>\n",
       "      <td>0.17</td>\n",
       "      <td>0.209436</td>\n",
       "    </tr>\n",
       "    <tr>\n",
       "      <th>5</th>\n",
       "      <td>TrafficType_3</td>\n",
       "      <td>0.15</td>\n",
       "      <td>0.179399</td>\n",
       "    </tr>\n",
       "    <tr>\n",
       "      <th>6</th>\n",
       "      <td>Month_Mar</td>\n",
       "      <td>0.14</td>\n",
       "      <td>0.164586</td>\n",
       "    </tr>\n",
       "    <tr>\n",
       "      <th>7</th>\n",
       "      <td>VisitorType_New_Visitor</td>\n",
       "      <td>0.11</td>\n",
       "      <td>0.120697</td>\n",
       "    </tr>\n",
       "    <tr>\n",
       "      <th>8</th>\n",
       "      <td>TrafficType_13</td>\n",
       "      <td>0.06</td>\n",
       "      <td>0.066932</td>\n",
       "    </tr>\n",
       "    <tr>\n",
       "      <th>9</th>\n",
       "      <td>SpecialDay_0.8</td>\n",
       "      <td>0.03</td>\n",
       "      <td>0.031957</td>\n",
       "    </tr>\n",
       "    <tr>\n",
       "      <th>10</th>\n",
       "      <td>Month_Feb</td>\n",
       "      <td>0.02</td>\n",
       "      <td>0.016184</td>\n",
       "    </tr>\n",
       "    <tr>\n",
       "      <th>11</th>\n",
       "      <td>TrafficType_8</td>\n",
       "      <td>0.02</td>\n",
       "      <td>0.024277</td>\n",
       "    </tr>\n",
       "    <tr>\n",
       "      <th>12</th>\n",
       "      <td>TrafficType_12</td>\n",
       "      <td>0.00</td>\n",
       "      <td>0.000137</td>\n",
       "    </tr>\n",
       "    <tr>\n",
       "      <th>13</th>\n",
       "      <td>TrafficType_18</td>\n",
       "      <td>0.00</td>\n",
       "      <td>0.000960</td>\n",
       "    </tr>\n",
       "    <tr>\n",
       "      <th>14</th>\n",
       "      <td>TrafficType_15</td>\n",
       "      <td>0.00</td>\n",
       "      <td>0.003703</td>\n",
       "    </tr>\n",
       "    <tr>\n",
       "      <th>15</th>\n",
       "      <td>add_exit_bounce_rates_mm_yj_stdev</td>\n",
       "      <td>0.00</td>\n",
       "      <td>0.071708</td>\n",
       "    </tr>\n",
       "    <tr>\n",
       "      <th>16</th>\n",
       "      <td>PageValues_mm_yj_stdev</td>\n",
       "      <td>0.00</td>\n",
       "      <td>0.001441</td>\n",
       "    </tr>\n",
       "    <tr>\n",
       "      <th>17</th>\n",
       "      <td>ProductRelated_mm_yj_stdev</td>\n",
       "      <td>0.00</td>\n",
       "      <td>0.021236</td>\n",
       "    </tr>\n",
       "    <tr>\n",
       "      <th>18</th>\n",
       "      <td>Informational_mm_yj_stdev</td>\n",
       "      <td>0.00</td>\n",
       "      <td>0.004105</td>\n",
       "    </tr>\n",
       "    <tr>\n",
       "      <th>19</th>\n",
       "      <td>Administrative_Duration_mm_yj_stdev</td>\n",
       "      <td>0.00</td>\n",
       "      <td>0.008365</td>\n",
       "    </tr>\n",
       "    <tr>\n",
       "      <th>20</th>\n",
       "      <td>Browser_12</td>\n",
       "      <td>0.00</td>\n",
       "      <td>0.000549</td>\n",
       "    </tr>\n",
       "  </tbody>\n",
       "</table>\n",
       "</div>"
      ],
      "text/plain": [
       "                                Feature  Variance Class 0  Mean Class 0\n",
       "0                         TrafficType_2              0.21      0.293924\n",
       "1                             Month_May              0.21      0.291181\n",
       "2                             Month_Nov              0.17      0.216431\n",
       "3                    OperatingSystems_3              0.17      0.214785\n",
       "4                         TrafficType_1              0.17      0.209436\n",
       "5                         TrafficType_3              0.15      0.179399\n",
       "6                             Month_Mar              0.14      0.164586\n",
       "7               VisitorType_New_Visitor              0.11      0.120697\n",
       "8                        TrafficType_13              0.06      0.066932\n",
       "9                        SpecialDay_0.8              0.03      0.031957\n",
       "10                            Month_Feb              0.02      0.016184\n",
       "11                        TrafficType_8              0.02      0.024277\n",
       "12                       TrafficType_12              0.00      0.000137\n",
       "13                       TrafficType_18              0.00      0.000960\n",
       "14                       TrafficType_15              0.00      0.003703\n",
       "15    add_exit_bounce_rates_mm_yj_stdev              0.00      0.071708\n",
       "16               PageValues_mm_yj_stdev              0.00      0.001441\n",
       "17           ProductRelated_mm_yj_stdev              0.00      0.021236\n",
       "18            Informational_mm_yj_stdev              0.00      0.004105\n",
       "19  Administrative_Duration_mm_yj_stdev              0.00      0.008365\n",
       "20                           Browser_12              0.00      0.000549"
      ]
     },
     "execution_count": 177,
     "metadata": {},
     "output_type": "execute_result"
    }
   ],
   "source": [
    "# class 0 variance\n",
    "gnb1.sigma_[0]\n",
    "# class 1 variance\n",
    "gnb1.sigma_[1]\n",
    "\n",
    "# mean of each feature per class\n",
    "# array, shape (n_classes, n_features)\n",
    "# class 0 mean\n",
    "gnb1.theta_[0]\n",
    "# class 1 mean\n",
    "gnb1.theta_[1]\n",
    "\n",
    "lst_variance_class_0 = []\n",
    "lst_mean_class_0 = []\n",
    "lst_features = []\n",
    "\n",
    "for i in gnb1.sigma_[0]:\n",
    "    lst_variance_class_0.append((i).round(2))\n",
    "for j in list(X.columns):\n",
    "        lst_features.append(j)\n",
    "for k in gnb1.theta_[0]:\n",
    "    lst_mean_class_0.append(k)\n",
    "        \n",
    "# combine the 2 lists of class 0 and feature names into a dataframe\n",
    "dict_lists = {\"Feature\": lst_features, \"Variance Class 0\": lst_variance_class_0,  \"Mean Class 0\":lst_mean_class_0}\n",
    "df_class_0 = pd.DataFrame(dict_lists)\n",
    "# sort descending and reset index\n",
    "df_class_0.sort_values(by=['Variance Class 0'],  ascending=False, inplace=True)\n",
    "df_class_0.reset_index(inplace=True, drop=True)\n",
    "df_class_0"
   ]
  },
  {
   "cell_type": "code",
   "execution_count": 178,
   "metadata": {},
   "outputs": [
    {
     "data": {
      "text/html": [
       "<div>\n",
       "<style scoped>\n",
       "    .dataframe tbody tr th:only-of-type {\n",
       "        vertical-align: middle;\n",
       "    }\n",
       "\n",
       "    .dataframe tbody tr th {\n",
       "        vertical-align: top;\n",
       "    }\n",
       "\n",
       "    .dataframe thead th {\n",
       "        text-align: right;\n",
       "    }\n",
       "</style>\n",
       "<table border=\"1\" class=\"dataframe\">\n",
       "  <thead>\n",
       "    <tr style=\"text-align: right;\">\n",
       "      <th></th>\n",
       "      <th>Feature</th>\n",
       "      <th>Variance Class 1</th>\n",
       "      <th>Mean Class 1</th>\n",
       "    </tr>\n",
       "  </thead>\n",
       "  <tbody>\n",
       "    <tr>\n",
       "      <th>0</th>\n",
       "      <td>TrafficType_2</td>\n",
       "      <td>0.25</td>\n",
       "      <td>0.441505</td>\n",
       "    </tr>\n",
       "    <tr>\n",
       "      <th>1</th>\n",
       "      <td>Month_Nov</td>\n",
       "      <td>0.24</td>\n",
       "      <td>0.387558</td>\n",
       "    </tr>\n",
       "    <tr>\n",
       "      <th>2</th>\n",
       "      <td>VisitorType_New_Visitor</td>\n",
       "      <td>0.17</td>\n",
       "      <td>0.215610</td>\n",
       "    </tr>\n",
       "    <tr>\n",
       "      <th>3</th>\n",
       "      <td>Month_May</td>\n",
       "      <td>0.16</td>\n",
       "      <td>0.203661</td>\n",
       "    </tr>\n",
       "    <tr>\n",
       "      <th>4</th>\n",
       "      <td>TrafficType_1</td>\n",
       "      <td>0.12</td>\n",
       "      <td>0.135038</td>\n",
       "    </tr>\n",
       "    <tr>\n",
       "      <th>5</th>\n",
       "      <td>OperatingSystems_3</td>\n",
       "      <td>0.10</td>\n",
       "      <td>0.120462</td>\n",
       "    </tr>\n",
       "    <tr>\n",
       "      <th>6</th>\n",
       "      <td>Month_Mar</td>\n",
       "      <td>0.09</td>\n",
       "      <td>0.101457</td>\n",
       "    </tr>\n",
       "    <tr>\n",
       "      <th>7</th>\n",
       "      <td>TrafficType_3</td>\n",
       "      <td>0.07</td>\n",
       "      <td>0.081869</td>\n",
       "    </tr>\n",
       "    <tr>\n",
       "      <th>8</th>\n",
       "      <td>TrafficType_8</td>\n",
       "      <td>0.05</td>\n",
       "      <td>0.048113</td>\n",
       "    </tr>\n",
       "    <tr>\n",
       "      <th>9</th>\n",
       "      <td>TrafficType_13</td>\n",
       "      <td>0.02</td>\n",
       "      <td>0.022953</td>\n",
       "    </tr>\n",
       "    <tr>\n",
       "      <th>10</th>\n",
       "      <td>TrafficType_12</td>\n",
       "      <td>0.00</td>\n",
       "      <td>0.000000</td>\n",
       "    </tr>\n",
       "    <tr>\n",
       "      <th>11</th>\n",
       "      <td>Month_Feb</td>\n",
       "      <td>0.00</td>\n",
       "      <td>0.000609</td>\n",
       "    </tr>\n",
       "    <tr>\n",
       "      <th>12</th>\n",
       "      <td>SpecialDay_0.8</td>\n",
       "      <td>0.00</td>\n",
       "      <td>0.005125</td>\n",
       "    </tr>\n",
       "    <tr>\n",
       "      <th>13</th>\n",
       "      <td>TrafficType_18</td>\n",
       "      <td>0.00</td>\n",
       "      <td>0.000000</td>\n",
       "    </tr>\n",
       "    <tr>\n",
       "      <th>14</th>\n",
       "      <td>TrafficType_15</td>\n",
       "      <td>0.00</td>\n",
       "      <td>0.000000</td>\n",
       "    </tr>\n",
       "    <tr>\n",
       "      <th>15</th>\n",
       "      <td>add_exit_bounce_rates_mm_yj_stdev</td>\n",
       "      <td>0.00</td>\n",
       "      <td>0.042845</td>\n",
       "    </tr>\n",
       "    <tr>\n",
       "      <th>16</th>\n",
       "      <td>PageValues_mm_yj_stdev</td>\n",
       "      <td>0.00</td>\n",
       "      <td>0.012820</td>\n",
       "    </tr>\n",
       "    <tr>\n",
       "      <th>17</th>\n",
       "      <td>ProductRelated_mm_yj_stdev</td>\n",
       "      <td>0.00</td>\n",
       "      <td>0.029144</td>\n",
       "    </tr>\n",
       "    <tr>\n",
       "      <th>18</th>\n",
       "      <td>Informational_mm_yj_stdev</td>\n",
       "      <td>0.00</td>\n",
       "      <td>0.006665</td>\n",
       "    </tr>\n",
       "    <tr>\n",
       "      <th>19</th>\n",
       "      <td>Administrative_Duration_mm_yj_stdev</td>\n",
       "      <td>0.00</td>\n",
       "      <td>0.012718</td>\n",
       "    </tr>\n",
       "    <tr>\n",
       "      <th>20</th>\n",
       "      <td>Browser_12</td>\n",
       "      <td>0.00</td>\n",
       "      <td>0.001028</td>\n",
       "    </tr>\n",
       "  </tbody>\n",
       "</table>\n",
       "</div>"
      ],
      "text/plain": [
       "                                Feature  Variance Class 1  Mean Class 1\n",
       "0                         TrafficType_2              0.25      0.441505\n",
       "1                             Month_Nov              0.24      0.387558\n",
       "2               VisitorType_New_Visitor              0.17      0.215610\n",
       "3                             Month_May              0.16      0.203661\n",
       "4                         TrafficType_1              0.12      0.135038\n",
       "5                    OperatingSystems_3              0.10      0.120462\n",
       "6                             Month_Mar              0.09      0.101457\n",
       "7                         TrafficType_3              0.07      0.081869\n",
       "8                         TrafficType_8              0.05      0.048113\n",
       "9                        TrafficType_13              0.02      0.022953\n",
       "10                       TrafficType_12              0.00      0.000000\n",
       "11                            Month_Feb              0.00      0.000609\n",
       "12                       SpecialDay_0.8              0.00      0.005125\n",
       "13                       TrafficType_18              0.00      0.000000\n",
       "14                       TrafficType_15              0.00      0.000000\n",
       "15    add_exit_bounce_rates_mm_yj_stdev              0.00      0.042845\n",
       "16               PageValues_mm_yj_stdev              0.00      0.012820\n",
       "17           ProductRelated_mm_yj_stdev              0.00      0.029144\n",
       "18            Informational_mm_yj_stdev              0.00      0.006665\n",
       "19  Administrative_Duration_mm_yj_stdev              0.00      0.012718\n",
       "20                           Browser_12              0.00      0.001028"
      ]
     },
     "execution_count": 178,
     "metadata": {},
     "output_type": "execute_result"
    }
   ],
   "source": [
    "lst_variance_class_1 = []\n",
    "lst_mean_class_1 = []\n",
    "lst_features = []\n",
    "\n",
    "for i in gnb1.sigma_[1]:\n",
    "    lst_variance_class_1.append((i).round(2))\n",
    "for j in list(X.columns):\n",
    "        lst_features.append(j)\n",
    "for k in gnb1.theta_[1]:\n",
    "    lst_mean_class_1.append(k)\n",
    "        \n",
    "# combine the 2 lists of class 0 and feature names into a dataframe\n",
    "dict_lists = {\"Feature\": lst_features, \"Variance Class 1\": lst_variance_class_1,  \"Mean Class 1\":lst_mean_class_1}\n",
    "df_class_1 = pd.DataFrame(dict_lists)\n",
    "# sort descending and reset index\n",
    "df_class_1.sort_values(by=['Variance Class 1'],  ascending=False, inplace=True)\n",
    "df_class_1.reset_index(inplace=True, drop=True)\n",
    "df_class_1"
   ]
  },
  {
   "cell_type": "markdown",
   "metadata": {},
   "source": [
    "<a id = \"802\"> <h2> Pipeline 3 </h2> </a>\n",
    "___"
   ]
  },
  {
   "cell_type": "markdown",
   "metadata": {},
   "source": [
    "<b> read csv file to a pandas dataframe"
   ]
  },
  {
   "cell_type": "code",
   "execution_count": 179,
   "metadata": {},
   "outputs": [],
   "source": [
    "df_pipeline3 = pd.read_csv(\"pipeline_3.csv\")"
   ]
  },
  {
   "cell_type": "markdown",
   "metadata": {},
   "source": [
    "<b> show all columns in dataset"
   ]
  },
  {
   "cell_type": "code",
   "execution_count": 180,
   "metadata": {},
   "outputs": [
    {
     "name": "stdout",
     "output_type": "stream",
     "text": [
      "There are 23 features, and the target `Revenue` for pipeline 3:\n"
     ]
    },
    {
     "data": {
      "text/plain": [
       "['Administrative_yj_stdev_zscore',\n",
       " 'Month_Nov',\n",
       " 'VisitorType_New_Visitor',\n",
       " 'TrafficType_2',\n",
       " 'Month_May',\n",
       " 'TrafficType_3',\n",
       " 'add_exit_bounce_rates_yj_stdev_zscore',\n",
       " 'TrafficType_13',\n",
       " 'PageValues_yj_stdev_zscore',\n",
       " 'OperatingSystems_3',\n",
       " 'TrafficType_1',\n",
       " 'Month_Mar',\n",
       " 'TrafficType_8',\n",
       " 'SpecialDay_0.8',\n",
       " 'Month_Feb',\n",
       " 'Month_Dec',\n",
       " 'SpecialDay_0.4',\n",
       " 'TrafficType_20',\n",
       " 'Month_Oct',\n",
       " 'Region_1',\n",
       " 'Browser_12',\n",
       " 'OperatingSystems_7',\n",
       " 'TrafficType_16',\n",
       " 'Revenue']"
      ]
     },
     "execution_count": 180,
     "metadata": {},
     "output_type": "execute_result"
    }
   ],
   "source": [
    "print('There are', len(df_pipeline3.columns)-1, 'features, and the target `Revenue` for pipeline 3:')\n",
    "list(df_pipeline3.columns)"
   ]
  },
  {
   "cell_type": "code",
   "execution_count": 181,
   "metadata": {},
   "outputs": [
    {
     "name": "stdout",
     "output_type": "stream",
     "text": [
      "Number of rows in the dataset: 12330\n",
      "Number of columns in the dataset: 24\n"
     ]
    }
   ],
   "source": [
    "print('Number of rows in the dataset:', df_pipeline3.shape[0])\n",
    "print('Number of columns in the dataset:', df_pipeline3.shape[1])"
   ]
  },
  {
   "cell_type": "markdown",
   "metadata": {},
   "source": [
    "<a id = \"80030\"> <h2> 3.0 Basic Model Naive Bayes </h2> </a>"
   ]
  },
  {
   "cell_type": "markdown",
   "metadata": {},
   "source": [
    "<b> Define Features and Target variables"
   ]
  },
  {
   "cell_type": "code",
   "execution_count": 182,
   "metadata": {},
   "outputs": [],
   "source": [
    "X = df_pipeline3.iloc[:, :-1] # Features is all columns in the dataframe except the last column\n",
    "Y = df_pipeline3.iloc[:, -1] # Target is the last column in the dataframe: 'Revenue'"
   ]
  },
  {
   "cell_type": "code",
   "execution_count": 183,
   "metadata": {},
   "outputs": [
    {
     "name": "stdout",
     "output_type": "stream",
     "text": [
      "Before OverSampling, the shape of train_X: (8631, 23)\n",
      "Before OverSampling, counts of label '1' in y_train: 1340\n",
      "Before OverSampling, counts of label '0' in y_train: 7291\n",
      "\n",
      "\n",
      "              precision    recall  f1-score   support\n",
      "\n",
      "           0       0.96      0.76      0.85      3131\n",
      "           1       0.39      0.84      0.53       568\n",
      "\n",
      "    accuracy                           0.77      3699\n",
      "   macro avg       0.67      0.80      0.69      3699\n",
      "weighted avg       0.87      0.77      0.80      3699\n",
      "\n"
     ]
    }
   ],
   "source": [
    "# Split dataset into training set and test set \n",
    "# 70% training and 30% test\n",
    "X_train, X_test, y_train, y_test = train_test_split(X, Y, test_size=0.3,random_state=2019) \n",
    "\n",
    "# Create a Gaussian Classifier\n",
    "gnb = GaussianNB()\n",
    "\n",
    "# Train the model using the training sets\n",
    "gnb.fit(X_train, y_train)\n",
    "\n",
    "print('Before OverSampling, the shape of train_X: {}'.format(X_train.shape))  \n",
    "print(\"Before OverSampling, counts of label '1' in y_train: {}\".format(sum(y_train == 1))) \n",
    "print(\"Before OverSampling, counts of label '0' in y_train: {}\".format(sum(y_train == 0)))\n",
    "print('\\n')\n",
    "\n",
    "# given a trained model, predict the label of a new set of data.\n",
    "y_pred = gnb.predict(X_test)\n",
    "\n",
    "# print classification report \n",
    "print(classification_report(y_test, y_pred))"
   ]
  },
  {
   "cell_type": "markdown",
   "metadata": {},
   "source": [
    "<b> ROC Curve with AUC score - Basic model </b> (before oversampling/undersampling)"
   ]
  },
  {
   "cell_type": "code",
   "execution_count": 184,
   "metadata": {},
   "outputs": [],
   "source": [
    "# define a function to plot the roc_curve and AUC score using variables: X_test and y_test\n",
    "def roc_curve(X_test=X_test, y_test=y_test, model=gnb):\n",
    "    # set the style of the graph\n",
    "    plt.style.use('Solarize_Light2')\n",
    "\n",
    "    # predict_proba gives you the probabilities for the target (0 and 1 in your case) in array form in dimension (N,2). \n",
    "    # The first index refers to the probability that the data belong to class 0, and the second refers to the probability that the data belong to class 1. \n",
    "    # we define a variable with an array of the probabilities that each observation belongs to class 1 (with [:,1], where model.predict_proba(X_test)[:,0] refers to the array it belongs to class 0)\n",
    "    y_pred_proba = model.predict_proba(X_test)[:,1]\n",
    "\n",
    "    # define false positive rate (fpr) and the true positive rate (tpr)\n",
    "    fpr, tpr, _ = metrics.roc_curve(y_test,  y_pred_proba)\n",
    "\n",
    "    # Compute Area Under the Receiver Operating Characteristic Curve (ROC AUC) from prediction scores.\n",
    "    # source: https://scikit-learn.org/stable/modules/generated/sklearn.metrics.roc_auc_score.html\n",
    "    auc = metrics.roc_auc_score(y_test, y_pred_proba)\n",
    "\n",
    "    # plot on the X-axis: the false positive rate\n",
    "    # plot on the Y-axis: the true positive rate\n",
    "    # with the legend having the auc score\n",
    "    plt.plot(fpr,tpr,label='AUC = %0.2f' % auc)\n",
    "    # positioning of the legend\n",
    "    plt.legend(loc=4)\n",
    "    # define the title of the plot\n",
    "    plt.title('Receiver Operating Characteristic (ROC)')\n",
    "    # define the y axis label\n",
    "    plt.ylabel('True Positive Rate')\n",
    "    # define the x axis label\n",
    "    plt.xlabel('False Positive Rate')\n",
    "    # plot a straight dashed line in the color red\n",
    "    plt.plot([0, 1], [0, 1],'r--')\n",
    "    # show the plot\n",
    "    plt.show()\n",
    "    # print out full AUC score\n",
    "    print('AUC score:', auc)"
   ]
  },
  {
   "cell_type": "code",
   "execution_count": 185,
   "metadata": {},
   "outputs": [
    {
     "data": {
      "image/png": "[encoded data removed]",
      "text/plain": [
       "<Figure size 432x288 with 1 Axes>"
      ]
     },
     "metadata": {},
     "output_type": "display_data"
    },
    {
     "name": "stdout",
     "output_type": "stream",
     "text": [
      "AUC score: 0.8447813999937022\n"
     ]
    }
   ],
   "source": [
    "# apply function to plot the ROC Curve\n",
    "roc_curve(X_test=X_test, y_test=y_test, model=gnb)"
   ]
  },
  {
   "cell_type": "markdown",
   "metadata": {},
   "source": [
    "<a id = \"80031\"> <h2> 3.1 Oversampling (SMOTE) </h2> </a>\n",
    "We oversample the <b> training </b> dataset, because the classes within our target variable 'Revenue' are imbalanced:\n",
    "* class 0: 84.53%\n",
    "* class 1: 15.47%\n",
    "\n",
    "Fore more information, click on detailed information from Prof. Jie Tao [link](https://github.com/DrJieTao/ba545-docs/blob/master/competition2/handling_imbalanced_data_part2.ipynb)"
   ]
  },
  {
   "cell_type": "code",
   "execution_count": 186,
   "metadata": {},
   "outputs": [
    {
     "name": "stdout",
     "output_type": "stream",
     "text": [
      "After OverSampling, the shape of train_X: (14582, 23)\n",
      "After OverSampling, the shape of train_y: (14582,) \n",
      "\n",
      "After OverSampling, counts of label '1': 7291\n",
      "After OverSampling, counts of label '0': 7291\n"
     ]
    },
    {
     "name": "stderr",
     "output_type": "stream",
     "text": [
      "/opt/tljh/user/lib/python3.6/site-packages/sklearn/utils/deprecation.py:87: FutureWarning: Function safe_indexing is deprecated; safe_indexing is deprecated in version 0.22 and will be removed in version 0.24.\n",
      "  warnings.warn(msg, category=FutureWarning)\n"
     ]
    }
   ],
   "source": [
    "# Split dataset into training set and test set \n",
    "# 70% training and 30% test\n",
    "X_train, X_test, y_train, y_test = train_test_split(X, Y, test_size=0.3,random_state=2019) \n",
    "\n",
    "sm = SMOTE(random_state = 2019) \n",
    "X_train_res, y_train_res = sm.fit_sample(X_train, y_train) \n",
    "\n",
    "print('After OverSampling, the shape of train_X: {}'.format(X_train_res.shape)) \n",
    "print('After OverSampling, the shape of train_y: {} \\n'.format(y_train_res.shape)) \n",
    "  \n",
    "print(\"After OverSampling, counts of label '1': {}\".format(sum(y_train_res == 1))) \n",
    "print(\"After OverSampling, counts of label '0': {}\".format(sum(y_train_res == 0)))"
   ]
  },
  {
   "cell_type": "markdown",
   "metadata": {},
   "source": [
    "The SMOTE Algorithm has oversampled the instances in the minority class and made it equal to majority class:\n",
    "* Both classes (0 & 1) now have 7291 instances, the <b> training </b> dataset is balanced.\n",
    "* Class 1 increased from 1340 instances to 7291 instances, an increase of 5951 instances of class 1."
   ]
  },
  {
   "cell_type": "code",
   "execution_count": 187,
   "metadata": {},
   "outputs": [
    {
     "name": "stdout",
     "output_type": "stream",
     "text": [
      "              precision    recall  f1-score   support\n",
      "\n",
      "           0       0.97      0.52      0.67      3131\n",
      "           1       0.26      0.92      0.40       568\n",
      "\n",
      "    accuracy                           0.58      3699\n",
      "   macro avg       0.62      0.72      0.54      3699\n",
      "weighted avg       0.86      0.58      0.63      3699\n",
      "\n"
     ]
    }
   ],
   "source": [
    "# define the model\n",
    "gnb1 = GaussianNB()\n",
    "\n",
    "# train the model\n",
    "gnb1.fit(X_train_res, y_train_res)\n",
    "\n",
    "# given a trained model, predict the label of a new set of data. \n",
    "y_pred = gnb1.predict(X_test) \n",
    "  \n",
    "# print classification report \n",
    "print(classification_report(y_test, y_pred))"
   ]
  },
  {
   "cell_type": "code",
   "execution_count": 188,
   "metadata": {},
   "outputs": [
    {
     "data": {
      "image/png": "[encoded data removed]",
      "text/plain": [
       "<Figure size 432x288 with 1 Axes>"
      ]
     },
     "metadata": {},
     "output_type": "display_data"
    },
    {
     "name": "stdout",
     "output_type": "stream",
     "text": [
      "AUC score: 0.8432007728260331\n"
     ]
    }
   ],
   "source": [
    "# apply function to plot the ROC Curve\n",
    "roc_curve(X_test=X_test, y_test=y_test, model=gnb1)"
   ]
  },
  {
   "cell_type": "markdown",
   "metadata": {},
   "source": [
    "<a id = \"80032\"> <h2> 3.2 Undersampling (NearMiss)  </h2> </a>\n",
    "We undersample the dataset, because the classes within our target variable 'Revenue' are imbalanced:\n",
    "* class 0: 84.53%\n",
    "* class 1: 15.47%\n",
    "\n",
    "Fore more information, click on detailed information from Prof. Jie Tao [link](https://github.com/DrJieTao/ba545-docs/blob/master/competition2/handling_imbalanced_data_part2.ipynb)"
   ]
  },
  {
   "cell_type": "code",
   "execution_count": 189,
   "metadata": {},
   "outputs": [
    {
     "name": "stdout",
     "output_type": "stream",
     "text": [
      "After Undersampling, the shape of train_X: (2680, 23)\n",
      "After Undersampling, the shape of train_y: (2680,) \n",
      "\n",
      "After Undersampling, counts of label '1': 1340\n",
      "After Undersampling, counts of label '0': 1340\n"
     ]
    },
    {
     "name": "stderr",
     "output_type": "stream",
     "text": [
      "/opt/tljh/user/lib/python3.6/site-packages/sklearn/utils/deprecation.py:87: FutureWarning: Function safe_indexing is deprecated; safe_indexing is deprecated in version 0.22 and will be removed in version 0.24.\n",
      "  warnings.warn(msg, category=FutureWarning)\n",
      "/opt/tljh/user/lib/python3.6/site-packages/sklearn/utils/deprecation.py:87: FutureWarning: Function safe_indexing is deprecated; safe_indexing is deprecated in version 0.22 and will be removed in version 0.24.\n",
      "  warnings.warn(msg, category=FutureWarning)\n",
      "/opt/tljh/user/lib/python3.6/site-packages/sklearn/utils/deprecation.py:87: FutureWarning: Function safe_indexing is deprecated; safe_indexing is deprecated in version 0.22 and will be removed in version 0.24.\n",
      "  warnings.warn(msg, category=FutureWarning)\n"
     ]
    }
   ],
   "source": [
    "# apply near miss \n",
    "nr = NearMiss(random_state=2019)\n",
    "  \n",
    "# resample the training dataset\n",
    "X_train_miss, y_train_miss = nr.fit_sample(X_train, y_train) \n",
    "  \n",
    "print('After Undersampling, the shape of train_X: {}'.format(X_train_miss.shape)) \n",
    "print('After Undersampling, the shape of train_y: {} \\n'.format(y_train_miss.shape)) \n",
    "  \n",
    "print(\"After Undersampling, counts of label '1': {}\".format(sum(y_train_miss == 1))) \n",
    "print(\"After Undersampling, counts of label '0': {}\".format(sum(y_train_miss == 0)))"
   ]
  },
  {
   "cell_type": "markdown",
   "metadata": {},
   "source": [
    "The NearMiss Algorithm has undersampled the instances in the majority class and made it equal to minority class:\n",
    "* Both classes (0 & 1) now have 1340 instances, the dataset is balanced.\n",
    "* Class 0 decreased from 7291 instances to 1340 instances, a decrease of 5951 instances of class 0."
   ]
  },
  {
   "cell_type": "code",
   "execution_count": 190,
   "metadata": {},
   "outputs": [
    {
     "name": "stdout",
     "output_type": "stream",
     "text": [
      "              precision    recall  f1-score   support\n",
      "\n",
      "           0       0.84      0.89      0.86      3131\n",
      "           1       0.07      0.05      0.06       568\n",
      "\n",
      "    accuracy                           0.76      3699\n",
      "   macro avg       0.46      0.47      0.46      3699\n",
      "weighted avg       0.72      0.76      0.74      3699\n",
      "\n"
     ]
    }
   ],
   "source": [
    "# train the model on train set \n",
    "gnb2 = GaussianNB()\n",
    "gnb2.fit(X_train_miss, y_train_miss) \n",
    "y_pred = gnb2.predict(X_test) \n",
    "\n",
    "# print classification report \n",
    "print(classification_report(y_test, y_pred))"
   ]
  },
  {
   "cell_type": "code",
   "execution_count": 191,
   "metadata": {},
   "outputs": [
    {
     "data": {
      "image/png": "[encoded data removed]",
      "text/plain": [
       "<Figure size 432x288 with 1 Axes>"
      ]
     },
     "metadata": {},
     "output_type": "display_data"
    },
    {
     "name": "stdout",
     "output_type": "stream",
     "text": [
      "AUC score: 0.49563204843882847\n"
     ]
    }
   ],
   "source": [
    "# apply function to plot the ROC Curve\n",
    "roc_curve(X_test=X_test, y_test=y_test, model=gnb2)"
   ]
  },
  {
   "cell_type": "markdown",
   "metadata": {},
   "source": [
    "## Cross Validation Using KFold </b>\n",
    "For more information on the topic, please click the following [link](https://stackabuse.com/cross-validation-and-grid-search-for-model-selection-in-python/).\n",
    "<br> The details of the package are noted [here](https://scikit-learn.org/stable/modules/generated/sklearn.model_selection.KFold.html)."
   ]
  },
  {
   "cell_type": "markdown",
   "metadata": {},
   "source": [
    "<a id = \"80033\"> <h2> 3.3 Cross Validation (Oversampling)  </h2> </a>"
   ]
  },
  {
   "cell_type": "markdown",
   "metadata": {},
   "source": [
    "We oversample X and Y with cross validation and NOT using the previously employed 1 hold-out method!"
   ]
  },
  {
   "cell_type": "code",
   "execution_count": 192,
   "metadata": {},
   "outputs": [
    {
     "name": "stdout",
     "output_type": "stream",
     "text": [
      "After OverSampling, the shape of X_res: (20844, 23)\n",
      "After OverSampling, the shape of y_res: (20844,) \n",
      "\n",
      "After OverSampling, counts of label '1': 10422\n",
      "After OverSampling, counts of label '0': 10422\n"
     ]
    },
    {
     "name": "stderr",
     "output_type": "stream",
     "text": [
      "/opt/tljh/user/lib/python3.6/site-packages/sklearn/utils/deprecation.py:87: FutureWarning: Function safe_indexing is deprecated; safe_indexing is deprecated in version 0.22 and will be removed in version 0.24.\n",
      "  warnings.warn(msg, category=FutureWarning)\n"
     ]
    }
   ],
   "source": [
    "sm = SMOTE(random_state = 2019) \n",
    "X_res, y_res = sm.fit_sample(X, Y) \n",
    "\n",
    "print('After OverSampling, the shape of X_res: {}'.format(X_res.shape)) \n",
    "print('After OverSampling, the shape of y_res: {} \\n'.format(y_res.shape)) \n",
    "  \n",
    "print(\"After OverSampling, counts of label '1': {}\".format(sum(y_res == 1))) \n",
    "print(\"After OverSampling, counts of label '0': {}\".format(sum(y_res == 0)))"
   ]
  },
  {
   "cell_type": "code",
   "execution_count": 193,
   "metadata": {},
   "outputs": [
    {
     "name": "stdout",
     "output_type": "stream",
     "text": [
      "--------------------------------------------------------------------------\n",
      "All the weighted f1 results:\n",
      "--------------------------------------------------------------------------\n",
      "[0.70810545 0.69996905 0.67958027 0.67742621 0.69246898 0.70240027\n",
      " 0.6473011  0.68017384 0.67122856 0.6921929 ] \n",
      "\n",
      "--------------------------------------------------------------------------\n",
      "Average of all the weighted f1 results:\n",
      "--------------------------------------------------------------------------\n",
      "0.6851 \n",
      "\n",
      "--------------------------------------------------------------------------\n",
      "All the AUC score results:\n",
      "--------------------------------------------------------------------------\n",
      "[0.86916762 0.86809928 0.8660023  0.85687222 0.86481255 0.86959239\n",
      " 0.85741374 0.85584599 0.85759887 0.86486046] \n",
      "\n",
      "--------------------------------------------------------------------------\n",
      "Average of all the AUC score results:\n",
      "--------------------------------------------------------------------------\n",
      "avg AUC score 0.8630265414946585\n"
     ]
    }
   ],
   "source": [
    "# Build the k-fold cross-validator\n",
    "k_fold_split = 10\n",
    "kfold = KFold(n_splits=k_fold_split, random_state=2019, shuffle=True)\n",
    "\n",
    "result = cross_val_score(gnb1, X_res, y_res, cv=kfold, scoring='accuracy')\n",
    "result_f1_weighted = cross_val_score(gnb1, X_res, y_res, cv=kfold, scoring='f1_weighted')\n",
    "result_auc = cross_val_score(gnb1, X_res, y_res, cv=kfold, scoring='roc_auc')\n",
    "\n",
    "print('--------------------------------------------------------------------------')\n",
    "print('All the weighted f1 results:')\n",
    "print('--------------------------------------------------------------------------')\n",
    "print(result_f1_weighted, '\\n')\n",
    "\n",
    "print('--------------------------------------------------------------------------')\n",
    "print('Average of all the weighted f1 results:')\n",
    "print('--------------------------------------------------------------------------')\n",
    "print(round(result_f1_weighted.mean(), 4), '\\n')\n",
    "\n",
    "\n",
    "print('--------------------------------------------------------------------------')\n",
    "print('All the AUC score results:')\n",
    "print('--------------------------------------------------------------------------')\n",
    "print(result_auc, '\\n')\n",
    "\n",
    "print('--------------------------------------------------------------------------')\n",
    "print('Average of all the AUC score results:')\n",
    "print('--------------------------------------------------------------------------')\n",
    "print('avg AUC score', result_auc.mean())"
   ]
  },
  {
   "cell_type": "markdown",
   "metadata": {},
   "source": [
    "<b> ROC Curve Cross validation on oversampled dataset"
   ]
  },
  {
   "cell_type": "code",
   "execution_count": 194,
   "metadata": {},
   "outputs": [
    {
     "data": {
      "image/png": "[encoded data removed]",
      "text/plain": [
       "<Figure size 432x288 with 1 Axes>"
      ]
     },
     "metadata": {},
     "output_type": "display_data"
    },
    {
     "name": "stdout",
     "output_type": "stream",
     "text": [
      "AUC score: 0.8618636837674287\n"
     ]
    }
   ],
   "source": [
    "# roc curve with KFold\n",
    "roc_curve(X_test=X_res, y_test=y_res, model=gnb1)"
   ]
  },
  {
   "cell_type": "markdown",
   "metadata": {},
   "source": [
    "<a id = \"80034\"> <h2> 3.4 Cross Validation (Undersampling)  </h2> </a>"
   ]
  },
  {
   "cell_type": "code",
   "execution_count": 195,
   "metadata": {},
   "outputs": [
    {
     "name": "stderr",
     "output_type": "stream",
     "text": [
      "/opt/tljh/user/lib/python3.6/site-packages/sklearn/utils/deprecation.py:87: FutureWarning: Function safe_indexing is deprecated; safe_indexing is deprecated in version 0.22 and will be removed in version 0.24.\n",
      "  warnings.warn(msg, category=FutureWarning)\n",
      "/opt/tljh/user/lib/python3.6/site-packages/sklearn/utils/deprecation.py:87: FutureWarning: Function safe_indexing is deprecated; safe_indexing is deprecated in version 0.22 and will be removed in version 0.24.\n",
      "  warnings.warn(msg, category=FutureWarning)\n",
      "/opt/tljh/user/lib/python3.6/site-packages/sklearn/utils/deprecation.py:87: FutureWarning: Function safe_indexing is deprecated; safe_indexing is deprecated in version 0.22 and will be removed in version 0.24.\n",
      "  warnings.warn(msg, category=FutureWarning)\n"
     ]
    },
    {
     "name": "stdout",
     "output_type": "stream",
     "text": [
      "--------------------------------------------------------------------------\n",
      "All the accuracy results:\n",
      "--------------------------------------------------------------------------\n",
      "[0.5052356  0.51832461 0.51570681 0.5        0.51308901 0.56806283\n",
      " 0.49343832 0.52493438 0.53543307 0.54068241] \n",
      "\n",
      "--------------------------------------------------------------------------\n",
      "Average of all the accuracy results:\n",
      "--------------------------------------------------------------------------\n",
      "0.5215 \n",
      "\n",
      "--------------------------------------------------------------------------\n",
      "All the weighted f1 results:\n",
      "--------------------------------------------------------------------------\n",
      "[0.36577001 0.36764532 0.37240416 0.36444041 0.36949135 0.44149242\n",
      " 0.36067389 0.38679531 0.40871592 0.40546071] \n",
      "\n",
      "--------------------------------------------------------------------------\n",
      "Average of all the weighted f1 results:\n",
      "--------------------------------------------------------------------------\n",
      "0.3843 \n",
      "\n",
      "--------------------------------------------------------------------------\n",
      "All the AUC score results:\n",
      "--------------------------------------------------------------------------\n",
      "[0.71609413 0.7531184  0.79439099 0.76611221 0.76838397 0.72795921\n",
      " 0.73410085 0.7376681  0.75153315 0.77142857] \n",
      "\n",
      "--------------------------------------------------------------------------\n",
      "Average of all the AUC score results:\n",
      "--------------------------------------------------------------------------\n",
      "avg AUC score 0.7520789575059217\n"
     ]
    }
   ],
   "source": [
    "# apply near miss \n",
    "nr = NearMiss(random_state=2019)\n",
    "  \n",
    "# resample the training dataset\n",
    "X_miss, y_miss = nr.fit_sample(X, Y)\n",
    "\n",
    "# Build the k-fold cross-validator\n",
    "k_fold_split = 10\n",
    "kfold = KFold(n_splits=k_fold_split, random_state=2019, shuffle=True)\n",
    "\n",
    "result = cross_val_score(gnb2, X_miss, y_miss, cv=kfold, scoring='accuracy')\n",
    "result_f1_weighted = cross_val_score(gnb2, X_miss, y_miss, cv=kfold, scoring='f1_weighted')\n",
    "result_auc = cross_val_score(gnb2, X_miss, y_miss, cv=kfold, scoring='roc_auc')\n",
    "print('--------------------------------------------------------------------------')\n",
    "print('All the accuracy results:')\n",
    "print('--------------------------------------------------------------------------')\n",
    "print(result, '\\n')\n",
    "\n",
    "print('--------------------------------------------------------------------------')\n",
    "print('Average of all the accuracy results:')\n",
    "print('--------------------------------------------------------------------------')\n",
    "print(round(result.mean(), 4), '\\n')\n",
    "\n",
    "print('--------------------------------------------------------------------------')\n",
    "print('All the weighted f1 results:')\n",
    "print('--------------------------------------------------------------------------')\n",
    "print(result_f1_weighted, '\\n')\n",
    "\n",
    "print('--------------------------------------------------------------------------')\n",
    "print('Average of all the weighted f1 results:')\n",
    "print('--------------------------------------------------------------------------')\n",
    "print(round(result_f1_weighted.mean(), 4), '\\n')\n",
    "\n",
    "print('--------------------------------------------------------------------------')\n",
    "print('All the AUC score results:')\n",
    "print('--------------------------------------------------------------------------')\n",
    "print(result_auc, '\\n')\n",
    "\n",
    "print('--------------------------------------------------------------------------')\n",
    "print('Average of all the AUC score results:')\n",
    "print('--------------------------------------------------------------------------')\n",
    "print('avg AUC score', result_auc.mean())"
   ]
  },
  {
   "cell_type": "code",
   "execution_count": 196,
   "metadata": {},
   "outputs": [
    {
     "data": {
      "image/png": "[encoded data removed]",
      "text/plain": [
       "<Figure size 432x288 with 1 Axes>"
      ]
     },
     "metadata": {},
     "output_type": "display_data"
    },
    {
     "name": "stdout",
     "output_type": "stream",
     "text": [
      "AUC score: 0.7542355864527159\n"
     ]
    }
   ],
   "source": [
    "# roc curve with KFold\n",
    "roc_curve(X_test=X_miss, y_test=y_miss, model=gnb2)"
   ]
  },
  {
   "cell_type": "markdown",
   "metadata": {},
   "source": [
    "<b> Cross validation on X and Y"
   ]
  },
  {
   "cell_type": "code",
   "execution_count": 197,
   "metadata": {},
   "outputs": [
    {
     "name": "stdout",
     "output_type": "stream",
     "text": [
      "--------------------------------------------------------------------------\n",
      "Average of all the accuracy results:\n",
      "--------------------------------------------------------------------------\n",
      "0.7054 \n",
      "\n",
      "--------------------------------------------------------------------------\n",
      "Average of all the weighted f1 results:\n",
      "--------------------------------------------------------------------------\n",
      "0.7309 \n",
      "\n",
      "--------------------------------------------------------------------------\n",
      "Average of all the AUC score results:\n",
      "--------------------------------------------------------------------------\n",
      "0.8506\n"
     ]
    }
   ],
   "source": [
    "# Build the k-fold cross-validator\n",
    "k_fold_split = 10\n",
    "kfold = KFold(n_splits=k_fold_split, random_state=2019, shuffle=True)\n",
    "\n",
    "result_accuracy = cross_val_score(gnb1, X, Y, cv=kfold, scoring='accuracy')\n",
    "result_f1_weighted = cross_val_score(gnb1, X, Y, cv=kfold, scoring='f1_weighted')\n",
    "result_auc = cross_val_score(gnb1, X, Y, cv=kfold, scoring='roc_auc')\n",
    "print('--------------------------------------------------------------------------')\n",
    "print('Average of all the accuracy results:')\n",
    "print('--------------------------------------------------------------------------')\n",
    "print(round(result_accuracy.mean(), 4), '\\n')\n",
    "\n",
    "print('--------------------------------------------------------------------------')\n",
    "print('Average of all the weighted f1 results:')\n",
    "print('--------------------------------------------------------------------------')\n",
    "print(round(result_f1_weighted.mean(), 4), '\\n')\n",
    "\n",
    "print('--------------------------------------------------------------------------')\n",
    "print('Average of all the AUC score results:')\n",
    "print('--------------------------------------------------------------------------')\n",
    "print(round(result_auc.mean(), 4))"
   ]
  },
  {
   "cell_type": "markdown",
   "metadata": {},
   "source": [
    "<a id = \"80035\"> <h2> 3.5 Feature Importance </h2> </a>"
   ]
  },
  {
   "cell_type": "markdown",
   "metadata": {},
   "source": [
    "For Feature Importance we consider the oversampled trained/fitted model (named: 'gnb1') which has better results."
   ]
  },
  {
   "cell_type": "code",
   "execution_count": 111,
   "metadata": {},
   "outputs": [
    {
     "data": {
      "text/html": [
       "<div>\n",
       "<style scoped>\n",
       "    .dataframe tbody tr th:only-of-type {\n",
       "        vertical-align: middle;\n",
       "    }\n",
       "\n",
       "    .dataframe tbody tr th {\n",
       "        vertical-align: top;\n",
       "    }\n",
       "\n",
       "    .dataframe thead th {\n",
       "        text-align: right;\n",
       "    }\n",
       "</style>\n",
       "<table border=\"1\" class=\"dataframe\">\n",
       "  <thead>\n",
       "    <tr style=\"text-align: right;\">\n",
       "      <th></th>\n",
       "      <th>Feature</th>\n",
       "      <th>Variance Class 0</th>\n",
       "      <th>Mean Class 0</th>\n",
       "    </tr>\n",
       "  </thead>\n",
       "  <tbody>\n",
       "    <tr>\n",
       "      <th>0</th>\n",
       "      <td>add_exit_bounce_rates_yj_stdev_zscore</td>\n",
       "      <td>1.04</td>\n",
       "      <td>0.107951</td>\n",
       "    </tr>\n",
       "    <tr>\n",
       "      <th>1</th>\n",
       "      <td>Administrative_yj_stdev_zscore</td>\n",
       "      <td>0.98</td>\n",
       "      <td>-0.079638</td>\n",
       "    </tr>\n",
       "    <tr>\n",
       "      <th>2</th>\n",
       "      <td>PageValues_yj_stdev_zscore</td>\n",
       "      <td>0.55</td>\n",
       "      <td>-0.266066</td>\n",
       "    </tr>\n",
       "    <tr>\n",
       "      <th>3</th>\n",
       "      <td>Region_1</td>\n",
       "      <td>0.24</td>\n",
       "      <td>0.385407</td>\n",
       "    </tr>\n",
       "    <tr>\n",
       "      <th>4</th>\n",
       "      <td>TrafficType_2</td>\n",
       "      <td>0.21</td>\n",
       "      <td>0.293924</td>\n",
       "    </tr>\n",
       "    <tr>\n",
       "      <th>5</th>\n",
       "      <td>Month_May</td>\n",
       "      <td>0.21</td>\n",
       "      <td>0.291181</td>\n",
       "    </tr>\n",
       "    <tr>\n",
       "      <th>6</th>\n",
       "      <td>TrafficType_1</td>\n",
       "      <td>0.17</td>\n",
       "      <td>0.209436</td>\n",
       "    </tr>\n",
       "    <tr>\n",
       "      <th>7</th>\n",
       "      <td>Month_Nov</td>\n",
       "      <td>0.17</td>\n",
       "      <td>0.216431</td>\n",
       "    </tr>\n",
       "    <tr>\n",
       "      <th>8</th>\n",
       "      <td>OperatingSystems_3</td>\n",
       "      <td>0.17</td>\n",
       "      <td>0.214785</td>\n",
       "    </tr>\n",
       "    <tr>\n",
       "      <th>9</th>\n",
       "      <td>TrafficType_3</td>\n",
       "      <td>0.15</td>\n",
       "      <td>0.179399</td>\n",
       "    </tr>\n",
       "    <tr>\n",
       "      <th>10</th>\n",
       "      <td>Month_Mar</td>\n",
       "      <td>0.14</td>\n",
       "      <td>0.164586</td>\n",
       "    </tr>\n",
       "    <tr>\n",
       "      <th>11</th>\n",
       "      <td>Month_Dec</td>\n",
       "      <td>0.12</td>\n",
       "      <td>0.144013</td>\n",
       "    </tr>\n",
       "    <tr>\n",
       "      <th>12</th>\n",
       "      <td>VisitorType_New_Visitor</td>\n",
       "      <td>0.11</td>\n",
       "      <td>0.120697</td>\n",
       "    </tr>\n",
       "    <tr>\n",
       "      <th>13</th>\n",
       "      <td>TrafficType_13</td>\n",
       "      <td>0.06</td>\n",
       "      <td>0.066932</td>\n",
       "    </tr>\n",
       "    <tr>\n",
       "      <th>14</th>\n",
       "      <td>Month_Oct</td>\n",
       "      <td>0.04</td>\n",
       "      <td>0.040461</td>\n",
       "    </tr>\n",
       "    <tr>\n",
       "      <th>15</th>\n",
       "      <td>SpecialDay_0.8</td>\n",
       "      <td>0.03</td>\n",
       "      <td>0.031957</td>\n",
       "    </tr>\n",
       "    <tr>\n",
       "      <th>16</th>\n",
       "      <td>TrafficType_8</td>\n",
       "      <td>0.02</td>\n",
       "      <td>0.024277</td>\n",
       "    </tr>\n",
       "    <tr>\n",
       "      <th>17</th>\n",
       "      <td>Month_Feb</td>\n",
       "      <td>0.02</td>\n",
       "      <td>0.016184</td>\n",
       "    </tr>\n",
       "    <tr>\n",
       "      <th>18</th>\n",
       "      <td>SpecialDay_0.4</td>\n",
       "      <td>0.02</td>\n",
       "      <td>0.021945</td>\n",
       "    </tr>\n",
       "    <tr>\n",
       "      <th>19</th>\n",
       "      <td>TrafficType_20</td>\n",
       "      <td>0.01</td>\n",
       "      <td>0.014538</td>\n",
       "    </tr>\n",
       "    <tr>\n",
       "      <th>20</th>\n",
       "      <td>Browser_12</td>\n",
       "      <td>0.00</td>\n",
       "      <td>0.000549</td>\n",
       "    </tr>\n",
       "    <tr>\n",
       "      <th>21</th>\n",
       "      <td>OperatingSystems_7</td>\n",
       "      <td>0.00</td>\n",
       "      <td>0.000686</td>\n",
       "    </tr>\n",
       "    <tr>\n",
       "      <th>22</th>\n",
       "      <td>TrafficType_16</td>\n",
       "      <td>0.00</td>\n",
       "      <td>0.000000</td>\n",
       "    </tr>\n",
       "  </tbody>\n",
       "</table>\n",
       "</div>"
      ],
      "text/plain": [
       "                                  Feature  Variance Class 0  Mean Class 0\n",
       "0   add_exit_bounce_rates_yj_stdev_zscore              1.04      0.107951\n",
       "1          Administrative_yj_stdev_zscore              0.98     -0.079638\n",
       "2              PageValues_yj_stdev_zscore              0.55     -0.266066\n",
       "3                                Region_1              0.24      0.385407\n",
       "4                           TrafficType_2              0.21      0.293924\n",
       "5                               Month_May              0.21      0.291181\n",
       "6                           TrafficType_1              0.17      0.209436\n",
       "7                               Month_Nov              0.17      0.216431\n",
       "8                      OperatingSystems_3              0.17      0.214785\n",
       "9                           TrafficType_3              0.15      0.179399\n",
       "10                              Month_Mar              0.14      0.164586\n",
       "11                              Month_Dec              0.12      0.144013\n",
       "12                VisitorType_New_Visitor              0.11      0.120697\n",
       "13                         TrafficType_13              0.06      0.066932\n",
       "14                              Month_Oct              0.04      0.040461\n",
       "15                         SpecialDay_0.8              0.03      0.031957\n",
       "16                          TrafficType_8              0.02      0.024277\n",
       "17                              Month_Feb              0.02      0.016184\n",
       "18                         SpecialDay_0.4              0.02      0.021945\n",
       "19                         TrafficType_20              0.01      0.014538\n",
       "20                             Browser_12              0.00      0.000549\n",
       "21                     OperatingSystems_7              0.00      0.000686\n",
       "22                         TrafficType_16              0.00      0.000000"
      ]
     },
     "execution_count": 111,
     "metadata": {},
     "output_type": "execute_result"
    }
   ],
   "source": [
    "# class 0 variance\n",
    "gnb1.sigma_[0]\n",
    "# class 1 variance\n",
    "gnb1.sigma_[1]\n",
    "\n",
    "# mean of each feature per class\n",
    "# array, shape (n_classes, n_features)\n",
    "# class 0 mean\n",
    "gnb1.theta_[0]\n",
    "# class 1 mean\n",
    "gnb1.theta_[1]\n",
    "\n",
    "lst_variance_class_0 = []\n",
    "lst_mean_class_0 = []\n",
    "lst_features = []\n",
    "\n",
    "for i in gnb1.sigma_[0]:\n",
    "    lst_variance_class_0.append((i).round(2))\n",
    "for j in list(X.columns):\n",
    "        lst_features.append(j)\n",
    "for k in gnb1.theta_[0]:\n",
    "    lst_mean_class_0.append(k)\n",
    "        \n",
    "# combine the 2 lists of class 0 and feature names into a dataframe\n",
    "dict_lists = {\"Feature\": lst_features, \"Variance Class 0\": lst_variance_class_0,  \"Mean Class 0\":lst_mean_class_0}\n",
    "df_class_0 = pd.DataFrame(dict_lists)\n",
    "# sort descending and reset index\n",
    "df_class_0.sort_values(by=['Variance Class 0'],  ascending=False, inplace=True)\n",
    "df_class_0.reset_index(inplace=True, drop=True)\n",
    "df_class_0"
   ]
  },
  {
   "cell_type": "code",
   "execution_count": 112,
   "metadata": {},
   "outputs": [
    {
     "data": {
      "text/html": [
       "<div>\n",
       "<style scoped>\n",
       "    .dataframe tbody tr th:only-of-type {\n",
       "        vertical-align: middle;\n",
       "    }\n",
       "\n",
       "    .dataframe tbody tr th {\n",
       "        vertical-align: top;\n",
       "    }\n",
       "\n",
       "    .dataframe thead th {\n",
       "        text-align: right;\n",
       "    }\n",
       "</style>\n",
       "<table border=\"1\" class=\"dataframe\">\n",
       "  <thead>\n",
       "    <tr style=\"text-align: right;\">\n",
       "      <th></th>\n",
       "      <th>Feature</th>\n",
       "      <th>Variance Class 1</th>\n",
       "      <th>Mean Class 1</th>\n",
       "    </tr>\n",
       "  </thead>\n",
       "  <tbody>\n",
       "    <tr>\n",
       "      <th>0</th>\n",
       "      <td>PageValues_yj_stdev_zscore</td>\n",
       "      <td>0.92</td>\n",
       "      <td>1.463836</td>\n",
       "    </tr>\n",
       "    <tr>\n",
       "      <th>1</th>\n",
       "      <td>Administrative_yj_stdev_zscore</td>\n",
       "      <td>0.90</td>\n",
       "      <td>0.366854</td>\n",
       "    </tr>\n",
       "    <tr>\n",
       "      <th>2</th>\n",
       "      <td>add_exit_bounce_rates_yj_stdev_zscore</td>\n",
       "      <td>0.35</td>\n",
       "      <td>-0.593416</td>\n",
       "    </tr>\n",
       "    <tr>\n",
       "      <th>3</th>\n",
       "      <td>TrafficType_2</td>\n",
       "      <td>0.24</td>\n",
       "      <td>0.446107</td>\n",
       "    </tr>\n",
       "    <tr>\n",
       "      <th>4</th>\n",
       "      <td>Month_Nov</td>\n",
       "      <td>0.24</td>\n",
       "      <td>0.391667</td>\n",
       "    </tr>\n",
       "    <tr>\n",
       "      <th>5</th>\n",
       "      <td>Region_1</td>\n",
       "      <td>0.23</td>\n",
       "      <td>0.382240</td>\n",
       "    </tr>\n",
       "    <tr>\n",
       "      <th>6</th>\n",
       "      <td>VisitorType_New_Visitor</td>\n",
       "      <td>0.16</td>\n",
       "      <td>0.210895</td>\n",
       "    </tr>\n",
       "    <tr>\n",
       "      <th>7</th>\n",
       "      <td>Month_May</td>\n",
       "      <td>0.16</td>\n",
       "      <td>0.206836</td>\n",
       "    </tr>\n",
       "    <tr>\n",
       "      <th>8</th>\n",
       "      <td>TrafficType_1</td>\n",
       "      <td>0.11</td>\n",
       "      <td>0.133662</td>\n",
       "    </tr>\n",
       "    <tr>\n",
       "      <th>9</th>\n",
       "      <td>Month_Dec</td>\n",
       "      <td>0.09</td>\n",
       "      <td>0.106043</td>\n",
       "    </tr>\n",
       "    <tr>\n",
       "      <th>10</th>\n",
       "      <td>Month_Mar</td>\n",
       "      <td>0.09</td>\n",
       "      <td>0.100633</td>\n",
       "    </tr>\n",
       "    <tr>\n",
       "      <th>11</th>\n",
       "      <td>OperatingSystems_3</td>\n",
       "      <td>0.08</td>\n",
       "      <td>0.104533</td>\n",
       "    </tr>\n",
       "    <tr>\n",
       "      <th>12</th>\n",
       "      <td>TrafficType_3</td>\n",
       "      <td>0.06</td>\n",
       "      <td>0.074393</td>\n",
       "    </tr>\n",
       "    <tr>\n",
       "      <th>13</th>\n",
       "      <td>Month_Oct</td>\n",
       "      <td>0.05</td>\n",
       "      <td>0.056164</td>\n",
       "    </tr>\n",
       "    <tr>\n",
       "      <th>14</th>\n",
       "      <td>TrafficType_8</td>\n",
       "      <td>0.04</td>\n",
       "      <td>0.042907</td>\n",
       "    </tr>\n",
       "    <tr>\n",
       "      <th>15</th>\n",
       "      <td>TrafficType_13</td>\n",
       "      <td>0.02</td>\n",
       "      <td>0.018715</td>\n",
       "    </tr>\n",
       "    <tr>\n",
       "      <th>16</th>\n",
       "      <td>TrafficType_20</td>\n",
       "      <td>0.02</td>\n",
       "      <td>0.024622</td>\n",
       "    </tr>\n",
       "    <tr>\n",
       "      <th>17</th>\n",
       "      <td>SpecialDay_0.8</td>\n",
       "      <td>0.00</td>\n",
       "      <td>0.004588</td>\n",
       "    </tr>\n",
       "    <tr>\n",
       "      <th>18</th>\n",
       "      <td>Month_Feb</td>\n",
       "      <td>0.00</td>\n",
       "      <td>0.000801</td>\n",
       "    </tr>\n",
       "    <tr>\n",
       "      <th>19</th>\n",
       "      <td>SpecialDay_0.4</td>\n",
       "      <td>0.00</td>\n",
       "      <td>0.004348</td>\n",
       "    </tr>\n",
       "    <tr>\n",
       "      <th>20</th>\n",
       "      <td>Browser_12</td>\n",
       "      <td>0.00</td>\n",
       "      <td>0.001028</td>\n",
       "    </tr>\n",
       "    <tr>\n",
       "      <th>21</th>\n",
       "      <td>OperatingSystems_7</td>\n",
       "      <td>0.00</td>\n",
       "      <td>0.000586</td>\n",
       "    </tr>\n",
       "    <tr>\n",
       "      <th>22</th>\n",
       "      <td>TrafficType_16</td>\n",
       "      <td>0.00</td>\n",
       "      <td>0.000000</td>\n",
       "    </tr>\n",
       "  </tbody>\n",
       "</table>\n",
       "</div>"
      ],
      "text/plain": [
       "                                  Feature  Variance Class 1  Mean Class 1\n",
       "0              PageValues_yj_stdev_zscore              0.92      1.463836\n",
       "1          Administrative_yj_stdev_zscore              0.90      0.366854\n",
       "2   add_exit_bounce_rates_yj_stdev_zscore              0.35     -0.593416\n",
       "3                           TrafficType_2              0.24      0.446107\n",
       "4                               Month_Nov              0.24      0.391667\n",
       "5                                Region_1              0.23      0.382240\n",
       "6                 VisitorType_New_Visitor              0.16      0.210895\n",
       "7                               Month_May              0.16      0.206836\n",
       "8                           TrafficType_1              0.11      0.133662\n",
       "9                               Month_Dec              0.09      0.106043\n",
       "10                              Month_Mar              0.09      0.100633\n",
       "11                     OperatingSystems_3              0.08      0.104533\n",
       "12                          TrafficType_3              0.06      0.074393\n",
       "13                              Month_Oct              0.05      0.056164\n",
       "14                          TrafficType_8              0.04      0.042907\n",
       "15                         TrafficType_13              0.02      0.018715\n",
       "16                         TrafficType_20              0.02      0.024622\n",
       "17                         SpecialDay_0.8              0.00      0.004588\n",
       "18                              Month_Feb              0.00      0.000801\n",
       "19                         SpecialDay_0.4              0.00      0.004348\n",
       "20                             Browser_12              0.00      0.001028\n",
       "21                     OperatingSystems_7              0.00      0.000586\n",
       "22                         TrafficType_16              0.00      0.000000"
      ]
     },
     "execution_count": 112,
     "metadata": {},
     "output_type": "execute_result"
    }
   ],
   "source": [
    "lst_variance_class_1 = []\n",
    "lst_mean_class_1 = []\n",
    "lst_features = []\n",
    "\n",
    "for i in gnb1.sigma_[1]:\n",
    "    lst_variance_class_1.append((i).round(2))\n",
    "for j in list(X.columns):\n",
    "        lst_features.append(j)\n",
    "for k in gnb1.theta_[1]:\n",
    "    lst_mean_class_1.append(k)\n",
    "        \n",
    "# combine the 2 lists of class 0 and feature names into a dataframe\n",
    "dict_lists = {\"Feature\": lst_features, \"Variance Class 1\": lst_variance_class_1,  \"Mean Class 1\":lst_mean_class_1}\n",
    "df_class_1 = pd.DataFrame(dict_lists)\n",
    "# sort descending and reset index\n",
    "df_class_1.sort_values(by=['Variance Class 1'],  ascending=False, inplace=True)\n",
    "df_class_1.reset_index(inplace=True, drop=True)\n",
    "df_class_1"
   ]
  },
  {
   "cell_type": "markdown",
   "metadata": {},
   "source": [
    "<a id = \"810\"> <h2> Results </h2> </a>\n",
    "___"
   ]
  },
  {
   "cell_type": "markdown",
   "metadata": {},
   "source": [
    "<b> Left align all markdown tables"
   ]
  },
  {
   "cell_type": "code",
   "execution_count": 113,
   "metadata": {},
   "outputs": [
    {
     "data": {
      "text/html": [
       "<style>\n",
       "    table {\n",
       "        display: inline-block\n",
       "    }\n",
       "</style>\n"
      ],
      "text/plain": [
       "<IPython.core.display.HTML object>"
      ]
     },
     "metadata": {},
     "output_type": "display_data"
    }
   ],
   "source": [
    "%%html\n",
    "<style>\n",
    "    table {\n",
    "        display: inline-block\n",
    "    }\n",
    "</style>"
   ]
  },
  {
   "cell_type": "markdown",
   "metadata": {},
   "source": [
    "### Pipeline 1 Results </b>\n",
    "_Note:_ tool used for Excel table to markdown conversion, namely: https://tableconvert.com/"
   ]
  },
  {
   "cell_type": "markdown",
   "metadata": {},
   "source": [
    "| **Model**                                                | **weighted avg F1-score** | **AUC score** |\n",
    "|  --------------------------------------------------------|:-------------------------:|:-------------:|\n",
    "| Basic Model 70 Training set, 30% Test Set                | 0\\.80                     | 0\\.842        |\n",
    "| Oversampled 70% Training Set, 30% Test Set  \\(SMOTE\\)    | 0\\.61                     | 0\\.834        |\n",
    "| Undersampled 70% Training set, 30% Test Set \\(Nearmiss\\) | 0\\.73                     | 0\\.481        |\n",
    "| Cross validation Oversampled X, y \\(KFold = 10\\)         | 0\\.39                     | 0\\.877        |\n",
    "| Cross validation Undersampled X, y \\(KFold = 10\\)        | 0\\.42                     | 0\\.783        |\n",
    "| Cross validation X, y \\(KFold = 10\\)                     | 0\\.727                    | 0\\.841        |"
   ]
  },
  {
   "cell_type": "markdown",
   "metadata": {},
   "source": [
    "### Pipeline 2 Results </b>"
   ]
  },
  {
   "cell_type": "markdown",
   "metadata": {},
   "source": [
    "| **Model**                                                | **weighted avg F1-score** | **AUC score** |\n",
    "|--------------------------------------------------------  |:-------------------------:|:-------------:|\n",
    "| Basic Model 70 Training set, 30% Test Set                | 0\\.13                     | 0\\.862        |\n",
    "| Oversampled 70% Training Set, 30% Test Set  \\(SMOTE\\)    | 0\\.13                     | 0\\.861        |\n",
    "| Undersampled 70% Training set, 30% Test Set \\(Nearmiss\\) | 0\\.74                     | 0\\.489        |\n",
    "| Cross validation Oversampled X, y \\(KFold = 10\\)         | 0\\.39                     | 0\\.877        |\n",
    "| Cross validation Undersampled X, y \\(Kfold = 10\\)        | 0\\.42                     | 0\\.783        |\n",
    "| Cross validation X, y \\(KFold = 10\\)                     | 0\\.15                     | 0\\.869        |\n"
   ]
  },
  {
   "cell_type": "markdown",
   "metadata": {},
   "source": [
    "### Pipeline 3 Results </b>"
   ]
  },
  {
   "cell_type": "markdown",
   "metadata": {},
   "source": [
    "| **Model**                                                | **weighted avg F1-score** | **AUC score** |\n",
    "|  --------------------------------------------------------|:-------------------------:|:-------------:|\n",
    "| Basic Model 70 Training set, 30% Test Set                | 0\\.80                     | 0\\.845        |\n",
    "| Oversampled 70% Training Set, 30% Test Set  \\(SMOTE\\)    | 0\\.63                     | 0\\.843        |\n",
    "| Undersampled 70% Training set, 30% Test Set \\(Nearmiss\\) | 0\\.74                     | 0\\.496        |\n",
    "| Cross validation \\(KFold = 10\\) Oversampled X, y         | 0\\.69                     | 0\\.863        |\n",
    "| Cross validation \\(Kfold = 10\\) Undersampled X, y        | 0\\.38                     | 0\\.752        |\n",
    "| Cross validation X, y \\(KFold = 10\\)                     | 0\\.731                    | 0\\.851        |\n"
   ]
  },
  {
   "cell_type": "markdown",
   "metadata": {},
   "source": [
    "<b> Conclusion: </b> \n",
    "___\n",
    "<b> Pipeline 1 and Pipeline 3 </b> have similar scores for the <b> \"average weighted f1-score\" </b> and <b> \"average auc-score\" </b>, whereby the most reliable results are obtained by using cross validation and oversampling. They outperform <b> Pipeline 2 </b> results for the weighted average f1-score and average auc-sore."
   ]
  }
 ],
 "metadata": {
  "kernelspec": {
   "display_name": "Python 3",
   "language": "python",
   "name": "python3"
  },
  "language_info": {
   "codemirror_mode": {
    "name": "ipython",
    "version": 3
   },
   "file_extension": ".py",
   "mimetype": "text/x-python",
   "name": "python",
   "nbconvert_exporter": "python",
   "pygments_lexer": "ipython3",
   "version": "3.6.7"
  }
 },
 "nbformat": 4,
 "nbformat_minor": 4
}
