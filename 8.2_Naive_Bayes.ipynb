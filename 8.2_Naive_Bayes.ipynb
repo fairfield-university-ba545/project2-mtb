{
 "cells": [
  {
   "cell_type": "markdown",
   "metadata": {},
   "source": [
    "# <b> Naive Bayes </b>\n",
    "___"
   ]
  },
  {
   "cell_type": "markdown",
   "metadata": {},
   "source": [
    "<b> Table of Content: </b>\n",
    "<br> [Pipeline_1](#100)\n",
    "<br> [Pipeline 2](#200)\n",
    "<br> [Pipeline 3](#300)"
   ]
  },
  {
   "cell_type": "markdown",
   "metadata": {},
   "source": [
    "Loading Modules and Datasets"
   ]
  },
  {
   "cell_type": "code",
   "execution_count": 27,
   "metadata": {},
   "outputs": [],
   "source": [
    "import pandas as pd\n",
    "import numpy as np\n",
    "from sklearn import preprocessing\n",
    "from sklearn.model_selection import train_test_split\n",
    "from sklearn.naive_bayes import GaussianNB\n",
    "from sklearn import metrics\n",
    "\n",
    "# import necessary packages  \n",
    "from sklearn.datasets import make_classification\n",
    "from sklearn.preprocessing import StandardScaler \n",
    "from sklearn.metrics import confusion_matrix, classification_report \n",
    "from imblearn.over_sampling import SMOTE\n",
    "from imblearn.under_sampling import NearMiss "
   ]
  },
  {
   "cell_type": "code",
   "execution_count": 28,
   "metadata": {},
   "outputs": [],
   "source": [
    "# read csv file to a pandas dataframe\n",
    "df_pipeline1 = pd.read_csv(\"pipeline_1.csv\")"
   ]
  },
  {
   "cell_type": "markdown",
   "metadata": {},
   "source": [
    "<a id = \"100\"> <h2> Pipeline 1 </h2> </a>\n",
    "___"
   ]
  },
  {
   "cell_type": "markdown",
   "metadata": {},
   "source": [
    "> Declare Features and Target"
   ]
  },
  {
   "cell_type": "code",
   "execution_count": 29,
   "metadata": {},
   "outputs": [
    {
     "data": {
      "text/plain": [
       "['PageValues_iqr_yj_zscore',\n",
       " 'Month_Nov',\n",
       " 'VisitorType_New_Visitor',\n",
       " 'Browser_12',\n",
       " 'TrafficType_2',\n",
       " 'TrafficType_3',\n",
       " 'Browser_13',\n",
       " 'Month_May',\n",
       " 'TrafficType_16',\n",
       " 'TrafficType_13',\n",
       " 'OperatingSystems_6',\n",
       " 'OperatingSystems_3',\n",
       " 'SpecialDay_0.8',\n",
       " 'TrafficType_1',\n",
       " 'Month_Mar',\n",
       " 'TrafficType_15',\n",
       " 'TrafficType_8',\n",
       " 'Month_Feb',\n",
       " 'Administrative_Duration_iqr_yj_zscore',\n",
       " 'OperatingSystems_7',\n",
       " 'avg_exit_bounce_rates_iqr_yj_zscore',\n",
       " 'Revenue']"
      ]
     },
     "execution_count": 29,
     "metadata": {},
     "output_type": "execute_result"
    }
   ],
   "source": [
    "# show all columns in dataset\n",
    "list(df_pipeline1.columns)[:]"
   ]
  },
  {
   "cell_type": "code",
   "execution_count": 30,
   "metadata": {},
   "outputs": [],
   "source": [
    "# Define Features and Target variables\n",
    "X = df_pipeline1.iloc[:, :-1] # Features is all columns in the dataframe except the last column\n",
    "Y = df_pipeline1.iloc[:, -1] # Target is the last column in the dataframe: 'Revenue'"
   ]
  },
  {
   "cell_type": "code",
   "execution_count": 31,
   "metadata": {},
   "outputs": [
    {
     "name": "stdout",
     "output_type": "stream",
     "text": [
      "Before OverSampling, the shape of train_X: (8631, 21)\n",
      "After OverSampling, the shape of train_y: (8631,) \n",
      "\n",
      "Before OverSampling, counts of label '1': 1340\n",
      "Before OverSampling, counts of label '0': 7291\n",
      "              precision    recall  f1-score   support\n",
      "\n",
      "           0       0.98      0.25      0.40      3131\n",
      "           1       0.19      0.97      0.32       568\n",
      "\n",
      "    accuracy                           0.36      3699\n",
      "   macro avg       0.58      0.61      0.36      3699\n",
      "weighted avg       0.86      0.36      0.39      3699\n",
      "\n"
     ]
    }
   ],
   "source": [
    "# Split dataset into training set and test set \n",
    "# 70% training and 30% test\n",
    "X_train, X_test, y_train, y_test = train_test_split(X, Y, test_size=0.3,random_state=2019) \n",
    "\n",
    "# Create a Gaussian Classifier\n",
    "gnb = GaussianNB()\n",
    "\n",
    "# Train the model using the training sets\n",
    "gnb.fit(X_train, y_train)\n",
    "\n",
    "print('Before OverSampling, the shape of train_X: {}'.format(X_train.shape)) \n",
    "print('After OverSampling, the shape of train_y: {} \\n'.format(y_train.shape)) \n",
    "  \n",
    "print(\"Before OverSampling, counts of label '1': {}\".format(sum(y_train == 1))) \n",
    "print(\"Before OverSampling, counts of label '0': {}\".format(sum(y_train == 0)))\n",
    "\n",
    "# Predict the response for test dataset\n",
    "y_pred = gnb.predict(X_test)\n",
    "\n",
    "# print classification report \n",
    "print(classification_report(y_test, y_pred))"
   ]
  },
  {
   "cell_type": "code",
   "execution_count": 32,
   "metadata": {},
   "outputs": [
    {
     "name": "stdout",
     "output_type": "stream",
     "text": [
      "Accuracy Naive Bayes, pipeline 1: 0.3601\n"
     ]
    }
   ],
   "source": [
    "# Model Accuracy, how often is the classifier correct?\n",
    "print(\"Accuracy Naive Bayes, pipeline 1:\", metrics.accuracy_score(y_test, y_pred).round(4))"
   ]
  },
  {
   "cell_type": "markdown",
   "metadata": {},
   "source": [
    "<b> 1.1 Synthetic Minority Oversampling Technique (SMOTE)"
   ]
  },
  {
   "cell_type": "markdown",
   "metadata": {},
   "source": [
    "We oversample the dataset, because the classes within our target variable 'Revenue' are imbalanced:\n",
    "* class 0: 84.53%\n",
    "* class 1: 15.47%\n",
    "\n",
    "Fore more information, click on detailed information from Prof. Jie Tao [link](https://github.com/DrJieTao/ba545-docs/blob/master/competition2/handling_imbalanced_data_part2.ipynb)"
   ]
  },
  {
   "cell_type": "code",
   "execution_count": 33,
   "metadata": {},
   "outputs": [
    {
     "name": "stdout",
     "output_type": "stream",
     "text": [
      "After OverSampling, the shape of train_X: (14582, 21)\n",
      "After OverSampling, the shape of train_y: (14582,) \n",
      "\n",
      "After OverSampling, counts of label '1': 7291\n",
      "After OverSampling, counts of label '0': 7291\n"
     ]
    },
    {
     "name": "stderr",
     "output_type": "stream",
     "text": [
      "/opt/tljh/user/lib/python3.6/site-packages/sklearn/utils/deprecation.py:87: FutureWarning: Function safe_indexing is deprecated; safe_indexing is deprecated in version 0.22 and will be removed in version 0.24.\n",
      "  warnings.warn(msg, category=FutureWarning)\n"
     ]
    }
   ],
   "source": [
    "sm = SMOTE(random_state = 2019) \n",
    "X_train_res, y_train_res = sm.fit_sample(X_train, y_train) \n",
    "\n",
    "print('After OverSampling, the shape of train_X: {}'.format(X_train_res.shape)) \n",
    "print('After OverSampling, the shape of train_y: {} \\n'.format(y_train_res.shape)) \n",
    "  \n",
    "print(\"After OverSampling, counts of label '1': {}\".format(sum(y_train_res == 1))) \n",
    "print(\"After OverSampling, counts of label '0': {}\".format(sum(y_train_res == 0)))"
   ]
  },
  {
   "cell_type": "markdown",
   "metadata": {},
   "source": [
    "The SMOTE Algorithm has oversampled the instances in the minority class and made it equal to majority class:\n",
    "* Both classes (0 & 1) now have 7291 instances, the dataset is balanced.\n",
    "* Class 1 increased from 1340 instances to 7291 instances, an increase of 5951 instances of class 1."
   ]
  },
  {
   "cell_type": "code",
   "execution_count": 34,
   "metadata": {},
   "outputs": [
    {
     "name": "stdout",
     "output_type": "stream",
     "text": [
      "              precision    recall  f1-score   support\n",
      "\n",
      "           0       0.97      0.15      0.25      3131\n",
      "           1       0.17      0.97      0.29       568\n",
      "\n",
      "    accuracy                           0.27      3699\n",
      "   macro avg       0.57      0.56      0.27      3699\n",
      "weighted avg       0.84      0.27      0.26      3699\n",
      "\n"
     ]
    }
   ],
   "source": [
    "gnb1 = GaussianNB()\n",
    "gnb1.fit(X_train_res, y_train_res)\n",
    "y_pred = gnb1.predict(X_test) \n",
    "  \n",
    "# print classification report \n",
    "print(classification_report(y_test, y_pred))"
   ]
  },
  {
   "cell_type": "code",
   "execution_count": 35,
   "metadata": {},
   "outputs": [
    {
     "name": "stdout",
     "output_type": "stream",
     "text": [
      "Accuracy Naive Bayes, pipeline 1: 0.2733\n"
     ]
    }
   ],
   "source": [
    "# Model Accuracy, how often is the classifier correct?\n",
    "print(\"Accuracy Naive Bayes, pipeline 1:\", metrics.accuracy_score(y_test, y_pred).round(4))"
   ]
  },
  {
   "cell_type": "markdown",
   "metadata": {},
   "source": [
    "### Take-aways:\n",
    "- The accuracy for predicting class 1 of our target (predicting if a web user will make a purchase is) is 27.33% after oversampling.\n",
    "- Before oversampling it was 36.01%, which is a decrease of 8.68%. However after oversampling class 1, Our model is more unbiased.\n",
    "- This is an increase in accuracy over random guessing class 1 correctly, from 15.47% to 27.33%, which is a 11.86% increase."
   ]
  },
  {
   "cell_type": "markdown",
   "metadata": {},
   "source": [
    "<b> 1.2 NearMiss Under-Sampling Technique"
   ]
  },
  {
   "cell_type": "code",
   "execution_count": 36,
   "metadata": {},
   "outputs": [
    {
     "name": "stdout",
     "output_type": "stream",
     "text": [
      "After Undersampling, the shape of train_X: (2680, 21)\n",
      "After Undersampling, the shape of train_y: (2680,) \n",
      "\n",
      "After Undersampling, counts of label '1': 1340\n",
      "After Undersampling, counts of label '0': 1340\n"
     ]
    },
    {
     "name": "stderr",
     "output_type": "stream",
     "text": [
      "/opt/tljh/user/lib/python3.6/site-packages/sklearn/utils/deprecation.py:87: FutureWarning: Function safe_indexing is deprecated; safe_indexing is deprecated in version 0.22 and will be removed in version 0.24.\n",
      "  warnings.warn(msg, category=FutureWarning)\n",
      "/opt/tljh/user/lib/python3.6/site-packages/sklearn/utils/deprecation.py:87: FutureWarning: Function safe_indexing is deprecated; safe_indexing is deprecated in version 0.22 and will be removed in version 0.24.\n",
      "  warnings.warn(msg, category=FutureWarning)\n",
      "/opt/tljh/user/lib/python3.6/site-packages/sklearn/utils/deprecation.py:87: FutureWarning: Function safe_indexing is deprecated; safe_indexing is deprecated in version 0.22 and will be removed in version 0.24.\n",
      "  warnings.warn(msg, category=FutureWarning)\n"
     ]
    }
   ],
   "source": [
    "# apply near miss \n",
    "nr = NearMiss(random_state=123) \n",
    "  \n",
    "X_train_miss, y_train_miss = nr.fit_sample(X_train, y_train) \n",
    "  \n",
    "print('After Undersampling, the shape of train_X: {}'.format(X_train_miss.shape)) \n",
    "print('After Undersampling, the shape of train_y: {} \\n'.format(y_train_miss.shape)) \n",
    "  \n",
    "print(\"After Undersampling, counts of label '1': {}\".format(sum(y_train_miss == 1))) \n",
    "print(\"After Undersampling, counts of label '0': {}\".format(sum(y_train_miss == 0)))"
   ]
  },
  {
   "cell_type": "markdown",
   "metadata": {},
   "source": [
    "The NearMiss Algorithm has undersampled the instances in the majority class and made it equal to minority class:\n",
    "* Both classes (0 & 1) now have 1340 instances, the dataset is balanced.\n",
    "* Class 0 decreased from 7291 instances to 1340 instances, a decrease of 5951 instances of class 0."
   ]
  },
  {
   "cell_type": "code",
   "execution_count": 37,
   "metadata": {},
   "outputs": [
    {
     "name": "stdout",
     "output_type": "stream",
     "text": [
      "              precision    recall  f1-score   support\n",
      "\n",
      "           0       0.85      0.93      0.88      3131\n",
      "           1       0.14      0.07      0.09       568\n",
      "\n",
      "    accuracy                           0.79      3699\n",
      "   macro avg       0.49      0.50      0.49      3699\n",
      "weighted avg       0.74      0.79      0.76      3699\n",
      "\n"
     ]
    }
   ],
   "source": [
    "# train the model on train set \n",
    "gnb2 = GaussianNB()\n",
    "gnb2.fit(X_train_miss, y_train_miss) \n",
    "y_pred = gnb2.predict(X_test) \n",
    "\n",
    "# print classification report \n",
    "print(classification_report(y_test, y_pred))"
   ]
  },
  {
   "cell_type": "markdown",
   "metadata": {},
   "source": [
    "### Take-aways:\n",
    "- The accuracy for predicting class 1 of our target (predicting if a web user will make a purchase is) is 9% after undersampling.\n",
    "- Before undersampling it was 36.01%, which is a decrease of 27.01%. However after undersampling class 1, Our model is more unbiased.\n",
    "- NearMiss performs worse with 9% than random guessing with 15.47%, which is a decrease of 6.47%.\n",
    "- Oversampling with SMOTE however gives us a better F1 score and better accuracy which implies that SMOTE is probably a better technique to use for this dataset.\n",
    "<br> (27.33% accuracy for SMOTE) > (9.00% accuracy for NearMiss) in predicting class 1."
   ]
  },
  {
   "cell_type": "markdown",
   "metadata": {},
   "source": [
    "<a id = \"200\"> <h2> Pipeline 2 </h2> </a>\n",
    "___"
   ]
  },
  {
   "cell_type": "code",
   "execution_count": null,
   "metadata": {},
   "outputs": [],
   "source": []
  },
  {
   "cell_type": "markdown",
   "metadata": {},
   "source": [
    "<a id = \"300\"> <h2> Pipeline 3 </h2> </a>\n",
    "___"
   ]
  },
  {
   "cell_type": "code",
   "execution_count": null,
   "metadata": {},
   "outputs": [],
   "source": []
  }
 ],
 "metadata": {
  "kernelspec": {
   "display_name": "Python 3",
   "language": "python",
   "name": "python3"
  },
  "language_info": {
   "codemirror_mode": {
    "name": "ipython",
    "version": 3
   },
   "file_extension": ".py",
   "mimetype": "text/x-python",
   "name": "python",
   "nbconvert_exporter": "python",
   "pygments_lexer": "ipython3",
   "version": "3.6.7"
  }
 },
 "nbformat": 4,
 "nbformat_minor": 4
}
