{
 "cells": [
  {
   "cell_type": "markdown",
   "metadata": {},
   "source": [
    "# Note - Pipeline 2:\n",
    "> <b> Required Order: </b> \n",
    "    * Descriptive\n",
    "    * Imputation\n",
    "    * Calculation\n",
    "<b> Optional Order: </b>\n",
    "    * Standardization - Min-Max\n",
    "    * Normalization\n",
    "    * Outlier stdev\n",
    "<b> Required Order: </b>\n",
    "    * Correlation\n",
    "    * Binning\n",
    "    * Feature Selection"
   ]
  },
  {
   "cell_type": "markdown",
   "metadata": {},
   "source": [
    "# Descriptives #"
   ]
  },
  {
   "cell_type": "code",
   "execution_count": 1,
   "metadata": {},
   "outputs": [],
   "source": [
    "# import modules\n",
    "import pandas as pd\n",
    "\n",
    "import matplotlib.pyplot as plt\n",
    "import seaborn as sns\n",
    "\n",
    "from scipy import stats\n",
    "from scipy.stats import norm\n",
    "\n",
    "import numpy as np\n",
    "\n",
    "# Normalization (used in histogram)\n",
    "from scipy import stats\n",
    "from scipy.stats import norm\n",
    "## metric for calculation of kurtosis and skewness\n",
    "from scipy.stats import kurtosis, skew\n",
    "## Box-Cox or Yeo-johnson transformation\n",
    "from sklearn.preprocessing import PowerTransformer\n",
    "from sklearn.preprocessing import power_transform\n",
    "from scipy.stats import boxcox"
   ]
  },
  {
   "cell_type": "code",
   "execution_count": 2,
   "metadata": {},
   "outputs": [],
   "source": [
    "# read csv file to a pandas dataframe\n",
    "df = pd.read_csv(\"online_shoppers_intention.csv\")"
   ]
  },
  {
   "cell_type": "markdown",
   "metadata": {},
   "source": [
    "> Number of Rows, Number of Columns"
   ]
  },
  {
   "cell_type": "code",
   "execution_count": 3,
   "metadata": {},
   "outputs": [
    {
     "name": "stdout",
     "output_type": "stream",
     "text": [
      "There are # number of rows in the dataset    : 12330\n",
      "There are # number of columns in the dataset : 18\n"
     ]
    }
   ],
   "source": [
    "print('There are # number of rows in the dataset    :', df.shape[0])\n",
    "print('There are # number of columns in the dataset :', df.shape[1])"
   ]
  },
  {
   "cell_type": "markdown",
   "metadata": {},
   "source": [
    "> Show columns with associated datatypes and how many are non-null"
   ]
  },
  {
   "cell_type": "code",
   "execution_count": 4,
   "metadata": {},
   "outputs": [
    {
     "name": "stdout",
     "output_type": "stream",
     "text": [
      "<class 'pandas.core.frame.DataFrame'>\n",
      "RangeIndex: 12330 entries, 0 to 12329\n",
      "Data columns (total 18 columns):\n",
      "Administrative             12330 non-null int64\n",
      "Administrative_Duration    12330 non-null float64\n",
      "Informational              12330 non-null int64\n",
      "Informational_Duration     12330 non-null float64\n",
      "ProductRelated             12330 non-null int64\n",
      "ProductRelated_Duration    12330 non-null float64\n",
      "BounceRates                12330 non-null float64\n",
      "ExitRates                  12330 non-null float64\n",
      "PageValues                 12330 non-null float64\n",
      "SpecialDay                 12330 non-null float64\n",
      "Month                      12330 non-null object\n",
      "OperatingSystems           12330 non-null int64\n",
      "Browser                    12330 non-null int64\n",
      "Region                     12330 non-null int64\n",
      "TrafficType                12330 non-null int64\n",
      "VisitorType                12330 non-null object\n",
      "Weekend                    12330 non-null bool\n",
      "Revenue                    12330 non-null bool\n",
      "dtypes: bool(2), float64(7), int64(7), object(2)\n",
      "memory usage: 1.5+ MB\n"
     ]
    }
   ],
   "source": [
    "df.info()"
   ]
  },
  {
   "cell_type": "code",
   "execution_count": 5,
   "metadata": {},
   "outputs": [],
   "source": [
    "# convert table to markdown\n",
    "# see source: note: https://tableconvert.com/"
   ]
  },
  {
   "cell_type": "markdown",
   "metadata": {},
   "source": [
    "| Variable                 | # values            |  Data Type |\n",
    "|--------------------------|--------------------|---------|\n",
    "| Administrative           | 12330    non\\-null | int64   |\n",
    "| Administrative\\_Duration | 12330    non\\-null | float64 |\n",
    "| Informational            | 12330    non\\-null | int64   |\n",
    "| Informational\\_Duration  | 12330    non\\-null | float64 |\n",
    "| ProductRelated           | 12330    non\\-null | int64   |\n",
    "| ProductRelated\\_Duration | 12330    non\\-null | float64 |\n",
    "| BounceRates              | 12330    non\\-null | float64 |\n",
    "| ExitRates                | 12330    non\\-null | float64 |\n",
    "| PageValues               | 12330    non\\-null | float64 |\n",
    "| SpecialDay               | 12330    non\\-null | float64 |\n",
    "| Month                    | 12330    non\\-null | object  |\n",
    "| OperatingSystems         | 12330    non\\-null | int64   |\n",
    "| Browser                  | 12330    non\\-null | int64   |\n",
    "| Region                   | 12330    non\\-null | int64   |\n",
    "| TrafficType              | 12330    non\\-null | int64   |\n",
    "| VisitorType              | 12330    non\\-null | object  |\n",
    "| Weekend                  | 12330    non\\-null | bool    |\n",
    "| Revenue                  | 12330    non\\-null | bool    |\n"
   ]
  },
  {
   "cell_type": "markdown",
   "metadata": {},
   "source": [
    ">  Group Columns By Data Type"
   ]
  },
  {
   "cell_type": "code",
   "execution_count": 6,
   "metadata": {},
   "outputs": [
    {
     "data": {
      "text/plain": [
       "{dtype('bool'): Index(['Weekend', 'Revenue'], dtype='object'),\n",
       " dtype('int64'): Index(['Administrative', 'Informational', 'ProductRelated', 'OperatingSystems',\n",
       "        'Browser', 'Region', 'TrafficType'],\n",
       "       dtype='object'),\n",
       " dtype('float64'): Index(['Administrative_Duration', 'Informational_Duration',\n",
       "        'ProductRelated_Duration', 'BounceRates', 'ExitRates', 'PageValues',\n",
       "        'SpecialDay'],\n",
       "       dtype='object'),\n",
       " dtype('O'): Index(['Month', 'VisitorType'], dtype='object')}"
      ]
     },
     "execution_count": 6,
     "metadata": {},
     "output_type": "execute_result"
    }
   ],
   "source": [
    "df.columns.to_series().groupby(df.dtypes).groups"
   ]
  },
  {
   "cell_type": "code",
   "execution_count": 7,
   "metadata": {},
   "outputs": [
    {
     "data": {
      "text/html": [
       "<div>\n",
       "<style scoped>\n",
       "    .dataframe tbody tr th:only-of-type {\n",
       "        vertical-align: middle;\n",
       "    }\n",
       "\n",
       "    .dataframe tbody tr th {\n",
       "        vertical-align: top;\n",
       "    }\n",
       "\n",
       "    .dataframe thead th {\n",
       "        text-align: right;\n",
       "    }\n",
       "</style>\n",
       "<table border=\"1\" class=\"dataframe\">\n",
       "  <thead>\n",
       "    <tr style=\"text-align: right;\">\n",
       "      <th></th>\n",
       "      <th>Administrative</th>\n",
       "      <th>Administrative_Duration</th>\n",
       "      <th>Informational</th>\n",
       "      <th>Informational_Duration</th>\n",
       "      <th>ProductRelated</th>\n",
       "      <th>ProductRelated_Duration</th>\n",
       "      <th>BounceRates</th>\n",
       "      <th>ExitRates</th>\n",
       "      <th>PageValues</th>\n",
       "      <th>SpecialDay</th>\n",
       "      <th>Month</th>\n",
       "      <th>OperatingSystems</th>\n",
       "      <th>Browser</th>\n",
       "      <th>Region</th>\n",
       "      <th>TrafficType</th>\n",
       "      <th>VisitorType</th>\n",
       "      <th>Weekend</th>\n",
       "      <th>Revenue</th>\n",
       "    </tr>\n",
       "  </thead>\n",
       "  <tbody>\n",
       "    <tr>\n",
       "      <th>0</th>\n",
       "      <td>0</td>\n",
       "      <td>0.0</td>\n",
       "      <td>0</td>\n",
       "      <td>0.0</td>\n",
       "      <td>1</td>\n",
       "      <td>0.000000</td>\n",
       "      <td>0.20</td>\n",
       "      <td>0.20</td>\n",
       "      <td>0.0</td>\n",
       "      <td>0.0</td>\n",
       "      <td>Feb</td>\n",
       "      <td>1</td>\n",
       "      <td>1</td>\n",
       "      <td>1</td>\n",
       "      <td>1</td>\n",
       "      <td>Returning_Visitor</td>\n",
       "      <td>False</td>\n",
       "      <td>False</td>\n",
       "    </tr>\n",
       "    <tr>\n",
       "      <th>1</th>\n",
       "      <td>0</td>\n",
       "      <td>0.0</td>\n",
       "      <td>0</td>\n",
       "      <td>0.0</td>\n",
       "      <td>2</td>\n",
       "      <td>64.000000</td>\n",
       "      <td>0.00</td>\n",
       "      <td>0.10</td>\n",
       "      <td>0.0</td>\n",
       "      <td>0.0</td>\n",
       "      <td>Feb</td>\n",
       "      <td>2</td>\n",
       "      <td>2</td>\n",
       "      <td>1</td>\n",
       "      <td>2</td>\n",
       "      <td>Returning_Visitor</td>\n",
       "      <td>False</td>\n",
       "      <td>False</td>\n",
       "    </tr>\n",
       "    <tr>\n",
       "      <th>2</th>\n",
       "      <td>0</td>\n",
       "      <td>0.0</td>\n",
       "      <td>0</td>\n",
       "      <td>0.0</td>\n",
       "      <td>1</td>\n",
       "      <td>0.000000</td>\n",
       "      <td>0.20</td>\n",
       "      <td>0.20</td>\n",
       "      <td>0.0</td>\n",
       "      <td>0.0</td>\n",
       "      <td>Feb</td>\n",
       "      <td>4</td>\n",
       "      <td>1</td>\n",
       "      <td>9</td>\n",
       "      <td>3</td>\n",
       "      <td>Returning_Visitor</td>\n",
       "      <td>False</td>\n",
       "      <td>False</td>\n",
       "    </tr>\n",
       "    <tr>\n",
       "      <th>3</th>\n",
       "      <td>0</td>\n",
       "      <td>0.0</td>\n",
       "      <td>0</td>\n",
       "      <td>0.0</td>\n",
       "      <td>2</td>\n",
       "      <td>2.666667</td>\n",
       "      <td>0.05</td>\n",
       "      <td>0.14</td>\n",
       "      <td>0.0</td>\n",
       "      <td>0.0</td>\n",
       "      <td>Feb</td>\n",
       "      <td>3</td>\n",
       "      <td>2</td>\n",
       "      <td>2</td>\n",
       "      <td>4</td>\n",
       "      <td>Returning_Visitor</td>\n",
       "      <td>False</td>\n",
       "      <td>False</td>\n",
       "    </tr>\n",
       "    <tr>\n",
       "      <th>4</th>\n",
       "      <td>0</td>\n",
       "      <td>0.0</td>\n",
       "      <td>0</td>\n",
       "      <td>0.0</td>\n",
       "      <td>10</td>\n",
       "      <td>627.500000</td>\n",
       "      <td>0.02</td>\n",
       "      <td>0.05</td>\n",
       "      <td>0.0</td>\n",
       "      <td>0.0</td>\n",
       "      <td>Feb</td>\n",
       "      <td>3</td>\n",
       "      <td>3</td>\n",
       "      <td>1</td>\n",
       "      <td>4</td>\n",
       "      <td>Returning_Visitor</td>\n",
       "      <td>True</td>\n",
       "      <td>False</td>\n",
       "    </tr>\n",
       "  </tbody>\n",
       "</table>\n",
       "</div>"
      ],
      "text/plain": [
       "   Administrative  Administrative_Duration  Informational  \\\n",
       "0               0                      0.0              0   \n",
       "1               0                      0.0              0   \n",
       "2               0                      0.0              0   \n",
       "3               0                      0.0              0   \n",
       "4               0                      0.0              0   \n",
       "\n",
       "   Informational_Duration  ProductRelated  ProductRelated_Duration  \\\n",
       "0                     0.0               1                 0.000000   \n",
       "1                     0.0               2                64.000000   \n",
       "2                     0.0               1                 0.000000   \n",
       "3                     0.0               2                 2.666667   \n",
       "4                     0.0              10               627.500000   \n",
       "\n",
       "   BounceRates  ExitRates  PageValues  SpecialDay Month  OperatingSystems  \\\n",
       "0         0.20       0.20         0.0         0.0   Feb                 1   \n",
       "1         0.00       0.10         0.0         0.0   Feb                 2   \n",
       "2         0.20       0.20         0.0         0.0   Feb                 4   \n",
       "3         0.05       0.14         0.0         0.0   Feb                 3   \n",
       "4         0.02       0.05         0.0         0.0   Feb                 3   \n",
       "\n",
       "   Browser  Region  TrafficType        VisitorType  Weekend  Revenue  \n",
       "0        1       1            1  Returning_Visitor    False    False  \n",
       "1        2       1            2  Returning_Visitor    False    False  \n",
       "2        1       9            3  Returning_Visitor    False    False  \n",
       "3        2       2            4  Returning_Visitor    False    False  \n",
       "4        3       1            4  Returning_Visitor     True    False  "
      ]
     },
     "execution_count": 7,
     "metadata": {},
     "output_type": "execute_result"
    }
   ],
   "source": [
    "df.head()"
   ]
  },
  {
   "cell_type": "code",
   "execution_count": 8,
   "metadata": {},
   "outputs": [
    {
     "data": {
      "text/html": [
       "<div>\n",
       "<style scoped>\n",
       "    .dataframe tbody tr th:only-of-type {\n",
       "        vertical-align: middle;\n",
       "    }\n",
       "\n",
       "    .dataframe tbody tr th {\n",
       "        vertical-align: top;\n",
       "    }\n",
       "\n",
       "    .dataframe thead th {\n",
       "        text-align: right;\n",
       "    }\n",
       "</style>\n",
       "<table border=\"1\" class=\"dataframe\">\n",
       "  <thead>\n",
       "    <tr style=\"text-align: right;\">\n",
       "      <th></th>\n",
       "      <th>Administrative</th>\n",
       "      <th>Administrative_Duration</th>\n",
       "      <th>Informational</th>\n",
       "      <th>Informational_Duration</th>\n",
       "      <th>ProductRelated</th>\n",
       "      <th>ProductRelated_Duration</th>\n",
       "      <th>BounceRates</th>\n",
       "      <th>ExitRates</th>\n",
       "      <th>PageValues</th>\n",
       "      <th>SpecialDay</th>\n",
       "      <th>OperatingSystems</th>\n",
       "      <th>Browser</th>\n",
       "      <th>Region</th>\n",
       "      <th>TrafficType</th>\n",
       "    </tr>\n",
       "  </thead>\n",
       "  <tbody>\n",
       "    <tr>\n",
       "      <th>count</th>\n",
       "      <td>12330.00</td>\n",
       "      <td>12330.00</td>\n",
       "      <td>12330.00</td>\n",
       "      <td>12330.00</td>\n",
       "      <td>12330.00</td>\n",
       "      <td>12330.00</td>\n",
       "      <td>12330.00</td>\n",
       "      <td>12330.00</td>\n",
       "      <td>12330.00</td>\n",
       "      <td>12330.00</td>\n",
       "      <td>12330.00</td>\n",
       "      <td>12330.00</td>\n",
       "      <td>12330.00</td>\n",
       "      <td>12330.00</td>\n",
       "    </tr>\n",
       "    <tr>\n",
       "      <th>mean</th>\n",
       "      <td>2.32</td>\n",
       "      <td>80.82</td>\n",
       "      <td>0.50</td>\n",
       "      <td>34.47</td>\n",
       "      <td>31.73</td>\n",
       "      <td>1194.75</td>\n",
       "      <td>0.02</td>\n",
       "      <td>0.04</td>\n",
       "      <td>5.89</td>\n",
       "      <td>0.06</td>\n",
       "      <td>2.12</td>\n",
       "      <td>2.36</td>\n",
       "      <td>3.15</td>\n",
       "      <td>4.07</td>\n",
       "    </tr>\n",
       "    <tr>\n",
       "      <th>std</th>\n",
       "      <td>3.32</td>\n",
       "      <td>176.78</td>\n",
       "      <td>1.27</td>\n",
       "      <td>140.75</td>\n",
       "      <td>44.48</td>\n",
       "      <td>1913.67</td>\n",
       "      <td>0.05</td>\n",
       "      <td>0.05</td>\n",
       "      <td>18.57</td>\n",
       "      <td>0.20</td>\n",
       "      <td>0.91</td>\n",
       "      <td>1.72</td>\n",
       "      <td>2.40</td>\n",
       "      <td>4.03</td>\n",
       "    </tr>\n",
       "    <tr>\n",
       "      <th>min</th>\n",
       "      <td>0.00</td>\n",
       "      <td>0.00</td>\n",
       "      <td>0.00</td>\n",
       "      <td>0.00</td>\n",
       "      <td>0.00</td>\n",
       "      <td>0.00</td>\n",
       "      <td>0.00</td>\n",
       "      <td>0.00</td>\n",
       "      <td>0.00</td>\n",
       "      <td>0.00</td>\n",
       "      <td>1.00</td>\n",
       "      <td>1.00</td>\n",
       "      <td>1.00</td>\n",
       "      <td>1.00</td>\n",
       "    </tr>\n",
       "    <tr>\n",
       "      <th>25%</th>\n",
       "      <td>0.00</td>\n",
       "      <td>0.00</td>\n",
       "      <td>0.00</td>\n",
       "      <td>0.00</td>\n",
       "      <td>7.00</td>\n",
       "      <td>184.14</td>\n",
       "      <td>0.00</td>\n",
       "      <td>0.01</td>\n",
       "      <td>0.00</td>\n",
       "      <td>0.00</td>\n",
       "      <td>2.00</td>\n",
       "      <td>2.00</td>\n",
       "      <td>1.00</td>\n",
       "      <td>2.00</td>\n",
       "    </tr>\n",
       "    <tr>\n",
       "      <th>50%</th>\n",
       "      <td>1.00</td>\n",
       "      <td>7.50</td>\n",
       "      <td>0.00</td>\n",
       "      <td>0.00</td>\n",
       "      <td>18.00</td>\n",
       "      <td>598.94</td>\n",
       "      <td>0.00</td>\n",
       "      <td>0.03</td>\n",
       "      <td>0.00</td>\n",
       "      <td>0.00</td>\n",
       "      <td>2.00</td>\n",
       "      <td>2.00</td>\n",
       "      <td>3.00</td>\n",
       "      <td>2.00</td>\n",
       "    </tr>\n",
       "    <tr>\n",
       "      <th>75%</th>\n",
       "      <td>4.00</td>\n",
       "      <td>93.26</td>\n",
       "      <td>0.00</td>\n",
       "      <td>0.00</td>\n",
       "      <td>38.00</td>\n",
       "      <td>1464.16</td>\n",
       "      <td>0.02</td>\n",
       "      <td>0.05</td>\n",
       "      <td>0.00</td>\n",
       "      <td>0.00</td>\n",
       "      <td>3.00</td>\n",
       "      <td>2.00</td>\n",
       "      <td>4.00</td>\n",
       "      <td>4.00</td>\n",
       "    </tr>\n",
       "    <tr>\n",
       "      <th>max</th>\n",
       "      <td>27.00</td>\n",
       "      <td>3398.75</td>\n",
       "      <td>24.00</td>\n",
       "      <td>2549.38</td>\n",
       "      <td>705.00</td>\n",
       "      <td>63973.52</td>\n",
       "      <td>0.20</td>\n",
       "      <td>0.20</td>\n",
       "      <td>361.76</td>\n",
       "      <td>1.00</td>\n",
       "      <td>8.00</td>\n",
       "      <td>13.00</td>\n",
       "      <td>9.00</td>\n",
       "      <td>20.00</td>\n",
       "    </tr>\n",
       "  </tbody>\n",
       "</table>\n",
       "</div>"
      ],
      "text/plain": [
       "       Administrative  Administrative_Duration  Informational  \\\n",
       "count        12330.00                 12330.00       12330.00   \n",
       "mean             2.32                    80.82           0.50   \n",
       "std              3.32                   176.78           1.27   \n",
       "min              0.00                     0.00           0.00   \n",
       "25%              0.00                     0.00           0.00   \n",
       "50%              1.00                     7.50           0.00   \n",
       "75%              4.00                    93.26           0.00   \n",
       "max             27.00                  3398.75          24.00   \n",
       "\n",
       "       Informational_Duration  ProductRelated  ProductRelated_Duration  \\\n",
       "count                12330.00        12330.00                 12330.00   \n",
       "mean                    34.47           31.73                  1194.75   \n",
       "std                    140.75           44.48                  1913.67   \n",
       "min                      0.00            0.00                     0.00   \n",
       "25%                      0.00            7.00                   184.14   \n",
       "50%                      0.00           18.00                   598.94   \n",
       "75%                      0.00           38.00                  1464.16   \n",
       "max                   2549.38          705.00                 63973.52   \n",
       "\n",
       "       BounceRates  ExitRates  PageValues  SpecialDay  OperatingSystems  \\\n",
       "count     12330.00   12330.00    12330.00    12330.00          12330.00   \n",
       "mean          0.02       0.04        5.89        0.06              2.12   \n",
       "std           0.05       0.05       18.57        0.20              0.91   \n",
       "min           0.00       0.00        0.00        0.00              1.00   \n",
       "25%           0.00       0.01        0.00        0.00              2.00   \n",
       "50%           0.00       0.03        0.00        0.00              2.00   \n",
       "75%           0.02       0.05        0.00        0.00              3.00   \n",
       "max           0.20       0.20      361.76        1.00              8.00   \n",
       "\n",
       "        Browser    Region  TrafficType  \n",
       "count  12330.00  12330.00     12330.00  \n",
       "mean       2.36      3.15         4.07  \n",
       "std        1.72      2.40         4.03  \n",
       "min        1.00      1.00         1.00  \n",
       "25%        2.00      1.00         2.00  \n",
       "50%        2.00      3.00         2.00  \n",
       "75%        2.00      4.00         4.00  \n",
       "max       13.00      9.00        20.00  "
      ]
     },
     "execution_count": 8,
     "metadata": {},
     "output_type": "execute_result"
    }
   ],
   "source": [
    "df.describe().round(2)"
   ]
  },
  {
   "cell_type": "code",
   "execution_count": 9,
   "metadata": {},
   "outputs": [
    {
     "name": "stdout",
     "output_type": "stream",
     "text": [
      "['Feb' 'Mar' 'May' 'Oct' 'June' 'Jul' 'Aug' 'Nov' 'Sep' 'Dec']\n"
     ]
    }
   ],
   "source": [
    "# show unique elements for feature Month\n",
    "print(df['Month'].unique())"
   ]
  },
  {
   "cell_type": "code",
   "execution_count": 10,
   "metadata": {},
   "outputs": [
    {
     "name": "stdout",
     "output_type": "stream",
     "text": [
      "[ 1  2  3  4  5  6  7  8  9 10 11 12 13 14 15 18 19 16 17 20]\n"
     ]
    }
   ],
   "source": [
    "print(df['TrafficType'].unique())"
   ]
  },
  {
   "cell_type": "code",
   "execution_count": 11,
   "metadata": {},
   "outputs": [
    {
     "name": "stdout",
     "output_type": "stream",
     "text": [
      "['Returning_Visitor' 'New_Visitor' 'Other']\n"
     ]
    }
   ],
   "source": [
    "# show unique elements for feature VisitorType\n",
    "print(df['VisitorType'].unique())"
   ]
  },
  {
   "cell_type": "markdown",
   "metadata": {},
   "source": [
    "# Visualize Dataset"
   ]
  },
  {
   "cell_type": "markdown",
   "metadata": {},
   "source": [
    "## Boxplots "
   ]
  },
  {
   "cell_type": "code",
   "execution_count": 12,
   "metadata": {},
   "outputs": [
    {
     "data": {
      "image/png": "[encoded data removed]",
      "text/plain": [
       "<Figure size 432x288 with 1 Axes>"
      ]
     },
     "metadata": {
      "needs_background": "light"
     },
     "output_type": "display_data"
    }
   ],
   "source": [
    "ax = sns.boxplot(y=\"TrafficType\",x=\"Revenue\", data=df)"
   ]
  },
  {
   "cell_type": "markdown",
   "metadata": {},
   "source": [
    "## Histograms "
   ]
  },
  {
   "cell_type": "code",
   "execution_count": 13,
   "metadata": {},
   "outputs": [],
   "source": [
    "# function for histogram\n",
    "def plot_hist_norm(df, column, bin_amount=25):\n",
    "    # Fit a normal distribution to the data:\n",
    "    mu, std = norm.fit(df[column])\n",
    "\n",
    "    # Plot the histogram.\n",
    "    ## Set the alpha value used for blending (how transparent the color is)\n",
    "    plt.hist(df[column], bins=bin_amount, density=True, alpha=0.8, color='g')\n",
    "\n",
    "    # Plot the PDF.\n",
    "    xmin, xmax = plt.xlim()\n",
    "    x = np.linspace(xmin, xmax, 100)\n",
    "    p = norm.pdf(x, mu, std)\n",
    "    plt.plot(x, p, 'k', linewidth=2)\n",
    "    title = \"Fit results: mu = %.2f,  std = %.2f\" % (mu, std)\n",
    "    plt.title(title)\n",
    "    plt.show()"
   ]
  },
  {
   "cell_type": "code",
   "execution_count": 14,
   "metadata": {},
   "outputs": [
    {
     "data": {
      "image/png": "[encoded data removed]",
      "text/plain": [
       "<Figure size 432x288 with 1 Axes>"
      ]
     },
     "metadata": {
      "needs_background": "light"
     },
     "output_type": "display_data"
    }
   ],
   "source": [
    "plot_hist_norm(df, column='Administrative', bin_amount=10)"
   ]
  },
  {
   "cell_type": "code",
   "execution_count": 15,
   "metadata": {},
   "outputs": [
    {
     "data": {
      "image/png": "[encoded data removed]",
      "text/plain": [
       "<Figure size 432x288 with 1 Axes>"
      ]
     },
     "metadata": {
      "needs_background": "light"
     },
     "output_type": "display_data"
    }
   ],
   "source": [
    "plot_hist_norm(df, column='Administrative_Duration', bin_amount=10)"
   ]
  },
  {
   "cell_type": "code",
   "execution_count": 16,
   "metadata": {},
   "outputs": [
    {
     "data": {
      "image/png": "[encoded data removed]",
      "text/plain": [
       "<Figure size 432x288 with 1 Axes>"
      ]
     },
     "metadata": {
      "needs_background": "light"
     },
     "output_type": "display_data"
    }
   ],
   "source": [
    "plot_hist_norm(df, column='Informational', bin_amount=10)"
   ]
  },
  {
   "cell_type": "markdown",
   "metadata": {},
   "source": [
    "# Imputation #"
   ]
  },
  {
   "cell_type": "markdown",
   "metadata": {},
   "source": [
    "# Calculation #"
   ]
  },
  {
   "cell_type": "markdown",
   "metadata": {},
   "source": [
    "# Standardization - Min-Max #"
   ]
  },
  {
   "cell_type": "code",
   "execution_count": 17,
   "metadata": {},
   "outputs": [],
   "source": [
    "# Save Feature C1 -> before standardization (but after outlier IQR and Normalization)\n",
    "df['Administrative_beforezscore'] = df['Administrative']"
   ]
  },
  {
   "cell_type": "code",
   "execution_count": 18,
   "metadata": {},
   "outputs": [
    {
     "ename": "NameError",
     "evalue": "name 'preprocessing' is not defined",
     "output_type": "error",
     "traceback": [
      "\u001b[0;31m---------------------------------------------------------------------------\u001b[0m",
      "\u001b[0;31mNameError\u001b[0m                                 Traceback (most recent call last)",
      "\u001b[0;32m<ipython-input-18-e2282c9d5b83>\u001b[0m in \u001b[0;36m<module>\u001b[0;34m\u001b[0m\n\u001b[1;32m     13\u001b[0m \u001b[0;34m\u001b[0m\u001b[0m\n\u001b[1;32m     14\u001b[0m \u001b[0;31m# use min-max scalar on continuous features\u001b[0m\u001b[0;34m\u001b[0m\u001b[0;34m\u001b[0m\u001b[0;34m\u001b[0m\u001b[0m\n\u001b[0;32m---> 15\u001b[0;31m \u001b[0mreplace_columns_minmax\u001b[0m\u001b[0;34m(\u001b[0m\u001b[0mdf\u001b[0m\u001b[0;34m=\u001b[0m\u001b[0mdf\u001b[0m\u001b[0;34m,\u001b[0m \u001b[0mcolumn_list\u001b[0m\u001b[0;34m=\u001b[0m\u001b[0;34m[\u001b[0m\u001b[0;34m'Administrative'\u001b[0m\u001b[0;34m,\u001b[0m \u001b[0;34m'Administrative_Duration'\u001b[0m\u001b[0;34m,\u001b[0m \u001b[0;34m'Informational'\u001b[0m\u001b[0;34m,\u001b[0m \u001b[0;34m'Informational_Duration'\u001b[0m\u001b[0;34m,\u001b[0m \u001b[0;34m'ProductRelated'\u001b[0m\u001b[0;34m,\u001b[0m \u001b[0;34m'ProductRelated_Duration'\u001b[0m\u001b[0;34m,\u001b[0m \u001b[0;34m'BounceRates'\u001b[0m\u001b[0;34m,\u001b[0m \u001b[0;34m'ExitRates'\u001b[0m\u001b[0;34m,\u001b[0m \u001b[0;34m'PageValues'\u001b[0m\u001b[0;34m,\u001b[0m \u001b[0;34m'SpecialDay'\u001b[0m\u001b[0;34m,\u001b[0m \u001b[0;34m'OperatingSystems'\u001b[0m\u001b[0;34m,\u001b[0m \u001b[0;34m'Browser'\u001b[0m\u001b[0;34m,\u001b[0m \u001b[0;34m'Region'\u001b[0m\u001b[0;34m,\u001b[0m \u001b[0;34m'TrafficType'\u001b[0m\u001b[0;34m]\u001b[0m\u001b[0;34m)\u001b[0m\u001b[0;34m\u001b[0m\u001b[0;34m\u001b[0m\u001b[0m\n\u001b[0m\u001b[1;32m     16\u001b[0m \u001b[0;34m\u001b[0m\u001b[0m\n\u001b[1;32m     17\u001b[0m \u001b[0;31m# show dataframe\u001b[0m\u001b[0;34m\u001b[0m\u001b[0;34m\u001b[0m\u001b[0;34m\u001b[0m\u001b[0m\n",
      "\u001b[0;32m<ipython-input-18-e2282c9d5b83>\u001b[0m in \u001b[0;36mreplace_columns_minmax\u001b[0;34m(df, column_list)\u001b[0m\n\u001b[1;32m      8\u001b[0m \u001b[0;32mfrom\u001b[0m \u001b[0msklearn\u001b[0m\u001b[0;34m.\u001b[0m\u001b[0mpreprocessing\u001b[0m \u001b[0;32mimport\u001b[0m \u001b[0mStandardScaler\u001b[0m\u001b[0;34m\u001b[0m\u001b[0;34m\u001b[0m\u001b[0m\n\u001b[1;32m      9\u001b[0m \u001b[0;32mdef\u001b[0m \u001b[0mreplace_columns_minmax\u001b[0m\u001b[0;34m(\u001b[0m\u001b[0mdf\u001b[0m\u001b[0;34m,\u001b[0m \u001b[0mcolumn_list\u001b[0m\u001b[0;34m)\u001b[0m\u001b[0;34m:\u001b[0m\u001b[0;34m\u001b[0m\u001b[0;34m\u001b[0m\u001b[0m\n\u001b[0;32m---> 10\u001b[0;31m     \u001b[0mscaler\u001b[0m \u001b[0;34m=\u001b[0m \u001b[0mpreprocessing\u001b[0m\u001b[0;34m.\u001b[0m\u001b[0mMinMaxScaler\u001b[0m\u001b[0;34m(\u001b[0m\u001b[0;34m)\u001b[0m\u001b[0;34m\u001b[0m\u001b[0;34m\u001b[0m\u001b[0m\n\u001b[0m\u001b[1;32m     11\u001b[0m     \u001b[0;31m# transform using min max function from sklearn.preprocessing.minmax\u001b[0m\u001b[0;34m\u001b[0m\u001b[0;34m\u001b[0m\u001b[0;34m\u001b[0m\u001b[0m\n\u001b[1;32m     12\u001b[0m     \u001b[0mdf\u001b[0m\u001b[0;34m[\u001b[0m\u001b[0mcolumn_list\u001b[0m\u001b[0;34m]\u001b[0m \u001b[0;34m=\u001b[0m \u001b[0mscaler\u001b[0m\u001b[0;34m.\u001b[0m\u001b[0mfit_transform\u001b[0m\u001b[0;34m(\u001b[0m\u001b[0mdf\u001b[0m\u001b[0;34m[\u001b[0m\u001b[0mcolumn_list\u001b[0m\u001b[0;34m]\u001b[0m\u001b[0;34m)\u001b[0m\u001b[0;34m\u001b[0m\u001b[0;34m\u001b[0m\u001b[0m\n",
      "\u001b[0;31mNameError\u001b[0m: name 'preprocessing' is not defined"
     ]
    }
   ],
   "source": [
    "# -------------------------------------------------------------------------------------------------------------\n",
    "# Strategy 2 for Standardization - Min-Max \n",
    "# -------------------------------------------------------------------------------------------------------------\n",
    "# source: https://stackoverflow.com/questions/24645153/pandas-dataframe-columns-scaling-with-sklearn\n",
    "# formula: (x-min_x)/(max_x - min_x)\n",
    "\n",
    "# create a function for min max standardization (continuous features)\n",
    "from sklearn.preprocessing import StandardScaler\n",
    "def replace_columns_minmax(df, column_list):\n",
    "    scaler = preprocessing.MinMaxScaler()\n",
    "    # transform using min max function from sklearn.preprocessing.minmax\n",
    "    df[column_list] = scaler.fit_transform(df[column_list])\n",
    "\n",
    "# use min-max scalar on continuous features\n",
    "replace_columns_minmax(df=df, column_list=['Administrative', 'Administrative_Duration', 'Informational', 'Informational_Duration', 'ProductRelated', 'ProductRelated_Duration', 'BounceRates', 'ExitRates', 'PageValues', 'SpecialDay', 'OperatingSystems', 'Browser', 'Region', 'TrafficType']) \n",
    "\n",
    "# show dataframe\n",
    "df.head(5)"
   ]
  },
  {
   "cell_type": "markdown",
   "metadata": {},
   "source": [
    "# Normalization #"
   ]
  },
  {
   "cell_type": "markdown",
   "metadata": {},
   "source": [
    "## Each variable in dataset is normalized following these steps: ##\n",
    ">1. Show Histogram before normalization for feature\n",
    "2. Calculate skewness before normalization of feature\n",
    "3. Transform feature using either/or: \n",
    "    1. Math transformation(s) [log, sqrt, log2, 1/x, x/100, exp])\n",
    "    2. Power transform using power functions:\n",
    "   * <b> Box-Cox </b> (only works for positive values)\n",
    "   * <b> Yeo-Johnson </b> (also works with zero and negative values)\n",
    "4. Show Histogram after normalization for feature\n",
    "5. Calculate skewness after normalization of feature"
   ]
  },
  {
   "cell_type": "markdown",
   "metadata": {},
   "source": [
    "## Skewness ##\n",
    ">* If skewness is less than −1 or greater than +1, the distribution is highly skewed.\n",
    "* If skewness is between −1 and −½ or between +½ and +1, the distribution is moderately skewed.\n",
    "* If skewness is between −½ and +½, the distribution is approximately symmetric.\n",
    "* A symmetrical distribution has a skewness of zero.\n",
    "* An asymmetrical distribution with a long tail to the right (higher values) has a positive skew.\n",
    "* An asymmetrical distribution with a long tail to the left (lower values) has a negative skew."
   ]
  },
  {
   "cell_type": "markdown",
   "metadata": {},
   "source": [
    "## Function for Histogram ##"
   ]
  },
  {
   "cell_type": "code",
   "execution_count": null,
   "metadata": {},
   "outputs": [],
   "source": [
    "# FUNCTION for Histogram with Normal distribution\n",
    "# source: https://stackoverflow.com/questions/20011122/fitting-a-normal-distribution-to-1d-data\n",
    "def plot_hist_norm(df, column, bin_amount=25):\n",
    "    # Fit a normal distribution to the data:\n",
    "    mu, std = norm.fit(df[column])\n",
    "\n",
    "    # Plot the histogram.\n",
    "    ## Set the alpha value used for blending (how transparent the color is)\n",
    "    plt.hist(df[column], bins=bin_amount, density=True, alpha=0.8, color='g')\n",
    "\n",
    "    # Plot the PDF.\n",
    "    xmin, xmax = plt.xlim()\n",
    "    x = np.linspace(xmin, xmax, 100)\n",
    "    p = norm.pdf(x, mu, std)\n",
    "    plt.plot(x, p, 'k', linewidth=2)\n",
    "    title = \"Fit results: mu = %.2f,  std = %.2f\" % (mu, std)\n",
    "    plt.title(title)\n",
    "    plt.show()"
   ]
  },
  {
   "cell_type": "code",
   "execution_count": null,
   "metadata": {},
   "outputs": [],
   "source": [
    "# test continuous columns if they have a minimum smaller or equal to zero\n",
    "df_min = df[['Administrative', 'Administrative_Duration', 'Informational', 'Informational_Duration', 'ProductRelated', 'ProductRelated_Duration', 'BounceRates', 'ExitRates', 'PageValues', 'SpecialDay', 'OperatingSystems', 'Browser', 'Region', 'TrafficType']].min() <= 0\n",
    "\n",
    "# show dataframe with boolean True/False for if column has values smaller or equal than zero (TRUE)\n",
    "df_min\n",
    "\n",
    "# show only continuous columns which have a minimum smaller or equal to zero\n",
    "print('Regarding normalization of features: \\nFor the features below, the Box Cox Transformation cannot be applied (because values <= 0)\\nTry Yeo Jonhson Transformation instead (which deals with negative values)')\n",
    "\n",
    "# show columns where condition is True (<=0)\n",
    "df_min[df_min == True]"
   ]
  },
  {
   "cell_type": "markdown",
   "metadata": {},
   "source": [
    "> <b> Administrative </b>"
   ]
  },
  {
   "cell_type": "code",
   "execution_count": null,
   "metadata": {},
   "outputs": [],
   "source": [
    "# check the distribution by descriptive metrics and check if there are only positive values for Administrative\n",
    "df['Administrative'].describe().round(2)\n",
    "\n",
    "# conclusion\n",
    "print('box-cox can be applied because minimum > 0, namely it equals:', df['Administrative'].agg(['min'][0]))"
   ]
  },
  {
   "cell_type": "code",
   "execution_count": null,
   "metadata": {},
   "outputs": [],
   "source": [
    "# plot histogram - 1 line of code, however below method is preferred with a function\n",
    "#data['Administrative'].plot.hist(by=data['Administrative'], bins=50, title='Administrative')"
   ]
  },
  {
   "cell_type": "code",
   "execution_count": null,
   "metadata": {},
   "outputs": [],
   "source": [
    "# Plot Histogramm Administrative with function\n",
    "plot_hist_norm(df=df, column='Administrative')\n",
    "\n",
    "# metric to evaluate skewness - before imputation\n",
    "print('Skewness before boxcox:', skew(df['Administrative']))"
   ]
  },
  {
   "cell_type": "code",
   "execution_count": null,
   "metadata": {},
   "outputs": [],
   "source": [
    "\n",
    "df['Administrative_yeojohnson'] = stats.yeojohnson(df['Administrative'])[0]\n",
    "\n",
    "# histogram of boxcox transformation\n",
    "plot_hist_norm(df=df, column='Administrative_yeojohnson')\n",
    "\n",
    "# skewness after applying yeojohnson transformation\n",
    "# source: https://docs.scipy.org/doc/scipy/reference/generated/scipy.stats.yeojohnson.html\n",
    "skew(df['Administrative_yeojohnson'])\n",
    "print(' The skewness of Administrative after yeo johnson is:', skew(df['Administrative_yeojohnson']))"
   ]
  },
  {
   "cell_type": "markdown",
   "metadata": {},
   "source": [
    "> <b> Administrative_Duration </b>"
   ]
  },
  {
   "cell_type": "code",
   "execution_count": null,
   "metadata": {},
   "outputs": [],
   "source": [
    "# check the distribution by descriptive metrics and check if there are only positive values for Administrative_Duration\n",
    "df['Administrative_Duration'].describe().round(2)\n",
    "\n",
    "# conclusion\n",
    "print('box-cox can be applied because minimum > 0, namely it equals:', df['Administrative_Duration'].agg(['min'][0]))"
   ]
  },
  {
   "cell_type": "code",
   "execution_count": null,
   "metadata": {},
   "outputs": [],
   "source": [
    "# plot histogram - 1 line of code, however below method is preferred with a function\n",
    "#data['Administrative_Duration'].plot.hist(by=data['Administrative_Duration'], bins=50, title='Administrative_Duration')"
   ]
  },
  {
   "cell_type": "code",
   "execution_count": null,
   "metadata": {},
   "outputs": [],
   "source": [
    "# Plot Histogramm Administrative_Duration with function\n",
    "plot_hist_norm(df=df, column='Administrative_Duration')\n",
    "\n",
    "# metric to evaluate skewness - before imputation\n",
    "print('Skewness before boxcox:', skew(df['Administrative_Duration']))"
   ]
  },
  {
   "cell_type": "code",
   "execution_count": null,
   "metadata": {},
   "outputs": [],
   "source": [
    "\n",
    "df['Administrative_Duration_yeojohnson'] = stats.yeojohnson(df['Administrative_Duration'])[0]\n",
    "\n",
    "# histogram of boxcox transformation\n",
    "plot_hist_norm(df=df, column='Administrative_Duration_yeojohnson')\n",
    "\n",
    "# skewness after applying yeojohnson transformation\n",
    "# source: https://docs.scipy.org/doc/scipy/reference/generated/scipy.stats.yeojohnson.html\n",
    "skew(df['Administrative_Duration_yeojohnson'])\n",
    "print(' The skewness of Administrative_Duration after yeo johnson is:', skew(df['Administrative_Duration_yeojohnson']))"
   ]
  },
  {
   "cell_type": "markdown",
   "metadata": {},
   "source": [
    "> <b> Informational </b>"
   ]
  },
  {
   "cell_type": "code",
   "execution_count": null,
   "metadata": {},
   "outputs": [],
   "source": [
    "# check the distribution by descriptive metrics and check if there are only positive values for Informational\n",
    "df['Informational'].describe().round(2)\n",
    "\n",
    "# conclusion\n",
    "print('box-cox can be applied because minimum > 0, namely it equals:', df['Informational'].agg(['min'][0]))"
   ]
  },
  {
   "cell_type": "code",
   "execution_count": null,
   "metadata": {},
   "outputs": [],
   "source": [
    "# plot histogram - 1 line of code, however below method is preferred with a function\n",
    "#data['Informational'].plot.hist(by=data['Informational'], bins=50, title='Informational')"
   ]
  },
  {
   "cell_type": "code",
   "execution_count": null,
   "metadata": {},
   "outputs": [],
   "source": [
    "# Plot Histogramm Informational with function\n",
    "plot_hist_norm(df=df, column='Informational')\n",
    "\n",
    "# metric to evaluate skewness - before imputation\n",
    "print('Skewness before boxcox:', skew(df['Informational']))"
   ]
  },
  {
   "cell_type": "code",
   "execution_count": null,
   "metadata": {},
   "outputs": [],
   "source": [
    "\n",
    "df['Informational_yeojohnson'] = stats.yeojohnson(df['Informational'])[0]\n",
    "\n",
    "# histogram of boxcox transformation\n",
    "plot_hist_norm(df=df, column='Informational_yeojohnson')\n",
    "\n",
    "# skewness after applying yeojohnson transformation\n",
    "# source: https://docs.scipy.org/doc/scipy/reference/generated/scipy.stats.yeojohnson.html\n",
    "skew(df['Informational_yeojohnson'])\n",
    "print(' The skewness of Informational after yeo johnson is:', skew(df['Informational_yeojohnson']))"
   ]
  },
  {
   "cell_type": "markdown",
   "metadata": {},
   "source": [
    "> <b> Informational_Duration </b>"
   ]
  },
  {
   "cell_type": "code",
   "execution_count": null,
   "metadata": {},
   "outputs": [],
   "source": [
    "# check the distribution by descriptive metrics and check if there are only positive values for Informational_Duration\n",
    "df['Informational_Duration'].describe().round(2)\n",
    "\n",
    "# conclusion\n",
    "print('box-cox can be applied because minimum > 0, namely it equals:', df['Informational_Duration'].agg(['min'][0]))"
   ]
  },
  {
   "cell_type": "code",
   "execution_count": null,
   "metadata": {},
   "outputs": [],
   "source": [
    "# plot histogram - 1 line of code, however below method is preferred with a function\n",
    "#data['Informational_Duration'].plot.hist(by=data['Informational_Duration'], bins=50, title='Informational_Duration')"
   ]
  },
  {
   "cell_type": "code",
   "execution_count": null,
   "metadata": {},
   "outputs": [],
   "source": [
    "# Plot Histogramm Informational_Duration with function\n",
    "plot_hist_norm(df=df, column='Informational_Duration')\n",
    "\n",
    "# metric to evaluate skewness - before imputation\n",
    "print('Skewness before boxcox:', skew(df['Informational_Duration']))"
   ]
  },
  {
   "cell_type": "code",
   "execution_count": null,
   "metadata": {},
   "outputs": [],
   "source": [
    "\n",
    "df['Informational_Duration_yeojohnson'] = stats.yeojohnson(df['Informational_Duration'])[1]\n",
    "\n",
    "# histogram of boxcox transformation\n",
    "plot_hist_norm(df=df, column='Informational_Duration_yeojohnson')\n",
    "\n",
    "# skewness after applying yeojohnson transformation\n",
    "# source: https://docs.scipy.org/doc/scipy/reference/generated/scipy.stats.yeojohnson.html\n",
    "skew(df['Informational_Duration_yeojohnson'])\n",
    "print(' The skewness of Informational_Duration after yeo johnson is:', skew(df['Informational_Duration_yeojohnson']))"
   ]
  },
  {
   "cell_type": "code",
   "execution_count": null,
   "metadata": {},
   "outputs": [],
   "source": [
    "df['Informational_Duration_yeojohnson'] = stats.yeojohnson(df['Informational_Duration'])[1]"
   ]
  },
  {
   "cell_type": "markdown",
   "metadata": {},
   "source": [
    "> <b> ProductRelated  </b>"
   ]
  },
  {
   "cell_type": "code",
   "execution_count": null,
   "metadata": {},
   "outputs": [],
   "source": [
    "# check the distribution by descriptive metrics and check if there are only positive values for ProductRelated \n",
    "df['ProductRelated'].describe().round(2)\n",
    "\n",
    "# conclusion\n",
    "print('box-cox can be applied because minimum > 0, namely it equals:', df['ProductRelated'].agg(['min'][0]))"
   ]
  },
  {
   "cell_type": "code",
   "execution_count": null,
   "metadata": {},
   "outputs": [],
   "source": [
    "# plot histogram - 1 line of code, however below method is preferred with a function\n",
    "#data['ProductRelated '].plot.hist(by=data['ProductRelated '], bins=50, title='ProductRelated ')"
   ]
  },
  {
   "cell_type": "code",
   "execution_count": null,
   "metadata": {},
   "outputs": [],
   "source": [
    "# Plot Histogramm ProductRelated  with function\n",
    "plot_hist_norm(df=df, column='ProductRelated')\n",
    "\n",
    "# metric to evaluate skewness - before imputation\n",
    "print('Skewness before boxcox:', skew(df['ProductRelated']))"
   ]
  },
  {
   "cell_type": "code",
   "execution_count": null,
   "metadata": {},
   "outputs": [],
   "source": [
    "\n",
    "df['ProductRelated_yeojohnson'] = stats.yeojohnson(df['ProductRelated'])[0]\n",
    "\n",
    "# histogram of boxcox transformation\n",
    "plot_hist_norm(df=df, column='ProductRelated_yeojohnson')\n",
    "\n",
    "# skewness after applying yeojohnson transformation\n",
    "# source: https://docs.scipy.org/doc/scipy/reference/generated/scipy.stats.yeojohnson.html\n",
    "skew(df['ProductRelated_yeojohnson'])\n",
    "print(' The skewness of ProductRelated after yeo johnson is:', skew(df['ProductRelated_yeojohnson']))"
   ]
  },
  {
   "cell_type": "markdown",
   "metadata": {},
   "source": [
    "> <b> ProductRelated_Duration </b>"
   ]
  },
  {
   "cell_type": "code",
   "execution_count": null,
   "metadata": {},
   "outputs": [],
   "source": [
    "# check the distribution by descriptive metrics and check if there are only positive values for ProductRelated \n",
    "df['ProductRelated_Duration'].describe().round(2)\n",
    "\n",
    "# conclusion\n",
    "print('box-cox can be applied because minimum > 0, namely it equals:', df['ProductRelated_Duration'].agg(['min'][0]))"
   ]
  },
  {
   "cell_type": "code",
   "execution_count": null,
   "metadata": {},
   "outputs": [],
   "source": [
    "# plot histogram - 1 line of code, however below method is preferred with a function\n",
    "#data['ProductRelated_Duration'].plot.hist(by=data['ProductRelated '], bins=50, title='ProductRelated_Duration')"
   ]
  },
  {
   "cell_type": "code",
   "execution_count": null,
   "metadata": {},
   "outputs": [],
   "source": [
    "# Plot Histogramm ProductRelated_Duration with function\n",
    "plot_hist_norm(df=df, column='ProductRelated_Duration')\n",
    "\n",
    "# metric to evaluate skewness - before imputation\n",
    "print('Skewness before boxcox:', skew(df['ProductRelated_Duration']))"
   ]
  },
  {
   "cell_type": "code",
   "execution_count": null,
   "metadata": {},
   "outputs": [],
   "source": [
    "\n",
    "df['ProductRelated_Duration_yeojohnson'] = stats.yeojohnson(df['ProductRelated_Duration'])[0]\n",
    "\n",
    "# histogram of boxcox transformation\n",
    "plot_hist_norm(df=df, column='ProductRelated_Duration_yeojohnson')\n",
    "\n",
    "# skewness after applying yeojohnson transformation\n",
    "# source: https://docs.scipy.org/doc/scipy/reference/generated/scipy.stats.yeojohnson.html\n",
    "skew(df['ProductRelated_Duration_yeojohnson'])\n",
    "print(' The skewness of ProductRelated_Duration after yeo johnson is:', skew(df['ProductRelated_Duration_yeojohnson']))"
   ]
  },
  {
   "cell_type": "markdown",
   "metadata": {},
   "source": [
    "> <b> BounceRates </b>"
   ]
  },
  {
   "cell_type": "code",
   "execution_count": null,
   "metadata": {},
   "outputs": [],
   "source": [
    "# check the distribution by descriptive metrics and check if there are only positive values for BounceRates\n",
    "df['BounceRates'].describe().round(2)\n",
    "\n",
    "# conclusion\n",
    "print('box-cox can be applied because minimum > 0, namely it equals:', df['BounceRates'].agg(['min'][0]))"
   ]
  },
  {
   "cell_type": "code",
   "execution_count": null,
   "metadata": {},
   "outputs": [],
   "source": [
    "# plot histogram - 1 line of code, however below method is preferred with a function\n",
    "#data['BounceRates'].plot.hist(by=data['BounceRates'], bins=50, title='BounceRates')"
   ]
  },
  {
   "cell_type": "code",
   "execution_count": null,
   "metadata": {},
   "outputs": [],
   "source": [
    "# Plot Histogramm BounceRates with function\n",
    "plot_hist_norm(df=df, column='BounceRates')\n",
    "\n",
    "# metric to evaluate skewness - before imputation\n",
    "print('Skewness before boxcox:', skew(df['BounceRates']))"
   ]
  },
  {
   "cell_type": "code",
   "execution_count": null,
   "metadata": {},
   "outputs": [],
   "source": [
    "\n",
    "df['BounceRates_yeojohnson'] = stats.yeojohnson(df['BounceRates'])[0]\n",
    "\n",
    "# histogram of boxcox transformation\n",
    "plot_hist_norm(df=df, column='BounceRates_yeojohnson')\n",
    "\n",
    "# skewness after applying yeojohnson transformation\n",
    "# source: https://docs.scipy.org/doc/scipy/reference/generated/scipy.stats.yeojohnson.html\n",
    "skew(df['BounceRates_yeojohnson'])\n",
    "print(' The skewness of BounceRates after yeo johnson is:', skew(df['BounceRates_yeojohnson']))"
   ]
  },
  {
   "cell_type": "markdown",
   "metadata": {},
   "source": [
    "> <b> ExitRates </b>"
   ]
  },
  {
   "cell_type": "code",
   "execution_count": null,
   "metadata": {},
   "outputs": [],
   "source": [
    "# check the distribution by descriptive metrics and check if there are only positive values for ExitRates\n",
    "df['ExitRates'].describe().round(2)\n",
    "\n",
    "# conclusion\n",
    "print('box-cox can be applied because minimum > 0, namely it equals:', df['ExitRates'].agg(['min'][0]))"
   ]
  },
  {
   "cell_type": "code",
   "execution_count": null,
   "metadata": {},
   "outputs": [],
   "source": [
    "# plot histogram - 1 line of code, however below method is preferred with a function\n",
    "#data['ExitRates'].plot.hist(by=data['ExitRates'], bins=50, title='ExitRates')"
   ]
  },
  {
   "cell_type": "code",
   "execution_count": null,
   "metadata": {},
   "outputs": [],
   "source": [
    "# Plot Histogramm ExitRates with function\n",
    "plot_hist_norm(df=df, column='ExitRates')\n",
    "\n",
    "# metric to evaluate skewness - before imputation\n",
    "print('Skewness before boxcox:', skew(df['ExitRates']))"
   ]
  },
  {
   "cell_type": "code",
   "execution_count": null,
   "metadata": {},
   "outputs": [],
   "source": [
    "\n",
    "df['ExitRates_yeojohnson'] = stats.yeojohnson(df['ExitRates'])[0]\n",
    "\n",
    "# histogram of boxcox transformation\n",
    "plot_hist_norm(df=df, column='ExitRates_yeojohnson')\n",
    "\n",
    "# skewness after applying yeojohnson transformation\n",
    "# source: https://docs.scipy.org/doc/scipy/reference/generated/scipy.stats.yeojohnson.html\n",
    "skew(df['ExitRates_yeojohnson'])\n",
    "print(' The skewness of ExitRates after yeo johnson is:', skew(df['ExitRates_yeojohnson']))"
   ]
  },
  {
   "cell_type": "markdown",
   "metadata": {},
   "source": [
    "> <b> PageValues </b>"
   ]
  },
  {
   "cell_type": "code",
   "execution_count": null,
   "metadata": {},
   "outputs": [],
   "source": [
    "# check the distribution by descriptive metrics and check if there are only positive values for PageValues\n",
    "df['PageValues'].describe().round(2)\n",
    "\n",
    "# conclusion\n",
    "print('box-cox can be applied because minimum > 0, namely it equals:', df['PageValues'].agg(['min'][0]))"
   ]
  },
  {
   "cell_type": "code",
   "execution_count": null,
   "metadata": {},
   "outputs": [],
   "source": [
    "# plot histogram - 1 line of code, however below method is preferred with a function\n",
    "#data['PageValues'].plot.hist(by=data['PageValues'], bins=50, title='PageValues')"
   ]
  },
  {
   "cell_type": "code",
   "execution_count": null,
   "metadata": {},
   "outputs": [],
   "source": [
    "# Plot Histogramm PageValues with function\n",
    "plot_hist_norm(df=df, column='PageValues')\n",
    "\n",
    "# metric to evaluate skewness - before imputation\n",
    "print('Skewness before boxcox:', skew(df['PageValues']))"
   ]
  },
  {
   "cell_type": "code",
   "execution_count": null,
   "metadata": {},
   "outputs": [],
   "source": [
    "\n",
    "df['PageValues_yeojohnson'] = stats.yeojohnson(df['PageValues'])[0]\n",
    "\n",
    "# histogram of boxcox transformation\n",
    "plot_hist_norm(df=df, column='PageValues_yeojohnson')\n",
    "\n",
    "# skewness after applying yeojohnson transformation\n",
    "# source: https://docs.scipy.org/doc/scipy/reference/generated/scipy.stats.yeojohnson.html\n",
    "skew(df['PageValues_yeojohnson'])\n",
    "print(' The skewness of PageValues after yeo johnson is:', skew(df['PageValues_yeojohnson']))"
   ]
  },
  {
   "cell_type": "markdown",
   "metadata": {},
   "source": [
    "> <b> SpecialDay </b>"
   ]
  },
  {
   "cell_type": "code",
   "execution_count": null,
   "metadata": {},
   "outputs": [],
   "source": [
    "# check the distribution by descriptive metrics and check if there are only positive values for SpecialDay\n",
    "df['SpecialDay'].describe().round(2)\n",
    "\n",
    "# conclusion\n",
    "print('box-cox can be applied because minimum > 0, namely it equals:', df['SpecialDay'].agg(['min'][0]))"
   ]
  },
  {
   "cell_type": "code",
   "execution_count": null,
   "metadata": {},
   "outputs": [],
   "source": [
    "# plot histogram - 1 line of code, however below method is preferred with a function\n",
    "#data['SpecialDay'].plot.hist(by=data['SpecialDay'], bins=50, title='SpecialDay')"
   ]
  },
  {
   "cell_type": "code",
   "execution_count": null,
   "metadata": {},
   "outputs": [],
   "source": [
    "# Plot Histogramm SpecialDay with function\n",
    "plot_hist_norm(df=df, column='SpecialDay')\n",
    "\n",
    "# metric to evaluate skewness - before imputation\n",
    "print('Skewness before boxcox:', skew(df['SpecialDay']))"
   ]
  },
  {
   "cell_type": "code",
   "execution_count": null,
   "metadata": {},
   "outputs": [],
   "source": [
    "\n",
    "df['SpecialDay_yeojohnson'] = stats.yeojohnson(df['SpecialDay'])[0]\n",
    "\n",
    "# histogram of boxcox transformation\n",
    "plot_hist_norm(df=df, column='SpecialDay_yeojohnson')\n",
    "\n",
    "# skewness after applying yeojohnson transformation\n",
    "# source: https://docs.scipy.org/doc/scipy/reference/generated/scipy.stats.yeojohnson.html\n",
    "skew(df['SpecialDay_yeojohnson'])\n",
    "print(' The skewness of SpecialDay after yeo johnson is:', skew(df['SpecialDay_yeojohnson']))"
   ]
  },
  {
   "cell_type": "markdown",
   "metadata": {},
   "source": [
    "# Outlier - Replacing Outlier based on Mean plus/minus 3xSt. Dev #"
   ]
  },
  {
   "cell_type": "code",
   "execution_count": null,
   "metadata": {},
   "outputs": [],
   "source": [
    "# testrun for outlier column Administrative with company name\n",
    "df.loc[df['VisitorType'] =='Returning_Visitor', ['Administrative', 'VisitorType']]"
   ]
  },
  {
   "cell_type": "code",
   "execution_count": null,
   "metadata": {},
   "outputs": [],
   "source": [
    "# Create a function to calculate the lower and upper bound (mean+-3x st. dev.) to detect outliers and replace them by lower- or upper-bound\n",
    "def replace_columns_outliers_stdev(df, column_list): \n",
    "    for my_col in column_list:\n",
    "        u_bound = df[my_col].mean() + 3* df[my_col].std()\n",
    "        l_bound = df[my_col].mean() - 3* df[my_col].std()\n",
    "\n",
    "        df[my_col][df[my_col] > u_bound] = u_bound\n",
    "        df[my_col][df[my_col] < l_bound] = l_bound\n",
    "\n",
    "# Replace outliers by plus/minus 3 times standard deviation dependend if outlier is below or above lower/upper bound\n",
    "replace_columns_outliers_stdev(df=df, column_list=['Administrative', 'Administrative_Duration', 'Informational', 'Informational_Duration', 'ProductRelated', 'ProductRelated_Duration', 'BounceRates', 'ExitRates', 'PageValues', 'SpecialDay'])"
   ]
  },
  {
   "cell_type": "code",
   "execution_count": null,
   "metadata": {},
   "outputs": [],
   "source": [
    "# test if outlier changed\n",
    "df.loc[df['VisitorType'] =='Returning_Visitor', ['Administrative', 'VisitorType']]"
   ]
  },
  {
   "cell_type": "code",
   "execution_count": null,
   "metadata": {},
   "outputs": [],
   "source": [
    "df.'Administrative'.describe"
   ]
  },
  {
   "cell_type": "markdown",
   "metadata": {},
   "source": [
    "# Correlation Analysis #"
   ]
  },
  {
   "cell_type": "markdown",
   "metadata": {},
   "source": [
    "> (e.g., Chi-merge: χ2-based discretization)\n",
    "* Supervised: use class information\n",
    "* Bottom-up merge: merge the best neighboring intervals (those with similar distributions of classes, i.e., low χ2 values)\n",
    "* Merge performed recursively, until a predefined stopping condition"
   ]
  },
  {
   "cell_type": "code",
   "execution_count": 19,
   "metadata": {},
   "outputs": [
    {
     "data": {
      "text/plain": [
       "Index(['Administrative', 'Administrative_Duration', 'Informational',\n",
       "       'Informational_Duration', 'ProductRelated', 'ProductRelated_Duration',\n",
       "       'BounceRates', 'ExitRates', 'PageValues', 'SpecialDay', 'Month',\n",
       "       'OperatingSystems', 'Browser', 'Region', 'TrafficType', 'VisitorType',\n",
       "       'Weekend', 'Revenue', 'Administrative_beforezscore'],\n",
       "      dtype='object')"
      ]
     },
     "execution_count": 19,
     "metadata": {},
     "output_type": "execute_result"
    }
   ],
   "source": [
    "# show meaning of variables again as a reminder\n",
    "# df_dict\n",
    "\n",
    "# show all dataframe columns\n",
    "df.columns"
   ]
  },
  {
   "cell_type": "markdown",
   "metadata": {},
   "source": [
    "## Continuous Features - Correlation Analysis ##"
   ]
  },
  {
   "cell_type": "markdown",
   "metadata": {},
   "source": [
    "### Correlation Original Features (without normalization) ###"
   ]
  },
  {
   "cell_type": "code",
   "execution_count": 20,
   "metadata": {},
   "outputs": [],
   "source": [
    "# define correlation matrix (absolute corr values)\n",
    "\n",
    "# original and calculated features (before normalization)\n",
    "data_corr = df[['Administrative', 'Administrative_Duration', 'Informational', 'Informational_Duration', 'ProductRelated', 'ProductRelated_Duration', 'BounceRates', 'ExitRates', 'PageValues', 'SpecialDay']] \n",
    "\n",
    "# define a correlation matrix\n",
    "corr_matrix = data_corr.corr().abs()\n",
    "\n",
    "# show correlation matrix\n",
    "#corr_matrix"
   ]
  },
  {
   "cell_type": "code",
   "execution_count": 21,
   "metadata": {},
   "outputs": [
    {
     "name": "stdout",
     "output_type": "stream",
     "text": [
      "Top Absolute Correlations\n"
     ]
    },
    {
     "data": {
      "text/plain": [
       "BounceRates     ExitRates                  0.913004\n",
       "ProductRelated  ProductRelated_Duration    0.860927\n",
       "Informational   Informational_Duration     0.618955\n",
       "Administrative  Administrative_Duration    0.601583\n",
       "dtype: float64"
      ]
     },
     "execution_count": 21,
     "metadata": {},
     "output_type": "execute_result"
    }
   ],
   "source": [
    "#source:  https://stackoverflow.com/questions/17778394/list-highest-correlation-pairs-from-a-large-correlation-matrix-in-pandas\n",
    "\n",
    "# create a function to drop the redundant pairs in the correlation matrix (all correlations are mirrored diagionaly)\n",
    "def get_redundant_pairs(df):\n",
    "    '''Get diagonal and lower triangular pairs of correlation matrix'''\n",
    "    pairs_to_drop = set()\n",
    "    cols = df.columns\n",
    "    for i in range(0, df.shape[1]):\n",
    "        for j in range(0, i+1):\n",
    "            pairs_to_drop.add((cols[i], cols[j]))\n",
    "    return pairs_to_drop\n",
    "\n",
    "def get_top_abs_correlations(df, n=5):\n",
    "    au_corr = df.corr().abs().unstack()\n",
    "    labels_to_drop = get_redundant_pairs(df)\n",
    "    au_corr = au_corr.drop(labels=labels_to_drop).sort_values(ascending=False)\n",
    "    return au_corr[0:n]\n",
    "\n",
    "print(\"Top Absolute Correlations\")\n",
    "# show top 'n' correlations (n=50)\n",
    "get_top_abs_correlations(data_corr, n=50)\n",
    "\n",
    "# only show correlations higher or equal to 0.5\n",
    "get_top_abs_correlations(data_corr, n=50)[get_top_abs_correlations(data_corr, n=50) >= 0.5]\n",
    "\n",
    "# Our threshold is set to 0.5 for dropping either one of the highly correlated variables\n"
   ]
  },
  {
   "cell_type": "code",
   "execution_count": 22,
   "metadata": {},
   "outputs": [
    {
     "ename": "KeyError",
     "evalue": "\"None of [Index(['Administrative_yeojohnson', 'Administrative_Duration_yeojohnson',\\n       'Informational_yeojohnson', 'Informational_Duration_yeojohnson',\\n       'ProductRelated_yeojohnson', 'ProductRelated_Duration_yeojohnson',\\n       'BounceRates_yeojohnson', 'ExitRates_yeojohnson',\\n       'PageValues_yeojohnson', 'SpecialDay_yeojohnson'],\\n      dtype='object')] are in the [columns]\"",
     "output_type": "error",
     "traceback": [
      "\u001b[0;31m---------------------------------------------------------------------------\u001b[0m",
      "\u001b[0;31mKeyError\u001b[0m                                  Traceback (most recent call last)",
      "\u001b[0;32m<ipython-input-22-954357420e58>\u001b[0m in \u001b[0;36m<module>\u001b[0;34m\u001b[0m\n\u001b[1;32m      9\u001b[0m        \u001b[0;34m'ProductRelated_yeojohnson'\u001b[0m\u001b[0;34m,\u001b[0m \u001b[0;34m'ProductRelated_Duration_yeojohnson'\u001b[0m\u001b[0;34m,\u001b[0m\u001b[0;34m\u001b[0m\u001b[0;34m\u001b[0m\u001b[0m\n\u001b[1;32m     10\u001b[0m        \u001b[0;34m'BounceRates_yeojohnson'\u001b[0m\u001b[0;34m,\u001b[0m \u001b[0;34m'ExitRates_yeojohnson'\u001b[0m\u001b[0;34m,\u001b[0m\u001b[0;34m\u001b[0m\u001b[0;34m\u001b[0m\u001b[0m\n\u001b[0;32m---> 11\u001b[0;31m        'PageValues_yeojohnson', 'SpecialDay_yeojohnson']]\n\u001b[0m\u001b[1;32m     12\u001b[0m \u001b[0;34m\u001b[0m\u001b[0m\n\u001b[1;32m     13\u001b[0m \u001b[0;31m# define a correlation matrix\u001b[0m\u001b[0;34m\u001b[0m\u001b[0;34m\u001b[0m\u001b[0;34m\u001b[0m\u001b[0m\n",
      "\u001b[0;32m/opt/tljh/user/lib/python3.6/site-packages/pandas/core/frame.py\u001b[0m in \u001b[0;36m__getitem__\u001b[0;34m(self, key)\u001b[0m\n\u001b[1;32m   2999\u001b[0m             \u001b[0;32mif\u001b[0m \u001b[0mis_iterator\u001b[0m\u001b[0;34m(\u001b[0m\u001b[0mkey\u001b[0m\u001b[0;34m)\u001b[0m\u001b[0;34m:\u001b[0m\u001b[0;34m\u001b[0m\u001b[0;34m\u001b[0m\u001b[0m\n\u001b[1;32m   3000\u001b[0m                 \u001b[0mkey\u001b[0m \u001b[0;34m=\u001b[0m \u001b[0mlist\u001b[0m\u001b[0;34m(\u001b[0m\u001b[0mkey\u001b[0m\u001b[0;34m)\u001b[0m\u001b[0;34m\u001b[0m\u001b[0;34m\u001b[0m\u001b[0m\n\u001b[0;32m-> 3001\u001b[0;31m             \u001b[0mindexer\u001b[0m \u001b[0;34m=\u001b[0m \u001b[0mself\u001b[0m\u001b[0;34m.\u001b[0m\u001b[0mloc\u001b[0m\u001b[0;34m.\u001b[0m\u001b[0m_convert_to_indexer\u001b[0m\u001b[0;34m(\u001b[0m\u001b[0mkey\u001b[0m\u001b[0;34m,\u001b[0m \u001b[0maxis\u001b[0m\u001b[0;34m=\u001b[0m\u001b[0;36m1\u001b[0m\u001b[0;34m,\u001b[0m \u001b[0mraise_missing\u001b[0m\u001b[0;34m=\u001b[0m\u001b[0;32mTrue\u001b[0m\u001b[0;34m)\u001b[0m\u001b[0;34m\u001b[0m\u001b[0;34m\u001b[0m\u001b[0m\n\u001b[0m\u001b[1;32m   3002\u001b[0m \u001b[0;34m\u001b[0m\u001b[0m\n\u001b[1;32m   3003\u001b[0m         \u001b[0;31m# take() does not accept boolean indexers\u001b[0m\u001b[0;34m\u001b[0m\u001b[0;34m\u001b[0m\u001b[0;34m\u001b[0m\u001b[0m\n",
      "\u001b[0;32m/opt/tljh/user/lib/python3.6/site-packages/pandas/core/indexing.py\u001b[0m in \u001b[0;36m_convert_to_indexer\u001b[0;34m(self, obj, axis, is_setter, raise_missing)\u001b[0m\n\u001b[1;32m   1283\u001b[0m                 \u001b[0;31m# When setting, missing keys are not allowed, even with .loc:\u001b[0m\u001b[0;34m\u001b[0m\u001b[0;34m\u001b[0m\u001b[0;34m\u001b[0m\u001b[0m\n\u001b[1;32m   1284\u001b[0m                 \u001b[0mkwargs\u001b[0m \u001b[0;34m=\u001b[0m \u001b[0;34m{\u001b[0m\u001b[0;34m\"raise_missing\"\u001b[0m\u001b[0;34m:\u001b[0m \u001b[0;32mTrue\u001b[0m \u001b[0;32mif\u001b[0m \u001b[0mis_setter\u001b[0m \u001b[0;32melse\u001b[0m \u001b[0mraise_missing\u001b[0m\u001b[0;34m}\u001b[0m\u001b[0;34m\u001b[0m\u001b[0;34m\u001b[0m\u001b[0m\n\u001b[0;32m-> 1285\u001b[0;31m                 \u001b[0;32mreturn\u001b[0m \u001b[0mself\u001b[0m\u001b[0;34m.\u001b[0m\u001b[0m_get_listlike_indexer\u001b[0m\u001b[0;34m(\u001b[0m\u001b[0mobj\u001b[0m\u001b[0;34m,\u001b[0m \u001b[0maxis\u001b[0m\u001b[0;34m,\u001b[0m \u001b[0;34m**\u001b[0m\u001b[0mkwargs\u001b[0m\u001b[0;34m)\u001b[0m\u001b[0;34m[\u001b[0m\u001b[0;36m1\u001b[0m\u001b[0;34m]\u001b[0m\u001b[0;34m\u001b[0m\u001b[0;34m\u001b[0m\u001b[0m\n\u001b[0m\u001b[1;32m   1286\u001b[0m         \u001b[0;32melse\u001b[0m\u001b[0;34m:\u001b[0m\u001b[0;34m\u001b[0m\u001b[0;34m\u001b[0m\u001b[0m\n\u001b[1;32m   1287\u001b[0m             \u001b[0;32mtry\u001b[0m\u001b[0;34m:\u001b[0m\u001b[0;34m\u001b[0m\u001b[0;34m\u001b[0m\u001b[0m\n",
      "\u001b[0;32m/opt/tljh/user/lib/python3.6/site-packages/pandas/core/indexing.py\u001b[0m in \u001b[0;36m_get_listlike_indexer\u001b[0;34m(self, key, axis, raise_missing)\u001b[0m\n\u001b[1;32m   1090\u001b[0m \u001b[0;34m\u001b[0m\u001b[0m\n\u001b[1;32m   1091\u001b[0m         self._validate_read_indexer(\n\u001b[0;32m-> 1092\u001b[0;31m             \u001b[0mkeyarr\u001b[0m\u001b[0;34m,\u001b[0m \u001b[0mindexer\u001b[0m\u001b[0;34m,\u001b[0m \u001b[0mo\u001b[0m\u001b[0;34m.\u001b[0m\u001b[0m_get_axis_number\u001b[0m\u001b[0;34m(\u001b[0m\u001b[0maxis\u001b[0m\u001b[0;34m)\u001b[0m\u001b[0;34m,\u001b[0m \u001b[0mraise_missing\u001b[0m\u001b[0;34m=\u001b[0m\u001b[0mraise_missing\u001b[0m\u001b[0;34m\u001b[0m\u001b[0;34m\u001b[0m\u001b[0m\n\u001b[0m\u001b[1;32m   1093\u001b[0m         )\n\u001b[1;32m   1094\u001b[0m         \u001b[0;32mreturn\u001b[0m \u001b[0mkeyarr\u001b[0m\u001b[0;34m,\u001b[0m \u001b[0mindexer\u001b[0m\u001b[0;34m\u001b[0m\u001b[0;34m\u001b[0m\u001b[0m\n",
      "\u001b[0;32m/opt/tljh/user/lib/python3.6/site-packages/pandas/core/indexing.py\u001b[0m in \u001b[0;36m_validate_read_indexer\u001b[0;34m(self, key, indexer, axis, raise_missing)\u001b[0m\n\u001b[1;32m   1175\u001b[0m                 raise KeyError(\n\u001b[1;32m   1176\u001b[0m                     \"None of [{key}] are in the [{axis}]\".format(\n\u001b[0;32m-> 1177\u001b[0;31m                         \u001b[0mkey\u001b[0m\u001b[0;34m=\u001b[0m\u001b[0mkey\u001b[0m\u001b[0;34m,\u001b[0m \u001b[0maxis\u001b[0m\u001b[0;34m=\u001b[0m\u001b[0mself\u001b[0m\u001b[0;34m.\u001b[0m\u001b[0mobj\u001b[0m\u001b[0;34m.\u001b[0m\u001b[0m_get_axis_name\u001b[0m\u001b[0;34m(\u001b[0m\u001b[0maxis\u001b[0m\u001b[0;34m)\u001b[0m\u001b[0;34m\u001b[0m\u001b[0;34m\u001b[0m\u001b[0m\n\u001b[0m\u001b[1;32m   1178\u001b[0m                     )\n\u001b[1;32m   1179\u001b[0m                 )\n",
      "\u001b[0;31mKeyError\u001b[0m: \"None of [Index(['Administrative_yeojohnson', 'Administrative_Duration_yeojohnson',\\n       'Informational_yeojohnson', 'Informational_Duration_yeojohnson',\\n       'ProductRelated_yeojohnson', 'ProductRelated_Duration_yeojohnson',\\n       'BounceRates_yeojohnson', 'ExitRates_yeojohnson',\\n       'PageValues_yeojohnson', 'SpecialDay_yeojohnson'],\\n      dtype='object')] are in the [columns]\""
     ]
    }
   ],
   "source": [
    "# define correlation matrix (absolute corr values)\n",
    "\n",
    "# original and calculated features (before normalization)\n",
    "#data_corr = data[['Administrative', 'Administrative_Duration', 'Informational', 'Informational_Duration', 'ProductRelated', 'ProductRelated_Duration', 'BounceRates', 'ExitRates', 'PageValues', 'SpecialDay']] \n",
    "\n",
    "# all the features excluding original features that where transformed and excluding boolean/binary features\n",
    "data_corr = df[[ 'Administrative_yeojohnson', 'Administrative_Duration_yeojohnson',\n",
    "       'Informational_yeojohnson', 'Informational_Duration_yeojohnson',\n",
    "       'ProductRelated_yeojohnson', 'ProductRelated_Duration_yeojohnson',\n",
    "       'BounceRates_yeojohnson', 'ExitRates_yeojohnson',\n",
    "       'PageValues_yeojohnson', 'SpecialDay_yeojohnson']]\n",
    "\n",
    "# define a correlation matrix\n",
    "corr_matrix = data_corr.corr().abs()\n",
    "\n",
    "# show correlation matrix\n",
    "#corr_matrix"
   ]
  },
  {
   "cell_type": "code",
   "execution_count": 23,
   "metadata": {},
   "outputs": [
    {
     "data": {
      "image/png": "[encoded data removed]",
      "text/plain": [
       "<Figure size 864x720 with 2 Axes>"
      ]
     },
     "metadata": {},
     "output_type": "display_data"
    }
   ],
   "source": [
    "# 2nd heatmap without duplicates\n",
    "# source: https://seaborn.pydata.org/generated/seaborn.heatmap.html\n",
    "mask = np.zeros_like(corr_matrix)\n",
    "mask[np.triu_indices_from(mask)] = True\n",
    "with sns.axes_style(\"white\"):\n",
    "    f, ax = plt.subplots(figsize=(12, 10))\n",
    "    ax = sns.heatmap(corr_matrix, mask=mask, vmax=1, square=True)"
   ]
  },
  {
   "cell_type": "markdown",
   "metadata": {},
   "source": [
    "### Correlation Features (with normalization) ###"
   ]
  },
  {
   "cell_type": "code",
   "execution_count": 24,
   "metadata": {},
   "outputs": [
    {
     "name": "stdout",
     "output_type": "stream",
     "text": [
      "Top Absolute Correlations\n"
     ]
    },
    {
     "data": {
      "text/plain": [
       "BounceRates     ExitRates                  0.913004\n",
       "ProductRelated  ProductRelated_Duration    0.860927\n",
       "Informational   Informational_Duration     0.618955\n",
       "Administrative  Administrative_Duration    0.601583\n",
       "dtype: float64"
      ]
     },
     "execution_count": 24,
     "metadata": {},
     "output_type": "execute_result"
    }
   ],
   "source": [
    "#source:  https://stackoverflow.com/questions/17778394/list-highest-correlation-pairs-from-a-large-correlation-matrix-in-pandas\n",
    "\n",
    "# create a function to drop the redundant pairs in the correlation matrix (all correlations are mirrored diagionaly)\n",
    "def get_redundant_pairs(df):\n",
    "    '''Get diagonal and lower triangular pairs of correlation matrix'''\n",
    "    pairs_to_drop = set()\n",
    "    cols = df.columns\n",
    "    for i in range(0, df.shape[1]):\n",
    "        for j in range(0, i+1):\n",
    "            pairs_to_drop.add((cols[i], cols[j]))\n",
    "    return pairs_to_drop\n",
    "\n",
    "def get_top_abs_correlations(df, n=5):\n",
    "    au_corr = df.corr().abs().unstack()\n",
    "    labels_to_drop = get_redundant_pairs(df)\n",
    "    au_corr = au_corr.drop(labels=labels_to_drop).sort_values(ascending=False)\n",
    "    return au_corr[0:n]\n",
    "\n",
    "print(\"Top Absolute Correlations\")\n",
    "# show top 'n' correlations (n=50)\n",
    "get_top_abs_correlations(data_corr, n=50)\n",
    "\n",
    "# only show correlations higher or equal to 0.5\n",
    "get_top_abs_correlations(data_corr, n=50)[get_top_abs_correlations(data_corr, n=50) >= 0.5]\n",
    "\n",
    "# Our threshold is set to 0.5 for dropping either one of the highly correlated variables\n"
   ]
  },
  {
   "cell_type": "code",
   "execution_count": 25,
   "metadata": {},
   "outputs": [],
   "source": [
    "# simple heatmap\n",
    "#ax = sns.heatmap(corr_matrix, linewidths=.5)"
   ]
  },
  {
   "cell_type": "code",
   "execution_count": 26,
   "metadata": {},
   "outputs": [
    {
     "data": {
      "image/png": "[encoded data removed]",
      "text/plain": [
       "<Figure size 864x720 with 2 Axes>"
      ]
     },
     "metadata": {},
     "output_type": "display_data"
    }
   ],
   "source": [
    "# 2nd heatmap without duplicates\n",
    "# source: https://seaborn.pydata.org/generated/seaborn.heatmap.html\n",
    "mask = np.zeros_like(corr_matrix)\n",
    "mask[np.triu_indices_from(mask)] = True\n",
    "with sns.axes_style(\"white\"):\n",
    "    f, ax = plt.subplots(figsize=(12, 10))\n",
    "    ax = sns.heatmap(corr_matrix, mask=mask, vmax=1, square=True)"
   ]
  },
  {
   "cell_type": "markdown",
   "metadata": {},
   "source": [
    "# Binning #"
   ]
  },
  {
   "cell_type": "markdown",
   "metadata": {},
   "source": [
    "# Feature Selection #"
   ]
  },
  {
   "cell_type": "code",
   "execution_count": null,
   "metadata": {},
   "outputs": [],
   "source": []
  }
 ],
 "metadata": {
  "kernelspec": {
   "display_name": "Python 3",
   "language": "python",
   "name": "python3"
  },
  "language_info": {
   "codemirror_mode": {
    "name": "ipython",
    "version": 3
   },
   "file_extension": ".py",
   "mimetype": "text/x-python",
   "name": "python",
   "nbconvert_exporter": "python",
   "pygments_lexer": "ipython3",
   "version": "3.6.7"
  }
 },
 "nbformat": 4,
 "nbformat_minor": 4
}
