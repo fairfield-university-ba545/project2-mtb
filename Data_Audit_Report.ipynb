{
 "cells": [
  {
   "cell_type": "markdown",
   "metadata": {},
   "source": [
    "# Data Audit Report\n",
    "___\n",
    "\n"
   ]
  },
  {
   "cell_type": "markdown",
   "metadata": {},
   "source": [
    "Please refer to to links below for the parts: _Business Understanding_ and _Data Understanding_ "
   ]
  },
  {
   "cell_type": "markdown",
   "metadata": {},
   "source": [
    "<b> 1. Business Understanding </b>\n",
    "<br> [1. Background](1._Background.ipynb)\n",
    "\n",
    "<b> 2. Data Understanding </b>\n",
    "<br> [2. Descriptives](2._Descriptives.ipynb)"
   ]
  },
  {
   "cell_type": "markdown",
   "metadata": {},
   "source": [
    "<b> Key-Takeaways </b>\n",
    " - There are no null values in our dataset, although additional cross-validation tests have to be performed in the imputation phase\n",
    " - recoding of the following text features are needed: _Month_, _VisitorType_\n",
    " - recoding of categorical features is needed (>5 categories)\n",
    " - target variable _'Revenue'_ is imbalanced: 84.53% did not have a transaction after a visit.\n",
    "     <br> In the modeling phase our training set has to be over- or undersampled\n",
    " - all features seem to be highly skewed and normalization is necessary in the data preparation phase.\n",
    " - There are a lot of outliers for our features, they need to be delt with in the preparation phase. \n",
    " - 4 features are highly correlated with another feature in the dataset, especially BounceRates with ExitRates.\n",
    "    <br> Either these features need to be combined or 1 of the pairwise correlated features should not be included in the modeling phase.\n",
    " - Most visitors are returning visitors versus new visitor on a webpage\n",
    " - Most visitors are from the same region\n",
    " - Most visitors use the same webbrowser\n",
    " - The more (Administrative, Informational) webpages visited in a session the longer the duration\n",
    " - There are 3 dominant Operating Systems that visitors employ\n",
    " - Most visits were in the months: May, November\n",
    " - Most visits were not close to a Special Day\n",
    " - Our target variable is binary, our models employed should be compatible in the modeling phase\n",
    " - ExitRates and BounceRates are much smaller for visitors that made a transaction\n",
    " - ProductRelated_Duration is much smaller for visitors that made a transaction "
   ]
  }
 ],
 "metadata": {
  "kernelspec": {
   "display_name": "Python 3",
   "language": "python",
   "name": "python3"
  },
  "language_info": {
   "codemirror_mode": {
    "name": "ipython",
    "version": 3
   },
   "file_extension": ".py",
   "mimetype": "text/x-python",
   "name": "python",
   "nbconvert_exporter": "python",
   "pygments_lexer": "ipython3",
   "version": "3.6.7"
  }
 },
 "nbformat": 4,
 "nbformat_minor": 4
}
